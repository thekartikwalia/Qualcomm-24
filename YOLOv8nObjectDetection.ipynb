{
 "cells": [
  {
   "cell_type": "code",
   "execution_count": 1,
   "metadata": {
    "colab": {
     "base_uri": "https://localhost:8080/"
    },
    "id": "F6PLqr6pScn7",
    "outputId": "5660e229-18f6-453d-c399-4919f1dd64c4"
   },
   "outputs": [
    {
     "name": "stdout",
     "output_type": "stream",
     "text": [
      "Collecting ultralytics\n",
      "  Downloading ultralytics-8.3.29-py3-none-any.whl.metadata (35 kB)\n",
      "Requirement already satisfied: numpy>=1.23.0 in /usr/local/lib/python3.10/dist-packages (from ultralytics) (1.26.4)\n",
      "Requirement already satisfied: matplotlib>=3.3.0 in /usr/local/lib/python3.10/dist-packages (from ultralytics) (3.8.0)\n",
      "Requirement already satisfied: opencv-python>=4.6.0 in /usr/local/lib/python3.10/dist-packages (from ultralytics) (4.10.0.84)\n",
      "Requirement already satisfied: pillow>=7.1.2 in /usr/local/lib/python3.10/dist-packages (from ultralytics) (10.4.0)\n",
      "Requirement already satisfied: pyyaml>=5.3.1 in /usr/local/lib/python3.10/dist-packages (from ultralytics) (6.0.2)\n",
      "Requirement already satisfied: requests>=2.23.0 in /usr/local/lib/python3.10/dist-packages (from ultralytics) (2.32.3)\n",
      "Requirement already satisfied: scipy>=1.4.1 in /usr/local/lib/python3.10/dist-packages (from ultralytics) (1.13.1)\n",
      "Requirement already satisfied: torch>=1.8.0 in /usr/local/lib/python3.10/dist-packages (from ultralytics) (2.5.0+cu121)\n",
      "Requirement already satisfied: torchvision>=0.9.0 in /usr/local/lib/python3.10/dist-packages (from ultralytics) (0.20.0+cu121)\n",
      "Requirement already satisfied: tqdm>=4.64.0 in /usr/local/lib/python3.10/dist-packages (from ultralytics) (4.66.6)\n",
      "Requirement already satisfied: psutil in /usr/local/lib/python3.10/dist-packages (from ultralytics) (5.9.5)\n",
      "Requirement already satisfied: py-cpuinfo in /usr/local/lib/python3.10/dist-packages (from ultralytics) (9.0.0)\n",
      "Requirement already satisfied: pandas>=1.1.4 in /usr/local/lib/python3.10/dist-packages (from ultralytics) (2.2.2)\n",
      "Requirement already satisfied: seaborn>=0.11.0 in /usr/local/lib/python3.10/dist-packages (from ultralytics) (0.13.2)\n",
      "Collecting ultralytics-thop>=2.0.0 (from ultralytics)\n",
      "  Downloading ultralytics_thop-2.0.11-py3-none-any.whl.metadata (9.4 kB)\n",
      "Requirement already satisfied: contourpy>=1.0.1 in /usr/local/lib/python3.10/dist-packages (from matplotlib>=3.3.0->ultralytics) (1.3.0)\n",
      "Requirement already satisfied: cycler>=0.10 in /usr/local/lib/python3.10/dist-packages (from matplotlib>=3.3.0->ultralytics) (0.12.1)\n",
      "Requirement already satisfied: fonttools>=4.22.0 in /usr/local/lib/python3.10/dist-packages (from matplotlib>=3.3.0->ultralytics) (4.54.1)\n",
      "Requirement already satisfied: kiwisolver>=1.0.1 in /usr/local/lib/python3.10/dist-packages (from matplotlib>=3.3.0->ultralytics) (1.4.7)\n",
      "Requirement already satisfied: packaging>=20.0 in /usr/local/lib/python3.10/dist-packages (from matplotlib>=3.3.0->ultralytics) (24.1)\n",
      "Requirement already satisfied: pyparsing>=2.3.1 in /usr/local/lib/python3.10/dist-packages (from matplotlib>=3.3.0->ultralytics) (3.2.0)\n",
      "Requirement already satisfied: python-dateutil>=2.7 in /usr/local/lib/python3.10/dist-packages (from matplotlib>=3.3.0->ultralytics) (2.8.2)\n",
      "Requirement already satisfied: pytz>=2020.1 in /usr/local/lib/python3.10/dist-packages (from pandas>=1.1.4->ultralytics) (2024.2)\n",
      "Requirement already satisfied: tzdata>=2022.7 in /usr/local/lib/python3.10/dist-packages (from pandas>=1.1.4->ultralytics) (2024.2)\n",
      "Requirement already satisfied: charset-normalizer<4,>=2 in /usr/local/lib/python3.10/dist-packages (from requests>=2.23.0->ultralytics) (3.4.0)\n",
      "Requirement already satisfied: idna<4,>=2.5 in /usr/local/lib/python3.10/dist-packages (from requests>=2.23.0->ultralytics) (3.10)\n",
      "Requirement already satisfied: urllib3<3,>=1.21.1 in /usr/local/lib/python3.10/dist-packages (from requests>=2.23.0->ultralytics) (2.2.3)\n",
      "Requirement already satisfied: certifi>=2017.4.17 in /usr/local/lib/python3.10/dist-packages (from requests>=2.23.0->ultralytics) (2024.8.30)\n",
      "Requirement already satisfied: filelock in /usr/local/lib/python3.10/dist-packages (from torch>=1.8.0->ultralytics) (3.16.1)\n",
      "Requirement already satisfied: typing-extensions>=4.8.0 in /usr/local/lib/python3.10/dist-packages (from torch>=1.8.0->ultralytics) (4.12.2)\n",
      "Requirement already satisfied: networkx in /usr/local/lib/python3.10/dist-packages (from torch>=1.8.0->ultralytics) (3.4.2)\n",
      "Requirement already satisfied: jinja2 in /usr/local/lib/python3.10/dist-packages (from torch>=1.8.0->ultralytics) (3.1.4)\n",
      "Requirement already satisfied: fsspec in /usr/local/lib/python3.10/dist-packages (from torch>=1.8.0->ultralytics) (2024.10.0)\n",
      "Requirement already satisfied: sympy==1.13.1 in /usr/local/lib/python3.10/dist-packages (from torch>=1.8.0->ultralytics) (1.13.1)\n",
      "Requirement already satisfied: mpmath<1.4,>=1.1.0 in /usr/local/lib/python3.10/dist-packages (from sympy==1.13.1->torch>=1.8.0->ultralytics) (1.3.0)\n",
      "Requirement already satisfied: six>=1.5 in /usr/local/lib/python3.10/dist-packages (from python-dateutil>=2.7->matplotlib>=3.3.0->ultralytics) (1.16.0)\n",
      "Requirement already satisfied: MarkupSafe>=2.0 in /usr/local/lib/python3.10/dist-packages (from jinja2->torch>=1.8.0->ultralytics) (3.0.2)\n",
      "Downloading ultralytics-8.3.29-py3-none-any.whl (883 kB)\n",
      "\u001b[2K   \u001b[90m━━━━━━━━━━━━━━━━━━━━━━━━━━━━━━━━━━━━━━━━\u001b[0m \u001b[32m883.8/883.8 kB\u001b[0m \u001b[31m43.5 MB/s\u001b[0m eta \u001b[36m0:00:00\u001b[0m\n",
      "\u001b[?25hDownloading ultralytics_thop-2.0.11-py3-none-any.whl (26 kB)\n",
      "Installing collected packages: ultralytics-thop, ultralytics\n",
      "Successfully installed ultralytics-8.3.29 ultralytics-thop-2.0.11\n"
     ]
    }
   ],
   "source": [
    "!pip install ultralytics\n"
   ]
  },
  {
   "cell_type": "code",
   "execution_count": 2,
   "metadata": {
    "colab": {
     "base_uri": "https://localhost:8080/"
    },
    "id": "JbxTseHySk7u",
    "outputId": "b28afb95-8b17-4af2-87b5-612ffc00b884"
   },
   "outputs": [
    {
     "name": "stdout",
     "output_type": "stream",
     "text": [
      "Creating new Ultralytics Settings v0.0.6 file ✅ \n",
      "View Ultralytics Settings with 'yolo settings' or at '/root/.config/Ultralytics/settings.json'\n",
      "Update Settings with 'yolo settings key=value', i.e. 'yolo settings runs_dir=path/to/dir'. For help see https://docs.ultralytics.com/quickstart/#ultralytics-settings.\n"
     ]
    }
   ],
   "source": [
    "from ultralytics import YOLO\n",
    "\n",
    "# Step 1: Load your custom model architecture (YOLOv8 from scratch)\n",
    "# Use the desired base model (e.g., yolov8n.yaml for the smallest model)\n",
    "model = YOLO(\"yolov8n.yaml\")"
   ]
  },
  {
   "cell_type": "code",
   "execution_count": 3,
   "metadata": {
    "colab": {
     "base_uri": "https://localhost:8080/"
    },
    "id": "ANUedUl9S0w0",
    "outputId": "903430f7-bed0-4782-a8e1-99f92af80a97"
   },
   "outputs": [
    {
     "name": "stdout",
     "output_type": "stream",
     "text": [
      "Mounted at /content/drive\n"
     ]
    }
   ],
   "source": [
    "# prompt: mount drive\n",
    "\n",
    "from google.colab import drive\n",
    "drive.mount('/content/drive')\n"
   ]
  },
  {
   "cell_type": "code",
   "execution_count": 9,
   "metadata": {
    "colab": {
     "base_uri": "https://localhost:8080/"
    },
    "id": "0j3w52PDS_nZ",
    "outputId": "5ac2061c-82a7-4286-9884-5a01e8689c9c"
   },
   "outputs": [
    {
     "name": "stdout",
     "output_type": "stream",
     "text": [
      "Ultralytics 8.3.29 🚀 Python-3.10.12 torch-2.5.0+cu121 CUDA:0 (Tesla T4, 15102MiB)\n",
      "\u001b[34m\u001b[1mengine/trainer: \u001b[0mtask=detect, mode=train, model=/content/drive/MyDrive/Final.v1i.yolov8/best.pt, data=/content/drive/MyDrive/Final.v1i.yolov8/data.yaml, epochs=300, time=None, patience=100, batch=16, imgsz=640, save=True, save_period=-1, cache=False, device=None, workers=8, project=None, name=train2, exist_ok=False, pretrained=True, optimizer=auto, verbose=True, seed=0, deterministic=True, single_cls=False, rect=False, cos_lr=False, close_mosaic=10, resume=False, amp=True, fraction=1.0, profile=False, freeze=None, multi_scale=False, overlap_mask=True, mask_ratio=4, dropout=0.0, val=True, split=val, save_json=False, save_hybrid=False, conf=None, iou=0.7, max_det=300, half=False, dnn=False, plots=True, source=None, vid_stride=1, stream_buffer=False, visualize=False, augment=False, agnostic_nms=False, classes=None, retina_masks=False, embed=None, show=False, save_frames=False, save_txt=False, save_conf=False, save_crop=False, show_labels=True, show_conf=True, show_boxes=True, line_width=None, format=torchscript, keras=False, optimize=False, int8=False, dynamic=False, simplify=True, opset=None, workspace=4, nms=False, lr0=0.01, lrf=0.01, momentum=0.937, weight_decay=0.0005, warmup_epochs=3.0, warmup_momentum=0.8, warmup_bias_lr=0.1, box=7.5, cls=0.5, dfl=1.5, pose=12.0, kobj=1.0, label_smoothing=0.0, nbs=64, hsv_h=0.015, hsv_s=0.7, hsv_v=0.4, degrees=0.0, translate=0.1, scale=0.5, shear=0.0, perspective=0.0, flipud=0.0, fliplr=0.5, bgr=0.0, mosaic=1.0, mixup=0.0, copy_paste=0.0, copy_paste_mode=flip, auto_augment=randaugment, erasing=0.4, crop_fraction=1.0, cfg=None, tracker=botsort.yaml, save_dir=runs/detect/train2\n",
      "\n",
      "                   from  n    params  module                                       arguments                     \n",
      "  0                  -1  1       464  ultralytics.nn.modules.conv.Conv             [3, 16, 3, 2]                 \n",
      "  1                  -1  1      4672  ultralytics.nn.modules.conv.Conv             [16, 32, 3, 2]                \n",
      "  2                  -1  1      7360  ultralytics.nn.modules.block.C2f             [32, 32, 1, True]             \n",
      "  3                  -1  1     18560  ultralytics.nn.modules.conv.Conv             [32, 64, 3, 2]                \n",
      "  4                  -1  2     49664  ultralytics.nn.modules.block.C2f             [64, 64, 2, True]             \n",
      "  5                  -1  1     73984  ultralytics.nn.modules.conv.Conv             [64, 128, 3, 2]               \n",
      "  6                  -1  2    197632  ultralytics.nn.modules.block.C2f             [128, 128, 2, True]           \n",
      "  7                  -1  1    295424  ultralytics.nn.modules.conv.Conv             [128, 256, 3, 2]              \n",
      "  8                  -1  1    460288  ultralytics.nn.modules.block.C2f             [256, 256, 1, True]           \n",
      "  9                  -1  1    164608  ultralytics.nn.modules.block.SPPF            [256, 256, 5]                 \n",
      " 10                  -1  1         0  torch.nn.modules.upsampling.Upsample         [None, 2, 'nearest']          \n",
      " 11             [-1, 6]  1         0  ultralytics.nn.modules.conv.Concat           [1]                           \n",
      " 12                  -1  1    148224  ultralytics.nn.modules.block.C2f             [384, 128, 1]                 \n",
      " 13                  -1  1         0  torch.nn.modules.upsampling.Upsample         [None, 2, 'nearest']          \n",
      " 14             [-1, 4]  1         0  ultralytics.nn.modules.conv.Concat           [1]                           \n",
      " 15                  -1  1     37248  ultralytics.nn.modules.block.C2f             [192, 64, 1]                  \n",
      " 16                  -1  1     36992  ultralytics.nn.modules.conv.Conv             [64, 64, 3, 2]                \n",
      " 17            [-1, 12]  1         0  ultralytics.nn.modules.conv.Concat           [1]                           \n",
      " 18                  -1  1    123648  ultralytics.nn.modules.block.C2f             [192, 128, 1]                 \n",
      " 19                  -1  1    147712  ultralytics.nn.modules.conv.Conv             [128, 128, 3, 2]              \n",
      " 20             [-1, 9]  1         0  ultralytics.nn.modules.conv.Concat           [1]                           \n",
      " 21                  -1  1    493056  ultralytics.nn.modules.block.C2f             [384, 256, 1]                 \n",
      " 22        [15, 18, 21]  1    752482  ultralytics.nn.modules.head.Detect           [6, [64, 128, 256]]           \n",
      "YOLOv8n summary: 225 layers, 3,012,018 parameters, 3,012,002 gradients, 8.2 GFLOPs\n",
      "\n",
      "Transferred 70/355 items from pretrained weights\n",
      "\u001b[34m\u001b[1mTensorBoard: \u001b[0mStart with 'tensorboard --logdir runs/detect/train2', view at http://localhost:6006/\n",
      "Freezing layer 'model.22.dfl.conv.weight'\n",
      "\u001b[34m\u001b[1mAMP: \u001b[0mrunning Automatic Mixed Precision (AMP) checks...\n",
      "\u001b[34m\u001b[1mAMP: \u001b[0mchecks passed ✅\n"
     ]
    },
    {
     "name": "stderr",
     "output_type": "stream",
     "text": [
      "\u001b[34m\u001b[1mtrain: \u001b[0mScanning /content/drive/MyDrive/Final.v1i.yolov8/train/labels.cache... 439 images, 0 backgrounds, 0 corrupt: 100%|██████████| 439/439 [00:00<?, ?it/s]"
     ]
    },
    {
     "name": "stdout",
     "output_type": "stream",
     "text": [
      "\u001b[34m\u001b[1malbumentations: \u001b[0mBlur(p=0.01, blur_limit=(3, 7)), MedianBlur(p=0.01, blur_limit=(3, 7)), ToGray(p=0.01, num_output_channels=3, method='weighted_average'), CLAHE(p=0.01, clip_limit=(1.0, 4.0), tile_grid_size=(8, 8))\n"
     ]
    },
    {
     "name": "stderr",
     "output_type": "stream",
     "text": [
      "\n",
      "\u001b[34m\u001b[1mval: \u001b[0mScanning /content/drive/MyDrive/Final.v1i.yolov8/valid/labels.cache... 92 images, 0 backgrounds, 0 corrupt: 100%|██████████| 92/92 [00:00<?, ?it/s]\n"
     ]
    },
    {
     "name": "stdout",
     "output_type": "stream",
     "text": [
      "Plotting labels to runs/detect/train2/labels.jpg... \n",
      "\u001b[34m\u001b[1moptimizer:\u001b[0m 'optimizer=auto' found, ignoring 'lr0=0.01' and 'momentum=0.937' and determining best 'optimizer', 'lr0' and 'momentum' automatically... \n",
      "\u001b[34m\u001b[1moptimizer:\u001b[0m AdamW(lr=0.001, momentum=0.9) with parameter groups 57 weight(decay=0.0), 64 weight(decay=0.0005), 63 bias(decay=0.0)\n",
      "\u001b[34m\u001b[1mTensorBoard: \u001b[0mmodel graph visualization added ✅\n",
      "Image sizes 640 train, 640 val\n",
      "Using 2 dataloader workers\n",
      "Logging results to \u001b[1mruns/detect/train2\u001b[0m\n",
      "Starting training for 300 epochs...\n",
      "\n",
      "      Epoch    GPU_mem   box_loss   cls_loss   dfl_loss  Instances       Size\n"
     ]
    },
    {
     "name": "stderr",
     "output_type": "stream",
     "text": [
      "      1/300      2.58G      1.901      2.995       2.26         46        640: 100%|██████████| 28/28 [00:12<00:00,  2.19it/s]\n",
      "                 Class     Images  Instances      Box(P          R      mAP50  mAP50-95): 100%|██████████| 3/3 [00:01<00:00,  2.02it/s]"
     ]
    },
    {
     "name": "stdout",
     "output_type": "stream",
     "text": [
      "                   all         92        345      0.272     0.0809     0.0621     0.0268\n"
     ]
    },
    {
     "name": "stderr",
     "output_type": "stream",
     "text": [
      "\n"
     ]
    },
    {
     "name": "stdout",
     "output_type": "stream",
     "text": [
      "\n",
      "      Epoch    GPU_mem   box_loss   cls_loss   dfl_loss  Instances       Size\n"
     ]
    },
    {
     "name": "stderr",
     "output_type": "stream",
     "text": [
      "      2/300      2.45G      1.893      3.038      2.253         42        640: 100%|██████████| 28/28 [00:10<00:00,  2.71it/s]\n",
      "                 Class     Images  Instances      Box(P          R      mAP50  mAP50-95): 100%|██████████| 3/3 [00:02<00:00,  1.01it/s]"
     ]
    },
    {
     "name": "stdout",
     "output_type": "stream",
     "text": [
      "                   all         92        345      0.152      0.118     0.0686     0.0322\n"
     ]
    },
    {
     "name": "stderr",
     "output_type": "stream",
     "text": [
      "\n"
     ]
    },
    {
     "name": "stdout",
     "output_type": "stream",
     "text": [
      "\n",
      "      Epoch    GPU_mem   box_loss   cls_loss   dfl_loss  Instances       Size\n"
     ]
    },
    {
     "name": "stderr",
     "output_type": "stream",
     "text": [
      "      3/300      2.54G      1.985       2.99      2.266         27        640: 100%|██████████| 28/28 [00:08<00:00,  3.35it/s]\n",
      "                 Class     Images  Instances      Box(P          R      mAP50  mAP50-95): 100%|██████████| 3/3 [00:01<00:00,  2.00it/s]"
     ]
    },
    {
     "name": "stdout",
     "output_type": "stream",
     "text": [
      "                   all         92        345     0.0826      0.122     0.0573     0.0252\n"
     ]
    },
    {
     "name": "stderr",
     "output_type": "stream",
     "text": [
      "\n"
     ]
    },
    {
     "name": "stdout",
     "output_type": "stream",
     "text": [
      "\n",
      "      Epoch    GPU_mem   box_loss   cls_loss   dfl_loss  Instances       Size\n"
     ]
    },
    {
     "name": "stderr",
     "output_type": "stream",
     "text": [
      "      4/300      2.29G      1.925      3.022      2.248         36        640: 100%|██████████| 28/28 [00:12<00:00,  2.32it/s]\n",
      "                 Class     Images  Instances      Box(P          R      mAP50  mAP50-95): 100%|██████████| 3/3 [00:01<00:00,  2.23it/s]"
     ]
    },
    {
     "name": "stdout",
     "output_type": "stream",
     "text": [
      "                   all         92        345      0.288      0.123      0.073     0.0288\n"
     ]
    },
    {
     "name": "stderr",
     "output_type": "stream",
     "text": [
      "\n"
     ]
    },
    {
     "name": "stdout",
     "output_type": "stream",
     "text": [
      "\n",
      "      Epoch    GPU_mem   box_loss   cls_loss   dfl_loss  Instances       Size\n"
     ]
    },
    {
     "name": "stderr",
     "output_type": "stream",
     "text": [
      "      5/300      2.24G      1.949      3.067       2.26         39        640: 100%|██████████| 28/28 [00:10<00:00,  2.76it/s]\n",
      "                 Class     Images  Instances      Box(P          R      mAP50  mAP50-95): 100%|██████████| 3/3 [00:02<00:00,  1.14it/s]"
     ]
    },
    {
     "name": "stdout",
     "output_type": "stream",
     "text": [
      "                   all         92        345       0.11      0.109     0.0633     0.0304\n"
     ]
    },
    {
     "name": "stderr",
     "output_type": "stream",
     "text": [
      "\n"
     ]
    },
    {
     "name": "stdout",
     "output_type": "stream",
     "text": [
      "\n",
      "      Epoch    GPU_mem   box_loss   cls_loss   dfl_loss  Instances       Size\n"
     ]
    },
    {
     "name": "stderr",
     "output_type": "stream",
     "text": [
      "      6/300      2.42G       1.91      3.063      2.285         40        640: 100%|██████████| 28/28 [00:09<00:00,  3.08it/s]\n",
      "                 Class     Images  Instances      Box(P          R      mAP50  mAP50-95): 100%|██████████| 3/3 [00:01<00:00,  2.30it/s]"
     ]
    },
    {
     "name": "stdout",
     "output_type": "stream",
     "text": [
      "                   all         92        345     0.0995      0.145     0.0724     0.0348\n"
     ]
    },
    {
     "name": "stderr",
     "output_type": "stream",
     "text": [
      "\n"
     ]
    },
    {
     "name": "stdout",
     "output_type": "stream",
     "text": [
      "\n",
      "      Epoch    GPU_mem   box_loss   cls_loss   dfl_loss  Instances       Size\n"
     ]
    },
    {
     "name": "stderr",
     "output_type": "stream",
     "text": [
      "      7/300      2.21G       1.98      3.079      2.258         37        640: 100%|██████████| 28/28 [00:13<00:00,  2.04it/s]\n",
      "                 Class     Images  Instances      Box(P          R      mAP50  mAP50-95): 100%|██████████| 3/3 [00:02<00:00,  1.37it/s]"
     ]
    },
    {
     "name": "stdout",
     "output_type": "stream",
     "text": [
      "                   all         92        345       0.45     0.0757     0.0503     0.0244\n"
     ]
    },
    {
     "name": "stderr",
     "output_type": "stream",
     "text": [
      "\n"
     ]
    },
    {
     "name": "stdout",
     "output_type": "stream",
     "text": [
      "\n",
      "      Epoch    GPU_mem   box_loss   cls_loss   dfl_loss  Instances       Size\n"
     ]
    },
    {
     "name": "stderr",
     "output_type": "stream",
     "text": [
      "      8/300      2.31G      1.946       3.04      2.275         22        640: 100%|██████████| 28/28 [00:14<00:00,  1.95it/s]\n",
      "                 Class     Images  Instances      Box(P          R      mAP50  mAP50-95): 100%|██████████| 3/3 [00:01<00:00,  1.87it/s]"
     ]
    },
    {
     "name": "stdout",
     "output_type": "stream",
     "text": [
      "                   all         92        345      0.097      0.111     0.0634     0.0274\n"
     ]
    },
    {
     "name": "stderr",
     "output_type": "stream",
     "text": [
      "\n"
     ]
    },
    {
     "name": "stdout",
     "output_type": "stream",
     "text": [
      "\n",
      "      Epoch    GPU_mem   box_loss   cls_loss   dfl_loss  Instances       Size\n"
     ]
    },
    {
     "name": "stderr",
     "output_type": "stream",
     "text": [
      "      9/300      2.23G      1.928      3.068      2.267         48        640: 100%|██████████| 28/28 [00:08<00:00,  3.41it/s]\n",
      "                 Class     Images  Instances      Box(P          R      mAP50  mAP50-95): 100%|██████████| 3/3 [00:02<00:00,  1.33it/s]"
     ]
    },
    {
     "name": "stdout",
     "output_type": "stream",
     "text": [
      "                   all         92        345      0.111      0.107     0.0638     0.0299\n"
     ]
    },
    {
     "name": "stderr",
     "output_type": "stream",
     "text": [
      "\n"
     ]
    },
    {
     "name": "stdout",
     "output_type": "stream",
     "text": [
      "\n",
      "      Epoch    GPU_mem   box_loss   cls_loss   dfl_loss  Instances       Size\n"
     ]
    },
    {
     "name": "stderr",
     "output_type": "stream",
     "text": [
      "     10/300      2.36G        1.9      3.038      2.223         39        640: 100%|██████████| 28/28 [00:10<00:00,  2.63it/s]\n",
      "                 Class     Images  Instances      Box(P          R      mAP50  mAP50-95): 100%|██████████| 3/3 [00:01<00:00,  2.31it/s]"
     ]
    },
    {
     "name": "stdout",
     "output_type": "stream",
     "text": [
      "                   all         92        345      0.499     0.0807     0.0632     0.0276\n"
     ]
    },
    {
     "name": "stderr",
     "output_type": "stream",
     "text": [
      "\n"
     ]
    },
    {
     "name": "stdout",
     "output_type": "stream",
     "text": [
      "\n",
      "      Epoch    GPU_mem   box_loss   cls_loss   dfl_loss  Instances       Size\n"
     ]
    },
    {
     "name": "stderr",
     "output_type": "stream",
     "text": [
      "     11/300      2.47G       1.97      3.063      2.261         32        640: 100%|██████████| 28/28 [00:12<00:00,  2.31it/s]\n",
      "                 Class     Images  Instances      Box(P          R      mAP50  mAP50-95): 100%|██████████| 3/3 [00:01<00:00,  1.99it/s]"
     ]
    },
    {
     "name": "stdout",
     "output_type": "stream",
     "text": [
      "                   all         92        345      0.109      0.127      0.082     0.0401\n"
     ]
    },
    {
     "name": "stderr",
     "output_type": "stream",
     "text": [
      "\n"
     ]
    },
    {
     "name": "stdout",
     "output_type": "stream",
     "text": [
      "\n",
      "      Epoch    GPU_mem   box_loss   cls_loss   dfl_loss  Instances       Size\n"
     ]
    },
    {
     "name": "stderr",
     "output_type": "stream",
     "text": [
      "     12/300      2.34G      1.927       2.99      2.247         41        640: 100%|██████████| 28/28 [00:08<00:00,  3.43it/s]\n",
      "                 Class     Images  Instances      Box(P          R      mAP50  mAP50-95): 100%|██████████| 3/3 [00:01<00:00,  1.50it/s]"
     ]
    },
    {
     "name": "stdout",
     "output_type": "stream",
     "text": [
      "                   all         92        345      0.305     0.0986     0.0727     0.0339\n"
     ]
    },
    {
     "name": "stderr",
     "output_type": "stream",
     "text": [
      "\n"
     ]
    },
    {
     "name": "stdout",
     "output_type": "stream",
     "text": [
      "\n",
      "      Epoch    GPU_mem   box_loss   cls_loss   dfl_loss  Instances       Size\n"
     ]
    },
    {
     "name": "stderr",
     "output_type": "stream",
     "text": [
      "     13/300       2.2G      1.949      3.061      2.254         33        640: 100%|██████████| 28/28 [00:10<00:00,  2.63it/s]\n",
      "                 Class     Images  Instances      Box(P          R      mAP50  mAP50-95): 100%|██████████| 3/3 [00:01<00:00,  1.89it/s]"
     ]
    },
    {
     "name": "stdout",
     "output_type": "stream",
     "text": [
      "                   all         92        345     0.0921      0.117     0.0501     0.0201\n"
     ]
    },
    {
     "name": "stderr",
     "output_type": "stream",
     "text": [
      "\n"
     ]
    },
    {
     "name": "stdout",
     "output_type": "stream",
     "text": [
      "\n",
      "      Epoch    GPU_mem   box_loss   cls_loss   dfl_loss  Instances       Size\n"
     ]
    },
    {
     "name": "stderr",
     "output_type": "stream",
     "text": [
      "     14/300       2.2G      1.934      3.037      2.229         44        640: 100%|██████████| 28/28 [00:11<00:00,  2.46it/s]\n",
      "                 Class     Images  Instances      Box(P          R      mAP50  mAP50-95): 100%|██████████| 3/3 [00:02<00:00,  1.34it/s]"
     ]
    },
    {
     "name": "stdout",
     "output_type": "stream",
     "text": [
      "                   all         92        345     0.0812      0.103     0.0482     0.0244\n"
     ]
    },
    {
     "name": "stderr",
     "output_type": "stream",
     "text": [
      "\n"
     ]
    },
    {
     "name": "stdout",
     "output_type": "stream",
     "text": [
      "\n",
      "      Epoch    GPU_mem   box_loss   cls_loss   dfl_loss  Instances       Size\n"
     ]
    },
    {
     "name": "stderr",
     "output_type": "stream",
     "text": [
      "     15/300      2.38G      1.926       3.02      2.253         38        640: 100%|██████████| 28/28 [00:08<00:00,  3.45it/s]\n",
      "                 Class     Images  Instances      Box(P          R      mAP50  mAP50-95): 100%|██████████| 3/3 [00:01<00:00,  1.80it/s]"
     ]
    },
    {
     "name": "stdout",
     "output_type": "stream",
     "text": [
      "                   all         92        345       0.49     0.0964     0.0701     0.0335\n"
     ]
    },
    {
     "name": "stderr",
     "output_type": "stream",
     "text": [
      "\n"
     ]
    },
    {
     "name": "stdout",
     "output_type": "stream",
     "text": [
      "\n",
      "      Epoch    GPU_mem   box_loss   cls_loss   dfl_loss  Instances       Size\n"
     ]
    },
    {
     "name": "stderr",
     "output_type": "stream",
     "text": [
      "     16/300      2.34G      1.861      2.926      2.209         33        640: 100%|██████████| 28/28 [00:11<00:00,  2.41it/s]\n",
      "                 Class     Images  Instances      Box(P          R      mAP50  mAP50-95): 100%|██████████| 3/3 [00:01<00:00,  2.33it/s]"
     ]
    },
    {
     "name": "stdout",
     "output_type": "stream",
     "text": [
      "                   all         92        345     0.0781      0.122     0.0604     0.0319\n"
     ]
    },
    {
     "name": "stderr",
     "output_type": "stream",
     "text": [
      "\n"
     ]
    },
    {
     "name": "stdout",
     "output_type": "stream",
     "text": [
      "\n",
      "      Epoch    GPU_mem   box_loss   cls_loss   dfl_loss  Instances       Size\n"
     ]
    },
    {
     "name": "stderr",
     "output_type": "stream",
     "text": [
      "     17/300      2.31G      1.917      2.931      2.224         29        640: 100%|██████████| 28/28 [00:10<00:00,  2.74it/s]\n",
      "                 Class     Images  Instances      Box(P          R      mAP50  mAP50-95): 100%|██████████| 3/3 [00:02<00:00,  1.06it/s]"
     ]
    },
    {
     "name": "stdout",
     "output_type": "stream",
     "text": [
      "                   all         92        345     0.0927       0.13     0.0571     0.0295\n"
     ]
    },
    {
     "name": "stderr",
     "output_type": "stream",
     "text": [
      "\n"
     ]
    },
    {
     "name": "stdout",
     "output_type": "stream",
     "text": [
      "\n",
      "      Epoch    GPU_mem   box_loss   cls_loss   dfl_loss  Instances       Size\n"
     ]
    },
    {
     "name": "stderr",
     "output_type": "stream",
     "text": [
      "     18/300      2.19G      1.916      2.961      2.203         32        640: 100%|██████████| 28/28 [00:08<00:00,  3.40it/s]\n",
      "                 Class     Images  Instances      Box(P          R      mAP50  mAP50-95): 100%|██████████| 3/3 [00:01<00:00,  2.32it/s]"
     ]
    },
    {
     "name": "stdout",
     "output_type": "stream",
     "text": [
      "                   all         92        345     0.0795       0.11     0.0581     0.0275\n"
     ]
    },
    {
     "name": "stderr",
     "output_type": "stream",
     "text": [
      "\n"
     ]
    },
    {
     "name": "stdout",
     "output_type": "stream",
     "text": [
      "\n",
      "      Epoch    GPU_mem   box_loss   cls_loss   dfl_loss  Instances       Size\n"
     ]
    },
    {
     "name": "stderr",
     "output_type": "stream",
     "text": [
      "     19/300      2.24G      1.845      2.889      2.181         25        640: 100%|██████████| 28/28 [00:12<00:00,  2.29it/s]\n",
      "                 Class     Images  Instances      Box(P          R      mAP50  mAP50-95): 100%|██████████| 3/3 [00:01<00:00,  2.18it/s]"
     ]
    },
    {
     "name": "stdout",
     "output_type": "stream",
     "text": [
      "                   all         92        345     0.0885      0.155     0.0659     0.0296\n"
     ]
    },
    {
     "name": "stderr",
     "output_type": "stream",
     "text": [
      "\n"
     ]
    },
    {
     "name": "stdout",
     "output_type": "stream",
     "text": [
      "\n",
      "      Epoch    GPU_mem   box_loss   cls_loss   dfl_loss  Instances       Size\n"
     ]
    },
    {
     "name": "stderr",
     "output_type": "stream",
     "text": [
      "     20/300      2.37G      1.934      2.957      2.233         16        640: 100%|██████████| 28/28 [00:09<00:00,  2.93it/s]\n",
      "                 Class     Images  Instances      Box(P          R      mAP50  mAP50-95): 100%|██████████| 3/3 [00:02<00:00,  1.06it/s]"
     ]
    },
    {
     "name": "stdout",
     "output_type": "stream",
     "text": [
      "                   all         92        345      0.222      0.102     0.0551     0.0318\n"
     ]
    },
    {
     "name": "stderr",
     "output_type": "stream",
     "text": [
      "\n"
     ]
    },
    {
     "name": "stdout",
     "output_type": "stream",
     "text": [
      "\n",
      "      Epoch    GPU_mem   box_loss   cls_loss   dfl_loss  Instances       Size\n"
     ]
    },
    {
     "name": "stderr",
     "output_type": "stream",
     "text": [
      "     21/300      2.37G      1.867      2.853      2.165         35        640: 100%|██████████| 28/28 [00:08<00:00,  3.31it/s]\n",
      "                 Class     Images  Instances      Box(P          R      mAP50  mAP50-95): 100%|██████████| 3/3 [00:01<00:00,  1.97it/s]"
     ]
    },
    {
     "name": "stdout",
     "output_type": "stream",
     "text": [
      "                   all         92        345      0.563     0.0718      0.076     0.0362\n"
     ]
    },
    {
     "name": "stderr",
     "output_type": "stream",
     "text": [
      "\n"
     ]
    },
    {
     "name": "stdout",
     "output_type": "stream",
     "text": [
      "\n",
      "      Epoch    GPU_mem   box_loss   cls_loss   dfl_loss  Instances       Size\n"
     ]
    },
    {
     "name": "stderr",
     "output_type": "stream",
     "text": [
      "     22/300      2.37G      1.876      2.946       2.19         25        640: 100%|██████████| 28/28 [00:12<00:00,  2.32it/s]\n",
      "                 Class     Images  Instances      Box(P          R      mAP50  mAP50-95): 100%|██████████| 3/3 [00:01<00:00,  2.17it/s]"
     ]
    },
    {
     "name": "stdout",
     "output_type": "stream",
     "text": [
      "                   all         92        345      0.115     0.0922     0.0582     0.0283\n"
     ]
    },
    {
     "name": "stderr",
     "output_type": "stream",
     "text": [
      "\n"
     ]
    },
    {
     "name": "stdout",
     "output_type": "stream",
     "text": [
      "\n",
      "      Epoch    GPU_mem   box_loss   cls_loss   dfl_loss  Instances       Size\n"
     ]
    },
    {
     "name": "stderr",
     "output_type": "stream",
     "text": [
      "     23/300      2.28G      1.884      2.893       2.22         17        640: 100%|██████████| 28/28 [00:08<00:00,  3.17it/s]\n",
      "                 Class     Images  Instances      Box(P          R      mAP50  mAP50-95): 100%|██████████| 3/3 [00:02<00:00,  1.21it/s]"
     ]
    },
    {
     "name": "stdout",
     "output_type": "stream",
     "text": [
      "                   all         92        345      0.193     0.0997     0.0706     0.0366\n"
     ]
    },
    {
     "name": "stderr",
     "output_type": "stream",
     "text": [
      "\n"
     ]
    },
    {
     "name": "stdout",
     "output_type": "stream",
     "text": [
      "\n",
      "      Epoch    GPU_mem   box_loss   cls_loss   dfl_loss  Instances       Size\n"
     ]
    },
    {
     "name": "stderr",
     "output_type": "stream",
     "text": [
      "     24/300      2.37G      1.904      2.951      2.184         46        640: 100%|██████████| 28/28 [00:09<00:00,  3.07it/s]\n",
      "                 Class     Images  Instances      Box(P          R      mAP50  mAP50-95): 100%|██████████| 3/3 [00:01<00:00,  1.93it/s]"
     ]
    },
    {
     "name": "stdout",
     "output_type": "stream",
     "text": [
      "                   all         92        345     0.0617      0.131     0.0606     0.0295\n"
     ]
    },
    {
     "name": "stderr",
     "output_type": "stream",
     "text": [
      "\n"
     ]
    },
    {
     "name": "stdout",
     "output_type": "stream",
     "text": [
      "\n",
      "      Epoch    GPU_mem   box_loss   cls_loss   dfl_loss  Instances       Size\n"
     ]
    },
    {
     "name": "stderr",
     "output_type": "stream",
     "text": [
      "     25/300      2.21G      1.901      2.948       2.21         33        640: 100%|██████████| 28/28 [00:12<00:00,  2.23it/s]\n",
      "                 Class     Images  Instances      Box(P          R      mAP50  mAP50-95): 100%|██████████| 3/3 [00:01<00:00,  2.06it/s]"
     ]
    },
    {
     "name": "stdout",
     "output_type": "stream",
     "text": [
      "                   all         92        345      0.465     0.0746     0.0757     0.0363\n"
     ]
    },
    {
     "name": "stderr",
     "output_type": "stream",
     "text": [
      "\n"
     ]
    },
    {
     "name": "stdout",
     "output_type": "stream",
     "text": [
      "\n",
      "      Epoch    GPU_mem   box_loss   cls_loss   dfl_loss  Instances       Size\n"
     ]
    },
    {
     "name": "stderr",
     "output_type": "stream",
     "text": [
      "     26/300      2.19G      1.893      2.908      2.209         27        640: 100%|██████████| 28/28 [00:09<00:00,  3.10it/s]\n",
      "                 Class     Images  Instances      Box(P          R      mAP50  mAP50-95): 100%|██████████| 3/3 [00:02<00:00,  1.46it/s]"
     ]
    },
    {
     "name": "stdout",
     "output_type": "stream",
     "text": [
      "                   all         92        345      0.757     0.0692     0.0908      0.044\n"
     ]
    },
    {
     "name": "stderr",
     "output_type": "stream",
     "text": [
      "\n"
     ]
    },
    {
     "name": "stdout",
     "output_type": "stream",
     "text": [
      "\n",
      "      Epoch    GPU_mem   box_loss   cls_loss   dfl_loss  Instances       Size\n"
     ]
    },
    {
     "name": "stderr",
     "output_type": "stream",
     "text": [
      "     27/300      2.23G      1.827      2.853      2.183         33        640: 100%|██████████| 28/28 [00:10<00:00,  2.73it/s]\n",
      "                 Class     Images  Instances      Box(P          R      mAP50  mAP50-95): 100%|██████████| 3/3 [00:01<00:00,  2.32it/s]"
     ]
    },
    {
     "name": "stdout",
     "output_type": "stream",
     "text": [
      "                   all         92        345      0.258     0.0915     0.0538     0.0281\n"
     ]
    },
    {
     "name": "stderr",
     "output_type": "stream",
     "text": [
      "\n"
     ]
    },
    {
     "name": "stdout",
     "output_type": "stream",
     "text": [
      "\n",
      "      Epoch    GPU_mem   box_loss   cls_loss   dfl_loss  Instances       Size\n"
     ]
    },
    {
     "name": "stderr",
     "output_type": "stream",
     "text": [
      "     28/300      2.33G       1.87      2.948      2.183         37        640: 100%|██████████| 28/28 [00:11<00:00,  2.39it/s]\n",
      "                 Class     Images  Instances      Box(P          R      mAP50  mAP50-95): 100%|██████████| 3/3 [00:01<00:00,  1.80it/s]"
     ]
    },
    {
     "name": "stdout",
     "output_type": "stream",
     "text": [
      "                   all         92        345     0.0856      0.135      0.071     0.0362\n"
     ]
    },
    {
     "name": "stderr",
     "output_type": "stream",
     "text": [
      "\n"
     ]
    },
    {
     "name": "stdout",
     "output_type": "stream",
     "text": [
      "\n",
      "      Epoch    GPU_mem   box_loss   cls_loss   dfl_loss  Instances       Size\n"
     ]
    },
    {
     "name": "stderr",
     "output_type": "stream",
     "text": [
      "     29/300      2.21G      1.851      2.864      2.174         46        640: 100%|██████████| 28/28 [00:07<00:00,  3.50it/s]\n",
      "                 Class     Images  Instances      Box(P          R      mAP50  mAP50-95): 100%|██████████| 3/3 [00:01<00:00,  1.57it/s]"
     ]
    },
    {
     "name": "stdout",
     "output_type": "stream",
     "text": [
      "                   all         92        345      0.129      0.117     0.0702      0.031\n"
     ]
    },
    {
     "name": "stderr",
     "output_type": "stream",
     "text": [
      "\n"
     ]
    },
    {
     "name": "stdout",
     "output_type": "stream",
     "text": [
      "\n",
      "      Epoch    GPU_mem   box_loss   cls_loss   dfl_loss  Instances       Size\n"
     ]
    },
    {
     "name": "stderr",
     "output_type": "stream",
     "text": [
      "     30/300      2.46G      1.863      2.887      2.191         55        640: 100%|██████████| 28/28 [00:11<00:00,  2.54it/s]\n",
      "                 Class     Images  Instances      Box(P          R      mAP50  mAP50-95): 100%|██████████| 3/3 [00:01<00:00,  2.54it/s]"
     ]
    },
    {
     "name": "stdout",
     "output_type": "stream",
     "text": [
      "                   all         92        345      0.098     0.0866     0.0634      0.032\n"
     ]
    },
    {
     "name": "stderr",
     "output_type": "stream",
     "text": [
      "\n"
     ]
    },
    {
     "name": "stdout",
     "output_type": "stream",
     "text": [
      "\n",
      "      Epoch    GPU_mem   box_loss   cls_loss   dfl_loss  Instances       Size\n"
     ]
    },
    {
     "name": "stderr",
     "output_type": "stream",
     "text": [
      "     31/300       2.2G      1.841      2.861      2.179         30        640: 100%|██████████| 28/28 [00:11<00:00,  2.41it/s]\n",
      "                 Class     Images  Instances      Box(P          R      mAP50  mAP50-95): 100%|██████████| 3/3 [00:02<00:00,  1.21it/s]"
     ]
    },
    {
     "name": "stdout",
     "output_type": "stream",
     "text": [
      "                   all         92        345       0.13        0.1     0.0766     0.0372\n"
     ]
    },
    {
     "name": "stderr",
     "output_type": "stream",
     "text": [
      "\n"
     ]
    },
    {
     "name": "stdout",
     "output_type": "stream",
     "text": [
      "\n",
      "      Epoch    GPU_mem   box_loss   cls_loss   dfl_loss  Instances       Size\n"
     ]
    },
    {
     "name": "stderr",
     "output_type": "stream",
     "text": [
      "     32/300      2.36G      1.826      2.858      2.155         33        640: 100%|██████████| 28/28 [00:08<00:00,  3.48it/s]\n",
      "                 Class     Images  Instances      Box(P          R      mAP50  mAP50-95): 100%|██████████| 3/3 [00:01<00:00,  1.70it/s]"
     ]
    },
    {
     "name": "stdout",
     "output_type": "stream",
     "text": [
      "                   all         92        345      0.125      0.105      0.075     0.0377\n"
     ]
    },
    {
     "name": "stderr",
     "output_type": "stream",
     "text": [
      "\n"
     ]
    },
    {
     "name": "stdout",
     "output_type": "stream",
     "text": [
      "\n",
      "      Epoch    GPU_mem   box_loss   cls_loss   dfl_loss  Instances       Size\n"
     ]
    },
    {
     "name": "stderr",
     "output_type": "stream",
     "text": [
      "     33/300      2.34G      1.869      2.929      2.192         50        640: 100%|██████████| 28/28 [00:11<00:00,  2.41it/s]\n",
      "                 Class     Images  Instances      Box(P          R      mAP50  mAP50-95): 100%|██████████| 3/3 [00:01<00:00,  2.44it/s]"
     ]
    },
    {
     "name": "stdout",
     "output_type": "stream",
     "text": [
      "                   all         92        345      0.133      0.119     0.0629     0.0349\n"
     ]
    },
    {
     "name": "stderr",
     "output_type": "stream",
     "text": [
      "\n"
     ]
    },
    {
     "name": "stdout",
     "output_type": "stream",
     "text": [
      "\n",
      "      Epoch    GPU_mem   box_loss   cls_loss   dfl_loss  Instances       Size\n"
     ]
    },
    {
     "name": "stderr",
     "output_type": "stream",
     "text": [
      "     34/300      2.35G      1.815      2.774      2.109         51        640: 100%|██████████| 28/28 [00:11<00:00,  2.45it/s]\n",
      "                 Class     Images  Instances      Box(P          R      mAP50  mAP50-95): 100%|██████████| 3/3 [00:02<00:00,  1.16it/s]"
     ]
    },
    {
     "name": "stdout",
     "output_type": "stream",
     "text": [
      "                   all         92        345      0.449     0.0912     0.0756     0.0391\n"
     ]
    },
    {
     "name": "stderr",
     "output_type": "stream",
     "text": [
      "\n"
     ]
    },
    {
     "name": "stdout",
     "output_type": "stream",
     "text": [
      "\n",
      "      Epoch    GPU_mem   box_loss   cls_loss   dfl_loss  Instances       Size\n"
     ]
    },
    {
     "name": "stderr",
     "output_type": "stream",
     "text": [
      "     35/300       2.2G      1.868      2.816      2.132         48        640: 100%|██████████| 28/28 [00:08<00:00,  3.24it/s]\n",
      "                 Class     Images  Instances      Box(P          R      mAP50  mAP50-95): 100%|██████████| 3/3 [00:01<00:00,  1.63it/s]"
     ]
    },
    {
     "name": "stdout",
     "output_type": "stream",
     "text": [
      "                   all         92        345        0.1       0.11     0.0693     0.0334\n"
     ]
    },
    {
     "name": "stderr",
     "output_type": "stream",
     "text": [
      "\n"
     ]
    },
    {
     "name": "stdout",
     "output_type": "stream",
     "text": [
      "\n",
      "      Epoch    GPU_mem   box_loss   cls_loss   dfl_loss  Instances       Size\n"
     ]
    },
    {
     "name": "stderr",
     "output_type": "stream",
     "text": [
      "     36/300      2.33G      1.823      2.755      2.123         35        640: 100%|██████████| 28/28 [00:12<00:00,  2.30it/s]\n",
      "                 Class     Images  Instances      Box(P          R      mAP50  mAP50-95): 100%|██████████| 3/3 [00:01<00:00,  1.94it/s]"
     ]
    },
    {
     "name": "stdout",
     "output_type": "stream",
     "text": [
      "                   all         92        345     0.0982       0.14       0.08     0.0392\n"
     ]
    },
    {
     "name": "stderr",
     "output_type": "stream",
     "text": [
      "\n"
     ]
    },
    {
     "name": "stdout",
     "output_type": "stream",
     "text": [
      "\n",
      "      Epoch    GPU_mem   box_loss   cls_loss   dfl_loss  Instances       Size\n"
     ]
    },
    {
     "name": "stderr",
     "output_type": "stream",
     "text": [
      "     37/300      2.23G      1.842      2.861      2.164         56        640: 100%|██████████| 28/28 [00:10<00:00,  2.63it/s]\n",
      "                 Class     Images  Instances      Box(P          R      mAP50  mAP50-95): 100%|██████████| 3/3 [00:02<00:00,  1.10it/s]"
     ]
    },
    {
     "name": "stdout",
     "output_type": "stream",
     "text": [
      "                   all         92        345     0.0874      0.118     0.0524      0.025\n"
     ]
    },
    {
     "name": "stderr",
     "output_type": "stream",
     "text": [
      "\n"
     ]
    },
    {
     "name": "stdout",
     "output_type": "stream",
     "text": [
      "\n",
      "      Epoch    GPU_mem   box_loss   cls_loss   dfl_loss  Instances       Size\n"
     ]
    },
    {
     "name": "stderr",
     "output_type": "stream",
     "text": [
      "     38/300      2.33G      1.824      2.778      2.139         34        640: 100%|██████████| 28/28 [00:09<00:00,  3.08it/s]\n",
      "                 Class     Images  Instances      Box(P          R      mAP50  mAP50-95): 100%|██████████| 3/3 [00:01<00:00,  2.11it/s]"
     ]
    },
    {
     "name": "stdout",
     "output_type": "stream",
     "text": [
      "                   all         92        345      0.304     0.0742       0.07     0.0368\n"
     ]
    },
    {
     "name": "stderr",
     "output_type": "stream",
     "text": [
      "\n"
     ]
    },
    {
     "name": "stdout",
     "output_type": "stream",
     "text": [
      "\n",
      "      Epoch    GPU_mem   box_loss   cls_loss   dfl_loss  Instances       Size\n"
     ]
    },
    {
     "name": "stderr",
     "output_type": "stream",
     "text": [
      "     39/300       2.5G      1.847      2.747       2.14         24        640: 100%|██████████| 28/28 [00:12<00:00,  2.20it/s]\n",
      "                 Class     Images  Instances      Box(P          R      mAP50  mAP50-95): 100%|██████████| 3/3 [00:01<00:00,  2.34it/s]"
     ]
    },
    {
     "name": "stdout",
     "output_type": "stream",
     "text": [
      "                   all         92        345      0.523     0.0594     0.0693     0.0318\n"
     ]
    },
    {
     "name": "stderr",
     "output_type": "stream",
     "text": [
      "\n"
     ]
    },
    {
     "name": "stdout",
     "output_type": "stream",
     "text": [
      "\n",
      "      Epoch    GPU_mem   box_loss   cls_loss   dfl_loss  Instances       Size\n"
     ]
    },
    {
     "name": "stderr",
     "output_type": "stream",
     "text": [
      "     40/300      2.56G       1.84      2.641      2.117         26        640: 100%|██████████| 28/28 [00:09<00:00,  2.88it/s]\n",
      "                 Class     Images  Instances      Box(P          R      mAP50  mAP50-95): 100%|██████████| 3/3 [00:02<00:00,  1.25it/s]"
     ]
    },
    {
     "name": "stdout",
     "output_type": "stream",
     "text": [
      "                   all         92        345     0.0716      0.123     0.0638     0.0322\n"
     ]
    },
    {
     "name": "stderr",
     "output_type": "stream",
     "text": [
      "\n"
     ]
    },
    {
     "name": "stdout",
     "output_type": "stream",
     "text": [
      "\n",
      "      Epoch    GPU_mem   box_loss   cls_loss   dfl_loss  Instances       Size\n"
     ]
    },
    {
     "name": "stderr",
     "output_type": "stream",
     "text": [
      "     41/300      2.37G      1.815      2.721      2.108         17        640: 100%|██████████| 28/28 [00:13<00:00,  2.05it/s]\n",
      "                 Class     Images  Instances      Box(P          R      mAP50  mAP50-95): 100%|██████████| 3/3 [00:01<00:00,  2.33it/s]"
     ]
    },
    {
     "name": "stdout",
     "output_type": "stream",
     "text": [
      "                   all         92        345      0.137      0.144     0.0697     0.0374\n"
     ]
    },
    {
     "name": "stderr",
     "output_type": "stream",
     "text": [
      "\n"
     ]
    },
    {
     "name": "stdout",
     "output_type": "stream",
     "text": [
      "\n",
      "      Epoch    GPU_mem   box_loss   cls_loss   dfl_loss  Instances       Size\n"
     ]
    },
    {
     "name": "stderr",
     "output_type": "stream",
     "text": [
      "     42/300      2.47G      1.811      2.755      2.112         24        640: 100%|██████████| 28/28 [00:11<00:00,  2.41it/s]\n",
      "                 Class     Images  Instances      Box(P          R      mAP50  mAP50-95): 100%|██████████| 3/3 [00:01<00:00,  1.98it/s]"
     ]
    },
    {
     "name": "stdout",
     "output_type": "stream",
     "text": [
      "                   all         92        345      0.404      0.068     0.0891     0.0434\n"
     ]
    },
    {
     "name": "stderr",
     "output_type": "stream",
     "text": [
      "\n"
     ]
    },
    {
     "name": "stdout",
     "output_type": "stream",
     "text": [
      "\n",
      "      Epoch    GPU_mem   box_loss   cls_loss   dfl_loss  Instances       Size\n"
     ]
    },
    {
     "name": "stderr",
     "output_type": "stream",
     "text": [
      "     43/300      2.34G      1.787      2.753      2.111         56        640: 100%|██████████| 28/28 [00:10<00:00,  2.68it/s]\n",
      "                 Class     Images  Instances      Box(P          R      mAP50  mAP50-95): 100%|██████████| 3/3 [00:02<00:00,  1.06it/s]"
     ]
    },
    {
     "name": "stdout",
     "output_type": "stream",
     "text": [
      "                   all         92        345      0.123      0.132     0.0962     0.0426\n"
     ]
    },
    {
     "name": "stderr",
     "output_type": "stream",
     "text": [
      "\n"
     ]
    },
    {
     "name": "stdout",
     "output_type": "stream",
     "text": [
      "\n",
      "      Epoch    GPU_mem   box_loss   cls_loss   dfl_loss  Instances       Size\n"
     ]
    },
    {
     "name": "stderr",
     "output_type": "stream",
     "text": [
      "     44/300      2.39G      1.741      2.669      2.086         26        640: 100%|██████████| 28/28 [00:08<00:00,  3.24it/s]\n",
      "                 Class     Images  Instances      Box(P          R      mAP50  mAP50-95): 100%|██████████| 3/3 [00:01<00:00,  2.03it/s]"
     ]
    },
    {
     "name": "stdout",
     "output_type": "stream",
     "text": [
      "                   all         92        345      0.116      0.133     0.0733     0.0377\n"
     ]
    },
    {
     "name": "stderr",
     "output_type": "stream",
     "text": [
      "\n"
     ]
    },
    {
     "name": "stdout",
     "output_type": "stream",
     "text": [
      "\n",
      "      Epoch    GPU_mem   box_loss   cls_loss   dfl_loss  Instances       Size\n"
     ]
    },
    {
     "name": "stderr",
     "output_type": "stream",
     "text": [
      "     45/300       2.2G      1.731      2.739      2.095         35        640: 100%|██████████| 28/28 [00:12<00:00,  2.32it/s]\n",
      "                 Class     Images  Instances      Box(P          R      mAP50  mAP50-95): 100%|██████████| 3/3 [00:01<00:00,  2.15it/s]"
     ]
    },
    {
     "name": "stdout",
     "output_type": "stream",
     "text": [
      "                   all         92        345      0.285      0.107     0.0755     0.0364\n"
     ]
    },
    {
     "name": "stderr",
     "output_type": "stream",
     "text": [
      "\n"
     ]
    },
    {
     "name": "stdout",
     "output_type": "stream",
     "text": [
      "\n",
      "      Epoch    GPU_mem   box_loss   cls_loss   dfl_loss  Instances       Size\n"
     ]
    },
    {
     "name": "stderr",
     "output_type": "stream",
     "text": [
      "     46/300      2.38G      1.834      2.592       2.08         41        640: 100%|██████████| 28/28 [00:09<00:00,  2.93it/s]\n",
      "                 Class     Images  Instances      Box(P          R      mAP50  mAP50-95): 100%|██████████| 3/3 [00:02<00:00,  1.21it/s]"
     ]
    },
    {
     "name": "stdout",
     "output_type": "stream",
     "text": [
      "                   all         92        345      0.462     0.0778     0.0761     0.0399\n"
     ]
    },
    {
     "name": "stderr",
     "output_type": "stream",
     "text": [
      "\n"
     ]
    },
    {
     "name": "stdout",
     "output_type": "stream",
     "text": [
      "\n",
      "      Epoch    GPU_mem   box_loss   cls_loss   dfl_loss  Instances       Size\n"
     ]
    },
    {
     "name": "stderr",
     "output_type": "stream",
     "text": [
      "     47/300       2.2G      1.795      2.815      2.136         20        640: 100%|██████████| 28/28 [00:09<00:00,  2.89it/s]\n",
      "                 Class     Images  Instances      Box(P          R      mAP50  mAP50-95): 100%|██████████| 3/3 [00:01<00:00,  2.02it/s]"
     ]
    },
    {
     "name": "stdout",
     "output_type": "stream",
     "text": [
      "                   all         92        345     0.0671     0.0997     0.0563      0.027\n"
     ]
    },
    {
     "name": "stderr",
     "output_type": "stream",
     "text": [
      "\n"
     ]
    },
    {
     "name": "stdout",
     "output_type": "stream",
     "text": [
      "\n",
      "      Epoch    GPU_mem   box_loss   cls_loss   dfl_loss  Instances       Size\n"
     ]
    },
    {
     "name": "stderr",
     "output_type": "stream",
     "text": [
      "     48/300      2.28G      1.774      2.739      2.096         38        640: 100%|██████████| 28/28 [00:12<00:00,  2.24it/s]\n",
      "                 Class     Images  Instances      Box(P          R      mAP50  mAP50-95): 100%|██████████| 3/3 [00:01<00:00,  1.95it/s]"
     ]
    },
    {
     "name": "stdout",
     "output_type": "stream",
     "text": [
      "                   all         92        345      0.104      0.161     0.0812     0.0406\n"
     ]
    },
    {
     "name": "stderr",
     "output_type": "stream",
     "text": [
      "\n"
     ]
    },
    {
     "name": "stdout",
     "output_type": "stream",
     "text": [
      "\n",
      "      Epoch    GPU_mem   box_loss   cls_loss   dfl_loss  Instances       Size\n"
     ]
    },
    {
     "name": "stderr",
     "output_type": "stream",
     "text": [
      "     49/300      2.37G      1.834      2.688      2.081         33        640: 100%|██████████| 28/28 [00:08<00:00,  3.20it/s]\n",
      "                 Class     Images  Instances      Box(P          R      mAP50  mAP50-95): 100%|██████████| 3/3 [00:01<00:00,  1.55it/s]"
     ]
    },
    {
     "name": "stdout",
     "output_type": "stream",
     "text": [
      "                   all         92        345      0.106      0.156     0.0753     0.0372\n"
     ]
    },
    {
     "name": "stderr",
     "output_type": "stream",
     "text": [
      "\n"
     ]
    },
    {
     "name": "stdout",
     "output_type": "stream",
     "text": [
      "\n",
      "      Epoch    GPU_mem   box_loss   cls_loss   dfl_loss  Instances       Size\n"
     ]
    },
    {
     "name": "stderr",
     "output_type": "stream",
     "text": [
      "     50/300      2.26G      1.772        2.7        2.1         77        640: 100%|██████████| 28/28 [00:10<00:00,  2.70it/s]\n",
      "                 Class     Images  Instances      Box(P          R      mAP50  mAP50-95): 100%|██████████| 3/3 [00:01<00:00,  2.31it/s]"
     ]
    },
    {
     "name": "stdout",
     "output_type": "stream",
     "text": [
      "                   all         92        345      0.108      0.143      0.086     0.0398\n"
     ]
    },
    {
     "name": "stderr",
     "output_type": "stream",
     "text": [
      "\n"
     ]
    },
    {
     "name": "stdout",
     "output_type": "stream",
     "text": [
      "\n",
      "      Epoch    GPU_mem   box_loss   cls_loss   dfl_loss  Instances       Size\n"
     ]
    },
    {
     "name": "stderr",
     "output_type": "stream",
     "text": [
      "     51/300      2.33G      1.756       2.62      2.063         36        640: 100%|██████████| 28/28 [00:11<00:00,  2.34it/s]\n",
      "                 Class     Images  Instances      Box(P          R      mAP50  mAP50-95): 100%|██████████| 3/3 [00:01<00:00,  2.12it/s]"
     ]
    },
    {
     "name": "stdout",
     "output_type": "stream",
     "text": [
      "                   all         92        345       0.08      0.146     0.0661     0.0333\n"
     ]
    },
    {
     "name": "stderr",
     "output_type": "stream",
     "text": [
      "\n"
     ]
    },
    {
     "name": "stdout",
     "output_type": "stream",
     "text": [
      "\n",
      "      Epoch    GPU_mem   box_loss   cls_loss   dfl_loss  Instances       Size\n"
     ]
    },
    {
     "name": "stderr",
     "output_type": "stream",
     "text": [
      "     52/300       2.4G      1.768      2.642      2.047         53        640: 100%|██████████| 28/28 [00:07<00:00,  3.53it/s]\n",
      "                 Class     Images  Instances      Box(P          R      mAP50  mAP50-95): 100%|██████████| 3/3 [00:01<00:00,  2.03it/s]"
     ]
    },
    {
     "name": "stdout",
     "output_type": "stream",
     "text": [
      "                   all         92        345      0.112       0.14     0.0815     0.0356\n"
     ]
    },
    {
     "name": "stderr",
     "output_type": "stream",
     "text": [
      "\n"
     ]
    },
    {
     "name": "stdout",
     "output_type": "stream",
     "text": [
      "\n",
      "      Epoch    GPU_mem   box_loss   cls_loss   dfl_loss  Instances       Size\n"
     ]
    },
    {
     "name": "stderr",
     "output_type": "stream",
     "text": [
      "     53/300      2.41G      1.776      2.614      2.086         24        640: 100%|██████████| 28/28 [00:11<00:00,  2.54it/s]\n",
      "                 Class     Images  Instances      Box(P          R      mAP50  mAP50-95): 100%|██████████| 3/3 [00:01<00:00,  2.15it/s]"
     ]
    },
    {
     "name": "stdout",
     "output_type": "stream",
     "text": [
      "                   all         92        345      0.655     0.0897      0.081     0.0348\n"
     ]
    },
    {
     "name": "stderr",
     "output_type": "stream",
     "text": [
      "\n"
     ]
    },
    {
     "name": "stdout",
     "output_type": "stream",
     "text": [
      "\n",
      "      Epoch    GPU_mem   box_loss   cls_loss   dfl_loss  Instances       Size\n"
     ]
    },
    {
     "name": "stderr",
     "output_type": "stream",
     "text": [
      "     54/300       2.2G      1.725      2.667      2.071         32        640: 100%|██████████| 28/28 [00:11<00:00,  2.51it/s]\n",
      "                 Class     Images  Instances      Box(P          R      mAP50  mAP50-95): 100%|██████████| 3/3 [00:02<00:00,  1.12it/s]"
     ]
    },
    {
     "name": "stdout",
     "output_type": "stream",
     "text": [
      "                   all         92        345      0.119       0.08     0.0587     0.0311\n"
     ]
    },
    {
     "name": "stderr",
     "output_type": "stream",
     "text": [
      "\n"
     ]
    },
    {
     "name": "stdout",
     "output_type": "stream",
     "text": [
      "\n",
      "      Epoch    GPU_mem   box_loss   cls_loss   dfl_loss  Instances       Size\n"
     ]
    },
    {
     "name": "stderr",
     "output_type": "stream",
     "text": [
      "     55/300      2.34G      1.805      2.756       2.11         35        640: 100%|██████████| 28/28 [00:08<00:00,  3.44it/s]\n",
      "                 Class     Images  Instances      Box(P          R      mAP50  mAP50-95): 100%|██████████| 3/3 [00:01<00:00,  1.92it/s]"
     ]
    },
    {
     "name": "stdout",
     "output_type": "stream",
     "text": [
      "                   all         92        345     0.0859      0.143     0.0706     0.0396\n"
     ]
    },
    {
     "name": "stderr",
     "output_type": "stream",
     "text": [
      "\n"
     ]
    },
    {
     "name": "stdout",
     "output_type": "stream",
     "text": [
      "\n",
      "      Epoch    GPU_mem   box_loss   cls_loss   dfl_loss  Instances       Size\n"
     ]
    },
    {
     "name": "stderr",
     "output_type": "stream",
     "text": [
      "     56/300       2.5G      1.757      2.635      2.097         32        640: 100%|██████████| 28/28 [00:11<00:00,  2.44it/s]\n",
      "                 Class     Images  Instances      Box(P          R      mAP50  mAP50-95): 100%|██████████| 3/3 [00:01<00:00,  1.89it/s]"
     ]
    },
    {
     "name": "stdout",
     "output_type": "stream",
     "text": [
      "                   all         92        345     0.0793      0.147     0.0668     0.0332\n"
     ]
    },
    {
     "name": "stderr",
     "output_type": "stream",
     "text": [
      "\n"
     ]
    },
    {
     "name": "stdout",
     "output_type": "stream",
     "text": [
      "\n",
      "      Epoch    GPU_mem   box_loss   cls_loss   dfl_loss  Instances       Size\n"
     ]
    },
    {
     "name": "stderr",
     "output_type": "stream",
     "text": [
      "     57/300      2.35G      1.814      2.636      2.087         70        640: 100%|██████████| 28/28 [00:10<00:00,  2.63it/s]\n",
      "                 Class     Images  Instances      Box(P          R      mAP50  mAP50-95): 100%|██████████| 3/3 [00:02<00:00,  1.23it/s]"
     ]
    },
    {
     "name": "stdout",
     "output_type": "stream",
     "text": [
      "                   all         92        345      0.118      0.098     0.0821     0.0429\n"
     ]
    },
    {
     "name": "stderr",
     "output_type": "stream",
     "text": [
      "\n"
     ]
    },
    {
     "name": "stdout",
     "output_type": "stream",
     "text": [
      "\n",
      "      Epoch    GPU_mem   box_loss   cls_loss   dfl_loss  Instances       Size\n"
     ]
    },
    {
     "name": "stderr",
     "output_type": "stream",
     "text": [
      "     58/300      2.14G      1.756      2.532      2.006         61        640: 100%|██████████| 28/28 [00:08<00:00,  3.41it/s]\n",
      "                 Class     Images  Instances      Box(P          R      mAP50  mAP50-95): 100%|██████████| 3/3 [00:01<00:00,  2.32it/s]"
     ]
    },
    {
     "name": "stdout",
     "output_type": "stream",
     "text": [
      "                   all         92        345      0.146      0.144     0.0875     0.0419\n"
     ]
    },
    {
     "name": "stderr",
     "output_type": "stream",
     "text": [
      "\n"
     ]
    },
    {
     "name": "stdout",
     "output_type": "stream",
     "text": [
      "\n",
      "      Epoch    GPU_mem   box_loss   cls_loss   dfl_loss  Instances       Size\n"
     ]
    },
    {
     "name": "stderr",
     "output_type": "stream",
     "text": [
      "     59/300      2.23G      1.705      2.591      2.039         55        640: 100%|██████████| 28/28 [00:12<00:00,  2.26it/s]\n",
      "                 Class     Images  Instances      Box(P          R      mAP50  mAP50-95): 100%|██████████| 3/3 [00:01<00:00,  2.24it/s]"
     ]
    },
    {
     "name": "stdout",
     "output_type": "stream",
     "text": [
      "                   all         92        345      0.114      0.145     0.0847     0.0421\n"
     ]
    },
    {
     "name": "stderr",
     "output_type": "stream",
     "text": [
      "\n"
     ]
    },
    {
     "name": "stdout",
     "output_type": "stream",
     "text": [
      "\n",
      "      Epoch    GPU_mem   box_loss   cls_loss   dfl_loss  Instances       Size\n"
     ]
    },
    {
     "name": "stderr",
     "output_type": "stream",
     "text": [
      "     60/300      2.39G      1.749      2.641      2.068         33        640: 100%|██████████| 28/28 [00:09<00:00,  3.05it/s]\n",
      "                 Class     Images  Instances      Box(P          R      mAP50  mAP50-95): 100%|██████████| 3/3 [00:02<00:00,  1.22it/s]"
     ]
    },
    {
     "name": "stdout",
     "output_type": "stream",
     "text": [
      "                   all         92        345      0.198     0.0779     0.0765     0.0381\n"
     ]
    },
    {
     "name": "stderr",
     "output_type": "stream",
     "text": [
      "\n"
     ]
    },
    {
     "name": "stdout",
     "output_type": "stream",
     "text": [
      "\n",
      "      Epoch    GPU_mem   box_loss   cls_loss   dfl_loss  Instances       Size\n"
     ]
    },
    {
     "name": "stderr",
     "output_type": "stream",
     "text": [
      "     61/300      2.46G      1.731      2.625       2.06         44        640: 100%|██████████| 28/28 [00:09<00:00,  2.92it/s]\n",
      "                 Class     Images  Instances      Box(P          R      mAP50  mAP50-95): 100%|██████████| 3/3 [00:01<00:00,  2.16it/s]"
     ]
    },
    {
     "name": "stdout",
     "output_type": "stream",
     "text": [
      "                   all         92        345      0.105      0.169     0.0891     0.0449\n"
     ]
    },
    {
     "name": "stderr",
     "output_type": "stream",
     "text": [
      "\n"
     ]
    },
    {
     "name": "stdout",
     "output_type": "stream",
     "text": [
      "\n",
      "      Epoch    GPU_mem   box_loss   cls_loss   dfl_loss  Instances       Size\n"
     ]
    },
    {
     "name": "stderr",
     "output_type": "stream",
     "text": [
      "     62/300      2.31G      1.753      2.582      2.029         55        640: 100%|██████████| 28/28 [00:12<00:00,  2.22it/s]\n",
      "                 Class     Images  Instances      Box(P          R      mAP50  mAP50-95): 100%|██████████| 3/3 [00:01<00:00,  2.24it/s]"
     ]
    },
    {
     "name": "stdout",
     "output_type": "stream",
     "text": [
      "                   all         92        345      0.109      0.149     0.0779     0.0431\n"
     ]
    },
    {
     "name": "stderr",
     "output_type": "stream",
     "text": [
      "\n"
     ]
    },
    {
     "name": "stdout",
     "output_type": "stream",
     "text": [
      "\n",
      "      Epoch    GPU_mem   box_loss   cls_loss   dfl_loss  Instances       Size\n"
     ]
    },
    {
     "name": "stderr",
     "output_type": "stream",
     "text": [
      "     63/300       2.2G      1.717      2.496      2.003         75        640: 100%|██████████| 28/28 [00:08<00:00,  3.33it/s]\n",
      "                 Class     Images  Instances      Box(P          R      mAP50  mAP50-95): 100%|██████████| 3/3 [00:02<00:00,  1.39it/s]"
     ]
    },
    {
     "name": "stdout",
     "output_type": "stream",
     "text": [
      "                   all         92        345       0.44     0.0847     0.0689     0.0348\n"
     ]
    },
    {
     "name": "stderr",
     "output_type": "stream",
     "text": [
      "\n"
     ]
    },
    {
     "name": "stdout",
     "output_type": "stream",
     "text": [
      "\n",
      "      Epoch    GPU_mem   box_loss   cls_loss   dfl_loss  Instances       Size\n"
     ]
    },
    {
     "name": "stderr",
     "output_type": "stream",
     "text": [
      "     64/300      2.32G      1.741      2.587      2.063         24        640: 100%|██████████| 28/28 [00:10<00:00,  2.62it/s]\n",
      "                 Class     Images  Instances      Box(P          R      mAP50  mAP50-95): 100%|██████████| 3/3 [00:01<00:00,  2.25it/s]"
     ]
    },
    {
     "name": "stdout",
     "output_type": "stream",
     "text": [
      "                   all         92        345      0.135      0.108     0.0834     0.0403\n"
     ]
    },
    {
     "name": "stderr",
     "output_type": "stream",
     "text": [
      "\n"
     ]
    },
    {
     "name": "stdout",
     "output_type": "stream",
     "text": [
      "\n",
      "      Epoch    GPU_mem   box_loss   cls_loss   dfl_loss  Instances       Size\n"
     ]
    },
    {
     "name": "stderr",
     "output_type": "stream",
     "text": [
      "     65/300      2.35G      1.752      2.562      2.054         38        640: 100%|██████████| 28/28 [00:11<00:00,  2.40it/s]\n",
      "                 Class     Images  Instances      Box(P          R      mAP50  mAP50-95): 100%|██████████| 3/3 [00:02<00:00,  1.26it/s]"
     ]
    },
    {
     "name": "stdout",
     "output_type": "stream",
     "text": [
      "                   all         92        345      0.156      0.117     0.0746     0.0338\n"
     ]
    },
    {
     "name": "stderr",
     "output_type": "stream",
     "text": [
      "\n"
     ]
    },
    {
     "name": "stdout",
     "output_type": "stream",
     "text": [
      "\n",
      "      Epoch    GPU_mem   box_loss   cls_loss   dfl_loss  Instances       Size\n"
     ]
    },
    {
     "name": "stderr",
     "output_type": "stream",
     "text": [
      "     66/300      2.23G      1.726      2.562      2.046         48        640: 100%|██████████| 28/28 [00:08<00:00,  3.42it/s]\n",
      "                 Class     Images  Instances      Box(P          R      mAP50  mAP50-95): 100%|██████████| 3/3 [00:01<00:00,  2.05it/s]"
     ]
    },
    {
     "name": "stdout",
     "output_type": "stream",
     "text": [
      "                   all         92        345     0.0913      0.135     0.0759     0.0391\n"
     ]
    },
    {
     "name": "stderr",
     "output_type": "stream",
     "text": [
      "\n"
     ]
    },
    {
     "name": "stdout",
     "output_type": "stream",
     "text": [
      "\n",
      "      Epoch    GPU_mem   box_loss   cls_loss   dfl_loss  Instances       Size\n"
     ]
    },
    {
     "name": "stderr",
     "output_type": "stream",
     "text": [
      "     67/300      2.32G      1.743       2.52      2.018         40        640: 100%|██████████| 28/28 [00:11<00:00,  2.47it/s]\n",
      "                 Class     Images  Instances      Box(P          R      mAP50  mAP50-95): 100%|██████████| 3/3 [00:01<00:00,  1.77it/s]"
     ]
    },
    {
     "name": "stdout",
     "output_type": "stream",
     "text": [
      "                   all         92        345      0.542     0.0791     0.0921     0.0521\n"
     ]
    },
    {
     "name": "stderr",
     "output_type": "stream",
     "text": [
      "\n"
     ]
    },
    {
     "name": "stdout",
     "output_type": "stream",
     "text": [
      "\n",
      "      Epoch    GPU_mem   box_loss   cls_loss   dfl_loss  Instances       Size\n"
     ]
    },
    {
     "name": "stderr",
     "output_type": "stream",
     "text": [
      "     68/300      2.33G      1.744      2.551      2.041         46        640: 100%|██████████| 28/28 [00:11<00:00,  2.47it/s]\n",
      "                 Class     Images  Instances      Box(P          R      mAP50  mAP50-95): 100%|██████████| 3/3 [00:02<00:00,  1.19it/s]"
     ]
    },
    {
     "name": "stdout",
     "output_type": "stream",
     "text": [
      "                   all         92        345      0.313     0.0987     0.0787     0.0385\n"
     ]
    },
    {
     "name": "stderr",
     "output_type": "stream",
     "text": [
      "\n"
     ]
    },
    {
     "name": "stdout",
     "output_type": "stream",
     "text": [
      "\n",
      "      Epoch    GPU_mem   box_loss   cls_loss   dfl_loss  Instances       Size\n"
     ]
    },
    {
     "name": "stderr",
     "output_type": "stream",
     "text": [
      "     69/300      2.44G      1.703      2.445      2.005         37        640: 100%|██████████| 28/28 [00:08<00:00,  3.35it/s]\n",
      "                 Class     Images  Instances      Box(P          R      mAP50  mAP50-95): 100%|██████████| 3/3 [00:01<00:00,  2.13it/s]"
     ]
    },
    {
     "name": "stdout",
     "output_type": "stream",
     "text": [
      "                   all         92        345      0.122      0.141     0.0835     0.0443\n"
     ]
    },
    {
     "name": "stderr",
     "output_type": "stream",
     "text": [
      "\n"
     ]
    },
    {
     "name": "stdout",
     "output_type": "stream",
     "text": [
      "\n",
      "      Epoch    GPU_mem   box_loss   cls_loss   dfl_loss  Instances       Size\n"
     ]
    },
    {
     "name": "stderr",
     "output_type": "stream",
     "text": [
      "     70/300      2.48G      1.738      2.505      2.027         60        640: 100%|██████████| 28/28 [00:11<00:00,  2.35it/s]\n",
      "                 Class     Images  Instances      Box(P          R      mAP50  mAP50-95): 100%|██████████| 3/3 [00:01<00:00,  2.33it/s]"
     ]
    },
    {
     "name": "stdout",
     "output_type": "stream",
     "text": [
      "                   all         92        345     0.0922      0.129     0.0654     0.0333\n"
     ]
    },
    {
     "name": "stderr",
     "output_type": "stream",
     "text": [
      "\n"
     ]
    },
    {
     "name": "stdout",
     "output_type": "stream",
     "text": [
      "\n",
      "      Epoch    GPU_mem   box_loss   cls_loss   dfl_loss  Instances       Size\n"
     ]
    },
    {
     "name": "stderr",
     "output_type": "stream",
     "text": [
      "     71/300      2.32G      1.693       2.52      2.049         33        640: 100%|██████████| 28/28 [00:10<00:00,  2.62it/s]\n",
      "                 Class     Images  Instances      Box(P          R      mAP50  mAP50-95): 100%|██████████| 3/3 [00:02<00:00,  1.04it/s]"
     ]
    },
    {
     "name": "stdout",
     "output_type": "stream",
     "text": [
      "                   all         92        345       0.13      0.153     0.0967      0.047\n"
     ]
    },
    {
     "name": "stderr",
     "output_type": "stream",
     "text": [
      "\n"
     ]
    },
    {
     "name": "stdout",
     "output_type": "stream",
     "text": [
      "\n",
      "      Epoch    GPU_mem   box_loss   cls_loss   dfl_loss  Instances       Size\n"
     ]
    },
    {
     "name": "stderr",
     "output_type": "stream",
     "text": [
      "     72/300      2.25G      1.751      2.498      2.005         34        640: 100%|██████████| 28/28 [00:08<00:00,  3.44it/s]\n",
      "                 Class     Images  Instances      Box(P          R      mAP50  mAP50-95): 100%|██████████| 3/3 [00:01<00:00,  2.05it/s]"
     ]
    },
    {
     "name": "stdout",
     "output_type": "stream",
     "text": [
      "                   all         92        345     0.0811      0.127     0.0734     0.0375\n"
     ]
    },
    {
     "name": "stderr",
     "output_type": "stream",
     "text": [
      "\n"
     ]
    },
    {
     "name": "stdout",
     "output_type": "stream",
     "text": [
      "\n",
      "      Epoch    GPU_mem   box_loss   cls_loss   dfl_loss  Instances       Size\n"
     ]
    },
    {
     "name": "stderr",
     "output_type": "stream",
     "text": [
      "     73/300      2.33G      1.622        2.5      1.985         50        640: 100%|██████████| 28/28 [00:12<00:00,  2.25it/s]\n",
      "                 Class     Images  Instances      Box(P          R      mAP50  mAP50-95): 100%|██████████| 3/3 [00:01<00:00,  2.20it/s]"
     ]
    },
    {
     "name": "stdout",
     "output_type": "stream",
     "text": [
      "                   all         92        345      0.336      0.107     0.0999      0.055\n"
     ]
    },
    {
     "name": "stderr",
     "output_type": "stream",
     "text": [
      "\n"
     ]
    },
    {
     "name": "stdout",
     "output_type": "stream",
     "text": [
      "\n",
      "      Epoch    GPU_mem   box_loss   cls_loss   dfl_loss  Instances       Size\n"
     ]
    },
    {
     "name": "stderr",
     "output_type": "stream",
     "text": [
      "     74/300      2.29G      1.693      2.435      1.993         36        640: 100%|██████████| 28/28 [00:10<00:00,  2.63it/s]\n",
      "                 Class     Images  Instances      Box(P          R      mAP50  mAP50-95): 100%|██████████| 3/3 [00:02<00:00,  1.19it/s]"
     ]
    },
    {
     "name": "stdout",
     "output_type": "stream",
     "text": [
      "                   all         92        345      0.147      0.143     0.0928     0.0449\n"
     ]
    },
    {
     "name": "stderr",
     "output_type": "stream",
     "text": [
      "\n"
     ]
    },
    {
     "name": "stdout",
     "output_type": "stream",
     "text": [
      "\n",
      "      Epoch    GPU_mem   box_loss   cls_loss   dfl_loss  Instances       Size\n"
     ]
    },
    {
     "name": "stderr",
     "output_type": "stream",
     "text": [
      "     75/300      2.51G      1.746       2.45       1.99         53        640: 100%|██████████| 28/28 [00:11<00:00,  2.53it/s]\n",
      "                 Class     Images  Instances      Box(P          R      mAP50  mAP50-95): 100%|██████████| 3/3 [00:01<00:00,  2.24it/s]"
     ]
    },
    {
     "name": "stdout",
     "output_type": "stream",
     "text": [
      "                   all         92        345      0.108      0.145     0.0742     0.0388\n"
     ]
    },
    {
     "name": "stderr",
     "output_type": "stream",
     "text": [
      "\n"
     ]
    },
    {
     "name": "stdout",
     "output_type": "stream",
     "text": [
      "\n",
      "      Epoch    GPU_mem   box_loss   cls_loss   dfl_loss  Instances       Size\n"
     ]
    },
    {
     "name": "stderr",
     "output_type": "stream",
     "text": [
      "     76/300       2.2G      1.709      2.509      2.049         22        640: 100%|██████████| 28/28 [00:12<00:00,  2.29it/s]\n",
      "                 Class     Images  Instances      Box(P          R      mAP50  mAP50-95): 100%|██████████| 3/3 [00:01<00:00,  1.95it/s]"
     ]
    },
    {
     "name": "stdout",
     "output_type": "stream",
     "text": [
      "                   all         92        345      0.329      0.105     0.0909     0.0444\n"
     ]
    },
    {
     "name": "stderr",
     "output_type": "stream",
     "text": [
      "\n"
     ]
    },
    {
     "name": "stdout",
     "output_type": "stream",
     "text": [
      "\n",
      "      Epoch    GPU_mem   box_loss   cls_loss   dfl_loss  Instances       Size\n"
     ]
    },
    {
     "name": "stderr",
     "output_type": "stream",
     "text": [
      "     77/300      2.12G      1.646      2.432       1.98         32        640: 100%|██████████| 28/28 [00:08<00:00,  3.36it/s]\n",
      "                 Class     Images  Instances      Box(P          R      mAP50  mAP50-95): 100%|██████████| 3/3 [00:01<00:00,  1.63it/s]"
     ]
    },
    {
     "name": "stdout",
     "output_type": "stream",
     "text": [
      "                   all         92        345      0.112      0.137     0.0814     0.0408\n"
     ]
    },
    {
     "name": "stderr",
     "output_type": "stream",
     "text": [
      "\n"
     ]
    },
    {
     "name": "stdout",
     "output_type": "stream",
     "text": [
      "\n",
      "      Epoch    GPU_mem   box_loss   cls_loss   dfl_loss  Instances       Size\n"
     ]
    },
    {
     "name": "stderr",
     "output_type": "stream",
     "text": [
      "     78/300      2.32G      1.695      2.449      2.013         49        640: 100%|██████████| 28/28 [00:11<00:00,  2.48it/s]\n",
      "                 Class     Images  Instances      Box(P          R      mAP50  mAP50-95): 100%|██████████| 3/3 [00:01<00:00,  2.44it/s]"
     ]
    },
    {
     "name": "stdout",
     "output_type": "stream",
     "text": [
      "                   all         92        345      0.143      0.135     0.0938      0.051\n"
     ]
    },
    {
     "name": "stderr",
     "output_type": "stream",
     "text": [
      "\n"
     ]
    },
    {
     "name": "stdout",
     "output_type": "stream",
     "text": [
      "\n",
      "      Epoch    GPU_mem   box_loss   cls_loss   dfl_loss  Instances       Size\n"
     ]
    },
    {
     "name": "stderr",
     "output_type": "stream",
     "text": [
      "     79/300      2.21G      1.669      2.468      2.003         45        640: 100%|██████████| 28/28 [00:11<00:00,  2.41it/s]\n",
      "                 Class     Images  Instances      Box(P          R      mAP50  mAP50-95): 100%|██████████| 3/3 [00:02<00:00,  1.36it/s]"
     ]
    },
    {
     "name": "stdout",
     "output_type": "stream",
     "text": [
      "                   all         92        345      0.106      0.149      0.082      0.046\n"
     ]
    },
    {
     "name": "stderr",
     "output_type": "stream",
     "text": [
      "\n"
     ]
    },
    {
     "name": "stdout",
     "output_type": "stream",
     "text": [
      "\n",
      "      Epoch    GPU_mem   box_loss   cls_loss   dfl_loss  Instances       Size\n"
     ]
    },
    {
     "name": "stderr",
     "output_type": "stream",
     "text": [
      "     80/300      2.36G      1.698      2.494      1.988         36        640: 100%|██████████| 28/28 [00:08<00:00,  3.48it/s]\n",
      "                 Class     Images  Instances      Box(P          R      mAP50  mAP50-95): 100%|██████████| 3/3 [00:01<00:00,  1.98it/s]"
     ]
    },
    {
     "name": "stdout",
     "output_type": "stream",
     "text": [
      "                   all         92        345      0.106      0.168     0.0916     0.0453\n"
     ]
    },
    {
     "name": "stderr",
     "output_type": "stream",
     "text": [
      "\n"
     ]
    },
    {
     "name": "stdout",
     "output_type": "stream",
     "text": [
      "\n",
      "      Epoch    GPU_mem   box_loss   cls_loss   dfl_loss  Instances       Size\n"
     ]
    },
    {
     "name": "stderr",
     "output_type": "stream",
     "text": [
      "     81/300      2.23G      1.735      2.441      2.009         39        640: 100%|██████████| 28/28 [00:11<00:00,  2.40it/s]\n",
      "                 Class     Images  Instances      Box(P          R      mAP50  mAP50-95): 100%|██████████| 3/3 [00:01<00:00,  1.99it/s]"
     ]
    },
    {
     "name": "stdout",
     "output_type": "stream",
     "text": [
      "                   all         92        345      0.132      0.188        0.1     0.0459\n"
     ]
    },
    {
     "name": "stderr",
     "output_type": "stream",
     "text": [
      "\n"
     ]
    },
    {
     "name": "stdout",
     "output_type": "stream",
     "text": [
      "\n",
      "      Epoch    GPU_mem   box_loss   cls_loss   dfl_loss  Instances       Size\n"
     ]
    },
    {
     "name": "stderr",
     "output_type": "stream",
     "text": [
      "     82/300      2.34G      1.631      2.418      1.996         32        640: 100%|██████████| 28/28 [00:10<00:00,  2.78it/s]\n",
      "                 Class     Images  Instances      Box(P          R      mAP50  mAP50-95): 100%|██████████| 3/3 [00:02<00:00,  1.38it/s]"
     ]
    },
    {
     "name": "stdout",
     "output_type": "stream",
     "text": [
      "                   all         92        345      0.128      0.188     0.0917     0.0466\n"
     ]
    },
    {
     "name": "stderr",
     "output_type": "stream",
     "text": [
      "\n"
     ]
    },
    {
     "name": "stdout",
     "output_type": "stream",
     "text": [
      "\n",
      "      Epoch    GPU_mem   box_loss   cls_loss   dfl_loss  Instances       Size\n"
     ]
    },
    {
     "name": "stderr",
     "output_type": "stream",
     "text": [
      "     83/300      2.41G      1.693      2.421      1.978         49        640: 100%|██████████| 28/28 [00:07<00:00,  3.51it/s]\n",
      "                 Class     Images  Instances      Box(P          R      mAP50  mAP50-95): 100%|██████████| 3/3 [00:01<00:00,  1.88it/s]"
     ]
    },
    {
     "name": "stdout",
     "output_type": "stream",
     "text": [
      "                   all         92        345      0.207       0.11     0.0836     0.0426\n"
     ]
    },
    {
     "name": "stderr",
     "output_type": "stream",
     "text": [
      "\n"
     ]
    },
    {
     "name": "stdout",
     "output_type": "stream",
     "text": [
      "\n",
      "      Epoch    GPU_mem   box_loss   cls_loss   dfl_loss  Instances       Size\n"
     ]
    },
    {
     "name": "stderr",
     "output_type": "stream",
     "text": [
      "     84/300       2.2G      1.742      2.409      2.012         54        640: 100%|██████████| 28/28 [00:11<00:00,  2.38it/s]\n",
      "                 Class     Images  Instances      Box(P          R      mAP50  mAP50-95): 100%|██████████| 3/3 [00:01<00:00,  2.32it/s]"
     ]
    },
    {
     "name": "stdout",
     "output_type": "stream",
     "text": [
      "                   all         92        345      0.154       0.13     0.0838     0.0418\n"
     ]
    },
    {
     "name": "stderr",
     "output_type": "stream",
     "text": [
      "\n"
     ]
    },
    {
     "name": "stdout",
     "output_type": "stream",
     "text": [
      "\n",
      "      Epoch    GPU_mem   box_loss   cls_loss   dfl_loss  Instances       Size\n"
     ]
    },
    {
     "name": "stderr",
     "output_type": "stream",
     "text": [
      "     85/300      2.35G      1.677      2.328      1.957         68        640: 100%|██████████| 28/28 [00:10<00:00,  2.77it/s]\n",
      "                 Class     Images  Instances      Box(P          R      mAP50  mAP50-95): 100%|██████████| 3/3 [00:02<00:00,  1.35it/s]"
     ]
    },
    {
     "name": "stdout",
     "output_type": "stream",
     "text": [
      "                   all         92        345      0.163      0.123     0.0982      0.056\n"
     ]
    },
    {
     "name": "stderr",
     "output_type": "stream",
     "text": [
      "\n"
     ]
    },
    {
     "name": "stdout",
     "output_type": "stream",
     "text": [
      "\n",
      "      Epoch    GPU_mem   box_loss   cls_loss   dfl_loss  Instances       Size\n"
     ]
    },
    {
     "name": "stderr",
     "output_type": "stream",
     "text": [
      "     86/300       2.2G      1.655      2.392      1.999         31        640: 100%|██████████| 28/28 [00:08<00:00,  3.30it/s]\n",
      "                 Class     Images  Instances      Box(P          R      mAP50  mAP50-95): 100%|██████████| 3/3 [00:00<00:00,  3.01it/s]"
     ]
    },
    {
     "name": "stdout",
     "output_type": "stream",
     "text": [
      "                   all         92        345      0.135      0.151     0.0859     0.0393\n"
     ]
    },
    {
     "name": "stderr",
     "output_type": "stream",
     "text": [
      "\n"
     ]
    },
    {
     "name": "stdout",
     "output_type": "stream",
     "text": [
      "\n",
      "      Epoch    GPU_mem   box_loss   cls_loss   dfl_loss  Instances       Size\n"
     ]
    },
    {
     "name": "stderr",
     "output_type": "stream",
     "text": [
      "     87/300      2.33G      1.714       2.41      1.988         32        640: 100%|██████████| 28/28 [00:12<00:00,  2.30it/s]\n",
      "                 Class     Images  Instances      Box(P          R      mAP50  mAP50-95): 100%|██████████| 3/3 [00:01<00:00,  2.09it/s]"
     ]
    },
    {
     "name": "stdout",
     "output_type": "stream",
     "text": [
      "                   all         92        345      0.145      0.129     0.0926     0.0508\n"
     ]
    },
    {
     "name": "stderr",
     "output_type": "stream",
     "text": [
      "\n"
     ]
    },
    {
     "name": "stdout",
     "output_type": "stream",
     "text": [
      "\n",
      "      Epoch    GPU_mem   box_loss   cls_loss   dfl_loss  Instances       Size\n"
     ]
    },
    {
     "name": "stderr",
     "output_type": "stream",
     "text": [
      "     88/300       2.2G      1.672      2.363      1.953         32        640: 100%|██████████| 28/28 [00:09<00:00,  2.90it/s]\n",
      "                 Class     Images  Instances      Box(P          R      mAP50  mAP50-95): 100%|██████████| 3/3 [00:02<00:00,  1.28it/s]"
     ]
    },
    {
     "name": "stdout",
     "output_type": "stream",
     "text": [
      "                   all         92        345      0.106      0.129     0.0828     0.0438\n"
     ]
    },
    {
     "name": "stderr",
     "output_type": "stream",
     "text": [
      "\n"
     ]
    },
    {
     "name": "stdout",
     "output_type": "stream",
     "text": [
      "\n",
      "      Epoch    GPU_mem   box_loss   cls_loss   dfl_loss  Instances       Size\n"
     ]
    },
    {
     "name": "stderr",
     "output_type": "stream",
     "text": [
      "     89/300      2.39G      1.696       2.32      1.973         44        640: 100%|██████████| 28/28 [00:10<00:00,  2.79it/s]\n",
      "                 Class     Images  Instances      Box(P          R      mAP50  mAP50-95): 100%|██████████| 3/3 [00:01<00:00,  2.15it/s]"
     ]
    },
    {
     "name": "stdout",
     "output_type": "stream",
     "text": [
      "                   all         92        345      0.187     0.0994     0.0972     0.0487\n"
     ]
    },
    {
     "name": "stderr",
     "output_type": "stream",
     "text": [
      "\n"
     ]
    },
    {
     "name": "stdout",
     "output_type": "stream",
     "text": [
      "\n",
      "      Epoch    GPU_mem   box_loss   cls_loss   dfl_loss  Instances       Size\n"
     ]
    },
    {
     "name": "stderr",
     "output_type": "stream",
     "text": [
      "     90/300       2.2G        1.7      2.431      2.016         42        640: 100%|██████████| 28/28 [00:12<00:00,  2.23it/s]\n",
      "                 Class     Images  Instances      Box(P          R      mAP50  mAP50-95): 100%|██████████| 3/3 [00:01<00:00,  1.99it/s]"
     ]
    },
    {
     "name": "stdout",
     "output_type": "stream",
     "text": [
      "                   all         92        345      0.104      0.202      0.079     0.0386\n"
     ]
    },
    {
     "name": "stderr",
     "output_type": "stream",
     "text": [
      "\n"
     ]
    },
    {
     "name": "stdout",
     "output_type": "stream",
     "text": [
      "\n",
      "      Epoch    GPU_mem   box_loss   cls_loss   dfl_loss  Instances       Size\n"
     ]
    },
    {
     "name": "stderr",
     "output_type": "stream",
     "text": [
      "     91/300      2.34G       1.72      2.377      1.989         42        640: 100%|██████████| 28/28 [00:09<00:00,  2.87it/s]\n",
      "                 Class     Images  Instances      Box(P          R      mAP50  mAP50-95): 100%|██████████| 3/3 [00:02<00:00,  1.32it/s]"
     ]
    },
    {
     "name": "stdout",
     "output_type": "stream",
     "text": [
      "                   all         92        345      0.119       0.21      0.108     0.0563\n"
     ]
    },
    {
     "name": "stderr",
     "output_type": "stream",
     "text": [
      "\n"
     ]
    },
    {
     "name": "stdout",
     "output_type": "stream",
     "text": [
      "\n",
      "      Epoch    GPU_mem   box_loss   cls_loss   dfl_loss  Instances       Size\n"
     ]
    },
    {
     "name": "stderr",
     "output_type": "stream",
     "text": [
      "     92/300      2.25G      1.661      2.363      1.979         15        640: 100%|██████████| 28/28 [00:09<00:00,  2.94it/s]\n",
      "                 Class     Images  Instances      Box(P          R      mAP50  mAP50-95): 100%|██████████| 3/3 [00:01<00:00,  2.11it/s]"
     ]
    },
    {
     "name": "stdout",
     "output_type": "stream",
     "text": [
      "                   all         92        345      0.114      0.103     0.0828     0.0433\n"
     ]
    },
    {
     "name": "stderr",
     "output_type": "stream",
     "text": [
      "\n"
     ]
    },
    {
     "name": "stdout",
     "output_type": "stream",
     "text": [
      "\n",
      "      Epoch    GPU_mem   box_loss   cls_loss   dfl_loss  Instances       Size\n"
     ]
    },
    {
     "name": "stderr",
     "output_type": "stream",
     "text": [
      "     93/300      2.21G      1.654      2.341      1.979         46        640: 100%|██████████| 28/28 [00:12<00:00,  2.25it/s]\n",
      "                 Class     Images  Instances      Box(P          R      mAP50  mAP50-95): 100%|██████████| 3/3 [00:01<00:00,  2.10it/s]"
     ]
    },
    {
     "name": "stdout",
     "output_type": "stream",
     "text": [
      "                   all         92        345       0.11      0.161     0.0766     0.0373\n"
     ]
    },
    {
     "name": "stderr",
     "output_type": "stream",
     "text": [
      "\n"
     ]
    },
    {
     "name": "stdout",
     "output_type": "stream",
     "text": [
      "\n",
      "      Epoch    GPU_mem   box_loss   cls_loss   dfl_loss  Instances       Size\n"
     ]
    },
    {
     "name": "stderr",
     "output_type": "stream",
     "text": [
      "     94/300       2.3G      1.671      2.358       1.96         34        640: 100%|██████████| 28/28 [00:09<00:00,  3.08it/s]\n",
      "                 Class     Images  Instances      Box(P          R      mAP50  mAP50-95): 100%|██████████| 3/3 [00:02<00:00,  1.40it/s]"
     ]
    },
    {
     "name": "stdout",
     "output_type": "stream",
     "text": [
      "                   all         92        345      0.221       0.11     0.0859     0.0438\n"
     ]
    },
    {
     "name": "stderr",
     "output_type": "stream",
     "text": [
      "\n"
     ]
    },
    {
     "name": "stdout",
     "output_type": "stream",
     "text": [
      "\n",
      "      Epoch    GPU_mem   box_loss   cls_loss   dfl_loss  Instances       Size\n"
     ]
    },
    {
     "name": "stderr",
     "output_type": "stream",
     "text": [
      "     95/300      2.37G      1.687      2.333      1.963         59        640: 100%|██████████| 28/28 [00:09<00:00,  2.82it/s]\n",
      "                 Class     Images  Instances      Box(P          R      mAP50  mAP50-95): 100%|██████████| 3/3 [00:01<00:00,  2.10it/s]"
     ]
    },
    {
     "name": "stdout",
     "output_type": "stream",
     "text": [
      "                   all         92        345      0.122      0.156      0.083     0.0416\n"
     ]
    },
    {
     "name": "stderr",
     "output_type": "stream",
     "text": [
      "\n"
     ]
    },
    {
     "name": "stdout",
     "output_type": "stream",
     "text": [
      "\n",
      "      Epoch    GPU_mem   box_loss   cls_loss   dfl_loss  Instances       Size\n"
     ]
    },
    {
     "name": "stderr",
     "output_type": "stream",
     "text": [
      "     96/300      2.31G      1.674      2.366      1.982         20        640: 100%|██████████| 28/28 [00:12<00:00,  2.25it/s]\n",
      "                 Class     Images  Instances      Box(P          R      mAP50  mAP50-95): 100%|██████████| 3/3 [00:01<00:00,  1.80it/s]"
     ]
    },
    {
     "name": "stdout",
     "output_type": "stream",
     "text": [
      "                   all         92        345      0.173       0.12     0.0938     0.0515\n"
     ]
    },
    {
     "name": "stderr",
     "output_type": "stream",
     "text": [
      "\n"
     ]
    },
    {
     "name": "stdout",
     "output_type": "stream",
     "text": [
      "\n",
      "      Epoch    GPU_mem   box_loss   cls_loss   dfl_loss  Instances       Size\n"
     ]
    },
    {
     "name": "stderr",
     "output_type": "stream",
     "text": [
      "     97/300       2.2G      1.643      2.357      1.937         39        640: 100%|██████████| 28/28 [00:08<00:00,  3.45it/s]\n",
      "                 Class     Images  Instances      Box(P          R      mAP50  mAP50-95): 100%|██████████| 3/3 [00:01<00:00,  1.51it/s]"
     ]
    },
    {
     "name": "stdout",
     "output_type": "stream",
     "text": [
      "                   all         92        345      0.129      0.174     0.0952     0.0477\n"
     ]
    },
    {
     "name": "stderr",
     "output_type": "stream",
     "text": [
      "\n"
     ]
    },
    {
     "name": "stdout",
     "output_type": "stream",
     "text": [
      "\n",
      "      Epoch    GPU_mem   box_loss   cls_loss   dfl_loss  Instances       Size\n"
     ]
    },
    {
     "name": "stderr",
     "output_type": "stream",
     "text": [
      "     98/300      2.48G      1.661      2.369      1.953         21        640: 100%|██████████| 28/28 [00:11<00:00,  2.45it/s]\n",
      "                 Class     Images  Instances      Box(P          R      mAP50  mAP50-95): 100%|██████████| 3/3 [00:01<00:00,  2.39it/s]"
     ]
    },
    {
     "name": "stdout",
     "output_type": "stream",
     "text": [
      "                   all         92        345      0.124      0.178      0.088      0.044\n"
     ]
    },
    {
     "name": "stderr",
     "output_type": "stream",
     "text": [
      "\n"
     ]
    },
    {
     "name": "stdout",
     "output_type": "stream",
     "text": [
      "\n",
      "      Epoch    GPU_mem   box_loss   cls_loss   dfl_loss  Instances       Size\n"
     ]
    },
    {
     "name": "stderr",
     "output_type": "stream",
     "text": [
      "     99/300      2.29G      1.689      2.365      1.999         44        640: 100%|██████████| 28/28 [00:11<00:00,  2.49it/s]\n",
      "                 Class     Images  Instances      Box(P          R      mAP50  mAP50-95): 100%|██████████| 3/3 [00:02<00:00,  1.34it/s]"
     ]
    },
    {
     "name": "stdout",
     "output_type": "stream",
     "text": [
      "                   all         92        345      0.105      0.163     0.0778     0.0402\n"
     ]
    },
    {
     "name": "stderr",
     "output_type": "stream",
     "text": [
      "\n"
     ]
    },
    {
     "name": "stdout",
     "output_type": "stream",
     "text": [
      "\n",
      "      Epoch    GPU_mem   box_loss   cls_loss   dfl_loss  Instances       Size\n"
     ]
    },
    {
     "name": "stderr",
     "output_type": "stream",
     "text": [
      "    100/300      2.26G      1.667      2.396      1.986         64        640: 100%|██████████| 28/28 [00:08<00:00,  3.42it/s]\n",
      "                 Class     Images  Instances      Box(P          R      mAP50  mAP50-95): 100%|██████████| 3/3 [00:01<00:00,  2.33it/s]"
     ]
    },
    {
     "name": "stdout",
     "output_type": "stream",
     "text": [
      "                   all         92        345      0.125      0.104     0.0801     0.0419\n"
     ]
    },
    {
     "name": "stderr",
     "output_type": "stream",
     "text": [
      "\n"
     ]
    },
    {
     "name": "stdout",
     "output_type": "stream",
     "text": [
      "\n",
      "      Epoch    GPU_mem   box_loss   cls_loss   dfl_loss  Instances       Size\n"
     ]
    },
    {
     "name": "stderr",
     "output_type": "stream",
     "text": [
      "    101/300      2.23G      1.627      2.351      1.976         56        640: 100%|██████████| 28/28 [00:12<00:00,  2.23it/s]\n",
      "                 Class     Images  Instances      Box(P          R      mAP50  mAP50-95): 100%|██████████| 3/3 [00:01<00:00,  2.08it/s]"
     ]
    },
    {
     "name": "stdout",
     "output_type": "stream",
     "text": [
      "                   all         92        345      0.114      0.108     0.0726     0.0356\n"
     ]
    },
    {
     "name": "stderr",
     "output_type": "stream",
     "text": [
      "\n"
     ]
    },
    {
     "name": "stdout",
     "output_type": "stream",
     "text": [
      "\n",
      "      Epoch    GPU_mem   box_loss   cls_loss   dfl_loss  Instances       Size\n"
     ]
    },
    {
     "name": "stderr",
     "output_type": "stream",
     "text": [
      "    102/300      2.38G      1.596      2.261      1.936         20        640: 100%|██████████| 28/28 [00:11<00:00,  2.50it/s]\n",
      "                 Class     Images  Instances      Box(P          R      mAP50  mAP50-95): 100%|██████████| 3/3 [00:02<00:00,  1.12it/s]"
     ]
    },
    {
     "name": "stdout",
     "output_type": "stream",
     "text": [
      "                   all         92        345      0.237      0.127     0.0951     0.0498\n"
     ]
    },
    {
     "name": "stderr",
     "output_type": "stream",
     "text": [
      "\n"
     ]
    },
    {
     "name": "stdout",
     "output_type": "stream",
     "text": [
      "\n",
      "      Epoch    GPU_mem   box_loss   cls_loss   dfl_loss  Instances       Size\n"
     ]
    },
    {
     "name": "stderr",
     "output_type": "stream",
     "text": [
      "    103/300      2.35G      1.641      2.267      1.926         24        640: 100%|██████████| 28/28 [00:08<00:00,  3.29it/s]\n",
      "                 Class     Images  Instances      Box(P          R      mAP50  mAP50-95): 100%|██████████| 3/3 [00:01<00:00,  1.79it/s]"
     ]
    },
    {
     "name": "stdout",
     "output_type": "stream",
     "text": [
      "                   all         92        345      0.183     0.0988     0.0755     0.0413\n"
     ]
    },
    {
     "name": "stderr",
     "output_type": "stream",
     "text": [
      "\n"
     ]
    },
    {
     "name": "stdout",
     "output_type": "stream",
     "text": [
      "\n",
      "      Epoch    GPU_mem   box_loss   cls_loss   dfl_loss  Instances       Size\n"
     ]
    },
    {
     "name": "stderr",
     "output_type": "stream",
     "text": [
      "    104/300      2.45G      1.652      2.247      1.927         33        640: 100%|██████████| 28/28 [00:12<00:00,  2.31it/s]\n",
      "                 Class     Images  Instances      Box(P          R      mAP50  mAP50-95): 100%|██████████| 3/3 [00:01<00:00,  2.08it/s]"
     ]
    },
    {
     "name": "stdout",
     "output_type": "stream",
     "text": [
      "                   all         92        345      0.155       0.14     0.0819     0.0449\n"
     ]
    },
    {
     "name": "stderr",
     "output_type": "stream",
     "text": [
      "\n"
     ]
    },
    {
     "name": "stdout",
     "output_type": "stream",
     "text": [
      "\n",
      "      Epoch    GPU_mem   box_loss   cls_loss   dfl_loss  Instances       Size\n"
     ]
    },
    {
     "name": "stderr",
     "output_type": "stream",
     "text": [
      "    105/300      2.32G      1.643      2.283      1.939         52        640: 100%|██████████| 28/28 [00:11<00:00,  2.39it/s]\n",
      "                 Class     Images  Instances      Box(P          R      mAP50  mAP50-95): 100%|██████████| 3/3 [00:01<00:00,  1.57it/s]"
     ]
    },
    {
     "name": "stdout",
     "output_type": "stream",
     "text": [
      "                   all         92        345       0.17      0.142      0.101     0.0539\n"
     ]
    },
    {
     "name": "stderr",
     "output_type": "stream",
     "text": [
      "\n"
     ]
    },
    {
     "name": "stdout",
     "output_type": "stream",
     "text": [
      "\n",
      "      Epoch    GPU_mem   box_loss   cls_loss   dfl_loss  Instances       Size\n"
     ]
    },
    {
     "name": "stderr",
     "output_type": "stream",
     "text": [
      "    106/300      2.34G      1.603      2.221      1.917         23        640: 100%|██████████| 28/28 [00:08<00:00,  3.28it/s]\n",
      "                 Class     Images  Instances      Box(P          R      mAP50  mAP50-95): 100%|██████████| 3/3 [00:01<00:00,  1.53it/s]"
     ]
    },
    {
     "name": "stdout",
     "output_type": "stream",
     "text": [
      "                   all         92        345      0.096      0.137     0.0771     0.0369\n"
     ]
    },
    {
     "name": "stderr",
     "output_type": "stream",
     "text": [
      "\n"
     ]
    },
    {
     "name": "stdout",
     "output_type": "stream",
     "text": [
      "\n",
      "      Epoch    GPU_mem   box_loss   cls_loss   dfl_loss  Instances       Size\n"
     ]
    },
    {
     "name": "stderr",
     "output_type": "stream",
     "text": [
      "    107/300       2.6G      1.632      2.275      1.913         30        640: 100%|██████████| 28/28 [00:11<00:00,  2.39it/s]\n",
      "                 Class     Images  Instances      Box(P          R      mAP50  mAP50-95): 100%|██████████| 3/3 [00:01<00:00,  1.98it/s]"
     ]
    },
    {
     "name": "stdout",
     "output_type": "stream",
     "text": [
      "                   all         92        345      0.134      0.149      0.112     0.0552\n"
     ]
    },
    {
     "name": "stderr",
     "output_type": "stream",
     "text": [
      "\n"
     ]
    },
    {
     "name": "stdout",
     "output_type": "stream",
     "text": [
      "\n",
      "      Epoch    GPU_mem   box_loss   cls_loss   dfl_loss  Instances       Size\n"
     ]
    },
    {
     "name": "stderr",
     "output_type": "stream",
     "text": [
      "    108/300      2.21G       1.62      2.279      1.934         38        640: 100%|██████████| 28/28 [00:15<00:00,  1.86it/s]\n",
      "                 Class     Images  Instances      Box(P          R      mAP50  mAP50-95): 100%|██████████| 3/3 [00:02<00:00,  1.30it/s]"
     ]
    },
    {
     "name": "stdout",
     "output_type": "stream",
     "text": [
      "                   all         92        345      0.151      0.149     0.0933     0.0477\n"
     ]
    },
    {
     "name": "stderr",
     "output_type": "stream",
     "text": [
      "\n"
     ]
    },
    {
     "name": "stdout",
     "output_type": "stream",
     "text": [
      "\n",
      "      Epoch    GPU_mem   box_loss   cls_loss   dfl_loss  Instances       Size\n"
     ]
    },
    {
     "name": "stderr",
     "output_type": "stream",
     "text": [
      "    109/300       2.3G      1.607      2.237      1.921         59        640: 100%|██████████| 28/28 [00:08<00:00,  3.39it/s]\n",
      "                 Class     Images  Instances      Box(P          R      mAP50  mAP50-95): 100%|██████████| 3/3 [00:01<00:00,  1.66it/s]"
     ]
    },
    {
     "name": "stdout",
     "output_type": "stream",
     "text": [
      "                   all         92        345      0.245     0.0903      0.117      0.061\n"
     ]
    },
    {
     "name": "stderr",
     "output_type": "stream",
     "text": [
      "\n"
     ]
    },
    {
     "name": "stdout",
     "output_type": "stream",
     "text": [
      "\n",
      "      Epoch    GPU_mem   box_loss   cls_loss   dfl_loss  Instances       Size\n"
     ]
    },
    {
     "name": "stderr",
     "output_type": "stream",
     "text": [
      "    110/300      2.45G      1.674      2.278      1.927         17        640: 100%|██████████| 28/28 [00:11<00:00,  2.46it/s]\n",
      "                 Class     Images  Instances      Box(P          R      mAP50  mAP50-95): 100%|██████████| 3/3 [00:01<00:00,  2.49it/s]"
     ]
    },
    {
     "name": "stdout",
     "output_type": "stream",
     "text": [
      "                   all         92        345       0.14      0.164     0.0979     0.0519\n"
     ]
    },
    {
     "name": "stderr",
     "output_type": "stream",
     "text": [
      "\n"
     ]
    },
    {
     "name": "stdout",
     "output_type": "stream",
     "text": [
      "\n",
      "      Epoch    GPU_mem   box_loss   cls_loss   dfl_loss  Instances       Size\n"
     ]
    },
    {
     "name": "stderr",
     "output_type": "stream",
     "text": [
      "    111/300      2.25G      1.584      2.235      1.907         19        640: 100%|██████████| 28/28 [00:11<00:00,  2.33it/s]\n",
      "                 Class     Images  Instances      Box(P          R      mAP50  mAP50-95): 100%|██████████| 3/3 [00:02<00:00,  1.27it/s]"
     ]
    },
    {
     "name": "stdout",
     "output_type": "stream",
     "text": [
      "                   all         92        345      0.167      0.144      0.109     0.0595\n"
     ]
    },
    {
     "name": "stderr",
     "output_type": "stream",
     "text": [
      "\n"
     ]
    },
    {
     "name": "stdout",
     "output_type": "stream",
     "text": [
      "\n",
      "      Epoch    GPU_mem   box_loss   cls_loss   dfl_loss  Instances       Size\n"
     ]
    },
    {
     "name": "stderr",
     "output_type": "stream",
     "text": [
      "    112/300      2.24G      1.633      2.242      1.937         32        640: 100%|██████████| 28/28 [00:08<00:00,  3.43it/s]\n",
      "                 Class     Images  Instances      Box(P          R      mAP50  mAP50-95): 100%|██████████| 3/3 [00:01<00:00,  1.52it/s]"
     ]
    },
    {
     "name": "stdout",
     "output_type": "stream",
     "text": [
      "                   all         92        345      0.152       0.11      0.099     0.0514\n"
     ]
    },
    {
     "name": "stderr",
     "output_type": "stream",
     "text": [
      "\n"
     ]
    },
    {
     "name": "stdout",
     "output_type": "stream",
     "text": [
      "\n",
      "      Epoch    GPU_mem   box_loss   cls_loss   dfl_loss  Instances       Size\n"
     ]
    },
    {
     "name": "stderr",
     "output_type": "stream",
     "text": [
      "    113/300      2.49G      1.616      2.239      1.913         25        640: 100%|██████████| 28/28 [00:11<00:00,  2.44it/s]\n",
      "                 Class     Images  Instances      Box(P          R      mAP50  mAP50-95): 100%|██████████| 3/3 [00:01<00:00,  2.23it/s]"
     ]
    },
    {
     "name": "stdout",
     "output_type": "stream",
     "text": [
      "                   all         92        345      0.138      0.148     0.0846     0.0422\n"
     ]
    },
    {
     "name": "stderr",
     "output_type": "stream",
     "text": [
      "\n"
     ]
    },
    {
     "name": "stdout",
     "output_type": "stream",
     "text": [
      "\n",
      "      Epoch    GPU_mem   box_loss   cls_loss   dfl_loss  Instances       Size\n"
     ]
    },
    {
     "name": "stderr",
     "output_type": "stream",
     "text": [
      "    114/300      2.32G      1.595      2.169      1.918         35        640: 100%|██████████| 28/28 [00:11<00:00,  2.52it/s]\n",
      "                 Class     Images  Instances      Box(P          R      mAP50  mAP50-95): 100%|██████████| 3/3 [00:02<00:00,  1.22it/s]"
     ]
    },
    {
     "name": "stdout",
     "output_type": "stream",
     "text": [
      "                   all         92        345      0.367      0.113     0.0911      0.047\n"
     ]
    },
    {
     "name": "stderr",
     "output_type": "stream",
     "text": [
      "\n"
     ]
    },
    {
     "name": "stdout",
     "output_type": "stream",
     "text": [
      "\n",
      "      Epoch    GPU_mem   box_loss   cls_loss   dfl_loss  Instances       Size\n"
     ]
    },
    {
     "name": "stderr",
     "output_type": "stream",
     "text": [
      "    115/300      2.32G      1.641      2.218      1.921         58        640: 100%|██████████| 28/28 [00:08<00:00,  3.24it/s]\n",
      "                 Class     Images  Instances      Box(P          R      mAP50  mAP50-95): 100%|██████████| 3/3 [00:01<00:00,  1.52it/s]"
     ]
    },
    {
     "name": "stdout",
     "output_type": "stream",
     "text": [
      "                   all         92        345      0.159      0.153      0.103     0.0525\n"
     ]
    },
    {
     "name": "stderr",
     "output_type": "stream",
     "text": [
      "\n"
     ]
    },
    {
     "name": "stdout",
     "output_type": "stream",
     "text": [
      "\n",
      "      Epoch    GPU_mem   box_loss   cls_loss   dfl_loss  Instances       Size\n"
     ]
    },
    {
     "name": "stderr",
     "output_type": "stream",
     "text": [
      "    116/300      2.34G       1.64      2.263      1.938         83        640: 100%|██████████| 28/28 [00:11<00:00,  2.41it/s]\n",
      "                 Class     Images  Instances      Box(P          R      mAP50  mAP50-95): 100%|██████████| 3/3 [00:01<00:00,  2.45it/s]"
     ]
    },
    {
     "name": "stdout",
     "output_type": "stream",
     "text": [
      "                   all         92        345      0.165      0.113     0.0926     0.0455\n"
     ]
    },
    {
     "name": "stderr",
     "output_type": "stream",
     "text": [
      "\n"
     ]
    },
    {
     "name": "stdout",
     "output_type": "stream",
     "text": [
      "\n",
      "      Epoch    GPU_mem   box_loss   cls_loss   dfl_loss  Instances       Size\n"
     ]
    },
    {
     "name": "stderr",
     "output_type": "stream",
     "text": [
      "    117/300      2.24G      1.588      2.201      1.926         38        640: 100%|██████████| 28/28 [00:10<00:00,  2.56it/s]\n",
      "                 Class     Images  Instances      Box(P          R      mAP50  mAP50-95): 100%|██████████| 3/3 [00:02<00:00,  1.17it/s]"
     ]
    },
    {
     "name": "stdout",
     "output_type": "stream",
     "text": [
      "                   all         92        345      0.198      0.114        0.1     0.0503\n"
     ]
    },
    {
     "name": "stderr",
     "output_type": "stream",
     "text": [
      "\n"
     ]
    },
    {
     "name": "stdout",
     "output_type": "stream",
     "text": [
      "\n",
      "      Epoch    GPU_mem   box_loss   cls_loss   dfl_loss  Instances       Size\n"
     ]
    },
    {
     "name": "stderr",
     "output_type": "stream",
     "text": [
      "    118/300       2.2G      1.646      2.179      1.899         56        640: 100%|██████████| 28/28 [00:08<00:00,  3.32it/s]\n",
      "                 Class     Images  Instances      Box(P          R      mAP50  mAP50-95): 100%|██████████| 3/3 [00:01<00:00,  2.20it/s]"
     ]
    },
    {
     "name": "stdout",
     "output_type": "stream",
     "text": [
      "                   all         92        345      0.162      0.147      0.109     0.0545\n"
     ]
    },
    {
     "name": "stderr",
     "output_type": "stream",
     "text": [
      "\n"
     ]
    },
    {
     "name": "stdout",
     "output_type": "stream",
     "text": [
      "\n",
      "      Epoch    GPU_mem   box_loss   cls_loss   dfl_loss  Instances       Size\n"
     ]
    },
    {
     "name": "stderr",
     "output_type": "stream",
     "text": [
      "    119/300       2.3G      1.586      2.225      1.917         39        640: 100%|██████████| 28/28 [00:12<00:00,  2.26it/s]\n",
      "                 Class     Images  Instances      Box(P          R      mAP50  mAP50-95): 100%|██████████| 3/3 [00:01<00:00,  2.18it/s]"
     ]
    },
    {
     "name": "stdout",
     "output_type": "stream",
     "text": [
      "                   all         92        345      0.105      0.156     0.0869       0.04\n"
     ]
    },
    {
     "name": "stderr",
     "output_type": "stream",
     "text": [
      "\n"
     ]
    },
    {
     "name": "stdout",
     "output_type": "stream",
     "text": [
      "\n",
      "      Epoch    GPU_mem   box_loss   cls_loss   dfl_loss  Instances       Size\n"
     ]
    },
    {
     "name": "stderr",
     "output_type": "stream",
     "text": [
      "    120/300      2.21G      1.573      2.224      1.894         22        640: 100%|██████████| 28/28 [00:09<00:00,  2.94it/s]\n",
      "                 Class     Images  Instances      Box(P          R      mAP50  mAP50-95): 100%|██████████| 3/3 [00:02<00:00,  1.10it/s]"
     ]
    },
    {
     "name": "stdout",
     "output_type": "stream",
     "text": [
      "                   all         92        345      0.174      0.162      0.117     0.0638\n"
     ]
    },
    {
     "name": "stderr",
     "output_type": "stream",
     "text": [
      "\n"
     ]
    },
    {
     "name": "stdout",
     "output_type": "stream",
     "text": [
      "\n",
      "      Epoch    GPU_mem   box_loss   cls_loss   dfl_loss  Instances       Size\n"
     ]
    },
    {
     "name": "stderr",
     "output_type": "stream",
     "text": [
      "    121/300      2.33G      1.624      2.183      1.914         36        640: 100%|██████████| 28/28 [00:09<00:00,  3.01it/s]\n",
      "                 Class     Images  Instances      Box(P          R      mAP50  mAP50-95): 100%|██████████| 3/3 [00:01<00:00,  2.53it/s]"
     ]
    },
    {
     "name": "stdout",
     "output_type": "stream",
     "text": [
      "                   all         92        345      0.105      0.172     0.0845     0.0469\n"
     ]
    },
    {
     "name": "stderr",
     "output_type": "stream",
     "text": [
      "\n"
     ]
    },
    {
     "name": "stdout",
     "output_type": "stream",
     "text": [
      "\n",
      "      Epoch    GPU_mem   box_loss   cls_loss   dfl_loss  Instances       Size\n"
     ]
    },
    {
     "name": "stderr",
     "output_type": "stream",
     "text": [
      "    122/300      2.36G      1.621      2.176      1.912         48        640: 100%|██████████| 28/28 [00:12<00:00,  2.25it/s]\n",
      "                 Class     Images  Instances      Box(P          R      mAP50  mAP50-95): 100%|██████████| 3/3 [00:01<00:00,  2.40it/s]"
     ]
    },
    {
     "name": "stdout",
     "output_type": "stream",
     "text": [
      "                   all         92        345      0.148      0.159      0.107     0.0552\n"
     ]
    },
    {
     "name": "stderr",
     "output_type": "stream",
     "text": [
      "\n"
     ]
    },
    {
     "name": "stdout",
     "output_type": "stream",
     "text": [
      "\n",
      "      Epoch    GPU_mem   box_loss   cls_loss   dfl_loss  Instances       Size\n"
     ]
    },
    {
     "name": "stderr",
     "output_type": "stream",
     "text": [
      "    123/300       2.2G      1.614      2.166      1.908         25        640: 100%|██████████| 28/28 [00:09<00:00,  2.85it/s]\n",
      "                 Class     Images  Instances      Box(P          R      mAP50  mAP50-95): 100%|██████████| 3/3 [00:02<00:00,  1.28it/s]"
     ]
    },
    {
     "name": "stdout",
     "output_type": "stream",
     "text": [
      "                   all         92        345      0.164      0.147      0.102     0.0542\n"
     ]
    },
    {
     "name": "stderr",
     "output_type": "stream",
     "text": [
      "\n"
     ]
    },
    {
     "name": "stdout",
     "output_type": "stream",
     "text": [
      "\n",
      "      Epoch    GPU_mem   box_loss   cls_loss   dfl_loss  Instances       Size\n"
     ]
    },
    {
     "name": "stderr",
     "output_type": "stream",
     "text": [
      "    124/300      2.37G      1.577      2.175      1.897         42        640: 100%|██████████| 28/28 [00:10<00:00,  2.78it/s]\n",
      "                 Class     Images  Instances      Box(P          R      mAP50  mAP50-95): 100%|██████████| 3/3 [00:01<00:00,  2.16it/s]"
     ]
    },
    {
     "name": "stdout",
     "output_type": "stream",
     "text": [
      "                   all         92        345      0.154      0.134     0.0835     0.0424\n"
     ]
    },
    {
     "name": "stderr",
     "output_type": "stream",
     "text": [
      "\n"
     ]
    },
    {
     "name": "stdout",
     "output_type": "stream",
     "text": [
      "\n",
      "      Epoch    GPU_mem   box_loss   cls_loss   dfl_loss  Instances       Size\n"
     ]
    },
    {
     "name": "stderr",
     "output_type": "stream",
     "text": [
      "    125/300      2.38G      1.582      2.062      1.865         41        640: 100%|██████████| 28/28 [00:12<00:00,  2.25it/s]\n",
      "                 Class     Images  Instances      Box(P          R      mAP50  mAP50-95): 100%|██████████| 3/3 [00:01<00:00,  2.48it/s]"
     ]
    },
    {
     "name": "stdout",
     "output_type": "stream",
     "text": [
      "                   all         92        345       0.19      0.149      0.108     0.0557\n"
     ]
    },
    {
     "name": "stderr",
     "output_type": "stream",
     "text": [
      "\n"
     ]
    },
    {
     "name": "stdout",
     "output_type": "stream",
     "text": [
      "\n",
      "      Epoch    GPU_mem   box_loss   cls_loss   dfl_loss  Instances       Size\n"
     ]
    },
    {
     "name": "stderr",
     "output_type": "stream",
     "text": [
      "    126/300      2.43G      1.546      2.085      1.865         36        640: 100%|██████████| 28/28 [00:08<00:00,  3.33it/s]\n",
      "                 Class     Images  Instances      Box(P          R      mAP50  mAP50-95): 100%|██████████| 3/3 [00:02<00:00,  1.44it/s]"
     ]
    },
    {
     "name": "stdout",
     "output_type": "stream",
     "text": [
      "                   all         92        345      0.188      0.159      0.105     0.0531\n"
     ]
    },
    {
     "name": "stderr",
     "output_type": "stream",
     "text": [
      "\n"
     ]
    },
    {
     "name": "stdout",
     "output_type": "stream",
     "text": [
      "\n",
      "      Epoch    GPU_mem   box_loss   cls_loss   dfl_loss  Instances       Size\n"
     ]
    },
    {
     "name": "stderr",
     "output_type": "stream",
     "text": [
      "    127/300      2.41G      1.606      2.176      1.886         20        640: 100%|██████████| 28/28 [00:10<00:00,  2.71it/s]\n",
      "                 Class     Images  Instances      Box(P          R      mAP50  mAP50-95): 100%|██████████| 3/3 [00:01<00:00,  2.31it/s]"
     ]
    },
    {
     "name": "stdout",
     "output_type": "stream",
     "text": [
      "                   all         92        345      0.167      0.122      0.106     0.0559\n"
     ]
    },
    {
     "name": "stderr",
     "output_type": "stream",
     "text": [
      "\n"
     ]
    },
    {
     "name": "stdout",
     "output_type": "stream",
     "text": [
      "\n",
      "      Epoch    GPU_mem   box_loss   cls_loss   dfl_loss  Instances       Size\n"
     ]
    },
    {
     "name": "stderr",
     "output_type": "stream",
     "text": [
      "    128/300      2.25G      1.593       2.12       1.89         30        640: 100%|██████████| 28/28 [00:12<00:00,  2.31it/s]\n",
      "                 Class     Images  Instances      Box(P          R      mAP50  mAP50-95): 100%|██████████| 3/3 [00:01<00:00,  1.77it/s]"
     ]
    },
    {
     "name": "stdout",
     "output_type": "stream",
     "text": [
      "                   all         92        345      0.149      0.131      0.108     0.0554\n"
     ]
    },
    {
     "name": "stderr",
     "output_type": "stream",
     "text": [
      "\n"
     ]
    },
    {
     "name": "stdout",
     "output_type": "stream",
     "text": [
      "\n",
      "      Epoch    GPU_mem   box_loss   cls_loss   dfl_loss  Instances       Size\n"
     ]
    },
    {
     "name": "stderr",
     "output_type": "stream",
     "text": [
      "    129/300      2.33G      1.565      2.086      1.873         27        640: 100%|██████████| 28/28 [00:08<00:00,  3.43it/s]\n",
      "                 Class     Images  Instances      Box(P          R      mAP50  mAP50-95): 100%|██████████| 3/3 [00:01<00:00,  1.85it/s]"
     ]
    },
    {
     "name": "stdout",
     "output_type": "stream",
     "text": [
      "                   all         92        345      0.214      0.128      0.106     0.0533\n"
     ]
    },
    {
     "name": "stderr",
     "output_type": "stream",
     "text": [
      "\n"
     ]
    },
    {
     "name": "stdout",
     "output_type": "stream",
     "text": [
      "\n",
      "      Epoch    GPU_mem   box_loss   cls_loss   dfl_loss  Instances       Size\n"
     ]
    },
    {
     "name": "stderr",
     "output_type": "stream",
     "text": [
      "    130/300      2.23G      1.562      2.105      1.841         34        640: 100%|██████████| 28/28 [00:11<00:00,  2.46it/s]\n",
      "                 Class     Images  Instances      Box(P          R      mAP50  mAP50-95): 100%|██████████| 3/3 [00:01<00:00,  2.48it/s]"
     ]
    },
    {
     "name": "stdout",
     "output_type": "stream",
     "text": [
      "                   all         92        345      0.118      0.128     0.0708     0.0348\n"
     ]
    },
    {
     "name": "stderr",
     "output_type": "stream",
     "text": [
      "\n"
     ]
    },
    {
     "name": "stdout",
     "output_type": "stream",
     "text": [
      "\n",
      "      Epoch    GPU_mem   box_loss   cls_loss   dfl_loss  Instances       Size\n"
     ]
    },
    {
     "name": "stderr",
     "output_type": "stream",
     "text": [
      "    131/300      2.33G      1.582      2.139      1.888         60        640: 100%|██████████| 28/28 [00:11<00:00,  2.39it/s]\n",
      "                 Class     Images  Instances      Box(P          R      mAP50  mAP50-95): 100%|██████████| 3/3 [00:02<00:00,  1.34it/s]"
     ]
    },
    {
     "name": "stdout",
     "output_type": "stream",
     "text": [
      "                   all         92        345      0.171      0.173      0.108     0.0526\n"
     ]
    },
    {
     "name": "stderr",
     "output_type": "stream",
     "text": [
      "\n"
     ]
    },
    {
     "name": "stdout",
     "output_type": "stream",
     "text": [
      "\n",
      "      Epoch    GPU_mem   box_loss   cls_loss   dfl_loss  Instances       Size\n"
     ]
    },
    {
     "name": "stderr",
     "output_type": "stream",
     "text": [
      "    132/300       2.2G      1.554      2.135      1.885         30        640: 100%|██████████| 28/28 [00:08<00:00,  3.41it/s]\n",
      "                 Class     Images  Instances      Box(P          R      mAP50  mAP50-95): 100%|██████████| 3/3 [00:01<00:00,  1.68it/s]"
     ]
    },
    {
     "name": "stdout",
     "output_type": "stream",
     "text": [
      "                   all         92        345      0.207       0.14      0.118     0.0584\n"
     ]
    },
    {
     "name": "stderr",
     "output_type": "stream",
     "text": [
      "\n"
     ]
    },
    {
     "name": "stdout",
     "output_type": "stream",
     "text": [
      "\n",
      "      Epoch    GPU_mem   box_loss   cls_loss   dfl_loss  Instances       Size\n"
     ]
    },
    {
     "name": "stderr",
     "output_type": "stream",
     "text": [
      "    133/300      2.36G      1.563      2.089      1.892         32        640: 100%|██████████| 28/28 [00:11<00:00,  2.36it/s]\n",
      "                 Class     Images  Instances      Box(P          R      mAP50  mAP50-95): 100%|██████████| 3/3 [00:01<00:00,  2.28it/s]"
     ]
    },
    {
     "name": "stdout",
     "output_type": "stream",
     "text": [
      "                   all         92        345      0.179       0.12     0.0875     0.0454\n"
     ]
    },
    {
     "name": "stderr",
     "output_type": "stream",
     "text": [
      "\n"
     ]
    },
    {
     "name": "stdout",
     "output_type": "stream",
     "text": [
      "\n",
      "      Epoch    GPU_mem   box_loss   cls_loss   dfl_loss  Instances       Size\n"
     ]
    },
    {
     "name": "stderr",
     "output_type": "stream",
     "text": [
      "    134/300      2.32G      1.517      2.107      1.848         36        640: 100%|██████████| 28/28 [00:10<00:00,  2.68it/s]\n",
      "                 Class     Images  Instances      Box(P          R      mAP50  mAP50-95): 100%|██████████| 3/3 [00:02<00:00,  1.18it/s]"
     ]
    },
    {
     "name": "stdout",
     "output_type": "stream",
     "text": [
      "                   all         92        345      0.133      0.161     0.0913     0.0431\n"
     ]
    },
    {
     "name": "stderr",
     "output_type": "stream",
     "text": [
      "\n"
     ]
    },
    {
     "name": "stdout",
     "output_type": "stream",
     "text": [
      "\n",
      "      Epoch    GPU_mem   box_loss   cls_loss   dfl_loss  Instances       Size\n"
     ]
    },
    {
     "name": "stderr",
     "output_type": "stream",
     "text": [
      "    135/300      2.24G      1.547      2.088      1.868         21        640: 100%|██████████| 28/28 [00:08<00:00,  3.41it/s]\n",
      "                 Class     Images  Instances      Box(P          R      mAP50  mAP50-95): 100%|██████████| 3/3 [00:01<00:00,  2.17it/s]"
     ]
    },
    {
     "name": "stdout",
     "output_type": "stream",
     "text": [
      "                   all         92        345      0.139      0.153      0.105     0.0544\n"
     ]
    },
    {
     "name": "stderr",
     "output_type": "stream",
     "text": [
      "\n"
     ]
    },
    {
     "name": "stdout",
     "output_type": "stream",
     "text": [
      "\n",
      "      Epoch    GPU_mem   box_loss   cls_loss   dfl_loss  Instances       Size\n"
     ]
    },
    {
     "name": "stderr",
     "output_type": "stream",
     "text": [
      "    136/300      2.41G      1.532      2.076      1.833         35        640: 100%|██████████| 28/28 [00:12<00:00,  2.17it/s]\n",
      "                 Class     Images  Instances      Box(P          R      mAP50  mAP50-95): 100%|██████████| 3/3 [00:01<00:00,  2.20it/s]"
     ]
    },
    {
     "name": "stdout",
     "output_type": "stream",
     "text": [
      "                   all         92        345      0.133      0.132     0.0938      0.049\n"
     ]
    },
    {
     "name": "stderr",
     "output_type": "stream",
     "text": [
      "\n"
     ]
    },
    {
     "name": "stdout",
     "output_type": "stream",
     "text": [
      "\n",
      "      Epoch    GPU_mem   box_loss   cls_loss   dfl_loss  Instances       Size\n"
     ]
    },
    {
     "name": "stderr",
     "output_type": "stream",
     "text": [
      "    137/300       2.3G      1.545      2.078      1.869         34        640: 100%|██████████| 28/28 [00:09<00:00,  2.94it/s]\n",
      "                 Class     Images  Instances      Box(P          R      mAP50  mAP50-95): 100%|██████████| 3/3 [00:02<00:00,  1.39it/s]"
     ]
    },
    {
     "name": "stdout",
     "output_type": "stream",
     "text": [
      "                   all         92        345      0.179      0.133      0.101     0.0537\n"
     ]
    },
    {
     "name": "stderr",
     "output_type": "stream",
     "text": [
      "\n"
     ]
    },
    {
     "name": "stdout",
     "output_type": "stream",
     "text": [
      "\n",
      "      Epoch    GPU_mem   box_loss   cls_loss   dfl_loss  Instances       Size\n"
     ]
    },
    {
     "name": "stderr",
     "output_type": "stream",
     "text": [
      "    138/300      2.36G      1.538      2.074       1.87         40        640: 100%|██████████| 28/28 [00:09<00:00,  2.93it/s]\n",
      "                 Class     Images  Instances      Box(P          R      mAP50  mAP50-95): 100%|██████████| 3/3 [00:01<00:00,  2.03it/s]"
     ]
    },
    {
     "name": "stdout",
     "output_type": "stream",
     "text": [
      "                   all         92        345      0.124      0.142       0.09      0.046\n"
     ]
    },
    {
     "name": "stderr",
     "output_type": "stream",
     "text": [
      "\n"
     ]
    },
    {
     "name": "stdout",
     "output_type": "stream",
     "text": [
      "\n",
      "      Epoch    GPU_mem   box_loss   cls_loss   dfl_loss  Instances       Size\n"
     ]
    },
    {
     "name": "stderr",
     "output_type": "stream",
     "text": [
      "    139/300       2.2G      1.515      2.087      1.893         26        640: 100%|██████████| 28/28 [00:12<00:00,  2.20it/s]\n",
      "                 Class     Images  Instances      Box(P          R      mAP50  mAP50-95): 100%|██████████| 3/3 [00:01<00:00,  2.13it/s]"
     ]
    },
    {
     "name": "stdout",
     "output_type": "stream",
     "text": [
      "                   all         92        345      0.166      0.133       0.11     0.0553\n"
     ]
    },
    {
     "name": "stderr",
     "output_type": "stream",
     "text": [
      "\n"
     ]
    },
    {
     "name": "stdout",
     "output_type": "stream",
     "text": [
      "\n",
      "      Epoch    GPU_mem   box_loss   cls_loss   dfl_loss  Instances       Size\n"
     ]
    },
    {
     "name": "stderr",
     "output_type": "stream",
     "text": [
      "    140/300       2.3G      1.542      2.006      1.831         24        640: 100%|██████████| 28/28 [00:08<00:00,  3.49it/s]\n",
      "                 Class     Images  Instances      Box(P          R      mAP50  mAP50-95): 100%|██████████| 3/3 [00:02<00:00,  1.49it/s]"
     ]
    },
    {
     "name": "stdout",
     "output_type": "stream",
     "text": [
      "                   all         92        345      0.193      0.133      0.102     0.0549\n"
     ]
    },
    {
     "name": "stderr",
     "output_type": "stream",
     "text": [
      "\n"
     ]
    },
    {
     "name": "stdout",
     "output_type": "stream",
     "text": [
      "\n",
      "      Epoch    GPU_mem   box_loss   cls_loss   dfl_loss  Instances       Size\n"
     ]
    },
    {
     "name": "stderr",
     "output_type": "stream",
     "text": [
      "    141/300      2.23G      1.573      2.059      1.868         59        640: 100%|██████████| 28/28 [00:14<00:00,  1.94it/s]\n",
      "                 Class     Images  Instances      Box(P          R      mAP50  mAP50-95): 100%|██████████| 3/3 [00:02<00:00,  1.47it/s]"
     ]
    },
    {
     "name": "stdout",
     "output_type": "stream",
     "text": [
      "                   all         92        345      0.152      0.148     0.0791     0.0417\n"
     ]
    },
    {
     "name": "stderr",
     "output_type": "stream",
     "text": [
      "\n"
     ]
    },
    {
     "name": "stdout",
     "output_type": "stream",
     "text": [
      "\n",
      "      Epoch    GPU_mem   box_loss   cls_loss   dfl_loss  Instances       Size\n"
     ]
    },
    {
     "name": "stderr",
     "output_type": "stream",
     "text": [
      "    142/300      2.47G      1.549      2.081      1.853         26        640: 100%|██████████| 28/28 [00:12<00:00,  2.26it/s]\n",
      "                 Class     Images  Instances      Box(P          R      mAP50  mAP50-95): 100%|██████████| 3/3 [00:01<00:00,  2.20it/s]"
     ]
    },
    {
     "name": "stdout",
     "output_type": "stream",
     "text": [
      "                   all         92        345      0.137      0.155     0.0856     0.0436\n"
     ]
    },
    {
     "name": "stderr",
     "output_type": "stream",
     "text": [
      "\n"
     ]
    },
    {
     "name": "stdout",
     "output_type": "stream",
     "text": [
      "\n",
      "      Epoch    GPU_mem   box_loss   cls_loss   dfl_loss  Instances       Size\n"
     ]
    },
    {
     "name": "stderr",
     "output_type": "stream",
     "text": [
      "    143/300      2.34G      1.516      2.076      1.827         30        640: 100%|██████████| 28/28 [00:08<00:00,  3.20it/s]\n",
      "                 Class     Images  Instances      Box(P          R      mAP50  mAP50-95): 100%|██████████| 3/3 [00:02<00:00,  1.42it/s]"
     ]
    },
    {
     "name": "stdout",
     "output_type": "stream",
     "text": [
      "                   all         92        345      0.147      0.131     0.0872     0.0439\n"
     ]
    },
    {
     "name": "stderr",
     "output_type": "stream",
     "text": [
      "\n"
     ]
    },
    {
     "name": "stdout",
     "output_type": "stream",
     "text": [
      "\n",
      "      Epoch    GPU_mem   box_loss   cls_loss   dfl_loss  Instances       Size\n"
     ]
    },
    {
     "name": "stderr",
     "output_type": "stream",
     "text": [
      "    144/300      2.26G      1.559       2.03       1.85         50        640: 100%|██████████| 28/28 [00:09<00:00,  2.85it/s]\n",
      "                 Class     Images  Instances      Box(P          R      mAP50  mAP50-95): 100%|██████████| 3/3 [00:01<00:00,  2.32it/s]"
     ]
    },
    {
     "name": "stdout",
     "output_type": "stream",
     "text": [
      "                   all         92        345      0.128      0.176     0.0902     0.0468\n"
     ]
    },
    {
     "name": "stderr",
     "output_type": "stream",
     "text": [
      "\n"
     ]
    },
    {
     "name": "stdout",
     "output_type": "stream",
     "text": [
      "\n",
      "      Epoch    GPU_mem   box_loss   cls_loss   dfl_loss  Instances       Size\n"
     ]
    },
    {
     "name": "stderr",
     "output_type": "stream",
     "text": [
      "    145/300      2.37G      1.521      2.037      1.854         45        640: 100%|██████████| 28/28 [00:12<00:00,  2.24it/s]\n",
      "                 Class     Images  Instances      Box(P          R      mAP50  mAP50-95): 100%|██████████| 3/3 [00:01<00:00,  2.43it/s]"
     ]
    },
    {
     "name": "stdout",
     "output_type": "stream",
     "text": [
      "                   all         92        345      0.143      0.153        0.1     0.0507\n"
     ]
    },
    {
     "name": "stderr",
     "output_type": "stream",
     "text": [
      "\n"
     ]
    },
    {
     "name": "stdout",
     "output_type": "stream",
     "text": [
      "\n",
      "      Epoch    GPU_mem   box_loss   cls_loss   dfl_loss  Instances       Size\n"
     ]
    },
    {
     "name": "stderr",
     "output_type": "stream",
     "text": [
      "    146/300      2.37G      1.549      1.976      1.823         19        640: 100%|██████████| 28/28 [00:08<00:00,  3.34it/s]\n",
      "                 Class     Images  Instances      Box(P          R      mAP50  mAP50-95): 100%|██████████| 3/3 [00:02<00:00,  1.38it/s]"
     ]
    },
    {
     "name": "stdout",
     "output_type": "stream",
     "text": [
      "                   all         92        345       0.16      0.133     0.0936     0.0486\n"
     ]
    },
    {
     "name": "stderr",
     "output_type": "stream",
     "text": [
      "\n"
     ]
    },
    {
     "name": "stdout",
     "output_type": "stream",
     "text": [
      "\n",
      "      Epoch    GPU_mem   box_loss   cls_loss   dfl_loss  Instances       Size\n"
     ]
    },
    {
     "name": "stderr",
     "output_type": "stream",
     "text": [
      "    147/300      2.24G      1.592      2.033      1.888         46        640: 100%|██████████| 28/28 [00:11<00:00,  2.40it/s]\n",
      "                 Class     Images  Instances      Box(P          R      mAP50  mAP50-95): 100%|██████████| 3/3 [00:01<00:00,  2.45it/s]"
     ]
    },
    {
     "name": "stdout",
     "output_type": "stream",
     "text": [
      "                   all         92        345      0.127      0.188     0.0806     0.0396\n"
     ]
    },
    {
     "name": "stderr",
     "output_type": "stream",
     "text": [
      "\n"
     ]
    },
    {
     "name": "stdout",
     "output_type": "stream",
     "text": [
      "\n",
      "      Epoch    GPU_mem   box_loss   cls_loss   dfl_loss  Instances       Size\n"
     ]
    },
    {
     "name": "stderr",
     "output_type": "stream",
     "text": [
      "    148/300       2.2G      1.538      2.027      1.843         56        640: 100%|██████████| 28/28 [00:11<00:00,  2.47it/s]\n",
      "                 Class     Images  Instances      Box(P          R      mAP50  mAP50-95): 100%|██████████| 3/3 [00:02<00:00,  1.28it/s]"
     ]
    },
    {
     "name": "stdout",
     "output_type": "stream",
     "text": [
      "                   all         92        345     0.0939       0.16     0.0716     0.0368\n"
     ]
    },
    {
     "name": "stderr",
     "output_type": "stream",
     "text": [
      "\n"
     ]
    },
    {
     "name": "stdout",
     "output_type": "stream",
     "text": [
      "\n",
      "      Epoch    GPU_mem   box_loss   cls_loss   dfl_loss  Instances       Size\n"
     ]
    },
    {
     "name": "stderr",
     "output_type": "stream",
     "text": [
      "    149/300      2.45G      1.542      2.032      1.843         37        640: 100%|██████████| 28/28 [00:08<00:00,  3.37it/s]\n",
      "                 Class     Images  Instances      Box(P          R      mAP50  mAP50-95): 100%|██████████| 3/3 [00:01<00:00,  2.45it/s]"
     ]
    },
    {
     "name": "stdout",
     "output_type": "stream",
     "text": [
      "                   all         92        345      0.117      0.185     0.0964      0.048\n"
     ]
    },
    {
     "name": "stderr",
     "output_type": "stream",
     "text": [
      "\n"
     ]
    },
    {
     "name": "stdout",
     "output_type": "stream",
     "text": [
      "\n",
      "      Epoch    GPU_mem   box_loss   cls_loss   dfl_loss  Instances       Size\n"
     ]
    },
    {
     "name": "stderr",
     "output_type": "stream",
     "text": [
      "    150/300      2.38G      1.514      2.042      1.838         51        640: 100%|██████████| 28/28 [00:12<00:00,  2.31it/s]\n",
      "                 Class     Images  Instances      Box(P          R      mAP50  mAP50-95): 100%|██████████| 3/3 [00:01<00:00,  2.56it/s]"
     ]
    },
    {
     "name": "stdout",
     "output_type": "stream",
     "text": [
      "                   all         92        345      0.145       0.17     0.0914     0.0454\n"
     ]
    },
    {
     "name": "stderr",
     "output_type": "stream",
     "text": [
      "\n"
     ]
    },
    {
     "name": "stdout",
     "output_type": "stream",
     "text": [
      "\n",
      "      Epoch    GPU_mem   box_loss   cls_loss   dfl_loss  Instances       Size\n"
     ]
    },
    {
     "name": "stderr",
     "output_type": "stream",
     "text": [
      "    151/300      2.32G      1.545       2.05      1.851         21        640: 100%|██████████| 28/28 [00:09<00:00,  2.84it/s]\n",
      "                 Class     Images  Instances      Box(P          R      mAP50  mAP50-95): 100%|██████████| 3/3 [00:02<00:00,  1.10it/s]"
     ]
    },
    {
     "name": "stdout",
     "output_type": "stream",
     "text": [
      "                   all         92        345      0.109      0.164     0.0837     0.0425\n"
     ]
    },
    {
     "name": "stderr",
     "output_type": "stream",
     "text": [
      "\n"
     ]
    },
    {
     "name": "stdout",
     "output_type": "stream",
     "text": [
      "\n",
      "      Epoch    GPU_mem   box_loss   cls_loss   dfl_loss  Instances       Size\n"
     ]
    },
    {
     "name": "stderr",
     "output_type": "stream",
     "text": [
      "    152/300      2.23G      1.491      1.998      1.836         33        640: 100%|██████████| 28/28 [00:08<00:00,  3.23it/s]\n",
      "                 Class     Images  Instances      Box(P          R      mAP50  mAP50-95): 100%|██████████| 3/3 [00:01<00:00,  2.17it/s]"
     ]
    },
    {
     "name": "stdout",
     "output_type": "stream",
     "text": [
      "                   all         92        345      0.106      0.188     0.0915     0.0462\n"
     ]
    },
    {
     "name": "stderr",
     "output_type": "stream",
     "text": [
      "\n"
     ]
    },
    {
     "name": "stdout",
     "output_type": "stream",
     "text": [
      "\n",
      "      Epoch    GPU_mem   box_loss   cls_loss   dfl_loss  Instances       Size\n"
     ]
    },
    {
     "name": "stderr",
     "output_type": "stream",
     "text": [
      "    153/300      2.37G      1.554      2.016      1.825         44        640: 100%|██████████| 28/28 [00:12<00:00,  2.17it/s]\n",
      "                 Class     Images  Instances      Box(P          R      mAP50  mAP50-95): 100%|██████████| 3/3 [00:01<00:00,  1.90it/s]"
     ]
    },
    {
     "name": "stdout",
     "output_type": "stream",
     "text": [
      "                   all         92        345      0.141      0.154      0.101     0.0531\n"
     ]
    },
    {
     "name": "stderr",
     "output_type": "stream",
     "text": [
      "\n"
     ]
    },
    {
     "name": "stdout",
     "output_type": "stream",
     "text": [
      "\n",
      "      Epoch    GPU_mem   box_loss   cls_loss   dfl_loss  Instances       Size\n"
     ]
    },
    {
     "name": "stderr",
     "output_type": "stream",
     "text": [
      "    154/300       2.2G      1.506      1.914      1.793         48        640: 100%|██████████| 28/28 [00:09<00:00,  2.91it/s]\n",
      "                 Class     Images  Instances      Box(P          R      mAP50  mAP50-95): 100%|██████████| 3/3 [00:02<00:00,  1.39it/s]"
     ]
    },
    {
     "name": "stdout",
     "output_type": "stream",
     "text": [
      "                   all         92        345      0.123      0.161     0.0893     0.0456\n"
     ]
    },
    {
     "name": "stderr",
     "output_type": "stream",
     "text": [
      "\n"
     ]
    },
    {
     "name": "stdout",
     "output_type": "stream",
     "text": [
      "\n",
      "      Epoch    GPU_mem   box_loss   cls_loss   dfl_loss  Instances       Size\n"
     ]
    },
    {
     "name": "stderr",
     "output_type": "stream",
     "text": [
      "    155/300      2.36G      1.476      1.957        1.8         23        640: 100%|██████████| 28/28 [00:10<00:00,  2.73it/s]\n",
      "                 Class     Images  Instances      Box(P          R      mAP50  mAP50-95): 100%|██████████| 3/3 [00:01<00:00,  2.33it/s]"
     ]
    },
    {
     "name": "stdout",
     "output_type": "stream",
     "text": [
      "                   all         92        345      0.227      0.144      0.112     0.0553\n"
     ]
    },
    {
     "name": "stderr",
     "output_type": "stream",
     "text": [
      "\n"
     ]
    },
    {
     "name": "stdout",
     "output_type": "stream",
     "text": [
      "\n",
      "      Epoch    GPU_mem   box_loss   cls_loss   dfl_loss  Instances       Size\n"
     ]
    },
    {
     "name": "stderr",
     "output_type": "stream",
     "text": [
      "    156/300      2.29G      1.509      1.987      1.823         22        640: 100%|██████████| 28/28 [00:12<00:00,  2.32it/s]\n",
      "                 Class     Images  Instances      Box(P          R      mAP50  mAP50-95): 100%|██████████| 3/3 [00:01<00:00,  1.99it/s]"
     ]
    },
    {
     "name": "stdout",
     "output_type": "stream",
     "text": [
      "                   all         92        345       0.11      0.179     0.0894     0.0478\n"
     ]
    },
    {
     "name": "stderr",
     "output_type": "stream",
     "text": [
      "\n"
     ]
    },
    {
     "name": "stdout",
     "output_type": "stream",
     "text": [
      "\n",
      "      Epoch    GPU_mem   box_loss   cls_loss   dfl_loss  Instances       Size\n"
     ]
    },
    {
     "name": "stderr",
     "output_type": "stream",
     "text": [
      "    157/300      2.47G      1.551      1.975      1.807         30        640: 100%|██████████| 28/28 [00:09<00:00,  2.93it/s]\n",
      "                 Class     Images  Instances      Box(P          R      mAP50  mAP50-95): 100%|██████████| 3/3 [00:01<00:00,  1.51it/s]"
     ]
    },
    {
     "name": "stdout",
     "output_type": "stream",
     "text": [
      "                   all         92        345      0.143      0.185     0.0961     0.0469\n"
     ]
    },
    {
     "name": "stderr",
     "output_type": "stream",
     "text": [
      "\n"
     ]
    },
    {
     "name": "stdout",
     "output_type": "stream",
     "text": [
      "\n",
      "      Epoch    GPU_mem   box_loss   cls_loss   dfl_loss  Instances       Size\n"
     ]
    },
    {
     "name": "stderr",
     "output_type": "stream",
     "text": [
      "    158/300      2.23G       1.54      1.961      1.826         51        640: 100%|██████████| 28/28 [00:09<00:00,  2.81it/s]\n",
      "                 Class     Images  Instances      Box(P          R      mAP50  mAP50-95): 100%|██████████| 3/3 [00:01<00:00,  2.50it/s]"
     ]
    },
    {
     "name": "stdout",
     "output_type": "stream",
     "text": [
      "                   all         92        345      0.117      0.148      0.085      0.042\n"
     ]
    },
    {
     "name": "stderr",
     "output_type": "stream",
     "text": [
      "\n"
     ]
    },
    {
     "name": "stdout",
     "output_type": "stream",
     "text": [
      "\n",
      "      Epoch    GPU_mem   box_loss   cls_loss   dfl_loss  Instances       Size\n"
     ]
    },
    {
     "name": "stderr",
     "output_type": "stream",
     "text": [
      "    159/300       2.2G      1.516      1.965      1.822         49        640: 100%|██████████| 28/28 [00:12<00:00,  2.22it/s]\n",
      "                 Class     Images  Instances      Box(P          R      mAP50  mAP50-95): 100%|██████████| 3/3 [00:01<00:00,  2.24it/s]"
     ]
    },
    {
     "name": "stdout",
     "output_type": "stream",
     "text": [
      "                   all         92        345      0.112      0.163     0.0958     0.0516\n"
     ]
    },
    {
     "name": "stderr",
     "output_type": "stream",
     "text": [
      "\n"
     ]
    },
    {
     "name": "stdout",
     "output_type": "stream",
     "text": [
      "\n",
      "      Epoch    GPU_mem   box_loss   cls_loss   dfl_loss  Instances       Size\n"
     ]
    },
    {
     "name": "stderr",
     "output_type": "stream",
     "text": [
      "    160/300      2.36G      1.521      1.863      1.795         54        640: 100%|██████████| 28/28 [00:08<00:00,  3.17it/s]\n",
      "                 Class     Images  Instances      Box(P          R      mAP50  mAP50-95): 100%|██████████| 3/3 [00:02<00:00,  1.41it/s]"
     ]
    },
    {
     "name": "stdout",
     "output_type": "stream",
     "text": [
      "                   all         92        345      0.212      0.149      0.124     0.0618\n"
     ]
    },
    {
     "name": "stderr",
     "output_type": "stream",
     "text": [
      "\n"
     ]
    },
    {
     "name": "stdout",
     "output_type": "stream",
     "text": [
      "\n",
      "      Epoch    GPU_mem   box_loss   cls_loss   dfl_loss  Instances       Size\n"
     ]
    },
    {
     "name": "stderr",
     "output_type": "stream",
     "text": [
      "    161/300       2.3G      1.485      1.949      1.782         30        640: 100%|██████████| 28/28 [00:10<00:00,  2.62it/s]\n",
      "                 Class     Images  Instances      Box(P          R      mAP50  mAP50-95): 100%|██████████| 3/3 [00:01<00:00,  2.27it/s]"
     ]
    },
    {
     "name": "stdout",
     "output_type": "stream",
     "text": [
      "                   all         92        345      0.134      0.164     0.0994     0.0486\n"
     ]
    },
    {
     "name": "stderr",
     "output_type": "stream",
     "text": [
      "\n"
     ]
    },
    {
     "name": "stdout",
     "output_type": "stream",
     "text": [
      "\n",
      "      Epoch    GPU_mem   box_loss   cls_loss   dfl_loss  Instances       Size\n"
     ]
    },
    {
     "name": "stderr",
     "output_type": "stream",
     "text": [
      "    162/300      2.29G      1.501      1.924       1.83         62        640: 100%|██████████| 28/28 [00:11<00:00,  2.36it/s]\n",
      "                 Class     Images  Instances      Box(P          R      mAP50  mAP50-95): 100%|██████████| 3/3 [00:01<00:00,  1.51it/s]"
     ]
    },
    {
     "name": "stdout",
     "output_type": "stream",
     "text": [
      "                   all         92        345      0.204      0.162      0.121     0.0559\n"
     ]
    },
    {
     "name": "stderr",
     "output_type": "stream",
     "text": [
      "\n"
     ]
    },
    {
     "name": "stdout",
     "output_type": "stream",
     "text": [
      "\n",
      "      Epoch    GPU_mem   box_loss   cls_loss   dfl_loss  Instances       Size\n"
     ]
    },
    {
     "name": "stderr",
     "output_type": "stream",
     "text": [
      "    163/300      2.49G      1.476      1.872      1.781         49        640: 100%|██████████| 28/28 [00:08<00:00,  3.38it/s]\n",
      "                 Class     Images  Instances      Box(P          R      mAP50  mAP50-95): 100%|██████████| 3/3 [00:01<00:00,  1.58it/s]"
     ]
    },
    {
     "name": "stdout",
     "output_type": "stream",
     "text": [
      "                   all         92        345      0.207       0.13       0.11     0.0541\n"
     ]
    },
    {
     "name": "stderr",
     "output_type": "stream",
     "text": [
      "\n"
     ]
    },
    {
     "name": "stdout",
     "output_type": "stream",
     "text": [
      "\n",
      "      Epoch    GPU_mem   box_loss   cls_loss   dfl_loss  Instances       Size\n"
     ]
    },
    {
     "name": "stderr",
     "output_type": "stream",
     "text": [
      "    164/300       2.3G      1.509      1.894      1.771         26        640: 100%|██████████| 28/28 [00:12<00:00,  2.32it/s]\n",
      "                 Class     Images  Instances      Box(P          R      mAP50  mAP50-95): 100%|██████████| 3/3 [00:01<00:00,  2.26it/s]"
     ]
    },
    {
     "name": "stdout",
     "output_type": "stream",
     "text": [
      "                   all         92        345      0.144      0.155     0.0984     0.0497\n"
     ]
    },
    {
     "name": "stderr",
     "output_type": "stream",
     "text": [
      "\n"
     ]
    },
    {
     "name": "stdout",
     "output_type": "stream",
     "text": [
      "\n",
      "      Epoch    GPU_mem   box_loss   cls_loss   dfl_loss  Instances       Size\n"
     ]
    },
    {
     "name": "stderr",
     "output_type": "stream",
     "text": [
      "    165/300       2.2G      1.458      1.946      1.807         44        640: 100%|██████████| 28/28 [00:11<00:00,  2.53it/s]\n",
      "                 Class     Images  Instances      Box(P          R      mAP50  mAP50-95): 100%|██████████| 3/3 [00:02<00:00,  1.22it/s]"
     ]
    },
    {
     "name": "stdout",
     "output_type": "stream",
     "text": [
      "                   all         92        345      0.231      0.142      0.109     0.0533\n"
     ]
    },
    {
     "name": "stderr",
     "output_type": "stream",
     "text": [
      "\n"
     ]
    },
    {
     "name": "stdout",
     "output_type": "stream",
     "text": [
      "\n",
      "      Epoch    GPU_mem   box_loss   cls_loss   dfl_loss  Instances       Size\n"
     ]
    },
    {
     "name": "stderr",
     "output_type": "stream",
     "text": [
      "    166/300      2.31G      1.483       1.95      1.793         37        640: 100%|██████████| 28/28 [00:08<00:00,  3.44it/s]\n",
      "                 Class     Images  Instances      Box(P          R      mAP50  mAP50-95): 100%|██████████| 3/3 [00:01<00:00,  2.40it/s]"
     ]
    },
    {
     "name": "stdout",
     "output_type": "stream",
     "text": [
      "                   all         92        345      0.184      0.163     0.0964     0.0454\n"
     ]
    },
    {
     "name": "stderr",
     "output_type": "stream",
     "text": [
      "\n"
     ]
    },
    {
     "name": "stdout",
     "output_type": "stream",
     "text": [
      "\n",
      "      Epoch    GPU_mem   box_loss   cls_loss   dfl_loss  Instances       Size\n"
     ]
    },
    {
     "name": "stderr",
     "output_type": "stream",
     "text": [
      "    167/300      2.35G      1.509      1.901      1.783         51        640: 100%|██████████| 28/28 [00:12<00:00,  2.28it/s]\n",
      "                 Class     Images  Instances      Box(P          R      mAP50  mAP50-95): 100%|██████████| 3/3 [00:01<00:00,  2.33it/s]"
     ]
    },
    {
     "name": "stdout",
     "output_type": "stream",
     "text": [
      "                   all         92        345      0.225      0.103     0.0998     0.0475\n"
     ]
    },
    {
     "name": "stderr",
     "output_type": "stream",
     "text": [
      "\n"
     ]
    },
    {
     "name": "stdout",
     "output_type": "stream",
     "text": [
      "\n",
      "      Epoch    GPU_mem   box_loss   cls_loss   dfl_loss  Instances       Size\n"
     ]
    },
    {
     "name": "stderr",
     "output_type": "stream",
     "text": [
      "    168/300      2.23G      1.422       1.84      1.768         28        640: 100%|██████████| 28/28 [00:10<00:00,  2.79it/s]\n",
      "                 Class     Images  Instances      Box(P          R      mAP50  mAP50-95): 100%|██████████| 3/3 [00:02<00:00,  1.25it/s]"
     ]
    },
    {
     "name": "stdout",
     "output_type": "stream",
     "text": [
      "                   all         92        345      0.209      0.115      0.119     0.0582\n"
     ]
    },
    {
     "name": "stderr",
     "output_type": "stream",
     "text": [
      "\n"
     ]
    },
    {
     "name": "stdout",
     "output_type": "stream",
     "text": [
      "\n",
      "      Epoch    GPU_mem   box_loss   cls_loss   dfl_loss  Instances       Size\n"
     ]
    },
    {
     "name": "stderr",
     "output_type": "stream",
     "text": [
      "    169/300      2.21G      1.479      1.864      1.793         57        640: 100%|██████████| 28/28 [00:08<00:00,  3.35it/s]\n",
      "                 Class     Images  Instances      Box(P          R      mAP50  mAP50-95): 100%|██████████| 3/3 [00:01<00:00,  2.12it/s]"
     ]
    },
    {
     "name": "stdout",
     "output_type": "stream",
     "text": [
      "                   all         92        345      0.157      0.144     0.0973     0.0432\n"
     ]
    },
    {
     "name": "stderr",
     "output_type": "stream",
     "text": [
      "\n"
     ]
    },
    {
     "name": "stdout",
     "output_type": "stream",
     "text": [
      "\n",
      "      Epoch    GPU_mem   box_loss   cls_loss   dfl_loss  Instances       Size\n"
     ]
    },
    {
     "name": "stderr",
     "output_type": "stream",
     "text": [
      "    170/300      2.33G      1.486      1.949      1.792         30        640: 100%|██████████| 28/28 [00:12<00:00,  2.21it/s]\n",
      "                 Class     Images  Instances      Box(P          R      mAP50  mAP50-95): 100%|██████████| 3/3 [00:01<00:00,  2.36it/s]"
     ]
    },
    {
     "name": "stdout",
     "output_type": "stream",
     "text": [
      "                   all         92        345       0.12      0.191     0.0877     0.0386\n"
     ]
    },
    {
     "name": "stderr",
     "output_type": "stream",
     "text": [
      "\n"
     ]
    },
    {
     "name": "stdout",
     "output_type": "stream",
     "text": [
      "\n",
      "      Epoch    GPU_mem   box_loss   cls_loss   dfl_loss  Instances       Size\n"
     ]
    },
    {
     "name": "stderr",
     "output_type": "stream",
     "text": [
      "    171/300      2.46G      1.481      1.876      1.782         74        640: 100%|██████████| 28/28 [00:10<00:00,  2.64it/s]\n",
      "                 Class     Images  Instances      Box(P          R      mAP50  mAP50-95): 100%|██████████| 3/3 [00:02<00:00,  1.19it/s]"
     ]
    },
    {
     "name": "stdout",
     "output_type": "stream",
     "text": [
      "                   all         92        345       0.16      0.131     0.0908     0.0454\n"
     ]
    },
    {
     "name": "stderr",
     "output_type": "stream",
     "text": [
      "\n"
     ]
    },
    {
     "name": "stdout",
     "output_type": "stream",
     "text": [
      "\n",
      "      Epoch    GPU_mem   box_loss   cls_loss   dfl_loss  Instances       Size\n"
     ]
    },
    {
     "name": "stderr",
     "output_type": "stream",
     "text": [
      "    172/300       2.4G      1.477      1.838      1.751         52        640: 100%|██████████| 28/28 [00:09<00:00,  3.07it/s]\n",
      "                 Class     Images  Instances      Box(P          R      mAP50  mAP50-95): 100%|██████████| 3/3 [00:01<00:00,  2.41it/s]"
     ]
    },
    {
     "name": "stdout",
     "output_type": "stream",
     "text": [
      "                   all         92        345      0.119      0.134     0.0875     0.0466\n"
     ]
    },
    {
     "name": "stderr",
     "output_type": "stream",
     "text": [
      "\n"
     ]
    },
    {
     "name": "stdout",
     "output_type": "stream",
     "text": [
      "\n",
      "      Epoch    GPU_mem   box_loss   cls_loss   dfl_loss  Instances       Size\n"
     ]
    },
    {
     "name": "stderr",
     "output_type": "stream",
     "text": [
      "    173/300      2.23G      1.457      1.883      1.798         35        640: 100%|██████████| 28/28 [00:12<00:00,  2.19it/s]\n",
      "                 Class     Images  Instances      Box(P          R      mAP50  mAP50-95): 100%|██████████| 3/3 [00:01<00:00,  2.09it/s]"
     ]
    },
    {
     "name": "stdout",
     "output_type": "stream",
     "text": [
      "                   all         92        345      0.193      0.113     0.0978     0.0491\n"
     ]
    },
    {
     "name": "stderr",
     "output_type": "stream",
     "text": [
      "\n"
     ]
    },
    {
     "name": "stdout",
     "output_type": "stream",
     "text": [
      "\n",
      "      Epoch    GPU_mem   box_loss   cls_loss   dfl_loss  Instances       Size\n"
     ]
    },
    {
     "name": "stderr",
     "output_type": "stream",
     "text": [
      "    174/300      2.34G       1.48      1.886      1.784         34        640: 100%|██████████| 28/28 [00:11<00:00,  2.51it/s]\n",
      "                 Class     Images  Instances      Box(P          R      mAP50  mAP50-95): 100%|██████████| 3/3 [00:02<00:00,  1.08it/s]"
     ]
    },
    {
     "name": "stdout",
     "output_type": "stream",
     "text": [
      "                   all         92        345      0.128      0.181     0.0969     0.0458\n"
     ]
    },
    {
     "name": "stderr",
     "output_type": "stream",
     "text": [
      "\n"
     ]
    },
    {
     "name": "stdout",
     "output_type": "stream",
     "text": [
      "\n",
      "      Epoch    GPU_mem   box_loss   cls_loss   dfl_loss  Instances       Size\n"
     ]
    },
    {
     "name": "stderr",
     "output_type": "stream",
     "text": [
      "    175/300      2.36G      1.528      1.905      1.805         39        640: 100%|██████████| 28/28 [00:10<00:00,  2.62it/s]\n",
      "                 Class     Images  Instances      Box(P          R      mAP50  mAP50-95): 100%|██████████| 3/3 [00:01<00:00,  1.94it/s]"
     ]
    },
    {
     "name": "stdout",
     "output_type": "stream",
     "text": [
      "                   all         92        345      0.181      0.146     0.0935     0.0434\n"
     ]
    },
    {
     "name": "stderr",
     "output_type": "stream",
     "text": [
      "\n"
     ]
    },
    {
     "name": "stdout",
     "output_type": "stream",
     "text": [
      "\n",
      "      Epoch    GPU_mem   box_loss   cls_loss   dfl_loss  Instances       Size\n"
     ]
    },
    {
     "name": "stderr",
     "output_type": "stream",
     "text": [
      "    176/300      2.21G      1.505      1.891      1.771         58        640: 100%|██████████| 28/28 [00:12<00:00,  2.28it/s]\n",
      "                 Class     Images  Instances      Box(P          R      mAP50  mAP50-95): 100%|██████████| 3/3 [00:01<00:00,  1.82it/s]"
     ]
    },
    {
     "name": "stdout",
     "output_type": "stream",
     "text": [
      "                   all         92        345      0.105      0.168     0.0855     0.0409\n"
     ]
    },
    {
     "name": "stderr",
     "output_type": "stream",
     "text": [
      "\n"
     ]
    },
    {
     "name": "stdout",
     "output_type": "stream",
     "text": [
      "\n",
      "      Epoch    GPU_mem   box_loss   cls_loss   dfl_loss  Instances       Size\n"
     ]
    },
    {
     "name": "stderr",
     "output_type": "stream",
     "text": [
      "    177/300      2.39G      1.516      1.876      1.792         44        640: 100%|██████████| 28/28 [00:08<00:00,  3.35it/s]\n",
      "                 Class     Images  Instances      Box(P          R      mAP50  mAP50-95): 100%|██████████| 3/3 [00:01<00:00,  1.64it/s]"
     ]
    },
    {
     "name": "stdout",
     "output_type": "stream",
     "text": [
      "                   all         92        345      0.138      0.113     0.0715     0.0344\n"
     ]
    },
    {
     "name": "stderr",
     "output_type": "stream",
     "text": [
      "\n"
     ]
    },
    {
     "name": "stdout",
     "output_type": "stream",
     "text": [
      "\n",
      "      Epoch    GPU_mem   box_loss   cls_loss   dfl_loss  Instances       Size\n"
     ]
    },
    {
     "name": "stderr",
     "output_type": "stream",
     "text": [
      "    178/300      2.23G      1.471       1.84      1.785         32        640: 100%|██████████| 28/28 [00:11<00:00,  2.45it/s]\n",
      "                 Class     Images  Instances      Box(P          R      mAP50  mAP50-95): 100%|██████████| 3/3 [00:01<00:00,  2.04it/s]"
     ]
    },
    {
     "name": "stdout",
     "output_type": "stream",
     "text": [
      "                   all         92        345      0.156      0.121      0.087     0.0412\n"
     ]
    },
    {
     "name": "stderr",
     "output_type": "stream",
     "text": [
      "\n"
     ]
    },
    {
     "name": "stdout",
     "output_type": "stream",
     "text": [
      "\n",
      "      Epoch    GPU_mem   box_loss   cls_loss   dfl_loss  Instances       Size\n"
     ]
    },
    {
     "name": "stderr",
     "output_type": "stream",
     "text": [
      "    179/300      2.26G       1.42      1.867      1.746        101        640: 100%|██████████| 28/28 [00:11<00:00,  2.51it/s]\n",
      "                 Class     Images  Instances      Box(P          R      mAP50  mAP50-95): 100%|██████████| 3/3 [00:02<00:00,  1.18it/s]"
     ]
    },
    {
     "name": "stdout",
     "output_type": "stream",
     "text": [
      "                   all         92        345      0.188      0.156      0.116     0.0551\n"
     ]
    },
    {
     "name": "stderr",
     "output_type": "stream",
     "text": [
      "\n"
     ]
    },
    {
     "name": "stdout",
     "output_type": "stream",
     "text": [
      "\n",
      "      Epoch    GPU_mem   box_loss   cls_loss   dfl_loss  Instances       Size\n"
     ]
    },
    {
     "name": "stderr",
     "output_type": "stream",
     "text": [
      "    180/300      2.37G      1.456      1.853      1.761         27        640: 100%|██████████| 28/28 [00:08<00:00,  3.45it/s]\n",
      "                 Class     Images  Instances      Box(P          R      mAP50  mAP50-95): 100%|██████████| 3/3 [00:01<00:00,  2.07it/s]"
     ]
    },
    {
     "name": "stdout",
     "output_type": "stream",
     "text": [
      "                   all         92        345      0.186      0.157      0.106     0.0586\n"
     ]
    },
    {
     "name": "stderr",
     "output_type": "stream",
     "text": [
      "\n"
     ]
    },
    {
     "name": "stdout",
     "output_type": "stream",
     "text": [
      "\n",
      "      Epoch    GPU_mem   box_loss   cls_loss   dfl_loss  Instances       Size\n"
     ]
    },
    {
     "name": "stderr",
     "output_type": "stream",
     "text": [
      "    181/300       2.2G       1.45      1.896      1.784         26        640: 100%|██████████| 28/28 [00:11<00:00,  2.42it/s]\n",
      "                 Class     Images  Instances      Box(P          R      mAP50  mAP50-95): 100%|██████████| 3/3 [00:01<00:00,  2.19it/s]"
     ]
    },
    {
     "name": "stdout",
     "output_type": "stream",
     "text": [
      "                   all         92        345      0.229       0.12      0.113     0.0596\n"
     ]
    },
    {
     "name": "stderr",
     "output_type": "stream",
     "text": [
      "\n"
     ]
    },
    {
     "name": "stdout",
     "output_type": "stream",
     "text": [
      "\n",
      "      Epoch    GPU_mem   box_loss   cls_loss   dfl_loss  Instances       Size\n"
     ]
    },
    {
     "name": "stderr",
     "output_type": "stream",
     "text": [
      "    182/300      2.33G      1.456      1.908      1.779         24        640: 100%|██████████| 28/28 [00:10<00:00,  2.56it/s]\n",
      "                 Class     Images  Instances      Box(P          R      mAP50  mAP50-95): 100%|██████████| 3/3 [00:02<00:00,  1.37it/s]"
     ]
    },
    {
     "name": "stdout",
     "output_type": "stream",
     "text": [
      "                   all         92        345      0.156      0.203      0.105     0.0552\n"
     ]
    },
    {
     "name": "stderr",
     "output_type": "stream",
     "text": [
      "\n"
     ]
    },
    {
     "name": "stdout",
     "output_type": "stream",
     "text": [
      "\n",
      "      Epoch    GPU_mem   box_loss   cls_loss   dfl_loss  Instances       Size\n"
     ]
    },
    {
     "name": "stderr",
     "output_type": "stream",
     "text": [
      "    183/300      2.21G      1.448      1.862      1.759         33        640: 100%|██████████| 28/28 [00:08<00:00,  3.25it/s]\n",
      "                 Class     Images  Instances      Box(P          R      mAP50  mAP50-95): 100%|██████████| 3/3 [00:01<00:00,  2.19it/s]"
     ]
    },
    {
     "name": "stdout",
     "output_type": "stream",
     "text": [
      "                   all         92        345      0.168       0.16      0.105     0.0483\n"
     ]
    },
    {
     "name": "stderr",
     "output_type": "stream",
     "text": [
      "\n"
     ]
    },
    {
     "name": "stdout",
     "output_type": "stream",
     "text": [
      "\n",
      "      Epoch    GPU_mem   box_loss   cls_loss   dfl_loss  Instances       Size\n"
     ]
    },
    {
     "name": "stderr",
     "output_type": "stream",
     "text": [
      "    184/300      2.44G      1.439      1.832      1.768         44        640: 100%|██████████| 28/28 [00:12<00:00,  2.21it/s]\n",
      "                 Class     Images  Instances      Box(P          R      mAP50  mAP50-95): 100%|██████████| 3/3 [00:01<00:00,  2.18it/s]"
     ]
    },
    {
     "name": "stdout",
     "output_type": "stream",
     "text": [
      "                   all         92        345      0.136      0.171     0.0998     0.0501\n"
     ]
    },
    {
     "name": "stderr",
     "output_type": "stream",
     "text": [
      "\n"
     ]
    },
    {
     "name": "stdout",
     "output_type": "stream",
     "text": [
      "\n",
      "      Epoch    GPU_mem   box_loss   cls_loss   dfl_loss  Instances       Size\n"
     ]
    },
    {
     "name": "stderr",
     "output_type": "stream",
     "text": [
      "    185/300      2.26G      1.447      1.801      1.753         28        640: 100%|██████████| 28/28 [00:09<00:00,  2.82it/s]\n",
      "                 Class     Images  Instances      Box(P          R      mAP50  mAP50-95): 100%|██████████| 3/3 [00:02<00:00,  1.14it/s]"
     ]
    },
    {
     "name": "stdout",
     "output_type": "stream",
     "text": [
      "                   all         92        345      0.183      0.163      0.103     0.0521\n"
     ]
    },
    {
     "name": "stderr",
     "output_type": "stream",
     "text": [
      "\n"
     ]
    },
    {
     "name": "stdout",
     "output_type": "stream",
     "text": [
      "\n",
      "      Epoch    GPU_mem   box_loss   cls_loss   dfl_loss  Instances       Size\n"
     ]
    },
    {
     "name": "stderr",
     "output_type": "stream",
     "text": [
      "    186/300      2.49G       1.43      1.851      1.746         24        640: 100%|██████████| 28/28 [00:08<00:00,  3.13it/s]\n",
      "                 Class     Images  Instances      Box(P          R      mAP50  mAP50-95): 100%|██████████| 3/3 [00:01<00:00,  2.41it/s]"
     ]
    },
    {
     "name": "stdout",
     "output_type": "stream",
     "text": [
      "                   all         92        345      0.172      0.191      0.118     0.0628\n"
     ]
    },
    {
     "name": "stderr",
     "output_type": "stream",
     "text": [
      "\n"
     ]
    },
    {
     "name": "stdout",
     "output_type": "stream",
     "text": [
      "\n",
      "      Epoch    GPU_mem   box_loss   cls_loss   dfl_loss  Instances       Size\n"
     ]
    },
    {
     "name": "stderr",
     "output_type": "stream",
     "text": [
      "    187/300      2.32G       1.48       1.86      1.772         48        640: 100%|██████████| 28/28 [00:12<00:00,  2.31it/s]\n",
      "                 Class     Images  Instances      Box(P          R      mAP50  mAP50-95): 100%|██████████| 3/3 [00:01<00:00,  1.91it/s]"
     ]
    },
    {
     "name": "stdout",
     "output_type": "stream",
     "text": [
      "                   all         92        345      0.156      0.193      0.113     0.0576\n"
     ]
    },
    {
     "name": "stderr",
     "output_type": "stream",
     "text": [
      "\n"
     ]
    },
    {
     "name": "stdout",
     "output_type": "stream",
     "text": [
      "\n",
      "      Epoch    GPU_mem   box_loss   cls_loss   dfl_loss  Instances       Size\n"
     ]
    },
    {
     "name": "stderr",
     "output_type": "stream",
     "text": [
      "    188/300      2.23G       1.38      1.751      1.715         32        640: 100%|██████████| 28/28 [00:09<00:00,  3.07it/s]\n",
      "                 Class     Images  Instances      Box(P          R      mAP50  mAP50-95): 100%|██████████| 3/3 [00:01<00:00,  2.15it/s]"
     ]
    },
    {
     "name": "stdout",
     "output_type": "stream",
     "text": [
      "                   all         92        345      0.154      0.156       0.11     0.0538\n"
     ]
    },
    {
     "name": "stderr",
     "output_type": "stream",
     "text": [
      "\n"
     ]
    },
    {
     "name": "stdout",
     "output_type": "stream",
     "text": [
      "\n",
      "      Epoch    GPU_mem   box_loss   cls_loss   dfl_loss  Instances       Size\n"
     ]
    },
    {
     "name": "stderr",
     "output_type": "stream",
     "text": [
      "    189/300      2.23G      1.429      1.742      1.735         29        640: 100%|██████████| 28/28 [00:09<00:00,  2.84it/s]\n",
      "                 Class     Images  Instances      Box(P          R      mAP50  mAP50-95): 100%|██████████| 3/3 [00:01<00:00,  2.28it/s]"
     ]
    },
    {
     "name": "stdout",
     "output_type": "stream",
     "text": [
      "                   all         92        345      0.173      0.182      0.123     0.0581\n"
     ]
    },
    {
     "name": "stderr",
     "output_type": "stream",
     "text": [
      "\n"
     ]
    },
    {
     "name": "stdout",
     "output_type": "stream",
     "text": [
      "\n",
      "      Epoch    GPU_mem   box_loss   cls_loss   dfl_loss  Instances       Size\n"
     ]
    },
    {
     "name": "stderr",
     "output_type": "stream",
     "text": [
      "    190/300      2.35G      1.459       1.82      1.789         46        640: 100%|██████████| 28/28 [00:12<00:00,  2.23it/s]\n",
      "                 Class     Images  Instances      Box(P          R      mAP50  mAP50-95): 100%|██████████| 3/3 [00:01<00:00,  2.04it/s]"
     ]
    },
    {
     "name": "stdout",
     "output_type": "stream",
     "text": [
      "                   all         92        345      0.186      0.185      0.118     0.0575\n"
     ]
    },
    {
     "name": "stderr",
     "output_type": "stream",
     "text": [
      "\n"
     ]
    },
    {
     "name": "stdout",
     "output_type": "stream",
     "text": [
      "\n",
      "      Epoch    GPU_mem   box_loss   cls_loss   dfl_loss  Instances       Size\n"
     ]
    },
    {
     "name": "stderr",
     "output_type": "stream",
     "text": [
      "    191/300      2.33G      1.419      1.781      1.738         84        640: 100%|██████████| 28/28 [00:08<00:00,  3.32it/s]\n",
      "                 Class     Images  Instances      Box(P          R      mAP50  mAP50-95): 100%|██████████| 3/3 [00:02<00:00,  1.44it/s]"
     ]
    },
    {
     "name": "stdout",
     "output_type": "stream",
     "text": [
      "                   all         92        345      0.225      0.137       0.12     0.0544\n"
     ]
    },
    {
     "name": "stderr",
     "output_type": "stream",
     "text": [
      "\n"
     ]
    },
    {
     "name": "stdout",
     "output_type": "stream",
     "text": [
      "\n",
      "      Epoch    GPU_mem   box_loss   cls_loss   dfl_loss  Instances       Size\n"
     ]
    },
    {
     "name": "stderr",
     "output_type": "stream",
     "text": [
      "    192/300      2.21G      1.398      1.866      1.759         45        640: 100%|██████████| 28/28 [00:10<00:00,  2.57it/s]\n",
      "                 Class     Images  Instances      Box(P          R      mAP50  mAP50-95): 100%|██████████| 3/3 [00:01<00:00,  2.46it/s]"
     ]
    },
    {
     "name": "stdout",
     "output_type": "stream",
     "text": [
      "                   all         92        345      0.137      0.164      0.111     0.0565\n"
     ]
    },
    {
     "name": "stderr",
     "output_type": "stream",
     "text": [
      "\n"
     ]
    },
    {
     "name": "stdout",
     "output_type": "stream",
     "text": [
      "\n",
      "      Epoch    GPU_mem   box_loss   cls_loss   dfl_loss  Instances       Size\n"
     ]
    },
    {
     "name": "stderr",
     "output_type": "stream",
     "text": [
      "    193/300      2.26G      1.466      1.728      1.717         29        640: 100%|██████████| 28/28 [00:12<00:00,  2.32it/s]\n",
      "                 Class     Images  Instances      Box(P          R      mAP50  mAP50-95): 100%|██████████| 3/3 [00:02<00:00,  1.50it/s]"
     ]
    },
    {
     "name": "stdout",
     "output_type": "stream",
     "text": [
      "                   all         92        345      0.184      0.156     0.0984     0.0457\n"
     ]
    },
    {
     "name": "stderr",
     "output_type": "stream",
     "text": [
      "\n"
     ]
    },
    {
     "name": "stdout",
     "output_type": "stream",
     "text": [
      "\n",
      "      Epoch    GPU_mem   box_loss   cls_loss   dfl_loss  Instances       Size\n"
     ]
    },
    {
     "name": "stderr",
     "output_type": "stream",
     "text": [
      "    194/300       2.2G      1.416       1.79       1.74         41        640: 100%|██████████| 28/28 [00:08<00:00,  3.34it/s]\n",
      "                 Class     Images  Instances      Box(P          R      mAP50  mAP50-95): 100%|██████████| 3/3 [00:01<00:00,  1.63it/s]"
     ]
    },
    {
     "name": "stdout",
     "output_type": "stream",
     "text": [
      "                   all         92        345      0.157       0.13     0.0902     0.0421\n"
     ]
    },
    {
     "name": "stderr",
     "output_type": "stream",
     "text": [
      "\n"
     ]
    },
    {
     "name": "stdout",
     "output_type": "stream",
     "text": [
      "\n",
      "      Epoch    GPU_mem   box_loss   cls_loss   dfl_loss  Instances       Size\n"
     ]
    },
    {
     "name": "stderr",
     "output_type": "stream",
     "text": [
      "    195/300      2.41G      1.448      1.824      1.764         27        640: 100%|██████████| 28/28 [00:12<00:00,  2.32it/s]\n",
      "                 Class     Images  Instances      Box(P          R      mAP50  mAP50-95): 100%|██████████| 3/3 [00:01<00:00,  2.12it/s]"
     ]
    },
    {
     "name": "stdout",
     "output_type": "stream",
     "text": [
      "                   all         92        345      0.149      0.125     0.0955     0.0473\n"
     ]
    },
    {
     "name": "stderr",
     "output_type": "stream",
     "text": [
      "\n"
     ]
    },
    {
     "name": "stdout",
     "output_type": "stream",
     "text": [
      "\n",
      "      Epoch    GPU_mem   box_loss   cls_loss   dfl_loss  Instances       Size\n"
     ]
    },
    {
     "name": "stderr",
     "output_type": "stream",
     "text": [
      "    196/300      2.21G      1.423      1.777      1.738         64        640: 100%|██████████| 28/28 [00:11<00:00,  2.53it/s]\n",
      "                 Class     Images  Instances      Box(P          R      mAP50  mAP50-95): 100%|██████████| 3/3 [00:02<00:00,  1.18it/s]"
     ]
    },
    {
     "name": "stdout",
     "output_type": "stream",
     "text": [
      "                   all         92        345      0.231      0.124      0.106     0.0512\n"
     ]
    },
    {
     "name": "stderr",
     "output_type": "stream",
     "text": [
      "\n"
     ]
    },
    {
     "name": "stdout",
     "output_type": "stream",
     "text": [
      "\n",
      "      Epoch    GPU_mem   box_loss   cls_loss   dfl_loss  Instances       Size\n"
     ]
    },
    {
     "name": "stderr",
     "output_type": "stream",
     "text": [
      "    197/300      2.35G       1.44      1.757      1.738         61        640: 100%|██████████| 28/28 [00:08<00:00,  3.39it/s]\n",
      "                 Class     Images  Instances      Box(P          R      mAP50  mAP50-95): 100%|██████████| 3/3 [00:01<00:00,  2.12it/s]"
     ]
    },
    {
     "name": "stdout",
     "output_type": "stream",
     "text": [
      "                   all         92        345      0.224      0.126      0.123     0.0618\n"
     ]
    },
    {
     "name": "stderr",
     "output_type": "stream",
     "text": [
      "\n"
     ]
    },
    {
     "name": "stdout",
     "output_type": "stream",
     "text": [
      "\n",
      "      Epoch    GPU_mem   box_loss   cls_loss   dfl_loss  Instances       Size\n"
     ]
    },
    {
     "name": "stderr",
     "output_type": "stream",
     "text": [
      "    198/300      2.42G      1.423      1.782      1.729         36        640: 100%|██████████| 28/28 [00:12<00:00,  2.23it/s]\n",
      "                 Class     Images  Instances      Box(P          R      mAP50  mAP50-95): 100%|██████████| 3/3 [00:01<00:00,  2.12it/s]"
     ]
    },
    {
     "name": "stdout",
     "output_type": "stream",
     "text": [
      "                   all         92        345       0.14      0.202      0.108      0.054\n"
     ]
    },
    {
     "name": "stderr",
     "output_type": "stream",
     "text": [
      "\n"
     ]
    },
    {
     "name": "stdout",
     "output_type": "stream",
     "text": [
      "\n",
      "      Epoch    GPU_mem   box_loss   cls_loss   dfl_loss  Instances       Size\n"
     ]
    },
    {
     "name": "stderr",
     "output_type": "stream",
     "text": [
      "    199/300       2.2G      1.418       1.78      1.753         38        640: 100%|██████████| 28/28 [00:10<00:00,  2.66it/s]\n",
      "                 Class     Images  Instances      Box(P          R      mAP50  mAP50-95): 100%|██████████| 3/3 [00:02<00:00,  1.19it/s]"
     ]
    },
    {
     "name": "stdout",
     "output_type": "stream",
     "text": [
      "                   all         92        345      0.162      0.179      0.107     0.0535\n"
     ]
    },
    {
     "name": "stderr",
     "output_type": "stream",
     "text": [
      "\n"
     ]
    },
    {
     "name": "stdout",
     "output_type": "stream",
     "text": [
      "\n",
      "      Epoch    GPU_mem   box_loss   cls_loss   dfl_loss  Instances       Size\n"
     ]
    },
    {
     "name": "stderr",
     "output_type": "stream",
     "text": [
      "    200/300      2.32G      1.389      1.757      1.724         40        640: 100%|██████████| 28/28 [00:08<00:00,  3.14it/s]\n",
      "                 Class     Images  Instances      Box(P          R      mAP50  mAP50-95): 100%|██████████| 3/3 [00:01<00:00,  2.61it/s]"
     ]
    },
    {
     "name": "stdout",
     "output_type": "stream",
     "text": [
      "                   all         92        345      0.204      0.132      0.106     0.0484\n"
     ]
    },
    {
     "name": "stderr",
     "output_type": "stream",
     "text": [
      "\n"
     ]
    },
    {
     "name": "stdout",
     "output_type": "stream",
     "text": [
      "\n",
      "      Epoch    GPU_mem   box_loss   cls_loss   dfl_loss  Instances       Size\n"
     ]
    },
    {
     "name": "stderr",
     "output_type": "stream",
     "text": [
      "    201/300      2.24G      1.434      1.821      1.758         32        640: 100%|██████████| 28/28 [00:12<00:00,  2.21it/s]\n",
      "                 Class     Images  Instances      Box(P          R      mAP50  mAP50-95): 100%|██████████| 3/3 [00:01<00:00,  2.21it/s]"
     ]
    },
    {
     "name": "stdout",
     "output_type": "stream",
     "text": [
      "                   all         92        345      0.208      0.156      0.121     0.0621\n"
     ]
    },
    {
     "name": "stderr",
     "output_type": "stream",
     "text": [
      "\n"
     ]
    },
    {
     "name": "stdout",
     "output_type": "stream",
     "text": [
      "\n",
      "      Epoch    GPU_mem   box_loss   cls_loss   dfl_loss  Instances       Size\n"
     ]
    },
    {
     "name": "stderr",
     "output_type": "stream",
     "text": [
      "    202/300      2.35G      1.425      1.714      1.711         56        640: 100%|██████████| 28/28 [00:10<00:00,  2.74it/s]\n",
      "                 Class     Images  Instances      Box(P          R      mAP50  mAP50-95): 100%|██████████| 3/3 [00:02<00:00,  1.17it/s]"
     ]
    },
    {
     "name": "stdout",
     "output_type": "stream",
     "text": [
      "                   all         92        345      0.214      0.149      0.123     0.0566\n"
     ]
    },
    {
     "name": "stderr",
     "output_type": "stream",
     "text": [
      "\n"
     ]
    },
    {
     "name": "stdout",
     "output_type": "stream",
     "text": [
      "\n",
      "      Epoch    GPU_mem   box_loss   cls_loss   dfl_loss  Instances       Size\n"
     ]
    },
    {
     "name": "stderr",
     "output_type": "stream",
     "text": [
      "    203/300      2.21G      1.454      1.813      1.756         29        640: 100%|██████████| 28/28 [00:08<00:00,  3.26it/s]\n",
      "                 Class     Images  Instances      Box(P          R      mAP50  mAP50-95): 100%|██████████| 3/3 [00:01<00:00,  2.20it/s]"
     ]
    },
    {
     "name": "stdout",
     "output_type": "stream",
     "text": [
      "                   all         92        345       0.14      0.189       0.11     0.0521\n"
     ]
    },
    {
     "name": "stderr",
     "output_type": "stream",
     "text": [
      "\n"
     ]
    },
    {
     "name": "stdout",
     "output_type": "stream",
     "text": [
      "\n",
      "      Epoch    GPU_mem   box_loss   cls_loss   dfl_loss  Instances       Size\n"
     ]
    },
    {
     "name": "stderr",
     "output_type": "stream",
     "text": [
      "    204/300      2.34G        1.4      1.764      1.749         34        640: 100%|██████████| 28/28 [00:12<00:00,  2.32it/s]\n",
      "                 Class     Images  Instances      Box(P          R      mAP50  mAP50-95): 100%|██████████| 3/3 [00:01<00:00,  2.42it/s]"
     ]
    },
    {
     "name": "stdout",
     "output_type": "stream",
     "text": [
      "                   all         92        345      0.176      0.196      0.114      0.055\n"
     ]
    },
    {
     "name": "stderr",
     "output_type": "stream",
     "text": [
      "\n"
     ]
    },
    {
     "name": "stdout",
     "output_type": "stream",
     "text": [
      "\n",
      "      Epoch    GPU_mem   box_loss   cls_loss   dfl_loss  Instances       Size\n"
     ]
    },
    {
     "name": "stderr",
     "output_type": "stream",
     "text": [
      "    205/300      2.21G      1.428      1.786      1.751         48        640: 100%|██████████| 28/28 [00:10<00:00,  2.70it/s]\n",
      "                 Class     Images  Instances      Box(P          R      mAP50  mAP50-95): 100%|██████████| 3/3 [00:03<00:00,  1.00s/it]"
     ]
    },
    {
     "name": "stdout",
     "output_type": "stream",
     "text": [
      "                   all         92        345      0.188      0.161      0.112     0.0542\n"
     ]
    },
    {
     "name": "stderr",
     "output_type": "stream",
     "text": [
      "\n"
     ]
    },
    {
     "name": "stdout",
     "output_type": "stream",
     "text": [
      "\n",
      "      Epoch    GPU_mem   box_loss   cls_loss   dfl_loss  Instances       Size\n"
     ]
    },
    {
     "name": "stderr",
     "output_type": "stream",
     "text": [
      "    206/300      2.28G       1.41      1.748      1.734         35        640: 100%|██████████| 28/28 [00:08<00:00,  3.17it/s]\n",
      "                 Class     Images  Instances      Box(P          R      mAP50  mAP50-95): 100%|██████████| 3/3 [00:01<00:00,  2.16it/s]"
     ]
    },
    {
     "name": "stdout",
     "output_type": "stream",
     "text": [
      "                   all         92        345      0.216      0.149      0.123     0.0603\n"
     ]
    },
    {
     "name": "stderr",
     "output_type": "stream",
     "text": [
      "\n"
     ]
    },
    {
     "name": "stdout",
     "output_type": "stream",
     "text": [
      "\n",
      "      Epoch    GPU_mem   box_loss   cls_loss   dfl_loss  Instances       Size\n"
     ]
    },
    {
     "name": "stderr",
     "output_type": "stream",
     "text": [
      "    207/300      2.21G      1.393      1.731       1.73         38        640: 100%|██████████| 28/28 [00:14<00:00,  1.99it/s]\n",
      "                 Class     Images  Instances      Box(P          R      mAP50  mAP50-95): 100%|██████████| 3/3 [00:02<00:00,  1.18it/s]"
     ]
    },
    {
     "name": "stdout",
     "output_type": "stream",
     "text": [
      "                   all         92        345       0.19       0.17      0.121     0.0573\n"
     ]
    },
    {
     "name": "stderr",
     "output_type": "stream",
     "text": [
      "\n"
     ]
    },
    {
     "name": "stdout",
     "output_type": "stream",
     "text": [
      "\n",
      "      Epoch    GPU_mem   box_loss   cls_loss   dfl_loss  Instances       Size\n"
     ]
    },
    {
     "name": "stderr",
     "output_type": "stream",
     "text": [
      "    208/300      2.51G      1.429      1.778      1.736         58        640: 100%|██████████| 28/28 [00:11<00:00,  2.42it/s]\n",
      "                 Class     Images  Instances      Box(P          R      mAP50  mAP50-95): 100%|██████████| 3/3 [00:02<00:00,  1.25it/s]"
     ]
    },
    {
     "name": "stdout",
     "output_type": "stream",
     "text": [
      "                   all         92        345      0.249      0.129      0.111     0.0526\n"
     ]
    },
    {
     "name": "stderr",
     "output_type": "stream",
     "text": [
      "\n"
     ]
    },
    {
     "name": "stdout",
     "output_type": "stream",
     "text": [
      "\n",
      "      Epoch    GPU_mem   box_loss   cls_loss   dfl_loss  Instances       Size\n"
     ]
    },
    {
     "name": "stderr",
     "output_type": "stream",
     "text": [
      "    209/300      2.32G      1.373      1.699      1.698         38        640: 100%|██████████| 28/28 [00:08<00:00,  3.34it/s]\n",
      "                 Class     Images  Instances      Box(P          R      mAP50  mAP50-95): 100%|██████████| 3/3 [00:01<00:00,  2.10it/s]"
     ]
    },
    {
     "name": "stdout",
     "output_type": "stream",
     "text": [
      "                   all         92        345      0.174      0.172      0.116      0.057\n"
     ]
    },
    {
     "name": "stderr",
     "output_type": "stream",
     "text": [
      "\n"
     ]
    },
    {
     "name": "stdout",
     "output_type": "stream",
     "text": [
      "\n",
      "      Epoch    GPU_mem   box_loss   cls_loss   dfl_loss  Instances       Size\n"
     ]
    },
    {
     "name": "stderr",
     "output_type": "stream",
     "text": [
      "    210/300      2.32G      1.427      1.762      1.745         41        640: 100%|██████████| 28/28 [00:12<00:00,  2.18it/s]\n",
      "                 Class     Images  Instances      Box(P          R      mAP50  mAP50-95): 100%|██████████| 3/3 [00:01<00:00,  2.26it/s]"
     ]
    },
    {
     "name": "stdout",
     "output_type": "stream",
     "text": [
      "                   all         92        345      0.208      0.145      0.114     0.0549\n"
     ]
    },
    {
     "name": "stderr",
     "output_type": "stream",
     "text": [
      "\n"
     ]
    },
    {
     "name": "stdout",
     "output_type": "stream",
     "text": [
      "\n",
      "      Epoch    GPU_mem   box_loss   cls_loss   dfl_loss  Instances       Size\n"
     ]
    },
    {
     "name": "stderr",
     "output_type": "stream",
     "text": [
      "    211/300      2.47G      1.445       1.75      1.705         33        640: 100%|██████████| 28/28 [00:09<00:00,  2.95it/s]\n",
      "                 Class     Images  Instances      Box(P          R      mAP50  mAP50-95): 100%|██████████| 3/3 [00:02<00:00,  1.37it/s]"
     ]
    },
    {
     "name": "stdout",
     "output_type": "stream",
     "text": [
      "                   all         92        345      0.212      0.132      0.106     0.0544\n"
     ]
    },
    {
     "name": "stderr",
     "output_type": "stream",
     "text": [
      "\n"
     ]
    },
    {
     "name": "stdout",
     "output_type": "stream",
     "text": [
      "\n",
      "      Epoch    GPU_mem   box_loss   cls_loss   dfl_loss  Instances       Size\n"
     ]
    },
    {
     "name": "stderr",
     "output_type": "stream",
     "text": [
      "    212/300      2.33G      1.383      1.715      1.715         26        640: 100%|██████████| 28/28 [00:09<00:00,  3.04it/s]\n",
      "                 Class     Images  Instances      Box(P          R      mAP50  mAP50-95): 100%|██████████| 3/3 [00:01<00:00,  2.08it/s]"
     ]
    },
    {
     "name": "stdout",
     "output_type": "stream",
     "text": [
      "                   all         92        345      0.238      0.134      0.115     0.0589\n"
     ]
    },
    {
     "name": "stderr",
     "output_type": "stream",
     "text": [
      "\n"
     ]
    },
    {
     "name": "stdout",
     "output_type": "stream",
     "text": [
      "\n",
      "      Epoch    GPU_mem   box_loss   cls_loss   dfl_loss  Instances       Size\n"
     ]
    },
    {
     "name": "stderr",
     "output_type": "stream",
     "text": [
      "    213/300       2.2G      1.406      1.726      1.699         84        640: 100%|██████████| 28/28 [00:12<00:00,  2.27it/s]\n",
      "                 Class     Images  Instances      Box(P          R      mAP50  mAP50-95): 100%|██████████| 3/3 [00:01<00:00,  2.49it/s]"
     ]
    },
    {
     "name": "stdout",
     "output_type": "stream",
     "text": [
      "                   all         92        345      0.254      0.122      0.113     0.0579\n"
     ]
    },
    {
     "name": "stderr",
     "output_type": "stream",
     "text": [
      "\n"
     ]
    },
    {
     "name": "stdout",
     "output_type": "stream",
     "text": [
      "\n",
      "      Epoch    GPU_mem   box_loss   cls_loss   dfl_loss  Instances       Size\n"
     ]
    },
    {
     "name": "stderr",
     "output_type": "stream",
     "text": [
      "    214/300       2.3G      1.384      1.633      1.672         62        640: 100%|██████████| 28/28 [00:09<00:00,  2.96it/s]\n",
      "                 Class     Images  Instances      Box(P          R      mAP50  mAP50-95): 100%|██████████| 3/3 [00:01<00:00,  1.95it/s]"
     ]
    },
    {
     "name": "stdout",
     "output_type": "stream",
     "text": [
      "                   all         92        345      0.248      0.115     0.0986     0.0535\n"
     ]
    },
    {
     "name": "stderr",
     "output_type": "stream",
     "text": [
      "\n"
     ]
    },
    {
     "name": "stdout",
     "output_type": "stream",
     "text": [
      "\n",
      "      Epoch    GPU_mem   box_loss   cls_loss   dfl_loss  Instances       Size\n"
     ]
    },
    {
     "name": "stderr",
     "output_type": "stream",
     "text": [
      "    215/300       2.2G      1.422      1.724       1.71         27        640: 100%|██████████| 28/28 [00:10<00:00,  2.74it/s]\n",
      "                 Class     Images  Instances      Box(P          R      mAP50  mAP50-95): 100%|██████████| 3/3 [00:01<00:00,  2.11it/s]"
     ]
    },
    {
     "name": "stdout",
     "output_type": "stream",
     "text": [
      "                   all         92        345      0.223      0.131      0.107     0.0564\n"
     ]
    },
    {
     "name": "stderr",
     "output_type": "stream",
     "text": [
      "\n"
     ]
    },
    {
     "name": "stdout",
     "output_type": "stream",
     "text": [
      "\n",
      "      Epoch    GPU_mem   box_loss   cls_loss   dfl_loss  Instances       Size\n"
     ]
    },
    {
     "name": "stderr",
     "output_type": "stream",
     "text": [
      "    216/300       2.3G      1.369      1.634      1.693         41        640: 100%|██████████| 28/28 [00:12<00:00,  2.17it/s]\n",
      "                 Class     Images  Instances      Box(P          R      mAP50  mAP50-95): 100%|██████████| 3/3 [00:01<00:00,  2.36it/s]"
     ]
    },
    {
     "name": "stdout",
     "output_type": "stream",
     "text": [
      "                   all         92        345      0.168      0.162      0.107      0.057\n"
     ]
    },
    {
     "name": "stderr",
     "output_type": "stream",
     "text": [
      "\n"
     ]
    },
    {
     "name": "stdout",
     "output_type": "stream",
     "text": [
      "\n",
      "      Epoch    GPU_mem   box_loss   cls_loss   dfl_loss  Instances       Size\n"
     ]
    },
    {
     "name": "stderr",
     "output_type": "stream",
     "text": [
      "    217/300      2.25G      1.382      1.731      1.715         17        640: 100%|██████████| 28/28 [00:08<00:00,  3.24it/s]\n",
      "                 Class     Images  Instances      Box(P          R      mAP50  mAP50-95): 100%|██████████| 3/3 [00:02<00:00,  1.49it/s]"
     ]
    },
    {
     "name": "stdout",
     "output_type": "stream",
     "text": [
      "                   all         92        345      0.209      0.144      0.104     0.0502\n"
     ]
    },
    {
     "name": "stderr",
     "output_type": "stream",
     "text": [
      "\n"
     ]
    },
    {
     "name": "stdout",
     "output_type": "stream",
     "text": [
      "\n",
      "      Epoch    GPU_mem   box_loss   cls_loss   dfl_loss  Instances       Size\n"
     ]
    },
    {
     "name": "stderr",
     "output_type": "stream",
     "text": [
      "    218/300      2.38G      1.411      1.661       1.69         29        640: 100%|██████████| 28/28 [00:10<00:00,  2.74it/s]\n",
      "                 Class     Images  Instances      Box(P          R      mAP50  mAP50-95): 100%|██████████| 3/3 [00:01<00:00,  2.31it/s]"
     ]
    },
    {
     "name": "stdout",
     "output_type": "stream",
     "text": [
      "                   all         92        345      0.189      0.144      0.102     0.0496\n"
     ]
    },
    {
     "name": "stderr",
     "output_type": "stream",
     "text": [
      "\n"
     ]
    },
    {
     "name": "stdout",
     "output_type": "stream",
     "text": [
      "\n",
      "      Epoch    GPU_mem   box_loss   cls_loss   dfl_loss  Instances       Size\n"
     ]
    },
    {
     "name": "stderr",
     "output_type": "stream",
     "text": [
      "    219/300      2.21G      1.435      1.735      1.734         77        640: 100%|██████████| 28/28 [00:12<00:00,  2.32it/s]\n",
      "                 Class     Images  Instances      Box(P          R      mAP50  mAP50-95): 100%|██████████| 3/3 [00:01<00:00,  1.76it/s]"
     ]
    },
    {
     "name": "stdout",
     "output_type": "stream",
     "text": [
      "                   all         92        345      0.173       0.17      0.107     0.0507\n"
     ]
    },
    {
     "name": "stderr",
     "output_type": "stream",
     "text": [
      "\n"
     ]
    },
    {
     "name": "stdout",
     "output_type": "stream",
     "text": [
      "\n",
      "      Epoch    GPU_mem   box_loss   cls_loss   dfl_loss  Instances       Size\n"
     ]
    },
    {
     "name": "stderr",
     "output_type": "stream",
     "text": [
      "    220/300      2.32G      1.389      1.741      1.704         25        640: 100%|██████████| 28/28 [00:08<00:00,  3.31it/s]\n",
      "                 Class     Images  Instances      Box(P          R      mAP50  mAP50-95): 100%|██████████| 3/3 [00:01<00:00,  1.70it/s]"
     ]
    },
    {
     "name": "stdout",
     "output_type": "stream",
     "text": [
      "                   all         92        345      0.152      0.188      0.119     0.0554\n",
      "\u001b[34m\u001b[1mEarlyStopping: \u001b[0mTraining stopped early as no improvement observed in last 100 epochs. Best results observed at epoch 120, best model saved as best.pt.\n",
      "To update EarlyStopping(patience=100) pass a new patience value, i.e. `patience=300` or use `patience=0` to disable EarlyStopping.\n"
     ]
    },
    {
     "name": "stderr",
     "output_type": "stream",
     "text": [
      "\n"
     ]
    },
    {
     "name": "stdout",
     "output_type": "stream",
     "text": [
      "\n",
      "220 epochs completed in 0.816 hours.\n",
      "Optimizer stripped from runs/detect/train2/weights/last.pt, 6.3MB\n",
      "Optimizer stripped from runs/detect/train2/weights/best.pt, 6.3MB\n",
      "\n",
      "Validating runs/detect/train2/weights/best.pt...\n",
      "Ultralytics 8.3.29 🚀 Python-3.10.12 torch-2.5.0+cu121 CUDA:0 (Tesla T4, 15102MiB)\n",
      "YOLOv8n summary (fused): 168 layers, 3,006,818 parameters, 0 gradients, 8.1 GFLOPs\n"
     ]
    },
    {
     "name": "stderr",
     "output_type": "stream",
     "text": [
      "                 Class     Images  Instances      Box(P          R      mAP50  mAP50-95): 100%|██████████| 3/3 [00:03<00:00,  1.00s/it]\n"
     ]
    },
    {
     "name": "stdout",
     "output_type": "stream",
     "text": [
      "                   all         92        345      0.171      0.162      0.117     0.0639\n",
      "                  Book         16        111      0.191      0.297      0.232      0.139\n",
      "                Bottle         17         42      0.325      0.357      0.246      0.136\n",
      "                 Chair         10         46          0          0    0.00847    0.00264\n",
      "            Human-body         18         87     0.0806     0.0345     0.0328    0.00996\n",
      "                Laptop         18         40      0.316      0.125      0.148     0.0842\n",
      "                 Table         13         19      0.111      0.158     0.0326     0.0124\n",
      "Speed: 0.4ms preprocess, 2.9ms inference, 0.0ms loss, 8.4ms postprocess per image\n",
      "Results saved to \u001b[1mruns/detect/train2\u001b[0m\n"
     ]
    }
   ],
   "source": [
    "results = model.train(\n",
    "    data=\"/content/drive/MyDrive/Final.v1i.yolov8/data.yaml\",  # Path to your data.yaml\n",
    "    epochs=300,\n",
    "    imgsz=640,\n",
    ")"
   ]
  },
  {
   "cell_type": "code",
   "execution_count": 10,
   "metadata": {
    "id": "S6niK8XGWARg"
   },
   "outputs": [],
   "source": [
    "model = YOLO(\"/content/drive/MyDrive/Final.v1i.yolov8/best.pt\")\n",
    "    # Path to your data.yaml, adjust the path if necessary"
   ]
  },
  {
   "cell_type": "code",
   "execution_count": null,
   "metadata": {
    "colab": {
     "base_uri": "https://localhost:8080/"
    },
    "id": "3ARK2E0xulXX",
    "outputId": "6167f49a-671d-48f0-90ef-8fc8333dfd9e"
   },
   "outputs": [
    {
     "name": "stdout",
     "output_type": "stream",
     "text": [
      "\n",
      "\n",
      "WARNING ⚠️ inference results will accumulate in RAM unless `stream=True` is passed, causing potential out-of-memory\n",
      "errors for large sources or long-running streams and videos. See https://docs.ultralytics.com/modes/predict/ for help.\n",
      "\n",
      "Example:\n",
      "    results = model(source=..., stream=True)  # generator of Results objects\n",
      "    for r in results:\n",
      "        boxes = r.boxes  # Boxes object for bbox outputs\n",
      "        masks = r.masks  # Masks object for segment masks outputs\n",
      "        probs = r.probs  # Class probabilities for classification outputs\n",
      "\n",
      "video 1/1 (frame 1/1998) /content/drive/MyDrive/Final.v1i.yolov8/lib.mp4: 640x384 2 Books, 9.3ms\n",
      "video 1/1 (frame 2/1998) /content/drive/MyDrive/Final.v1i.yolov8/lib.mp4: 640x384 (no detections), 6.6ms\n",
      "video 1/1 (frame 3/1998) /content/drive/MyDrive/Final.v1i.yolov8/lib.mp4: 640x384 2 Books, 8.1ms\n",
      "video 1/1 (frame 4/1998) /content/drive/MyDrive/Final.v1i.yolov8/lib.mp4: 640x384 1 Book, 6.5ms\n",
      "video 1/1 (frame 5/1998) /content/drive/MyDrive/Final.v1i.yolov8/lib.mp4: 640x384 1 Book, 6.6ms\n",
      "video 1/1 (frame 6/1998) /content/drive/MyDrive/Final.v1i.yolov8/lib.mp4: 640x384 1 Book, 8.4ms\n",
      "video 1/1 (frame 7/1998) /content/drive/MyDrive/Final.v1i.yolov8/lib.mp4: 640x384 1 Book, 7.6ms\n",
      "video 1/1 (frame 8/1998) /content/drive/MyDrive/Final.v1i.yolov8/lib.mp4: 640x384 1 Book, 8.8ms\n",
      "video 1/1 (frame 9/1998) /content/drive/MyDrive/Final.v1i.yolov8/lib.mp4: 640x384 1 Book, 6.4ms\n",
      "video 1/1 (frame 10/1998) /content/drive/MyDrive/Final.v1i.yolov8/lib.mp4: 640x384 1 Book, 6.8ms\n",
      "video 1/1 (frame 11/1998) /content/drive/MyDrive/Final.v1i.yolov8/lib.mp4: 640x384 (no detections), 7.5ms\n",
      "video 1/1 (frame 12/1998) /content/drive/MyDrive/Final.v1i.yolov8/lib.mp4: 640x384 (no detections), 6.3ms\n",
      "video 1/1 (frame 13/1998) /content/drive/MyDrive/Final.v1i.yolov8/lib.mp4: 640x384 (no detections), 6.8ms\n",
      "video 1/1 (frame 14/1998) /content/drive/MyDrive/Final.v1i.yolov8/lib.mp4: 640x384 (no detections), 6.3ms\n",
      "video 1/1 (frame 15/1998) /content/drive/MyDrive/Final.v1i.yolov8/lib.mp4: 640x384 1 Bottle, 6.2ms\n",
      "video 1/1 (frame 16/1998) /content/drive/MyDrive/Final.v1i.yolov8/lib.mp4: 640x384 (no detections), 6.3ms\n",
      "video 1/1 (frame 17/1998) /content/drive/MyDrive/Final.v1i.yolov8/lib.mp4: 640x384 (no detections), 6.1ms\n",
      "video 1/1 (frame 18/1998) /content/drive/MyDrive/Final.v1i.yolov8/lib.mp4: 640x384 1 Bottle, 6.2ms\n",
      "video 1/1 (frame 19/1998) /content/drive/MyDrive/Final.v1i.yolov8/lib.mp4: 640x384 (no detections), 6.3ms\n",
      "video 1/1 (frame 20/1998) /content/drive/MyDrive/Final.v1i.yolov8/lib.mp4: 640x384 (no detections), 8.0ms\n",
      "video 1/1 (frame 21/1998) /content/drive/MyDrive/Final.v1i.yolov8/lib.mp4: 640x384 1 Bottle, 9.0ms\n",
      "video 1/1 (frame 22/1998) /content/drive/MyDrive/Final.v1i.yolov8/lib.mp4: 640x384 1 Bottle, 9.9ms\n",
      "video 1/1 (frame 23/1998) /content/drive/MyDrive/Final.v1i.yolov8/lib.mp4: 640x384 1 Bottle, 9.1ms\n",
      "video 1/1 (frame 24/1998) /content/drive/MyDrive/Final.v1i.yolov8/lib.mp4: 640x384 1 Bottle, 8.8ms\n",
      "video 1/1 (frame 25/1998) /content/drive/MyDrive/Final.v1i.yolov8/lib.mp4: 640x384 1 Bottle, 8.7ms\n",
      "video 1/1 (frame 26/1998) /content/drive/MyDrive/Final.v1i.yolov8/lib.mp4: 640x384 1 Bottle, 8.2ms\n",
      "video 1/1 (frame 27/1998) /content/drive/MyDrive/Final.v1i.yolov8/lib.mp4: 640x384 1 Bottle, 6.2ms\n",
      "video 1/1 (frame 28/1998) /content/drive/MyDrive/Final.v1i.yolov8/lib.mp4: 640x384 1 Bottle, 6.4ms\n",
      "video 1/1 (frame 29/1998) /content/drive/MyDrive/Final.v1i.yolov8/lib.mp4: 640x384 1 Book, 6.4ms\n",
      "video 1/1 (frame 30/1998) /content/drive/MyDrive/Final.v1i.yolov8/lib.mp4: 640x384 1 Book, 6.7ms\n",
      "video 1/1 (frame 31/1998) /content/drive/MyDrive/Final.v1i.yolov8/lib.mp4: 640x384 (no detections), 6.2ms\n",
      "video 1/1 (frame 32/1998) /content/drive/MyDrive/Final.v1i.yolov8/lib.mp4: 640x384 (no detections), 6.2ms\n",
      "video 1/1 (frame 33/1998) /content/drive/MyDrive/Final.v1i.yolov8/lib.mp4: 640x384 1 Book, 7.1ms\n",
      "video 1/1 (frame 34/1998) /content/drive/MyDrive/Final.v1i.yolov8/lib.mp4: 640x384 (no detections), 6.2ms\n",
      "video 1/1 (frame 35/1998) /content/drive/MyDrive/Final.v1i.yolov8/lib.mp4: 640x384 (no detections), 9.6ms\n",
      "video 1/1 (frame 36/1998) /content/drive/MyDrive/Final.v1i.yolov8/lib.mp4: 640x384 (no detections), 9.7ms\n",
      "video 1/1 (frame 37/1998) /content/drive/MyDrive/Final.v1i.yolov8/lib.mp4: 640x384 (no detections), 6.3ms\n",
      "video 1/1 (frame 38/1998) /content/drive/MyDrive/Final.v1i.yolov8/lib.mp4: 640x384 (no detections), 7.0ms\n",
      "video 1/1 (frame 39/1998) /content/drive/MyDrive/Final.v1i.yolov8/lib.mp4: 640x384 (no detections), 6.5ms\n",
      "video 1/1 (frame 40/1998) /content/drive/MyDrive/Final.v1i.yolov8/lib.mp4: 640x384 (no detections), 6.8ms\n",
      "video 1/1 (frame 41/1998) /content/drive/MyDrive/Final.v1i.yolov8/lib.mp4: 640x384 (no detections), 6.3ms\n",
      "video 1/1 (frame 42/1998) /content/drive/MyDrive/Final.v1i.yolov8/lib.mp4: 640x384 (no detections), 7.9ms\n",
      "video 1/1 (frame 43/1998) /content/drive/MyDrive/Final.v1i.yolov8/lib.mp4: 640x384 (no detections), 6.3ms\n",
      "video 1/1 (frame 44/1998) /content/drive/MyDrive/Final.v1i.yolov8/lib.mp4: 640x384 (no detections), 6.2ms\n",
      "video 1/1 (frame 45/1998) /content/drive/MyDrive/Final.v1i.yolov8/lib.mp4: 640x384 (no detections), 6.1ms\n",
      "video 1/1 (frame 46/1998) /content/drive/MyDrive/Final.v1i.yolov8/lib.mp4: 640x384 (no detections), 8.5ms\n",
      "video 1/1 (frame 47/1998) /content/drive/MyDrive/Final.v1i.yolov8/lib.mp4: 640x384 (no detections), 6.4ms\n",
      "video 1/1 (frame 48/1998) /content/drive/MyDrive/Final.v1i.yolov8/lib.mp4: 640x384 (no detections), 6.4ms\n",
      "video 1/1 (frame 49/1998) /content/drive/MyDrive/Final.v1i.yolov8/lib.mp4: 640x384 (no detections), 6.3ms\n",
      "video 1/1 (frame 50/1998) /content/drive/MyDrive/Final.v1i.yolov8/lib.mp4: 640x384 (no detections), 7.1ms\n",
      "video 1/1 (frame 51/1998) /content/drive/MyDrive/Final.v1i.yolov8/lib.mp4: 640x384 (no detections), 6.2ms\n",
      "video 1/1 (frame 52/1998) /content/drive/MyDrive/Final.v1i.yolov8/lib.mp4: 640x384 (no detections), 6.1ms\n",
      "video 1/1 (frame 53/1998) /content/drive/MyDrive/Final.v1i.yolov8/lib.mp4: 640x384 (no detections), 6.4ms\n",
      "video 1/1 (frame 54/1998) /content/drive/MyDrive/Final.v1i.yolov8/lib.mp4: 640x384 (no detections), 7.7ms\n",
      "video 1/1 (frame 55/1998) /content/drive/MyDrive/Final.v1i.yolov8/lib.mp4: 640x384 (no detections), 6.5ms\n",
      "video 1/1 (frame 56/1998) /content/drive/MyDrive/Final.v1i.yolov8/lib.mp4: 640x384 (no detections), 6.4ms\n",
      "video 1/1 (frame 57/1998) /content/drive/MyDrive/Final.v1i.yolov8/lib.mp4: 640x384 (no detections), 6.4ms\n",
      "video 1/1 (frame 58/1998) /content/drive/MyDrive/Final.v1i.yolov8/lib.mp4: 640x384 (no detections), 7.4ms\n",
      "video 1/1 (frame 59/1998) /content/drive/MyDrive/Final.v1i.yolov8/lib.mp4: 640x384 (no detections), 6.5ms\n",
      "video 1/1 (frame 60/1998) /content/drive/MyDrive/Final.v1i.yolov8/lib.mp4: 640x384 (no detections), 6.3ms\n",
      "video 1/1 (frame 61/1998) /content/drive/MyDrive/Final.v1i.yolov8/lib.mp4: 640x384 (no detections), 6.3ms\n",
      "video 1/1 (frame 62/1998) /content/drive/MyDrive/Final.v1i.yolov8/lib.mp4: 640x384 (no detections), 7.5ms\n",
      "video 1/1 (frame 63/1998) /content/drive/MyDrive/Final.v1i.yolov8/lib.mp4: 640x384 (no detections), 6.7ms\n",
      "video 1/1 (frame 64/1998) /content/drive/MyDrive/Final.v1i.yolov8/lib.mp4: 640x384 (no detections), 6.7ms\n",
      "video 1/1 (frame 65/1998) /content/drive/MyDrive/Final.v1i.yolov8/lib.mp4: 640x384 (no detections), 6.2ms\n",
      "video 1/1 (frame 66/1998) /content/drive/MyDrive/Final.v1i.yolov8/lib.mp4: 640x384 (no detections), 7.4ms\n",
      "video 1/1 (frame 67/1998) /content/drive/MyDrive/Final.v1i.yolov8/lib.mp4: 640x384 (no detections), 6.4ms\n",
      "video 1/1 (frame 68/1998) /content/drive/MyDrive/Final.v1i.yolov8/lib.mp4: 640x384 (no detections), 8.1ms\n",
      "video 1/1 (frame 69/1998) /content/drive/MyDrive/Final.v1i.yolov8/lib.mp4: 640x384 (no detections), 6.3ms\n",
      "video 1/1 (frame 70/1998) /content/drive/MyDrive/Final.v1i.yolov8/lib.mp4: 640x384 (no detections), 7.1ms\n",
      "video 1/1 (frame 71/1998) /content/drive/MyDrive/Final.v1i.yolov8/lib.mp4: 640x384 (no detections), 6.7ms\n",
      "video 1/1 (frame 72/1998) /content/drive/MyDrive/Final.v1i.yolov8/lib.mp4: 640x384 (no detections), 6.5ms\n",
      "video 1/1 (frame 73/1998) /content/drive/MyDrive/Final.v1i.yolov8/lib.mp4: 640x384 (no detections), 7.9ms\n",
      "video 1/1 (frame 74/1998) /content/drive/MyDrive/Final.v1i.yolov8/lib.mp4: 640x384 (no detections), 8.4ms\n",
      "video 1/1 (frame 75/1998) /content/drive/MyDrive/Final.v1i.yolov8/lib.mp4: 640x384 (no detections), 8.1ms\n",
      "video 1/1 (frame 76/1998) /content/drive/MyDrive/Final.v1i.yolov8/lib.mp4: 640x384 (no detections), 8.5ms\n",
      "video 1/1 (frame 77/1998) /content/drive/MyDrive/Final.v1i.yolov8/lib.mp4: 640x384 (no detections), 8.8ms\n",
      "video 1/1 (frame 78/1998) /content/drive/MyDrive/Final.v1i.yolov8/lib.mp4: 640x384 (no detections), 8.3ms\n",
      "video 1/1 (frame 79/1998) /content/drive/MyDrive/Final.v1i.yolov8/lib.mp4: 640x384 (no detections), 8.2ms\n",
      "video 1/1 (frame 80/1998) /content/drive/MyDrive/Final.v1i.yolov8/lib.mp4: 640x384 (no detections), 8.0ms\n",
      "video 1/1 (frame 81/1998) /content/drive/MyDrive/Final.v1i.yolov8/lib.mp4: 640x384 (no detections), 8.1ms\n",
      "video 1/1 (frame 82/1998) /content/drive/MyDrive/Final.v1i.yolov8/lib.mp4: 640x384 (no detections), 8.9ms\n",
      "video 1/1 (frame 83/1998) /content/drive/MyDrive/Final.v1i.yolov8/lib.mp4: 640x384 (no detections), 8.7ms\n",
      "video 1/1 (frame 84/1998) /content/drive/MyDrive/Final.v1i.yolov8/lib.mp4: 640x384 (no detections), 8.3ms\n",
      "video 1/1 (frame 85/1998) /content/drive/MyDrive/Final.v1i.yolov8/lib.mp4: 640x384 (no detections), 7.9ms\n",
      "video 1/1 (frame 86/1998) /content/drive/MyDrive/Final.v1i.yolov8/lib.mp4: 640x384 (no detections), 8.3ms\n",
      "video 1/1 (frame 87/1998) /content/drive/MyDrive/Final.v1i.yolov8/lib.mp4: 640x384 (no detections), 7.2ms\n",
      "video 1/1 (frame 88/1998) /content/drive/MyDrive/Final.v1i.yolov8/lib.mp4: 640x384 (no detections), 6.5ms\n",
      "video 1/1 (frame 89/1998) /content/drive/MyDrive/Final.v1i.yolov8/lib.mp4: 640x384 (no detections), 6.1ms\n",
      "video 1/1 (frame 90/1998) /content/drive/MyDrive/Final.v1i.yolov8/lib.mp4: 640x384 (no detections), 10.1ms\n",
      "video 1/1 (frame 91/1998) /content/drive/MyDrive/Final.v1i.yolov8/lib.mp4: 640x384 (no detections), 8.0ms\n",
      "video 1/1 (frame 92/1998) /content/drive/MyDrive/Final.v1i.yolov8/lib.mp4: 640x384 (no detections), 6.6ms\n",
      "video 1/1 (frame 93/1998) /content/drive/MyDrive/Final.v1i.yolov8/lib.mp4: 640x384 (no detections), 7.3ms\n",
      "video 1/1 (frame 94/1998) /content/drive/MyDrive/Final.v1i.yolov8/lib.mp4: 640x384 (no detections), 7.8ms\n",
      "video 1/1 (frame 95/1998) /content/drive/MyDrive/Final.v1i.yolov8/lib.mp4: 640x384 (no detections), 6.2ms\n",
      "video 1/1 (frame 96/1998) /content/drive/MyDrive/Final.v1i.yolov8/lib.mp4: 640x384 (no detections), 7.0ms\n",
      "video 1/1 (frame 97/1998) /content/drive/MyDrive/Final.v1i.yolov8/lib.mp4: 640x384 (no detections), 6.4ms\n",
      "video 1/1 (frame 98/1998) /content/drive/MyDrive/Final.v1i.yolov8/lib.mp4: 640x384 (no detections), 6.5ms\n",
      "video 1/1 (frame 99/1998) /content/drive/MyDrive/Final.v1i.yolov8/lib.mp4: 640x384 (no detections), 7.8ms\n",
      "video 1/1 (frame 100/1998) /content/drive/MyDrive/Final.v1i.yolov8/lib.mp4: 640x384 (no detections), 6.3ms\n",
      "video 1/1 (frame 101/1998) /content/drive/MyDrive/Final.v1i.yolov8/lib.mp4: 640x384 (no detections), 8.5ms\n",
      "video 1/1 (frame 102/1998) /content/drive/MyDrive/Final.v1i.yolov8/lib.mp4: 640x384 (no detections), 8.0ms\n",
      "video 1/1 (frame 103/1998) /content/drive/MyDrive/Final.v1i.yolov8/lib.mp4: 640x384 (no detections), 6.7ms\n",
      "video 1/1 (frame 104/1998) /content/drive/MyDrive/Final.v1i.yolov8/lib.mp4: 640x384 (no detections), 6.9ms\n",
      "video 1/1 (frame 105/1998) /content/drive/MyDrive/Final.v1i.yolov8/lib.mp4: 640x384 (no detections), 7.1ms\n",
      "video 1/1 (frame 106/1998) /content/drive/MyDrive/Final.v1i.yolov8/lib.mp4: 640x384 (no detections), 6.3ms\n",
      "video 1/1 (frame 107/1998) /content/drive/MyDrive/Final.v1i.yolov8/lib.mp4: 640x384 (no detections), 6.5ms\n",
      "video 1/1 (frame 108/1998) /content/drive/MyDrive/Final.v1i.yolov8/lib.mp4: 640x384 (no detections), 6.8ms\n",
      "video 1/1 (frame 109/1998) /content/drive/MyDrive/Final.v1i.yolov8/lib.mp4: 640x384 (no detections), 6.6ms\n",
      "video 1/1 (frame 110/1998) /content/drive/MyDrive/Final.v1i.yolov8/lib.mp4: 640x384 (no detections), 6.5ms\n",
      "video 1/1 (frame 111/1998) /content/drive/MyDrive/Final.v1i.yolov8/lib.mp4: 640x384 (no detections), 6.2ms\n",
      "video 1/1 (frame 112/1998) /content/drive/MyDrive/Final.v1i.yolov8/lib.mp4: 640x384 (no detections), 6.7ms\n",
      "video 1/1 (frame 113/1998) /content/drive/MyDrive/Final.v1i.yolov8/lib.mp4: 640x384 (no detections), 6.3ms\n",
      "video 1/1 (frame 114/1998) /content/drive/MyDrive/Final.v1i.yolov8/lib.mp4: 640x384 (no detections), 7.6ms\n",
      "video 1/1 (frame 115/1998) /content/drive/MyDrive/Final.v1i.yolov8/lib.mp4: 640x384 (no detections), 7.0ms\n",
      "video 1/1 (frame 116/1998) /content/drive/MyDrive/Final.v1i.yolov8/lib.mp4: 640x384 (no detections), 6.5ms\n",
      "video 1/1 (frame 117/1998) /content/drive/MyDrive/Final.v1i.yolov8/lib.mp4: 640x384 (no detections), 6.1ms\n",
      "video 1/1 (frame 118/1998) /content/drive/MyDrive/Final.v1i.yolov8/lib.mp4: 640x384 (no detections), 6.2ms\n",
      "video 1/1 (frame 119/1998) /content/drive/MyDrive/Final.v1i.yolov8/lib.mp4: 640x384 (no detections), 6.1ms\n",
      "video 1/1 (frame 120/1998) /content/drive/MyDrive/Final.v1i.yolov8/lib.mp4: 640x384 (no detections), 6.1ms\n",
      "video 1/1 (frame 121/1998) /content/drive/MyDrive/Final.v1i.yolov8/lib.mp4: 640x384 (no detections), 6.0ms\n",
      "video 1/1 (frame 122/1998) /content/drive/MyDrive/Final.v1i.yolov8/lib.mp4: 640x384 1 Bottle, 9.0ms\n",
      "video 1/1 (frame 123/1998) /content/drive/MyDrive/Final.v1i.yolov8/lib.mp4: 640x384 (no detections), 8.9ms\n",
      "video 1/1 (frame 124/1998) /content/drive/MyDrive/Final.v1i.yolov8/lib.mp4: 640x384 (no detections), 8.1ms\n",
      "video 1/1 (frame 125/1998) /content/drive/MyDrive/Final.v1i.yolov8/lib.mp4: 640x384 (no detections), 9.5ms\n",
      "video 1/1 (frame 126/1998) /content/drive/MyDrive/Final.v1i.yolov8/lib.mp4: 640x384 1 Bottle, 8.3ms\n",
      "video 1/1 (frame 127/1998) /content/drive/MyDrive/Final.v1i.yolov8/lib.mp4: 640x384 (no detections), 10.7ms\n",
      "video 1/1 (frame 128/1998) /content/drive/MyDrive/Final.v1i.yolov8/lib.mp4: 640x384 (no detections), 7.7ms\n",
      "video 1/1 (frame 129/1998) /content/drive/MyDrive/Final.v1i.yolov8/lib.mp4: 640x384 1 Bottle, 8.1ms\n",
      "video 1/1 (frame 130/1998) /content/drive/MyDrive/Final.v1i.yolov8/lib.mp4: 640x384 (no detections), 8.6ms\n",
      "video 1/1 (frame 131/1998) /content/drive/MyDrive/Final.v1i.yolov8/lib.mp4: 640x384 (no detections), 8.5ms\n",
      "video 1/1 (frame 132/1998) /content/drive/MyDrive/Final.v1i.yolov8/lib.mp4: 640x384 (no detections), 8.0ms\n",
      "video 1/1 (frame 133/1998) /content/drive/MyDrive/Final.v1i.yolov8/lib.mp4: 640x384 (no detections), 8.6ms\n",
      "video 1/1 (frame 134/1998) /content/drive/MyDrive/Final.v1i.yolov8/lib.mp4: 640x384 (no detections), 7.0ms\n",
      "video 1/1 (frame 135/1998) /content/drive/MyDrive/Final.v1i.yolov8/lib.mp4: 640x384 (no detections), 6.6ms\n",
      "video 1/1 (frame 136/1998) /content/drive/MyDrive/Final.v1i.yolov8/lib.mp4: 640x384 (no detections), 7.1ms\n",
      "video 1/1 (frame 137/1998) /content/drive/MyDrive/Final.v1i.yolov8/lib.mp4: 640x384 1 Book, 6.7ms\n",
      "video 1/1 (frame 138/1998) /content/drive/MyDrive/Final.v1i.yolov8/lib.mp4: 640x384 1 Bottle, 6.5ms\n",
      "video 1/1 (frame 139/1998) /content/drive/MyDrive/Final.v1i.yolov8/lib.mp4: 640x384 (no detections), 6.4ms\n",
      "video 1/1 (frame 140/1998) /content/drive/MyDrive/Final.v1i.yolov8/lib.mp4: 640x384 (no detections), 6.2ms\n",
      "video 1/1 (frame 141/1998) /content/drive/MyDrive/Final.v1i.yolov8/lib.mp4: 640x384 1 Book, 6.4ms\n",
      "video 1/1 (frame 142/1998) /content/drive/MyDrive/Final.v1i.yolov8/lib.mp4: 640x384 1 Bottle, 11.9ms\n",
      "video 1/1 (frame 143/1998) /content/drive/MyDrive/Final.v1i.yolov8/lib.mp4: 640x384 1 Bottle, 6.5ms\n",
      "video 1/1 (frame 144/1998) /content/drive/MyDrive/Final.v1i.yolov8/lib.mp4: 640x384 (no detections), 6.4ms\n",
      "video 1/1 (frame 145/1998) /content/drive/MyDrive/Final.v1i.yolov8/lib.mp4: 640x384 (no detections), 7.6ms\n",
      "video 1/1 (frame 146/1998) /content/drive/MyDrive/Final.v1i.yolov8/lib.mp4: 640x384 (no detections), 7.0ms\n",
      "video 1/1 (frame 147/1998) /content/drive/MyDrive/Final.v1i.yolov8/lib.mp4: 640x384 1 Book, 6.6ms\n",
      "video 1/1 (frame 148/1998) /content/drive/MyDrive/Final.v1i.yolov8/lib.mp4: 640x384 1 Book, 1 Bottle, 6.2ms\n",
      "video 1/1 (frame 149/1998) /content/drive/MyDrive/Final.v1i.yolov8/lib.mp4: 640x384 1 Book, 6.9ms\n",
      "video 1/1 (frame 150/1998) /content/drive/MyDrive/Final.v1i.yolov8/lib.mp4: 640x384 1 Book, 6.8ms\n",
      "video 1/1 (frame 151/1998) /content/drive/MyDrive/Final.v1i.yolov8/lib.mp4: 640x384 1 Book, 6.5ms\n",
      "video 1/1 (frame 152/1998) /content/drive/MyDrive/Final.v1i.yolov8/lib.mp4: 640x384 1 Book, 1 Bottle, 7.3ms\n",
      "video 1/1 (frame 153/1998) /content/drive/MyDrive/Final.v1i.yolov8/lib.mp4: 640x384 1 Book, 6.6ms\n",
      "video 1/1 (frame 154/1998) /content/drive/MyDrive/Final.v1i.yolov8/lib.mp4: 640x384 1 Bottle, 6.5ms\n",
      "video 1/1 (frame 155/1998) /content/drive/MyDrive/Final.v1i.yolov8/lib.mp4: 640x384 1 Bottle, 6.7ms\n",
      "video 1/1 (frame 156/1998) /content/drive/MyDrive/Final.v1i.yolov8/lib.mp4: 640x384 1 Book, 6.6ms\n",
      "video 1/1 (frame 157/1998) /content/drive/MyDrive/Final.v1i.yolov8/lib.mp4: 640x384 1 Bottle, 7.3ms\n",
      "video 1/1 (frame 158/1998) /content/drive/MyDrive/Final.v1i.yolov8/lib.mp4: 640x384 1 Book, 1 Bottle, 8.7ms\n",
      "video 1/1 (frame 159/1998) /content/drive/MyDrive/Final.v1i.yolov8/lib.mp4: 640x384 1 Book, 6.6ms\n",
      "video 1/1 (frame 160/1998) /content/drive/MyDrive/Final.v1i.yolov8/lib.mp4: 640x384 1 Bottle, 6.5ms\n",
      "video 1/1 (frame 161/1998) /content/drive/MyDrive/Final.v1i.yolov8/lib.mp4: 640x384 1 Bottle, 6.4ms\n",
      "video 1/1 (frame 162/1998) /content/drive/MyDrive/Final.v1i.yolov8/lib.mp4: 640x384 1 Book, 11.8ms\n",
      "video 1/1 (frame 163/1998) /content/drive/MyDrive/Final.v1i.yolov8/lib.mp4: 640x384 1 Book, 9.9ms\n",
      "video 1/1 (frame 164/1998) /content/drive/MyDrive/Final.v1i.yolov8/lib.mp4: 640x384 1 Book, 1 Bottle, 9.4ms\n",
      "video 1/1 (frame 165/1998) /content/drive/MyDrive/Final.v1i.yolov8/lib.mp4: 640x384 1 Bottle, 11.2ms\n",
      "video 1/1 (frame 166/1998) /content/drive/MyDrive/Final.v1i.yolov8/lib.mp4: 640x384 1 Bottle, 10.5ms\n",
      "video 1/1 (frame 167/1998) /content/drive/MyDrive/Final.v1i.yolov8/lib.mp4: 640x384 1 Bottle, 13.4ms\n",
      "video 1/1 (frame 168/1998) /content/drive/MyDrive/Final.v1i.yolov8/lib.mp4: 640x384 1 Bottle, 8.2ms\n",
      "video 1/1 (frame 169/1998) /content/drive/MyDrive/Final.v1i.yolov8/lib.mp4: 640x384 1 Bottle, 11.1ms\n",
      "video 1/1 (frame 170/1998) /content/drive/MyDrive/Final.v1i.yolov8/lib.mp4: 640x384 1 Bottle, 10.4ms\n",
      "video 1/1 (frame 171/1998) /content/drive/MyDrive/Final.v1i.yolov8/lib.mp4: 640x384 1 Bottle, 11.8ms\n",
      "video 1/1 (frame 172/1998) /content/drive/MyDrive/Final.v1i.yolov8/lib.mp4: 640x384 1 Bottle, 16.5ms\n",
      "video 1/1 (frame 173/1998) /content/drive/MyDrive/Final.v1i.yolov8/lib.mp4: 640x384 1 Bottle, 11.4ms\n",
      "video 1/1 (frame 174/1998) /content/drive/MyDrive/Final.v1i.yolov8/lib.mp4: 640x384 1 Book, 1 Bottle, 8.9ms\n",
      "video 1/1 (frame 175/1998) /content/drive/MyDrive/Final.v1i.yolov8/lib.mp4: 640x384 1 Bottle, 12.1ms\n",
      "video 1/1 (frame 176/1998) /content/drive/MyDrive/Final.v1i.yolov8/lib.mp4: 640x384 1 Bottle, 16.3ms\n",
      "video 1/1 (frame 177/1998) /content/drive/MyDrive/Final.v1i.yolov8/lib.mp4: 640x384 1 Bottle, 13.4ms\n",
      "video 1/1 (frame 178/1998) /content/drive/MyDrive/Final.v1i.yolov8/lib.mp4: 640x384 1 Bottle, 8.3ms\n",
      "video 1/1 (frame 179/1998) /content/drive/MyDrive/Final.v1i.yolov8/lib.mp4: 640x384 1 Bottle, 8.1ms\n",
      "video 1/1 (frame 180/1998) /content/drive/MyDrive/Final.v1i.yolov8/lib.mp4: 640x384 1 Bottle, 7.9ms\n",
      "video 1/1 (frame 181/1998) /content/drive/MyDrive/Final.v1i.yolov8/lib.mp4: 640x384 1 Book, 1 Bottle, 12.0ms\n",
      "video 1/1 (frame 182/1998) /content/drive/MyDrive/Final.v1i.yolov8/lib.mp4: 640x384 1 Bottle, 9.1ms\n",
      "video 1/1 (frame 183/1998) /content/drive/MyDrive/Final.v1i.yolov8/lib.mp4: 640x384 1 Bottle, 11.5ms\n",
      "video 1/1 (frame 184/1998) /content/drive/MyDrive/Final.v1i.yolov8/lib.mp4: 640x384 1 Bottle, 8.2ms\n",
      "video 1/1 (frame 185/1998) /content/drive/MyDrive/Final.v1i.yolov8/lib.mp4: 640x384 1 Bottle, 8.0ms\n",
      "video 1/1 (frame 186/1998) /content/drive/MyDrive/Final.v1i.yolov8/lib.mp4: 640x384 1 Bottle, 11.6ms\n",
      "video 1/1 (frame 187/1998) /content/drive/MyDrive/Final.v1i.yolov8/lib.mp4: 640x384 1 Bottle, 12.4ms\n",
      "video 1/1 (frame 188/1998) /content/drive/MyDrive/Final.v1i.yolov8/lib.mp4: 640x384 1 Bottle, 8.9ms\n",
      "video 1/1 (frame 189/1998) /content/drive/MyDrive/Final.v1i.yolov8/lib.mp4: 640x384 1 Bottle, 8.3ms\n",
      "video 1/1 (frame 190/1998) /content/drive/MyDrive/Final.v1i.yolov8/lib.mp4: 640x384 1 Bottle, 7.5ms\n",
      "video 1/1 (frame 191/1998) /content/drive/MyDrive/Final.v1i.yolov8/lib.mp4: 640x384 1 Bottle, 7.5ms\n",
      "video 1/1 (frame 192/1998) /content/drive/MyDrive/Final.v1i.yolov8/lib.mp4: 640x384 1 Bottle, 7.8ms\n",
      "video 1/1 (frame 193/1998) /content/drive/MyDrive/Final.v1i.yolov8/lib.mp4: 640x384 1 Bottle, 7.4ms\n",
      "video 1/1 (frame 194/1998) /content/drive/MyDrive/Final.v1i.yolov8/lib.mp4: 640x384 1 Bottle, 7.4ms\n",
      "video 1/1 (frame 195/1998) /content/drive/MyDrive/Final.v1i.yolov8/lib.mp4: 640x384 1 Bottle, 8.2ms\n",
      "video 1/1 (frame 196/1998) /content/drive/MyDrive/Final.v1i.yolov8/lib.mp4: 640x384 1 Bottle, 9.4ms\n",
      "video 1/1 (frame 197/1998) /content/drive/MyDrive/Final.v1i.yolov8/lib.mp4: 640x384 1 Bottle, 7.3ms\n",
      "video 1/1 (frame 198/1998) /content/drive/MyDrive/Final.v1i.yolov8/lib.mp4: 640x384 1 Bottle, 7.6ms\n",
      "video 1/1 (frame 199/1998) /content/drive/MyDrive/Final.v1i.yolov8/lib.mp4: 640x384 1 Book, 7.3ms\n",
      "video 1/1 (frame 200/1998) /content/drive/MyDrive/Final.v1i.yolov8/lib.mp4: 640x384 1 Bottle, 7.7ms\n",
      "video 1/1 (frame 201/1998) /content/drive/MyDrive/Final.v1i.yolov8/lib.mp4: 640x384 1 Bottle, 7.6ms\n",
      "video 1/1 (frame 202/1998) /content/drive/MyDrive/Final.v1i.yolov8/lib.mp4: 640x384 1 Bottle, 14.6ms\n",
      "video 1/1 (frame 203/1998) /content/drive/MyDrive/Final.v1i.yolov8/lib.mp4: 640x384 1 Bottle, 12.1ms\n",
      "video 1/1 (frame 204/1998) /content/drive/MyDrive/Final.v1i.yolov8/lib.mp4: 640x384 (no detections), 14.8ms\n",
      "video 1/1 (frame 205/1998) /content/drive/MyDrive/Final.v1i.yolov8/lib.mp4: 640x384 (no detections), 14.4ms\n",
      "video 1/1 (frame 206/1998) /content/drive/MyDrive/Final.v1i.yolov8/lib.mp4: 640x384 (no detections), 15.0ms\n",
      "video 1/1 (frame 207/1998) /content/drive/MyDrive/Final.v1i.yolov8/lib.mp4: 640x384 (no detections), 9.4ms\n",
      "video 1/1 (frame 208/1998) /content/drive/MyDrive/Final.v1i.yolov8/lib.mp4: 640x384 (no detections), 9.6ms\n",
      "video 1/1 (frame 209/1998) /content/drive/MyDrive/Final.v1i.yolov8/lib.mp4: 640x384 (no detections), 19.4ms\n",
      "video 1/1 (frame 210/1998) /content/drive/MyDrive/Final.v1i.yolov8/lib.mp4: 640x384 1 Book, 12.1ms\n",
      "video 1/1 (frame 211/1998) /content/drive/MyDrive/Final.v1i.yolov8/lib.mp4: 640x384 1 Book, 11.7ms\n",
      "video 1/1 (frame 212/1998) /content/drive/MyDrive/Final.v1i.yolov8/lib.mp4: 640x384 (no detections), 13.2ms\n",
      "video 1/1 (frame 213/1998) /content/drive/MyDrive/Final.v1i.yolov8/lib.mp4: 640x384 (no detections), 11.7ms\n",
      "video 1/1 (frame 214/1998) /content/drive/MyDrive/Final.v1i.yolov8/lib.mp4: 640x384 (no detections), 8.0ms\n",
      "video 1/1 (frame 215/1998) /content/drive/MyDrive/Final.v1i.yolov8/lib.mp4: 640x384 1 Book, 7.9ms\n",
      "video 1/1 (frame 216/1998) /content/drive/MyDrive/Final.v1i.yolov8/lib.mp4: 640x384 (no detections), 8.3ms\n",
      "video 1/1 (frame 217/1998) /content/drive/MyDrive/Final.v1i.yolov8/lib.mp4: 640x384 (no detections), 9.8ms\n",
      "video 1/1 (frame 218/1998) /content/drive/MyDrive/Final.v1i.yolov8/lib.mp4: 640x384 (no detections), 10.5ms\n",
      "video 1/1 (frame 219/1998) /content/drive/MyDrive/Final.v1i.yolov8/lib.mp4: 640x384 (no detections), 9.6ms\n",
      "video 1/1 (frame 220/1998) /content/drive/MyDrive/Final.v1i.yolov8/lib.mp4: 640x384 (no detections), 11.4ms\n",
      "video 1/1 (frame 221/1998) /content/drive/MyDrive/Final.v1i.yolov8/lib.mp4: 640x384 (no detections), 8.4ms\n",
      "video 1/1 (frame 222/1998) /content/drive/MyDrive/Final.v1i.yolov8/lib.mp4: 640x384 (no detections), 8.3ms\n",
      "video 1/1 (frame 223/1998) /content/drive/MyDrive/Final.v1i.yolov8/lib.mp4: 640x384 (no detections), 8.8ms\n",
      "video 1/1 (frame 224/1998) /content/drive/MyDrive/Final.v1i.yolov8/lib.mp4: 640x384 (no detections), 8.3ms\n",
      "video 1/1 (frame 225/1998) /content/drive/MyDrive/Final.v1i.yolov8/lib.mp4: 640x384 (no detections), 8.2ms\n",
      "video 1/1 (frame 226/1998) /content/drive/MyDrive/Final.v1i.yolov8/lib.mp4: 640x384 (no detections), 8.4ms\n",
      "video 1/1 (frame 227/1998) /content/drive/MyDrive/Final.v1i.yolov8/lib.mp4: 640x384 (no detections), 8.8ms\n",
      "video 1/1 (frame 228/1998) /content/drive/MyDrive/Final.v1i.yolov8/lib.mp4: 640x384 (no detections), 8.3ms\n",
      "video 1/1 (frame 229/1998) /content/drive/MyDrive/Final.v1i.yolov8/lib.mp4: 640x384 (no detections), 9.2ms\n",
      "video 1/1 (frame 230/1998) /content/drive/MyDrive/Final.v1i.yolov8/lib.mp4: 640x384 (no detections), 8.2ms\n",
      "video 1/1 (frame 231/1998) /content/drive/MyDrive/Final.v1i.yolov8/lib.mp4: 640x384 (no detections), 9.1ms\n",
      "video 1/1 (frame 232/1998) /content/drive/MyDrive/Final.v1i.yolov8/lib.mp4: 640x384 (no detections), 9.9ms\n",
      "video 1/1 (frame 233/1998) /content/drive/MyDrive/Final.v1i.yolov8/lib.mp4: 640x384 (no detections), 8.6ms\n",
      "video 1/1 (frame 234/1998) /content/drive/MyDrive/Final.v1i.yolov8/lib.mp4: 640x384 (no detections), 8.4ms\n",
      "video 1/1 (frame 235/1998) /content/drive/MyDrive/Final.v1i.yolov8/lib.mp4: 640x384 (no detections), 9.0ms\n",
      "video 1/1 (frame 236/1998) /content/drive/MyDrive/Final.v1i.yolov8/lib.mp4: 640x384 (no detections), 9.1ms\n",
      "video 1/1 (frame 237/1998) /content/drive/MyDrive/Final.v1i.yolov8/lib.mp4: 640x384 (no detections), 8.9ms\n",
      "video 1/1 (frame 238/1998) /content/drive/MyDrive/Final.v1i.yolov8/lib.mp4: 640x384 1 Book, 13.0ms\n",
      "video 1/1 (frame 239/1998) /content/drive/MyDrive/Final.v1i.yolov8/lib.mp4: 640x384 (no detections), 9.5ms\n",
      "video 1/1 (frame 240/1998) /content/drive/MyDrive/Final.v1i.yolov8/lib.mp4: 640x384 (no detections), 16.3ms\n",
      "video 1/1 (frame 241/1998) /content/drive/MyDrive/Final.v1i.yolov8/lib.mp4: 640x384 1 Book, 10.2ms\n",
      "video 1/1 (frame 242/1998) /content/drive/MyDrive/Final.v1i.yolov8/lib.mp4: 640x384 (no detections), 10.4ms\n",
      "video 1/1 (frame 243/1998) /content/drive/MyDrive/Final.v1i.yolov8/lib.mp4: 640x384 1 Book, 11.9ms\n",
      "video 1/1 (frame 244/1998) /content/drive/MyDrive/Final.v1i.yolov8/lib.mp4: 640x384 1 Book, 9.4ms\n",
      "video 1/1 (frame 245/1998) /content/drive/MyDrive/Final.v1i.yolov8/lib.mp4: 640x384 1 Book, 7.7ms\n",
      "video 1/1 (frame 246/1998) /content/drive/MyDrive/Final.v1i.yolov8/lib.mp4: 640x384 (no detections), 7.7ms\n",
      "video 1/1 (frame 247/1998) /content/drive/MyDrive/Final.v1i.yolov8/lib.mp4: 640x384 1 Book, 9.0ms\n",
      "video 1/1 (frame 248/1998) /content/drive/MyDrive/Final.v1i.yolov8/lib.mp4: 640x384 1 Book, 7.8ms\n",
      "video 1/1 (frame 249/1998) /content/drive/MyDrive/Final.v1i.yolov8/lib.mp4: 640x384 1 Book, 7.8ms\n",
      "video 1/1 (frame 250/1998) /content/drive/MyDrive/Final.v1i.yolov8/lib.mp4: 640x384 1 Book, 7.6ms\n",
      "video 1/1 (frame 251/1998) /content/drive/MyDrive/Final.v1i.yolov8/lib.mp4: 640x384 1 Book, 7.6ms\n",
      "video 1/1 (frame 252/1998) /content/drive/MyDrive/Final.v1i.yolov8/lib.mp4: 640x384 1 Book, 8.0ms\n",
      "video 1/1 (frame 253/1998) /content/drive/MyDrive/Final.v1i.yolov8/lib.mp4: 640x384 1 Book, 10.5ms\n",
      "video 1/1 (frame 254/1998) /content/drive/MyDrive/Final.v1i.yolov8/lib.mp4: 640x384 1 Book, 12.6ms\n",
      "video 1/1 (frame 255/1998) /content/drive/MyDrive/Final.v1i.yolov8/lib.mp4: 640x384 1 Book, 16.2ms\n",
      "video 1/1 (frame 256/1998) /content/drive/MyDrive/Final.v1i.yolov8/lib.mp4: 640x384 1 Book, 11.9ms\n",
      "video 1/1 (frame 257/1998) /content/drive/MyDrive/Final.v1i.yolov8/lib.mp4: 640x384 1 Book, 11.5ms\n",
      "video 1/1 (frame 258/1998) /content/drive/MyDrive/Final.v1i.yolov8/lib.mp4: 640x384 1 Book, 9.1ms\n",
      "video 1/1 (frame 259/1998) /content/drive/MyDrive/Final.v1i.yolov8/lib.mp4: 640x384 1 Book, 11.6ms\n",
      "video 1/1 (frame 260/1998) /content/drive/MyDrive/Final.v1i.yolov8/lib.mp4: 640x384 1 Book, 13.1ms\n",
      "video 1/1 (frame 261/1998) /content/drive/MyDrive/Final.v1i.yolov8/lib.mp4: 640x384 (no detections), 14.0ms\n",
      "video 1/1 (frame 262/1998) /content/drive/MyDrive/Final.v1i.yolov8/lib.mp4: 640x384 (no detections), 8.6ms\n",
      "video 1/1 (frame 263/1998) /content/drive/MyDrive/Final.v1i.yolov8/lib.mp4: 640x384 (no detections), 9.6ms\n",
      "video 1/1 (frame 264/1998) /content/drive/MyDrive/Final.v1i.yolov8/lib.mp4: 640x384 1 Book, 8.4ms\n",
      "video 1/1 (frame 265/1998) /content/drive/MyDrive/Final.v1i.yolov8/lib.mp4: 640x384 (no detections), 11.2ms\n",
      "video 1/1 (frame 266/1998) /content/drive/MyDrive/Final.v1i.yolov8/lib.mp4: 640x384 (no detections), 7.7ms\n",
      "video 1/1 (frame 267/1998) /content/drive/MyDrive/Final.v1i.yolov8/lib.mp4: 640x384 (no detections), 7.5ms\n",
      "video 1/1 (frame 268/1998) /content/drive/MyDrive/Final.v1i.yolov8/lib.mp4: 640x384 1 Book, 11.3ms\n",
      "video 1/1 (frame 269/1998) /content/drive/MyDrive/Final.v1i.yolov8/lib.mp4: 640x384 (no detections), 11.7ms\n",
      "video 1/1 (frame 270/1998) /content/drive/MyDrive/Final.v1i.yolov8/lib.mp4: 640x384 1 Book, 10.8ms\n",
      "video 1/1 (frame 271/1998) /content/drive/MyDrive/Final.v1i.yolov8/lib.mp4: 640x384 1 Book, 13.0ms\n",
      "video 1/1 (frame 272/1998) /content/drive/MyDrive/Final.v1i.yolov8/lib.mp4: 640x384 (no detections), 10.6ms\n",
      "video 1/1 (frame 273/1998) /content/drive/MyDrive/Final.v1i.yolov8/lib.mp4: 640x384 1 Book, 11.6ms\n",
      "video 1/1 (frame 274/1998) /content/drive/MyDrive/Final.v1i.yolov8/lib.mp4: 640x384 1 Book, 12.5ms\n",
      "video 1/1 (frame 275/1998) /content/drive/MyDrive/Final.v1i.yolov8/lib.mp4: 640x384 1 Book, 10.2ms\n",
      "video 1/1 (frame 276/1998) /content/drive/MyDrive/Final.v1i.yolov8/lib.mp4: 640x384 (no detections), 12.7ms\n",
      "video 1/1 (frame 277/1998) /content/drive/MyDrive/Final.v1i.yolov8/lib.mp4: 640x384 (no detections), 10.5ms\n",
      "video 1/1 (frame 278/1998) /content/drive/MyDrive/Final.v1i.yolov8/lib.mp4: 640x384 (no detections), 10.0ms\n",
      "video 1/1 (frame 279/1998) /content/drive/MyDrive/Final.v1i.yolov8/lib.mp4: 640x384 (no detections), 8.8ms\n",
      "video 1/1 (frame 280/1998) /content/drive/MyDrive/Final.v1i.yolov8/lib.mp4: 640x384 (no detections), 8.2ms\n",
      "video 1/1 (frame 281/1998) /content/drive/MyDrive/Final.v1i.yolov8/lib.mp4: 640x384 (no detections), 11.0ms\n",
      "video 1/1 (frame 282/1998) /content/drive/MyDrive/Final.v1i.yolov8/lib.mp4: 640x384 (no detections), 10.9ms\n",
      "video 1/1 (frame 283/1998) /content/drive/MyDrive/Final.v1i.yolov8/lib.mp4: 640x384 (no detections), 12.6ms\n",
      "video 1/1 (frame 284/1998) /content/drive/MyDrive/Final.v1i.yolov8/lib.mp4: 640x384 (no detections), 11.1ms\n",
      "video 1/1 (frame 285/1998) /content/drive/MyDrive/Final.v1i.yolov8/lib.mp4: 640x384 (no detections), 9.5ms\n",
      "video 1/1 (frame 286/1998) /content/drive/MyDrive/Final.v1i.yolov8/lib.mp4: 640x384 (no detections), 10.9ms\n",
      "video 1/1 (frame 287/1998) /content/drive/MyDrive/Final.v1i.yolov8/lib.mp4: 640x384 (no detections), 9.1ms\n",
      "video 1/1 (frame 288/1998) /content/drive/MyDrive/Final.v1i.yolov8/lib.mp4: 640x384 (no detections), 10.2ms\n",
      "video 1/1 (frame 289/1998) /content/drive/MyDrive/Final.v1i.yolov8/lib.mp4: 640x384 (no detections), 9.8ms\n",
      "video 1/1 (frame 290/1998) /content/drive/MyDrive/Final.v1i.yolov8/lib.mp4: 640x384 (no detections), 8.8ms\n",
      "video 1/1 (frame 291/1998) /content/drive/MyDrive/Final.v1i.yolov8/lib.mp4: 640x384 (no detections), 36.4ms\n",
      "video 1/1 (frame 292/1998) /content/drive/MyDrive/Final.v1i.yolov8/lib.mp4: 640x384 (no detections), 10.1ms\n",
      "video 1/1 (frame 293/1998) /content/drive/MyDrive/Final.v1i.yolov8/lib.mp4: 640x384 (no detections), 9.1ms\n",
      "video 1/1 (frame 294/1998) /content/drive/MyDrive/Final.v1i.yolov8/lib.mp4: 640x384 (no detections), 9.1ms\n",
      "video 1/1 (frame 295/1998) /content/drive/MyDrive/Final.v1i.yolov8/lib.mp4: 640x384 (no detections), 9.2ms\n",
      "video 1/1 (frame 296/1998) /content/drive/MyDrive/Final.v1i.yolov8/lib.mp4: 640x384 (no detections), 12.6ms\n",
      "video 1/1 (frame 297/1998) /content/drive/MyDrive/Final.v1i.yolov8/lib.mp4: 640x384 (no detections), 9.2ms\n",
      "video 1/1 (frame 298/1998) /content/drive/MyDrive/Final.v1i.yolov8/lib.mp4: 640x384 (no detections), 22.1ms\n",
      "video 1/1 (frame 299/1998) /content/drive/MyDrive/Final.v1i.yolov8/lib.mp4: 640x384 (no detections), 9.3ms\n",
      "video 1/1 (frame 300/1998) /content/drive/MyDrive/Final.v1i.yolov8/lib.mp4: 640x384 (no detections), 9.1ms\n",
      "video 1/1 (frame 301/1998) /content/drive/MyDrive/Final.v1i.yolov8/lib.mp4: 640x384 (no detections), 9.3ms\n",
      "video 1/1 (frame 302/1998) /content/drive/MyDrive/Final.v1i.yolov8/lib.mp4: 640x384 (no detections), 9.0ms\n",
      "video 1/1 (frame 303/1998) /content/drive/MyDrive/Final.v1i.yolov8/lib.mp4: 640x384 (no detections), 8.9ms\n",
      "video 1/1 (frame 304/1998) /content/drive/MyDrive/Final.v1i.yolov8/lib.mp4: 640x384 (no detections), 8.7ms\n",
      "video 1/1 (frame 305/1998) /content/drive/MyDrive/Final.v1i.yolov8/lib.mp4: 640x384 (no detections), 8.6ms\n",
      "video 1/1 (frame 306/1998) /content/drive/MyDrive/Final.v1i.yolov8/lib.mp4: 640x384 (no detections), 9.0ms\n",
      "video 1/1 (frame 307/1998) /content/drive/MyDrive/Final.v1i.yolov8/lib.mp4: 640x384 (no detections), 10.4ms\n",
      "video 1/1 (frame 308/1998) /content/drive/MyDrive/Final.v1i.yolov8/lib.mp4: 640x384 (no detections), 10.7ms\n",
      "video 1/1 (frame 309/1998) /content/drive/MyDrive/Final.v1i.yolov8/lib.mp4: 640x384 (no detections), 11.1ms\n",
      "video 1/1 (frame 310/1998) /content/drive/MyDrive/Final.v1i.yolov8/lib.mp4: 640x384 (no detections), 11.3ms\n",
      "video 1/1 (frame 311/1998) /content/drive/MyDrive/Final.v1i.yolov8/lib.mp4: 640x384 (no detections), 10.8ms\n",
      "video 1/1 (frame 312/1998) /content/drive/MyDrive/Final.v1i.yolov8/lib.mp4: 640x384 (no detections), 10.9ms\n",
      "video 1/1 (frame 313/1998) /content/drive/MyDrive/Final.v1i.yolov8/lib.mp4: 640x384 (no detections), 10.5ms\n",
      "video 1/1 (frame 314/1998) /content/drive/MyDrive/Final.v1i.yolov8/lib.mp4: 640x384 (no detections), 9.0ms\n",
      "video 1/1 (frame 315/1998) /content/drive/MyDrive/Final.v1i.yolov8/lib.mp4: 640x384 (no detections), 9.5ms\n",
      "video 1/1 (frame 316/1998) /content/drive/MyDrive/Final.v1i.yolov8/lib.mp4: 640x384 (no detections), 9.3ms\n",
      "video 1/1 (frame 317/1998) /content/drive/MyDrive/Final.v1i.yolov8/lib.mp4: 640x384 (no detections), 9.0ms\n",
      "video 1/1 (frame 318/1998) /content/drive/MyDrive/Final.v1i.yolov8/lib.mp4: 640x384 (no detections), 10.2ms\n",
      "video 1/1 (frame 319/1998) /content/drive/MyDrive/Final.v1i.yolov8/lib.mp4: 640x384 (no detections), 9.7ms\n",
      "video 1/1 (frame 320/1998) /content/drive/MyDrive/Final.v1i.yolov8/lib.mp4: 640x384 (no detections), 8.8ms\n",
      "video 1/1 (frame 321/1998) /content/drive/MyDrive/Final.v1i.yolov8/lib.mp4: 640x384 (no detections), 11.1ms\n",
      "video 1/1 (frame 322/1998) /content/drive/MyDrive/Final.v1i.yolov8/lib.mp4: 640x384 (no detections), 9.4ms\n",
      "video 1/1 (frame 323/1998) /content/drive/MyDrive/Final.v1i.yolov8/lib.mp4: 640x384 (no detections), 11.6ms\n",
      "video 1/1 (frame 324/1998) /content/drive/MyDrive/Final.v1i.yolov8/lib.mp4: 640x384 (no detections), 9.6ms\n",
      "video 1/1 (frame 325/1998) /content/drive/MyDrive/Final.v1i.yolov8/lib.mp4: 640x384 (no detections), 10.4ms\n",
      "video 1/1 (frame 326/1998) /content/drive/MyDrive/Final.v1i.yolov8/lib.mp4: 640x384 (no detections), 10.3ms\n",
      "video 1/1 (frame 327/1998) /content/drive/MyDrive/Final.v1i.yolov8/lib.mp4: 640x384 (no detections), 12.1ms\n",
      "video 1/1 (frame 328/1998) /content/drive/MyDrive/Final.v1i.yolov8/lib.mp4: 640x384 (no detections), 9.4ms\n",
      "video 1/1 (frame 329/1998) /content/drive/MyDrive/Final.v1i.yolov8/lib.mp4: 640x384 (no detections), 12.2ms\n",
      "video 1/1 (frame 330/1998) /content/drive/MyDrive/Final.v1i.yolov8/lib.mp4: 640x384 (no detections), 14.6ms\n",
      "video 1/1 (frame 331/1998) /content/drive/MyDrive/Final.v1i.yolov8/lib.mp4: 640x384 (no detections), 10.6ms\n",
      "video 1/1 (frame 332/1998) /content/drive/MyDrive/Final.v1i.yolov8/lib.mp4: 640x384 (no detections), 16.0ms\n",
      "video 1/1 (frame 333/1998) /content/drive/MyDrive/Final.v1i.yolov8/lib.mp4: 640x384 (no detections), 9.4ms\n",
      "video 1/1 (frame 334/1998) /content/drive/MyDrive/Final.v1i.yolov8/lib.mp4: 640x384 (no detections), 9.5ms\n",
      "video 1/1 (frame 335/1998) /content/drive/MyDrive/Final.v1i.yolov8/lib.mp4: 640x384 (no detections), 9.7ms\n",
      "video 1/1 (frame 336/1998) /content/drive/MyDrive/Final.v1i.yolov8/lib.mp4: 640x384 (no detections), 12.0ms\n",
      "video 1/1 (frame 337/1998) /content/drive/MyDrive/Final.v1i.yolov8/lib.mp4: 640x384 (no detections), 9.1ms\n",
      "video 1/1 (frame 338/1998) /content/drive/MyDrive/Final.v1i.yolov8/lib.mp4: 640x384 (no detections), 9.0ms\n",
      "video 1/1 (frame 339/1998) /content/drive/MyDrive/Final.v1i.yolov8/lib.mp4: 640x384 (no detections), 8.9ms\n",
      "video 1/1 (frame 340/1998) /content/drive/MyDrive/Final.v1i.yolov8/lib.mp4: 640x384 (no detections), 9.4ms\n",
      "video 1/1 (frame 341/1998) /content/drive/MyDrive/Final.v1i.yolov8/lib.mp4: 640x384 (no detections), 9.0ms\n",
      "video 1/1 (frame 342/1998) /content/drive/MyDrive/Final.v1i.yolov8/lib.mp4: 640x384 (no detections), 11.0ms\n",
      "video 1/1 (frame 343/1998) /content/drive/MyDrive/Final.v1i.yolov8/lib.mp4: 640x384 (no detections), 15.7ms\n",
      "video 1/1 (frame 344/1998) /content/drive/MyDrive/Final.v1i.yolov8/lib.mp4: 640x384 (no detections), 11.3ms\n",
      "video 1/1 (frame 345/1998) /content/drive/MyDrive/Final.v1i.yolov8/lib.mp4: 640x384 (no detections), 13.4ms\n",
      "video 1/1 (frame 346/1998) /content/drive/MyDrive/Final.v1i.yolov8/lib.mp4: 640x384 (no detections), 11.9ms\n",
      "video 1/1 (frame 347/1998) /content/drive/MyDrive/Final.v1i.yolov8/lib.mp4: 640x384 (no detections), 12.9ms\n",
      "video 1/1 (frame 348/1998) /content/drive/MyDrive/Final.v1i.yolov8/lib.mp4: 640x384 (no detections), 10.2ms\n",
      "video 1/1 (frame 349/1998) /content/drive/MyDrive/Final.v1i.yolov8/lib.mp4: 640x384 (no detections), 9.7ms\n",
      "video 1/1 (frame 350/1998) /content/drive/MyDrive/Final.v1i.yolov8/lib.mp4: 640x384 (no detections), 9.0ms\n",
      "video 1/1 (frame 351/1998) /content/drive/MyDrive/Final.v1i.yolov8/lib.mp4: 640x384 (no detections), 11.9ms\n",
      "video 1/1 (frame 352/1998) /content/drive/MyDrive/Final.v1i.yolov8/lib.mp4: 640x384 (no detections), 11.2ms\n",
      "video 1/1 (frame 353/1998) /content/drive/MyDrive/Final.v1i.yolov8/lib.mp4: 640x384 1 Book, 10.3ms\n",
      "video 1/1 (frame 354/1998) /content/drive/MyDrive/Final.v1i.yolov8/lib.mp4: 640x384 2 Books, 9.2ms\n",
      "video 1/1 (frame 355/1998) /content/drive/MyDrive/Final.v1i.yolov8/lib.mp4: 640x384 (no detections), 10.2ms\n",
      "video 1/1 (frame 356/1998) /content/drive/MyDrive/Final.v1i.yolov8/lib.mp4: 640x384 (no detections), 10.0ms\n",
      "video 1/1 (frame 357/1998) /content/drive/MyDrive/Final.v1i.yolov8/lib.mp4: 640x384 (no detections), 9.6ms\n",
      "video 1/1 (frame 358/1998) /content/drive/MyDrive/Final.v1i.yolov8/lib.mp4: 640x384 (no detections), 9.3ms\n",
      "video 1/1 (frame 359/1998) /content/drive/MyDrive/Final.v1i.yolov8/lib.mp4: 640x384 (no detections), 10.7ms\n",
      "video 1/1 (frame 360/1998) /content/drive/MyDrive/Final.v1i.yolov8/lib.mp4: 640x384 (no detections), 9.8ms\n",
      "video 1/1 (frame 361/1998) /content/drive/MyDrive/Final.v1i.yolov8/lib.mp4: 640x384 (no detections), 9.2ms\n",
      "video 1/1 (frame 362/1998) /content/drive/MyDrive/Final.v1i.yolov8/lib.mp4: 640x384 (no detections), 9.2ms\n",
      "video 1/1 (frame 363/1998) /content/drive/MyDrive/Final.v1i.yolov8/lib.mp4: 640x384 (no detections), 9.5ms\n",
      "video 1/1 (frame 364/1998) /content/drive/MyDrive/Final.v1i.yolov8/lib.mp4: 640x384 (no detections), 9.1ms\n",
      "video 1/1 (frame 365/1998) /content/drive/MyDrive/Final.v1i.yolov8/lib.mp4: 640x384 (no detections), 9.5ms\n",
      "video 1/1 (frame 366/1998) /content/drive/MyDrive/Final.v1i.yolov8/lib.mp4: 640x384 (no detections), 13.7ms\n",
      "video 1/1 (frame 367/1998) /content/drive/MyDrive/Final.v1i.yolov8/lib.mp4: 640x384 (no detections), 11.3ms\n",
      "video 1/1 (frame 368/1998) /content/drive/MyDrive/Final.v1i.yolov8/lib.mp4: 640x384 (no detections), 12.0ms\n",
      "video 1/1 (frame 369/1998) /content/drive/MyDrive/Final.v1i.yolov8/lib.mp4: 640x384 (no detections), 11.3ms\n",
      "video 1/1 (frame 370/1998) /content/drive/MyDrive/Final.v1i.yolov8/lib.mp4: 640x384 (no detections), 10.3ms\n",
      "video 1/1 (frame 371/1998) /content/drive/MyDrive/Final.v1i.yolov8/lib.mp4: 640x384 (no detections), 10.5ms\n",
      "video 1/1 (frame 372/1998) /content/drive/MyDrive/Final.v1i.yolov8/lib.mp4: 640x384 1 Bottle, 9.1ms\n",
      "video 1/1 (frame 373/1998) /content/drive/MyDrive/Final.v1i.yolov8/lib.mp4: 640x384 (no detections), 9.8ms\n",
      "video 1/1 (frame 374/1998) /content/drive/MyDrive/Final.v1i.yolov8/lib.mp4: 640x384 1 Bottle, 9.2ms\n",
      "video 1/1 (frame 375/1998) /content/drive/MyDrive/Final.v1i.yolov8/lib.mp4: 640x384 (no detections), 11.4ms\n",
      "video 1/1 (frame 376/1998) /content/drive/MyDrive/Final.v1i.yolov8/lib.mp4: 640x384 (no detections), 10.5ms\n",
      "video 1/1 (frame 377/1998) /content/drive/MyDrive/Final.v1i.yolov8/lib.mp4: 640x384 (no detections), 15.7ms\n",
      "video 1/1 (frame 378/1998) /content/drive/MyDrive/Final.v1i.yolov8/lib.mp4: 640x384 (no detections), 16.4ms\n",
      "video 1/1 (frame 379/1998) /content/drive/MyDrive/Final.v1i.yolov8/lib.mp4: 640x384 1 Book, 12.3ms\n",
      "video 1/1 (frame 380/1998) /content/drive/MyDrive/Final.v1i.yolov8/lib.mp4: 640x384 (no detections), 12.7ms\n",
      "video 1/1 (frame 381/1998) /content/drive/MyDrive/Final.v1i.yolov8/lib.mp4: 640x384 1 Book, 16.7ms\n",
      "video 1/1 (frame 382/1998) /content/drive/MyDrive/Final.v1i.yolov8/lib.mp4: 640x384 1 Book, 10.2ms\n",
      "video 1/1 (frame 383/1998) /content/drive/MyDrive/Final.v1i.yolov8/lib.mp4: 640x384 1 Book, 10.4ms\n",
      "video 1/1 (frame 384/1998) /content/drive/MyDrive/Final.v1i.yolov8/lib.mp4: 640x384 1 Book, 20.4ms\n",
      "video 1/1 (frame 385/1998) /content/drive/MyDrive/Final.v1i.yolov8/lib.mp4: 640x384 1 Book, 9.6ms\n",
      "video 1/1 (frame 386/1998) /content/drive/MyDrive/Final.v1i.yolov8/lib.mp4: 640x384 1 Book, 9.3ms\n",
      "video 1/1 (frame 387/1998) /content/drive/MyDrive/Final.v1i.yolov8/lib.mp4: 640x384 1 Book, 9.5ms\n",
      "video 1/1 (frame 388/1998) /content/drive/MyDrive/Final.v1i.yolov8/lib.mp4: 640x384 1 Book, 11.7ms\n",
      "video 1/1 (frame 389/1998) /content/drive/MyDrive/Final.v1i.yolov8/lib.mp4: 640x384 (no detections), 10.0ms\n",
      "video 1/1 (frame 390/1998) /content/drive/MyDrive/Final.v1i.yolov8/lib.mp4: 640x384 1 Book, 11.7ms\n",
      "video 1/1 (frame 391/1998) /content/drive/MyDrive/Final.v1i.yolov8/lib.mp4: 640x384 (no detections), 10.4ms\n",
      "video 1/1 (frame 392/1998) /content/drive/MyDrive/Final.v1i.yolov8/lib.mp4: 640x384 (no detections), 10.0ms\n",
      "video 1/1 (frame 393/1998) /content/drive/MyDrive/Final.v1i.yolov8/lib.mp4: 640x384 (no detections), 9.6ms\n",
      "video 1/1 (frame 394/1998) /content/drive/MyDrive/Final.v1i.yolov8/lib.mp4: 640x384 (no detections), 9.6ms\n",
      "video 1/1 (frame 395/1998) /content/drive/MyDrive/Final.v1i.yolov8/lib.mp4: 640x384 (no detections), 9.5ms\n",
      "video 1/1 (frame 396/1998) /content/drive/MyDrive/Final.v1i.yolov8/lib.mp4: 640x384 (no detections), 10.8ms\n",
      "video 1/1 (frame 397/1998) /content/drive/MyDrive/Final.v1i.yolov8/lib.mp4: 640x384 (no detections), 13.5ms\n",
      "video 1/1 (frame 398/1998) /content/drive/MyDrive/Final.v1i.yolov8/lib.mp4: 640x384 (no detections), 9.3ms\n",
      "video 1/1 (frame 399/1998) /content/drive/MyDrive/Final.v1i.yolov8/lib.mp4: 640x384 (no detections), 11.3ms\n",
      "video 1/1 (frame 400/1998) /content/drive/MyDrive/Final.v1i.yolov8/lib.mp4: 640x384 (no detections), 20.2ms\n",
      "video 1/1 (frame 401/1998) /content/drive/MyDrive/Final.v1i.yolov8/lib.mp4: 640x384 (no detections), 9.9ms\n",
      "video 1/1 (frame 402/1998) /content/drive/MyDrive/Final.v1i.yolov8/lib.mp4: 640x384 (no detections), 10.9ms\n",
      "video 1/1 (frame 403/1998) /content/drive/MyDrive/Final.v1i.yolov8/lib.mp4: 640x384 (no detections), 9.2ms\n",
      "video 1/1 (frame 404/1998) /content/drive/MyDrive/Final.v1i.yolov8/lib.mp4: 640x384 (no detections), 9.2ms\n",
      "video 1/1 (frame 405/1998) /content/drive/MyDrive/Final.v1i.yolov8/lib.mp4: 640x384 (no detections), 8.7ms\n",
      "video 1/1 (frame 406/1998) /content/drive/MyDrive/Final.v1i.yolov8/lib.mp4: 640x384 (no detections), 9.5ms\n",
      "video 1/1 (frame 407/1998) /content/drive/MyDrive/Final.v1i.yolov8/lib.mp4: 640x384 (no detections), 11.3ms\n",
      "video 1/1 (frame 408/1998) /content/drive/MyDrive/Final.v1i.yolov8/lib.mp4: 640x384 (no detections), 11.6ms\n",
      "video 1/1 (frame 409/1998) /content/drive/MyDrive/Final.v1i.yolov8/lib.mp4: 640x384 (no detections), 15.9ms\n",
      "video 1/1 (frame 410/1998) /content/drive/MyDrive/Final.v1i.yolov8/lib.mp4: 640x384 (no detections), 13.5ms\n",
      "video 1/1 (frame 411/1998) /content/drive/MyDrive/Final.v1i.yolov8/lib.mp4: 640x384 (no detections), 10.9ms\n",
      "video 1/1 (frame 412/1998) /content/drive/MyDrive/Final.v1i.yolov8/lib.mp4: 640x384 (no detections), 10.6ms\n",
      "video 1/1 (frame 413/1998) /content/drive/MyDrive/Final.v1i.yolov8/lib.mp4: 640x384 (no detections), 9.4ms\n",
      "video 1/1 (frame 414/1998) /content/drive/MyDrive/Final.v1i.yolov8/lib.mp4: 640x384 (no detections), 9.1ms\n",
      "video 1/1 (frame 415/1998) /content/drive/MyDrive/Final.v1i.yolov8/lib.mp4: 640x384 (no detections), 9.3ms\n",
      "video 1/1 (frame 416/1998) /content/drive/MyDrive/Final.v1i.yolov8/lib.mp4: 640x384 (no detections), 13.3ms\n",
      "video 1/1 (frame 417/1998) /content/drive/MyDrive/Final.v1i.yolov8/lib.mp4: 640x384 (no detections), 17.5ms\n",
      "video 1/1 (frame 418/1998) /content/drive/MyDrive/Final.v1i.yolov8/lib.mp4: 640x384 (no detections), 11.9ms\n",
      "video 1/1 (frame 419/1998) /content/drive/MyDrive/Final.v1i.yolov8/lib.mp4: 640x384 (no detections), 11.3ms\n",
      "video 1/1 (frame 420/1998) /content/drive/MyDrive/Final.v1i.yolov8/lib.mp4: 640x384 (no detections), 10.1ms\n",
      "video 1/1 (frame 421/1998) /content/drive/MyDrive/Final.v1i.yolov8/lib.mp4: 640x384 (no detections), 12.6ms\n",
      "video 1/1 (frame 422/1998) /content/drive/MyDrive/Final.v1i.yolov8/lib.mp4: 640x384 (no detections), 11.8ms\n",
      "video 1/1 (frame 423/1998) /content/drive/MyDrive/Final.v1i.yolov8/lib.mp4: 640x384 (no detections), 12.1ms\n",
      "video 1/1 (frame 424/1998) /content/drive/MyDrive/Final.v1i.yolov8/lib.mp4: 640x384 (no detections), 10.5ms\n",
      "video 1/1 (frame 425/1998) /content/drive/MyDrive/Final.v1i.yolov8/lib.mp4: 640x384 (no detections), 14.5ms\n",
      "video 1/1 (frame 426/1998) /content/drive/MyDrive/Final.v1i.yolov8/lib.mp4: 640x384 (no detections), 9.6ms\n",
      "video 1/1 (frame 427/1998) /content/drive/MyDrive/Final.v1i.yolov8/lib.mp4: 640x384 (no detections), 10.1ms\n",
      "video 1/1 (frame 428/1998) /content/drive/MyDrive/Final.v1i.yolov8/lib.mp4: 640x384 (no detections), 9.3ms\n",
      "video 1/1 (frame 429/1998) /content/drive/MyDrive/Final.v1i.yolov8/lib.mp4: 640x384 (no detections), 9.7ms\n",
      "video 1/1 (frame 430/1998) /content/drive/MyDrive/Final.v1i.yolov8/lib.mp4: 640x384 (no detections), 9.5ms\n",
      "video 1/1 (frame 431/1998) /content/drive/MyDrive/Final.v1i.yolov8/lib.mp4: 640x384 (no detections), 9.9ms\n",
      "video 1/1 (frame 432/1998) /content/drive/MyDrive/Final.v1i.yolov8/lib.mp4: 640x384 (no detections), 12.3ms\n",
      "video 1/1 (frame 433/1998) /content/drive/MyDrive/Final.v1i.yolov8/lib.mp4: 640x384 (no detections), 13.8ms\n",
      "video 1/1 (frame 434/1998) /content/drive/MyDrive/Final.v1i.yolov8/lib.mp4: 640x384 (no detections), 18.8ms\n",
      "video 1/1 (frame 435/1998) /content/drive/MyDrive/Final.v1i.yolov8/lib.mp4: 640x384 (no detections), 13.4ms\n",
      "video 1/1 (frame 436/1998) /content/drive/MyDrive/Final.v1i.yolov8/lib.mp4: 640x384 (no detections), 9.3ms\n",
      "video 1/1 (frame 437/1998) /content/drive/MyDrive/Final.v1i.yolov8/lib.mp4: 640x384 (no detections), 10.7ms\n",
      "video 1/1 (frame 438/1998) /content/drive/MyDrive/Final.v1i.yolov8/lib.mp4: 640x384 (no detections), 9.4ms\n",
      "video 1/1 (frame 439/1998) /content/drive/MyDrive/Final.v1i.yolov8/lib.mp4: 640x384 (no detections), 10.7ms\n",
      "video 1/1 (frame 440/1998) /content/drive/MyDrive/Final.v1i.yolov8/lib.mp4: 640x384 (no detections), 11.9ms\n",
      "video 1/1 (frame 441/1998) /content/drive/MyDrive/Final.v1i.yolov8/lib.mp4: 640x384 (no detections), 10.2ms\n",
      "video 1/1 (frame 442/1998) /content/drive/MyDrive/Final.v1i.yolov8/lib.mp4: 640x384 (no detections), 10.5ms\n",
      "video 1/1 (frame 443/1998) /content/drive/MyDrive/Final.v1i.yolov8/lib.mp4: 640x384 (no detections), 13.6ms\n",
      "video 1/1 (frame 444/1998) /content/drive/MyDrive/Final.v1i.yolov8/lib.mp4: 640x384 (no detections), 9.3ms\n",
      "video 1/1 (frame 445/1998) /content/drive/MyDrive/Final.v1i.yolov8/lib.mp4: 640x384 (no detections), 10.6ms\n",
      "video 1/1 (frame 446/1998) /content/drive/MyDrive/Final.v1i.yolov8/lib.mp4: 640x384 (no detections), 14.7ms\n",
      "video 1/1 (frame 447/1998) /content/drive/MyDrive/Final.v1i.yolov8/lib.mp4: 640x384 (no detections), 9.8ms\n",
      "video 1/1 (frame 448/1998) /content/drive/MyDrive/Final.v1i.yolov8/lib.mp4: 640x384 (no detections), 10.2ms\n",
      "video 1/1 (frame 449/1998) /content/drive/MyDrive/Final.v1i.yolov8/lib.mp4: 640x384 (no detections), 14.6ms\n",
      "video 1/1 (frame 450/1998) /content/drive/MyDrive/Final.v1i.yolov8/lib.mp4: 640x384 (no detections), 13.0ms\n",
      "video 1/1 (frame 451/1998) /content/drive/MyDrive/Final.v1i.yolov8/lib.mp4: 640x384 (no detections), 11.6ms\n",
      "video 1/1 (frame 452/1998) /content/drive/MyDrive/Final.v1i.yolov8/lib.mp4: 640x384 (no detections), 13.0ms\n",
      "video 1/1 (frame 453/1998) /content/drive/MyDrive/Final.v1i.yolov8/lib.mp4: 640x384 (no detections), 11.7ms\n",
      "video 1/1 (frame 454/1998) /content/drive/MyDrive/Final.v1i.yolov8/lib.mp4: 640x384 (no detections), 11.9ms\n",
      "video 1/1 (frame 455/1998) /content/drive/MyDrive/Final.v1i.yolov8/lib.mp4: 640x384 (no detections), 11.9ms\n",
      "video 1/1 (frame 456/1998) /content/drive/MyDrive/Final.v1i.yolov8/lib.mp4: 640x384 (no detections), 6.6ms\n",
      "video 1/1 (frame 457/1998) /content/drive/MyDrive/Final.v1i.yolov8/lib.mp4: 640x384 (no detections), 6.4ms\n",
      "video 1/1 (frame 458/1998) /content/drive/MyDrive/Final.v1i.yolov8/lib.mp4: 640x384 (no detections), 7.4ms\n",
      "video 1/1 (frame 459/1998) /content/drive/MyDrive/Final.v1i.yolov8/lib.mp4: 640x384 (no detections), 6.4ms\n",
      "video 1/1 (frame 460/1998) /content/drive/MyDrive/Final.v1i.yolov8/lib.mp4: 640x384 (no detections), 7.7ms\n",
      "video 1/1 (frame 461/1998) /content/drive/MyDrive/Final.v1i.yolov8/lib.mp4: 640x384 (no detections), 8.1ms\n",
      "video 1/1 (frame 462/1998) /content/drive/MyDrive/Final.v1i.yolov8/lib.mp4: 640x384 (no detections), 7.4ms\n",
      "video 1/1 (frame 463/1998) /content/drive/MyDrive/Final.v1i.yolov8/lib.mp4: 640x384 (no detections), 6.1ms\n",
      "video 1/1 (frame 464/1998) /content/drive/MyDrive/Final.v1i.yolov8/lib.mp4: 640x384 (no detections), 7.5ms\n",
      "video 1/1 (frame 465/1998) /content/drive/MyDrive/Final.v1i.yolov8/lib.mp4: 640x384 (no detections), 6.4ms\n",
      "video 1/1 (frame 466/1998) /content/drive/MyDrive/Final.v1i.yolov8/lib.mp4: 640x384 (no detections), 8.7ms\n",
      "video 1/1 (frame 467/1998) /content/drive/MyDrive/Final.v1i.yolov8/lib.mp4: 640x384 (no detections), 6.4ms\n",
      "video 1/1 (frame 468/1998) /content/drive/MyDrive/Final.v1i.yolov8/lib.mp4: 640x384 (no detections), 8.1ms\n",
      "video 1/1 (frame 469/1998) /content/drive/MyDrive/Final.v1i.yolov8/lib.mp4: 640x384 (no detections), 6.4ms\n",
      "video 1/1 (frame 470/1998) /content/drive/MyDrive/Final.v1i.yolov8/lib.mp4: 640x384 (no detections), 6.6ms\n",
      "video 1/1 (frame 471/1998) /content/drive/MyDrive/Final.v1i.yolov8/lib.mp4: 640x384 (no detections), 6.2ms\n",
      "video 1/1 (frame 472/1998) /content/drive/MyDrive/Final.v1i.yolov8/lib.mp4: 640x384 (no detections), 8.0ms\n",
      "video 1/1 (frame 473/1998) /content/drive/MyDrive/Final.v1i.yolov8/lib.mp4: 640x384 (no detections), 6.4ms\n",
      "video 1/1 (frame 474/1998) /content/drive/MyDrive/Final.v1i.yolov8/lib.mp4: 640x384 (no detections), 6.6ms\n",
      "video 1/1 (frame 475/1998) /content/drive/MyDrive/Final.v1i.yolov8/lib.mp4: 640x384 (no detections), 6.4ms\n",
      "video 1/1 (frame 476/1998) /content/drive/MyDrive/Final.v1i.yolov8/lib.mp4: 640x384 (no detections), 6.3ms\n",
      "video 1/1 (frame 477/1998) /content/drive/MyDrive/Final.v1i.yolov8/lib.mp4: 640x384 (no detections), 10.8ms\n",
      "video 1/1 (frame 478/1998) /content/drive/MyDrive/Final.v1i.yolov8/lib.mp4: 640x384 (no detections), 6.7ms\n",
      "video 1/1 (frame 479/1998) /content/drive/MyDrive/Final.v1i.yolov8/lib.mp4: 640x384 (no detections), 6.3ms\n",
      "video 1/1 (frame 480/1998) /content/drive/MyDrive/Final.v1i.yolov8/lib.mp4: 640x384 (no detections), 7.5ms\n",
      "video 1/1 (frame 481/1998) /content/drive/MyDrive/Final.v1i.yolov8/lib.mp4: 640x384 (no detections), 6.8ms\n",
      "video 1/1 (frame 482/1998) /content/drive/MyDrive/Final.v1i.yolov8/lib.mp4: 640x384 (no detections), 7.6ms\n",
      "video 1/1 (frame 483/1998) /content/drive/MyDrive/Final.v1i.yolov8/lib.mp4: 640x384 (no detections), 8.7ms\n",
      "video 1/1 (frame 484/1998) /content/drive/MyDrive/Final.v1i.yolov8/lib.mp4: 640x384 (no detections), 8.9ms\n",
      "video 1/1 (frame 485/1998) /content/drive/MyDrive/Final.v1i.yolov8/lib.mp4: 640x384 (no detections), 8.0ms\n",
      "video 1/1 (frame 486/1998) /content/drive/MyDrive/Final.v1i.yolov8/lib.mp4: 640x384 (no detections), 9.8ms\n",
      "video 1/1 (frame 487/1998) /content/drive/MyDrive/Final.v1i.yolov8/lib.mp4: 640x384 (no detections), 8.8ms\n",
      "video 1/1 (frame 488/1998) /content/drive/MyDrive/Final.v1i.yolov8/lib.mp4: 640x384 (no detections), 8.6ms\n",
      "video 1/1 (frame 489/1998) /content/drive/MyDrive/Final.v1i.yolov8/lib.mp4: 640x384 (no detections), 9.4ms\n",
      "video 1/1 (frame 490/1998) /content/drive/MyDrive/Final.v1i.yolov8/lib.mp4: 640x384 (no detections), 8.6ms\n",
      "video 1/1 (frame 491/1998) /content/drive/MyDrive/Final.v1i.yolov8/lib.mp4: 640x384 (no detections), 8.4ms\n",
      "video 1/1 (frame 492/1998) /content/drive/MyDrive/Final.v1i.yolov8/lib.mp4: 640x384 (no detections), 10.0ms\n",
      "video 1/1 (frame 493/1998) /content/drive/MyDrive/Final.v1i.yolov8/lib.mp4: 640x384 (no detections), 6.3ms\n",
      "video 1/1 (frame 494/1998) /content/drive/MyDrive/Final.v1i.yolov8/lib.mp4: 640x384 (no detections), 9.0ms\n",
      "video 1/1 (frame 495/1998) /content/drive/MyDrive/Final.v1i.yolov8/lib.mp4: 640x384 (no detections), 6.3ms\n",
      "video 1/1 (frame 496/1998) /content/drive/MyDrive/Final.v1i.yolov8/lib.mp4: 640x384 (no detections), 6.4ms\n",
      "video 1/1 (frame 497/1998) /content/drive/MyDrive/Final.v1i.yolov8/lib.mp4: 640x384 (no detections), 7.6ms\n",
      "video 1/1 (frame 498/1998) /content/drive/MyDrive/Final.v1i.yolov8/lib.mp4: 640x384 (no detections), 6.5ms\n",
      "video 1/1 (frame 499/1998) /content/drive/MyDrive/Final.v1i.yolov8/lib.mp4: 640x384 (no detections), 6.3ms\n",
      "video 1/1 (frame 500/1998) /content/drive/MyDrive/Final.v1i.yolov8/lib.mp4: 640x384 (no detections), 6.2ms\n",
      "video 1/1 (frame 501/1998) /content/drive/MyDrive/Final.v1i.yolov8/lib.mp4: 640x384 (no detections), 6.3ms\n",
      "video 1/1 (frame 502/1998) /content/drive/MyDrive/Final.v1i.yolov8/lib.mp4: 640x384 (no detections), 6.5ms\n",
      "video 1/1 (frame 503/1998) /content/drive/MyDrive/Final.v1i.yolov8/lib.mp4: 640x384 (no detections), 7.4ms\n",
      "video 1/1 (frame 504/1998) /content/drive/MyDrive/Final.v1i.yolov8/lib.mp4: 640x384 (no detections), 6.2ms\n",
      "video 1/1 (frame 505/1998) /content/drive/MyDrive/Final.v1i.yolov8/lib.mp4: 640x384 (no detections), 7.4ms\n",
      "video 1/1 (frame 506/1998) /content/drive/MyDrive/Final.v1i.yolov8/lib.mp4: 640x384 (no detections), 6.9ms\n",
      "video 1/1 (frame 507/1998) /content/drive/MyDrive/Final.v1i.yolov8/lib.mp4: 640x384 (no detections), 7.5ms\n",
      "video 1/1 (frame 508/1998) /content/drive/MyDrive/Final.v1i.yolov8/lib.mp4: 640x384 (no detections), 6.2ms\n",
      "video 1/1 (frame 509/1998) /content/drive/MyDrive/Final.v1i.yolov8/lib.mp4: 640x384 (no detections), 7.3ms\n",
      "video 1/1 (frame 510/1998) /content/drive/MyDrive/Final.v1i.yolov8/lib.mp4: 640x384 (no detections), 7.3ms\n",
      "video 1/1 (frame 511/1998) /content/drive/MyDrive/Final.v1i.yolov8/lib.mp4: 640x384 (no detections), 9.9ms\n",
      "video 1/1 (frame 512/1998) /content/drive/MyDrive/Final.v1i.yolov8/lib.mp4: 640x384 (no detections), 6.5ms\n",
      "video 1/1 (frame 513/1998) /content/drive/MyDrive/Final.v1i.yolov8/lib.mp4: 640x384 (no detections), 10.3ms\n",
      "video 1/1 (frame 514/1998) /content/drive/MyDrive/Final.v1i.yolov8/lib.mp4: 640x384 (no detections), 6.2ms\n",
      "video 1/1 (frame 515/1998) /content/drive/MyDrive/Final.v1i.yolov8/lib.mp4: 640x384 (no detections), 7.6ms\n",
      "video 1/1 (frame 516/1998) /content/drive/MyDrive/Final.v1i.yolov8/lib.mp4: 640x384 (no detections), 7.2ms\n",
      "video 1/1 (frame 517/1998) /content/drive/MyDrive/Final.v1i.yolov8/lib.mp4: 640x384 (no detections), 6.3ms\n",
      "video 1/1 (frame 518/1998) /content/drive/MyDrive/Final.v1i.yolov8/lib.mp4: 640x384 (no detections), 7.9ms\n",
      "video 1/1 (frame 519/1998) /content/drive/MyDrive/Final.v1i.yolov8/lib.mp4: 640x384 (no detections), 7.1ms\n",
      "video 1/1 (frame 520/1998) /content/drive/MyDrive/Final.v1i.yolov8/lib.mp4: 640x384 (no detections), 6.3ms\n",
      "video 1/1 (frame 521/1998) /content/drive/MyDrive/Final.v1i.yolov8/lib.mp4: 640x384 (no detections), 7.7ms\n",
      "video 1/1 (frame 522/1998) /content/drive/MyDrive/Final.v1i.yolov8/lib.mp4: 640x384 (no detections), 6.3ms\n",
      "video 1/1 (frame 523/1998) /content/drive/MyDrive/Final.v1i.yolov8/lib.mp4: 640x384 (no detections), 7.3ms\n",
      "video 1/1 (frame 524/1998) /content/drive/MyDrive/Final.v1i.yolov8/lib.mp4: 640x384 (no detections), 6.4ms\n",
      "video 1/1 (frame 525/1998) /content/drive/MyDrive/Final.v1i.yolov8/lib.mp4: 640x384 (no detections), 6.7ms\n",
      "video 1/1 (frame 526/1998) /content/drive/MyDrive/Final.v1i.yolov8/lib.mp4: 640x384 (no detections), 7.6ms\n",
      "video 1/1 (frame 527/1998) /content/drive/MyDrive/Final.v1i.yolov8/lib.mp4: 640x384 (no detections), 6.3ms\n",
      "video 1/1 (frame 528/1998) /content/drive/MyDrive/Final.v1i.yolov8/lib.mp4: 640x384 (no detections), 6.4ms\n",
      "video 1/1 (frame 529/1998) /content/drive/MyDrive/Final.v1i.yolov8/lib.mp4: 640x384 (no detections), 6.4ms\n",
      "video 1/1 (frame 530/1998) /content/drive/MyDrive/Final.v1i.yolov8/lib.mp4: 640x384 (no detections), 15.5ms\n",
      "video 1/1 (frame 531/1998) /content/drive/MyDrive/Final.v1i.yolov8/lib.mp4: 640x384 (no detections), 7.4ms\n",
      "video 1/1 (frame 532/1998) /content/drive/MyDrive/Final.v1i.yolov8/lib.mp4: 640x384 (no detections), 7.5ms\n",
      "video 1/1 (frame 533/1998) /content/drive/MyDrive/Final.v1i.yolov8/lib.mp4: 640x384 (no detections), 6.3ms\n",
      "video 1/1 (frame 534/1998) /content/drive/MyDrive/Final.v1i.yolov8/lib.mp4: 640x384 (no detections), 7.9ms\n",
      "video 1/1 (frame 535/1998) /content/drive/MyDrive/Final.v1i.yolov8/lib.mp4: 640x384 (no detections), 9.5ms\n",
      "video 1/1 (frame 536/1998) /content/drive/MyDrive/Final.v1i.yolov8/lib.mp4: 640x384 (no detections), 8.8ms\n",
      "video 1/1 (frame 537/1998) /content/drive/MyDrive/Final.v1i.yolov8/lib.mp4: 640x384 (no detections), 9.1ms\n",
      "video 1/1 (frame 538/1998) /content/drive/MyDrive/Final.v1i.yolov8/lib.mp4: 640x384 (no detections), 8.3ms\n",
      "video 1/1 (frame 539/1998) /content/drive/MyDrive/Final.v1i.yolov8/lib.mp4: 640x384 (no detections), 8.7ms\n",
      "video 1/1 (frame 540/1998) /content/drive/MyDrive/Final.v1i.yolov8/lib.mp4: 640x384 (no detections), 18.2ms\n",
      "video 1/1 (frame 541/1998) /content/drive/MyDrive/Final.v1i.yolov8/lib.mp4: 640x384 (no detections), 8.7ms\n",
      "video 1/1 (frame 542/1998) /content/drive/MyDrive/Final.v1i.yolov8/lib.mp4: 640x384 (no detections), 9.4ms\n",
      "video 1/1 (frame 543/1998) /content/drive/MyDrive/Final.v1i.yolov8/lib.mp4: 640x384 (no detections), 9.0ms\n",
      "video 1/1 (frame 544/1998) /content/drive/MyDrive/Final.v1i.yolov8/lib.mp4: 640x384 (no detections), 9.5ms\n",
      "video 1/1 (frame 545/1998) /content/drive/MyDrive/Final.v1i.yolov8/lib.mp4: 640x384 (no detections), 8.6ms\n",
      "video 1/1 (frame 546/1998) /content/drive/MyDrive/Final.v1i.yolov8/lib.mp4: 640x384 (no detections), 6.5ms\n",
      "video 1/1 (frame 547/1998) /content/drive/MyDrive/Final.v1i.yolov8/lib.mp4: 640x384 (no detections), 6.4ms\n",
      "video 1/1 (frame 548/1998) /content/drive/MyDrive/Final.v1i.yolov8/lib.mp4: 640x384 (no detections), 6.4ms\n",
      "video 1/1 (frame 549/1998) /content/drive/MyDrive/Final.v1i.yolov8/lib.mp4: 640x384 (no detections), 7.7ms\n",
      "video 1/1 (frame 550/1998) /content/drive/MyDrive/Final.v1i.yolov8/lib.mp4: 640x384 (no detections), 10.6ms\n",
      "video 1/1 (frame 551/1998) /content/drive/MyDrive/Final.v1i.yolov8/lib.mp4: 640x384 (no detections), 6.7ms\n",
      "video 1/1 (frame 552/1998) /content/drive/MyDrive/Final.v1i.yolov8/lib.mp4: 640x384 (no detections), 9.4ms\n",
      "video 1/1 (frame 553/1998) /content/drive/MyDrive/Final.v1i.yolov8/lib.mp4: 640x384 (no detections), 15.6ms\n",
      "video 1/1 (frame 554/1998) /content/drive/MyDrive/Final.v1i.yolov8/lib.mp4: 640x384 (no detections), 6.5ms\n",
      "video 1/1 (frame 555/1998) /content/drive/MyDrive/Final.v1i.yolov8/lib.mp4: 640x384 (no detections), 6.3ms\n",
      "video 1/1 (frame 556/1998) /content/drive/MyDrive/Final.v1i.yolov8/lib.mp4: 640x384 (no detections), 6.3ms\n",
      "video 1/1 (frame 557/1998) /content/drive/MyDrive/Final.v1i.yolov8/lib.mp4: 640x384 (no detections), 6.4ms\n",
      "video 1/1 (frame 558/1998) /content/drive/MyDrive/Final.v1i.yolov8/lib.mp4: 640x384 (no detections), 6.2ms\n",
      "video 1/1 (frame 559/1998) /content/drive/MyDrive/Final.v1i.yolov8/lib.mp4: 640x384 (no detections), 8.3ms\n",
      "video 1/1 (frame 560/1998) /content/drive/MyDrive/Final.v1i.yolov8/lib.mp4: 640x384 (no detections), 6.5ms\n",
      "video 1/1 (frame 561/1998) /content/drive/MyDrive/Final.v1i.yolov8/lib.mp4: 640x384 (no detections), 6.4ms\n",
      "video 1/1 (frame 562/1998) /content/drive/MyDrive/Final.v1i.yolov8/lib.mp4: 640x384 (no detections), 6.2ms\n",
      "video 1/1 (frame 563/1998) /content/drive/MyDrive/Final.v1i.yolov8/lib.mp4: 640x384 (no detections), 7.9ms\n",
      "video 1/1 (frame 564/1998) /content/drive/MyDrive/Final.v1i.yolov8/lib.mp4: 640x384 (no detections), 6.3ms\n",
      "video 1/1 (frame 565/1998) /content/drive/MyDrive/Final.v1i.yolov8/lib.mp4: 640x384 (no detections), 6.3ms\n",
      "video 1/1 (frame 566/1998) /content/drive/MyDrive/Final.v1i.yolov8/lib.mp4: 640x384 (no detections), 6.3ms\n",
      "video 1/1 (frame 567/1998) /content/drive/MyDrive/Final.v1i.yolov8/lib.mp4: 640x384 (no detections), 8.6ms\n",
      "video 1/1 (frame 568/1998) /content/drive/MyDrive/Final.v1i.yolov8/lib.mp4: 640x384 (no detections), 6.3ms\n",
      "video 1/1 (frame 569/1998) /content/drive/MyDrive/Final.v1i.yolov8/lib.mp4: 640x384 (no detections), 6.3ms\n",
      "video 1/1 (frame 570/1998) /content/drive/MyDrive/Final.v1i.yolov8/lib.mp4: 640x384 (no detections), 6.2ms\n",
      "video 1/1 (frame 571/1998) /content/drive/MyDrive/Final.v1i.yolov8/lib.mp4: 640x384 (no detections), 7.7ms\n",
      "video 1/1 (frame 572/1998) /content/drive/MyDrive/Final.v1i.yolov8/lib.mp4: 640x384 (no detections), 6.5ms\n",
      "video 1/1 (frame 573/1998) /content/drive/MyDrive/Final.v1i.yolov8/lib.mp4: 640x384 (no detections), 6.3ms\n",
      "video 1/1 (frame 574/1998) /content/drive/MyDrive/Final.v1i.yolov8/lib.mp4: 640x384 (no detections), 6.6ms\n",
      "video 1/1 (frame 575/1998) /content/drive/MyDrive/Final.v1i.yolov8/lib.mp4: 640x384 (no detections), 7.3ms\n",
      "video 1/1 (frame 576/1998) /content/drive/MyDrive/Final.v1i.yolov8/lib.mp4: 640x384 (no detections), 8.8ms\n",
      "video 1/1 (frame 577/1998) /content/drive/MyDrive/Final.v1i.yolov8/lib.mp4: 640x384 (no detections), 6.3ms\n",
      "video 1/1 (frame 578/1998) /content/drive/MyDrive/Final.v1i.yolov8/lib.mp4: 640x384 (no detections), 6.1ms\n",
      "video 1/1 (frame 579/1998) /content/drive/MyDrive/Final.v1i.yolov8/lib.mp4: 640x384 (no detections), 11.4ms\n",
      "video 1/1 (frame 580/1998) /content/drive/MyDrive/Final.v1i.yolov8/lib.mp4: 640x384 (no detections), 8.2ms\n",
      "video 1/1 (frame 581/1998) /content/drive/MyDrive/Final.v1i.yolov8/lib.mp4: 640x384 (no detections), 6.2ms\n",
      "video 1/1 (frame 582/1998) /content/drive/MyDrive/Final.v1i.yolov8/lib.mp4: 640x384 (no detections), 10.3ms\n",
      "video 1/1 (frame 583/1998) /content/drive/MyDrive/Final.v1i.yolov8/lib.mp4: 640x384 (no detections), 8.4ms\n",
      "video 1/1 (frame 584/1998) /content/drive/MyDrive/Final.v1i.yolov8/lib.mp4: 640x384 (no detections), 10.0ms\n",
      "video 1/1 (frame 585/1998) /content/drive/MyDrive/Final.v1i.yolov8/lib.mp4: 640x384 (no detections), 9.2ms\n",
      "video 1/1 (frame 586/1998) /content/drive/MyDrive/Final.v1i.yolov8/lib.mp4: 640x384 (no detections), 9.0ms\n",
      "video 1/1 (frame 587/1998) /content/drive/MyDrive/Final.v1i.yolov8/lib.mp4: 640x384 (no detections), 8.8ms\n",
      "video 1/1 (frame 588/1998) /content/drive/MyDrive/Final.v1i.yolov8/lib.mp4: 640x384 (no detections), 8.3ms\n",
      "video 1/1 (frame 589/1998) /content/drive/MyDrive/Final.v1i.yolov8/lib.mp4: 640x384 (no detections), 7.9ms\n",
      "video 1/1 (frame 590/1998) /content/drive/MyDrive/Final.v1i.yolov8/lib.mp4: 640x384 (no detections), 8.2ms\n",
      "video 1/1 (frame 591/1998) /content/drive/MyDrive/Final.v1i.yolov8/lib.mp4: 640x384 (no detections), 8.1ms\n",
      "video 1/1 (frame 592/1998) /content/drive/MyDrive/Final.v1i.yolov8/lib.mp4: 640x384 (no detections), 8.3ms\n",
      "video 1/1 (frame 593/1998) /content/drive/MyDrive/Final.v1i.yolov8/lib.mp4: 640x384 (no detections), 8.4ms\n",
      "video 1/1 (frame 594/1998) /content/drive/MyDrive/Final.v1i.yolov8/lib.mp4: 640x384 (no detections), 6.2ms\n",
      "video 1/1 (frame 595/1998) /content/drive/MyDrive/Final.v1i.yolov8/lib.mp4: 640x384 (no detections), 7.6ms\n",
      "video 1/1 (frame 596/1998) /content/drive/MyDrive/Final.v1i.yolov8/lib.mp4: 640x384 (no detections), 6.4ms\n",
      "video 1/1 (frame 597/1998) /content/drive/MyDrive/Final.v1i.yolov8/lib.mp4: 640x384 (no detections), 6.3ms\n",
      "video 1/1 (frame 598/1998) /content/drive/MyDrive/Final.v1i.yolov8/lib.mp4: 640x384 (no detections), 6.5ms\n",
      "video 1/1 (frame 599/1998) /content/drive/MyDrive/Final.v1i.yolov8/lib.mp4: 640x384 (no detections), 6.4ms\n",
      "video 1/1 (frame 600/1998) /content/drive/MyDrive/Final.v1i.yolov8/lib.mp4: 640x384 (no detections), 7.1ms\n",
      "video 1/1 (frame 601/1998) /content/drive/MyDrive/Final.v1i.yolov8/lib.mp4: 640x384 (no detections), 6.3ms\n",
      "video 1/1 (frame 602/1998) /content/drive/MyDrive/Final.v1i.yolov8/lib.mp4: 640x384 (no detections), 6.3ms\n",
      "video 1/1 (frame 603/1998) /content/drive/MyDrive/Final.v1i.yolov8/lib.mp4: 640x384 (no detections), 6.5ms\n",
      "video 1/1 (frame 604/1998) /content/drive/MyDrive/Final.v1i.yolov8/lib.mp4: 640x384 (no detections), 6.7ms\n",
      "video 1/1 (frame 605/1998) /content/drive/MyDrive/Final.v1i.yolov8/lib.mp4: 640x384 (no detections), 8.9ms\n",
      "video 1/1 (frame 606/1998) /content/drive/MyDrive/Final.v1i.yolov8/lib.mp4: 640x384 (no detections), 6.6ms\n",
      "video 1/1 (frame 607/1998) /content/drive/MyDrive/Final.v1i.yolov8/lib.mp4: 640x384 (no detections), 6.5ms\n",
      "video 1/1 (frame 608/1998) /content/drive/MyDrive/Final.v1i.yolov8/lib.mp4: 640x384 (no detections), 6.6ms\n",
      "video 1/1 (frame 609/1998) /content/drive/MyDrive/Final.v1i.yolov8/lib.mp4: 640x384 (no detections), 6.4ms\n",
      "video 1/1 (frame 610/1998) /content/drive/MyDrive/Final.v1i.yolov8/lib.mp4: 640x384 (no detections), 6.5ms\n",
      "video 1/1 (frame 611/1998) /content/drive/MyDrive/Final.v1i.yolov8/lib.mp4: 640x384 (no detections), 10.6ms\n",
      "video 1/1 (frame 612/1998) /content/drive/MyDrive/Final.v1i.yolov8/lib.mp4: 640x384 (no detections), 7.0ms\n",
      "video 1/1 (frame 613/1998) /content/drive/MyDrive/Final.v1i.yolov8/lib.mp4: 640x384 (no detections), 6.6ms\n",
      "video 1/1 (frame 614/1998) /content/drive/MyDrive/Final.v1i.yolov8/lib.mp4: 640x384 (no detections), 6.7ms\n",
      "video 1/1 (frame 615/1998) /content/drive/MyDrive/Final.v1i.yolov8/lib.mp4: 640x384 (no detections), 6.5ms\n",
      "video 1/1 (frame 616/1998) /content/drive/MyDrive/Final.v1i.yolov8/lib.mp4: 640x384 (no detections), 8.5ms\n",
      "video 1/1 (frame 617/1998) /content/drive/MyDrive/Final.v1i.yolov8/lib.mp4: 640x384 (no detections), 6.5ms\n",
      "video 1/1 (frame 618/1998) /content/drive/MyDrive/Final.v1i.yolov8/lib.mp4: 640x384 (no detections), 9.4ms\n",
      "video 1/1 (frame 619/1998) /content/drive/MyDrive/Final.v1i.yolov8/lib.mp4: 640x384 (no detections), 6.2ms\n",
      "video 1/1 (frame 620/1998) /content/drive/MyDrive/Final.v1i.yolov8/lib.mp4: 640x384 (no detections), 7.6ms\n",
      "video 1/1 (frame 621/1998) /content/drive/MyDrive/Final.v1i.yolov8/lib.mp4: 640x384 (no detections), 6.4ms\n",
      "video 1/1 (frame 622/1998) /content/drive/MyDrive/Final.v1i.yolov8/lib.mp4: 640x384 (no detections), 7.3ms\n",
      "video 1/1 (frame 623/1998) /content/drive/MyDrive/Final.v1i.yolov8/lib.mp4: 640x384 (no detections), 6.5ms\n",
      "video 1/1 (frame 624/1998) /content/drive/MyDrive/Final.v1i.yolov8/lib.mp4: 640x384 (no detections), 7.0ms\n",
      "video 1/1 (frame 625/1998) /content/drive/MyDrive/Final.v1i.yolov8/lib.mp4: 640x384 (no detections), 6.4ms\n",
      "video 1/1 (frame 626/1998) /content/drive/MyDrive/Final.v1i.yolov8/lib.mp4: 640x384 (no detections), 8.7ms\n",
      "video 1/1 (frame 627/1998) /content/drive/MyDrive/Final.v1i.yolov8/lib.mp4: 640x384 1 Chair, 6.3ms\n",
      "video 1/1 (frame 628/1998) /content/drive/MyDrive/Final.v1i.yolov8/lib.mp4: 640x384 (no detections), 6.3ms\n",
      "video 1/1 (frame 629/1998) /content/drive/MyDrive/Final.v1i.yolov8/lib.mp4: 640x384 (no detections), 6.3ms\n",
      "video 1/1 (frame 630/1998) /content/drive/MyDrive/Final.v1i.yolov8/lib.mp4: 640x384 (no detections), 9.6ms\n",
      "video 1/1 (frame 631/1998) /content/drive/MyDrive/Final.v1i.yolov8/lib.mp4: 640x384 (no detections), 11.9ms\n",
      "video 1/1 (frame 632/1998) /content/drive/MyDrive/Final.v1i.yolov8/lib.mp4: 640x384 (no detections), 9.4ms\n",
      "video 1/1 (frame 633/1998) /content/drive/MyDrive/Final.v1i.yolov8/lib.mp4: 640x384 (no detections), 9.6ms\n",
      "video 1/1 (frame 634/1998) /content/drive/MyDrive/Final.v1i.yolov8/lib.mp4: 640x384 (no detections), 8.4ms\n",
      "video 1/1 (frame 635/1998) /content/drive/MyDrive/Final.v1i.yolov8/lib.mp4: 640x384 (no detections), 8.8ms\n",
      "video 1/1 (frame 636/1998) /content/drive/MyDrive/Final.v1i.yolov8/lib.mp4: 640x384 (no detections), 9.3ms\n",
      "video 1/1 (frame 637/1998) /content/drive/MyDrive/Final.v1i.yolov8/lib.mp4: 640x384 (no detections), 8.6ms\n",
      "video 1/1 (frame 638/1998) /content/drive/MyDrive/Final.v1i.yolov8/lib.mp4: 640x384 (no detections), 8.1ms\n",
      "video 1/1 (frame 639/1998) /content/drive/MyDrive/Final.v1i.yolov8/lib.mp4: 640x384 (no detections), 8.9ms\n",
      "video 1/1 (frame 640/1998) /content/drive/MyDrive/Final.v1i.yolov8/lib.mp4: 640x384 (no detections), 8.5ms\n",
      "video 1/1 (frame 641/1998) /content/drive/MyDrive/Final.v1i.yolov8/lib.mp4: 640x384 (no detections), 8.7ms\n",
      "video 1/1 (frame 642/1998) /content/drive/MyDrive/Final.v1i.yolov8/lib.mp4: 640x384 (no detections), 33.7ms\n",
      "video 1/1 (frame 643/1998) /content/drive/MyDrive/Final.v1i.yolov8/lib.mp4: 640x384 (no detections), 8.4ms\n",
      "video 1/1 (frame 644/1998) /content/drive/MyDrive/Final.v1i.yolov8/lib.mp4: 640x384 (no detections), 24.3ms\n",
      "video 1/1 (frame 645/1998) /content/drive/MyDrive/Final.v1i.yolov8/lib.mp4: 640x384 (no detections), 43.8ms\n",
      "video 1/1 (frame 646/1998) /content/drive/MyDrive/Final.v1i.yolov8/lib.mp4: 640x384 (no detections), 36.5ms\n",
      "video 1/1 (frame 647/1998) /content/drive/MyDrive/Final.v1i.yolov8/lib.mp4: 640x384 (no detections), 12.0ms\n",
      "video 1/1 (frame 648/1998) /content/drive/MyDrive/Final.v1i.yolov8/lib.mp4: 640x384 (no detections), 9.6ms\n",
      "video 1/1 (frame 649/1998) /content/drive/MyDrive/Final.v1i.yolov8/lib.mp4: 640x384 (no detections), 16.2ms\n",
      "video 1/1 (frame 650/1998) /content/drive/MyDrive/Final.v1i.yolov8/lib.mp4: 640x384 (no detections), 6.4ms\n",
      "video 1/1 (frame 651/1998) /content/drive/MyDrive/Final.v1i.yolov8/lib.mp4: 640x384 (no detections), 6.3ms\n",
      "video 1/1 (frame 652/1998) /content/drive/MyDrive/Final.v1i.yolov8/lib.mp4: 640x384 (no detections), 7.0ms\n",
      "video 1/1 (frame 653/1998) /content/drive/MyDrive/Final.v1i.yolov8/lib.mp4: 640x384 (no detections), 9.6ms\n",
      "video 1/1 (frame 654/1998) /content/drive/MyDrive/Final.v1i.yolov8/lib.mp4: 640x384 (no detections), 10.2ms\n",
      "video 1/1 (frame 655/1998) /content/drive/MyDrive/Final.v1i.yolov8/lib.mp4: 640x384 (no detections), 6.5ms\n",
      "video 1/1 (frame 656/1998) /content/drive/MyDrive/Final.v1i.yolov8/lib.mp4: 640x384 (no detections), 7.1ms\n",
      "video 1/1 (frame 657/1998) /content/drive/MyDrive/Final.v1i.yolov8/lib.mp4: 640x384 (no detections), 7.5ms\n",
      "video 1/1 (frame 658/1998) /content/drive/MyDrive/Final.v1i.yolov8/lib.mp4: 640x384 (no detections), 6.5ms\n",
      "video 1/1 (frame 659/1998) /content/drive/MyDrive/Final.v1i.yolov8/lib.mp4: 640x384 (no detections), 8.3ms\n",
      "video 1/1 (frame 660/1998) /content/drive/MyDrive/Final.v1i.yolov8/lib.mp4: 640x384 (no detections), 7.3ms\n",
      "video 1/1 (frame 661/1998) /content/drive/MyDrive/Final.v1i.yolov8/lib.mp4: 640x384 (no detections), 6.5ms\n",
      "video 1/1 (frame 662/1998) /content/drive/MyDrive/Final.v1i.yolov8/lib.mp4: 640x384 (no detections), 6.1ms\n",
      "video 1/1 (frame 663/1998) /content/drive/MyDrive/Final.v1i.yolov8/lib.mp4: 640x384 (no detections), 7.8ms\n",
      "video 1/1 (frame 664/1998) /content/drive/MyDrive/Final.v1i.yolov8/lib.mp4: 640x384 (no detections), 6.6ms\n",
      "video 1/1 (frame 665/1998) /content/drive/MyDrive/Final.v1i.yolov8/lib.mp4: 640x384 (no detections), 7.0ms\n",
      "video 1/1 (frame 666/1998) /content/drive/MyDrive/Final.v1i.yolov8/lib.mp4: 640x384 (no detections), 6.4ms\n",
      "video 1/1 (frame 667/1998) /content/drive/MyDrive/Final.v1i.yolov8/lib.mp4: 640x384 (no detections), 7.5ms\n",
      "video 1/1 (frame 668/1998) /content/drive/MyDrive/Final.v1i.yolov8/lib.mp4: 640x384 (no detections), 8.0ms\n",
      "video 1/1 (frame 669/1998) /content/drive/MyDrive/Final.v1i.yolov8/lib.mp4: 640x384 (no detections), 9.1ms\n",
      "video 1/1 (frame 670/1998) /content/drive/MyDrive/Final.v1i.yolov8/lib.mp4: 640x384 (no detections), 13.9ms\n",
      "video 1/1 (frame 671/1998) /content/drive/MyDrive/Final.v1i.yolov8/lib.mp4: 640x384 (no detections), 8.8ms\n",
      "video 1/1 (frame 672/1998) /content/drive/MyDrive/Final.v1i.yolov8/lib.mp4: 640x384 (no detections), 10.1ms\n",
      "video 1/1 (frame 673/1998) /content/drive/MyDrive/Final.v1i.yolov8/lib.mp4: 640x384 (no detections), 8.9ms\n",
      "video 1/1 (frame 674/1998) /content/drive/MyDrive/Final.v1i.yolov8/lib.mp4: 640x384 (no detections), 8.3ms\n",
      "video 1/1 (frame 675/1998) /content/drive/MyDrive/Final.v1i.yolov8/lib.mp4: 640x384 (no detections), 8.5ms\n",
      "video 1/1 (frame 676/1998) /content/drive/MyDrive/Final.v1i.yolov8/lib.mp4: 640x384 (no detections), 26.9ms\n",
      "video 1/1 (frame 677/1998) /content/drive/MyDrive/Final.v1i.yolov8/lib.mp4: 640x384 (no detections), 33.1ms\n",
      "video 1/1 (frame 678/1998) /content/drive/MyDrive/Final.v1i.yolov8/lib.mp4: 640x384 (no detections), 26.1ms\n",
      "video 1/1 (frame 679/1998) /content/drive/MyDrive/Final.v1i.yolov8/lib.mp4: 640x384 (no detections), 28.9ms\n",
      "video 1/1 (frame 680/1998) /content/drive/MyDrive/Final.v1i.yolov8/lib.mp4: 640x384 (no detections), 9.2ms\n",
      "video 1/1 (frame 681/1998) /content/drive/MyDrive/Final.v1i.yolov8/lib.mp4: 640x384 (no detections), 6.4ms\n",
      "video 1/1 (frame 682/1998) /content/drive/MyDrive/Final.v1i.yolov8/lib.mp4: 640x384 (no detections), 6.9ms\n",
      "video 1/1 (frame 683/1998) /content/drive/MyDrive/Final.v1i.yolov8/lib.mp4: 640x384 (no detections), 6.2ms\n",
      "video 1/1 (frame 684/1998) /content/drive/MyDrive/Final.v1i.yolov8/lib.mp4: 640x384 (no detections), 10.0ms\n",
      "video 1/1 (frame 685/1998) /content/drive/MyDrive/Final.v1i.yolov8/lib.mp4: 640x384 (no detections), 6.4ms\n",
      "video 1/1 (frame 686/1998) /content/drive/MyDrive/Final.v1i.yolov8/lib.mp4: 640x384 (no detections), 6.5ms\n",
      "video 1/1 (frame 687/1998) /content/drive/MyDrive/Final.v1i.yolov8/lib.mp4: 640x384 (no detections), 7.0ms\n",
      "video 1/1 (frame 688/1998) /content/drive/MyDrive/Final.v1i.yolov8/lib.mp4: 640x384 (no detections), 6.3ms\n",
      "video 1/1 (frame 689/1998) /content/drive/MyDrive/Final.v1i.yolov8/lib.mp4: 640x384 (no detections), 8.9ms\n",
      "video 1/1 (frame 690/1998) /content/drive/MyDrive/Final.v1i.yolov8/lib.mp4: 640x384 (no detections), 6.4ms\n",
      "video 1/1 (frame 691/1998) /content/drive/MyDrive/Final.v1i.yolov8/lib.mp4: 640x384 (no detections), 6.4ms\n",
      "video 1/1 (frame 692/1998) /content/drive/MyDrive/Final.v1i.yolov8/lib.mp4: 640x384 (no detections), 6.1ms\n",
      "video 1/1 (frame 693/1998) /content/drive/MyDrive/Final.v1i.yolov8/lib.mp4: 640x384 (no detections), 9.6ms\n",
      "video 1/1 (frame 694/1998) /content/drive/MyDrive/Final.v1i.yolov8/lib.mp4: 640x384 (no detections), 6.4ms\n",
      "video 1/1 (frame 695/1998) /content/drive/MyDrive/Final.v1i.yolov8/lib.mp4: 640x384 (no detections), 6.2ms\n",
      "video 1/1 (frame 696/1998) /content/drive/MyDrive/Final.v1i.yolov8/lib.mp4: 640x384 (no detections), 6.4ms\n",
      "video 1/1 (frame 697/1998) /content/drive/MyDrive/Final.v1i.yolov8/lib.mp4: 640x384 (no detections), 7.8ms\n",
      "video 1/1 (frame 698/1998) /content/drive/MyDrive/Final.v1i.yolov8/lib.mp4: 640x384 (no detections), 6.6ms\n",
      "video 1/1 (frame 699/1998) /content/drive/MyDrive/Final.v1i.yolov8/lib.mp4: 640x384 (no detections), 8.6ms\n",
      "video 1/1 (frame 700/1998) /content/drive/MyDrive/Final.v1i.yolov8/lib.mp4: 640x384 (no detections), 7.2ms\n",
      "video 1/1 (frame 701/1998) /content/drive/MyDrive/Final.v1i.yolov8/lib.mp4: 640x384 (no detections), 7.9ms\n",
      "video 1/1 (frame 702/1998) /content/drive/MyDrive/Final.v1i.yolov8/lib.mp4: 640x384 (no detections), 6.5ms\n",
      "video 1/1 (frame 703/1998) /content/drive/MyDrive/Final.v1i.yolov8/lib.mp4: 640x384 (no detections), 6.3ms\n",
      "video 1/1 (frame 704/1998) /content/drive/MyDrive/Final.v1i.yolov8/lib.mp4: 640x384 (no detections), 6.4ms\n",
      "video 1/1 (frame 705/1998) /content/drive/MyDrive/Final.v1i.yolov8/lib.mp4: 640x384 (no detections), 11.2ms\n",
      "video 1/1 (frame 706/1998) /content/drive/MyDrive/Final.v1i.yolov8/lib.mp4: 640x384 (no detections), 6.4ms\n",
      "video 1/1 (frame 707/1998) /content/drive/MyDrive/Final.v1i.yolov8/lib.mp4: 640x384 (no detections), 6.4ms\n",
      "video 1/1 (frame 708/1998) /content/drive/MyDrive/Final.v1i.yolov8/lib.mp4: 640x384 (no detections), 10.5ms\n",
      "video 1/1 (frame 709/1998) /content/drive/MyDrive/Final.v1i.yolov8/lib.mp4: 640x384 (no detections), 9.3ms\n",
      "video 1/1 (frame 710/1998) /content/drive/MyDrive/Final.v1i.yolov8/lib.mp4: 640x384 (no detections), 14.5ms\n",
      "video 1/1 (frame 711/1998) /content/drive/MyDrive/Final.v1i.yolov8/lib.mp4: 640x384 (no detections), 8.3ms\n",
      "video 1/1 (frame 712/1998) /content/drive/MyDrive/Final.v1i.yolov8/lib.mp4: 640x384 (no detections), 8.2ms\n",
      "video 1/1 (frame 713/1998) /content/drive/MyDrive/Final.v1i.yolov8/lib.mp4: 640x384 (no detections), 9.0ms\n",
      "video 1/1 (frame 714/1998) /content/drive/MyDrive/Final.v1i.yolov8/lib.mp4: 640x384 (no detections), 8.1ms\n",
      "video 1/1 (frame 715/1998) /content/drive/MyDrive/Final.v1i.yolov8/lib.mp4: 640x384 (no detections), 8.6ms\n",
      "video 1/1 (frame 716/1998) /content/drive/MyDrive/Final.v1i.yolov8/lib.mp4: 640x384 (no detections), 9.2ms\n",
      "video 1/1 (frame 717/1998) /content/drive/MyDrive/Final.v1i.yolov8/lib.mp4: 640x384 (no detections), 6.3ms\n",
      "video 1/1 (frame 718/1998) /content/drive/MyDrive/Final.v1i.yolov8/lib.mp4: 640x384 (no detections), 6.3ms\n",
      "video 1/1 (frame 719/1998) /content/drive/MyDrive/Final.v1i.yolov8/lib.mp4: 640x384 (no detections), 6.4ms\n",
      "video 1/1 (frame 720/1998) /content/drive/MyDrive/Final.v1i.yolov8/lib.mp4: 640x384 (no detections), 11.3ms\n",
      "video 1/1 (frame 721/1998) /content/drive/MyDrive/Final.v1i.yolov8/lib.mp4: 640x384 (no detections), 6.8ms\n",
      "video 1/1 (frame 722/1998) /content/drive/MyDrive/Final.v1i.yolov8/lib.mp4: 640x384 (no detections), 6.6ms\n",
      "video 1/1 (frame 723/1998) /content/drive/MyDrive/Final.v1i.yolov8/lib.mp4: 640x384 (no detections), 7.2ms\n",
      "video 1/1 (frame 724/1998) /content/drive/MyDrive/Final.v1i.yolov8/lib.mp4: 640x384 (no detections), 7.0ms\n",
      "video 1/1 (frame 725/1998) /content/drive/MyDrive/Final.v1i.yolov8/lib.mp4: 640x384 (no detections), 9.1ms\n",
      "video 1/1 (frame 726/1998) /content/drive/MyDrive/Final.v1i.yolov8/lib.mp4: 640x384 (no detections), 6.3ms\n",
      "video 1/1 (frame 727/1998) /content/drive/MyDrive/Final.v1i.yolov8/lib.mp4: 640x384 (no detections), 7.4ms\n",
      "video 1/1 (frame 728/1998) /content/drive/MyDrive/Final.v1i.yolov8/lib.mp4: 640x384 (no detections), 6.2ms\n",
      "video 1/1 (frame 729/1998) /content/drive/MyDrive/Final.v1i.yolov8/lib.mp4: 640x384 (no detections), 7.5ms\n",
      "video 1/1 (frame 730/1998) /content/drive/MyDrive/Final.v1i.yolov8/lib.mp4: 640x384 (no detections), 6.5ms\n",
      "video 1/1 (frame 731/1998) /content/drive/MyDrive/Final.v1i.yolov8/lib.mp4: 640x384 (no detections), 6.2ms\n",
      "video 1/1 (frame 732/1998) /content/drive/MyDrive/Final.v1i.yolov8/lib.mp4: 640x384 (no detections), 6.3ms\n",
      "video 1/1 (frame 733/1998) /content/drive/MyDrive/Final.v1i.yolov8/lib.mp4: 640x384 (no detections), 9.4ms\n",
      "video 1/1 (frame 734/1998) /content/drive/MyDrive/Final.v1i.yolov8/lib.mp4: 640x384 (no detections), 6.4ms\n",
      "video 1/1 (frame 735/1998) /content/drive/MyDrive/Final.v1i.yolov8/lib.mp4: 640x384 (no detections), 6.3ms\n",
      "video 1/1 (frame 736/1998) /content/drive/MyDrive/Final.v1i.yolov8/lib.mp4: 640x384 (no detections), 6.2ms\n",
      "video 1/1 (frame 737/1998) /content/drive/MyDrive/Final.v1i.yolov8/lib.mp4: 640x384 (no detections), 8.9ms\n",
      "video 1/1 (frame 738/1998) /content/drive/MyDrive/Final.v1i.yolov8/lib.mp4: 640x384 (no detections), 6.3ms\n",
      "video 1/1 (frame 739/1998) /content/drive/MyDrive/Final.v1i.yolov8/lib.mp4: 640x384 (no detections), 6.8ms\n",
      "video 1/1 (frame 740/1998) /content/drive/MyDrive/Final.v1i.yolov8/lib.mp4: 640x384 (no detections), 6.2ms\n",
      "video 1/1 (frame 741/1998) /content/drive/MyDrive/Final.v1i.yolov8/lib.mp4: 640x384 (no detections), 8.6ms\n",
      "video 1/1 (frame 742/1998) /content/drive/MyDrive/Final.v1i.yolov8/lib.mp4: 640x384 (no detections), 7.4ms\n",
      "video 1/1 (frame 743/1998) /content/drive/MyDrive/Final.v1i.yolov8/lib.mp4: 640x384 (no detections), 6.4ms\n",
      "video 1/1 (frame 744/1998) /content/drive/MyDrive/Final.v1i.yolov8/lib.mp4: 640x384 (no detections), 7.2ms\n",
      "video 1/1 (frame 745/1998) /content/drive/MyDrive/Final.v1i.yolov8/lib.mp4: 640x384 (no detections), 6.7ms\n",
      "video 1/1 (frame 746/1998) /content/drive/MyDrive/Final.v1i.yolov8/lib.mp4: 640x384 (no detections), 9.6ms\n",
      "video 1/1 (frame 747/1998) /content/drive/MyDrive/Final.v1i.yolov8/lib.mp4: 640x384 (no detections), 6.5ms\n",
      "video 1/1 (frame 748/1998) /content/drive/MyDrive/Final.v1i.yolov8/lib.mp4: 640x384 (no detections), 6.2ms\n",
      "video 1/1 (frame 749/1998) /content/drive/MyDrive/Final.v1i.yolov8/lib.mp4: 640x384 (no detections), 8.6ms\n",
      "video 1/1 (frame 750/1998) /content/drive/MyDrive/Final.v1i.yolov8/lib.mp4: 640x384 (no detections), 8.4ms\n",
      "video 1/1 (frame 751/1998) /content/drive/MyDrive/Final.v1i.yolov8/lib.mp4: 640x384 (no detections), 6.8ms\n",
      "video 1/1 (frame 752/1998) /content/drive/MyDrive/Final.v1i.yolov8/lib.mp4: 640x384 (no detections), 6.2ms\n",
      "video 1/1 (frame 753/1998) /content/drive/MyDrive/Final.v1i.yolov8/lib.mp4: 640x384 (no detections), 9.3ms\n",
      "video 1/1 (frame 754/1998) /content/drive/MyDrive/Final.v1i.yolov8/lib.mp4: 640x384 (no detections), 7.5ms\n",
      "video 1/1 (frame 755/1998) /content/drive/MyDrive/Final.v1i.yolov8/lib.mp4: 640x384 (no detections), 6.5ms\n",
      "video 1/1 (frame 756/1998) /content/drive/MyDrive/Final.v1i.yolov8/lib.mp4: 640x384 (no detections), 6.8ms\n",
      "video 1/1 (frame 757/1998) /content/drive/MyDrive/Final.v1i.yolov8/lib.mp4: 640x384 (no detections), 8.2ms\n",
      "video 1/1 (frame 758/1998) /content/drive/MyDrive/Final.v1i.yolov8/lib.mp4: 640x384 (no detections), 6.2ms\n",
      "video 1/1 (frame 759/1998) /content/drive/MyDrive/Final.v1i.yolov8/lib.mp4: 640x384 (no detections), 9.0ms\n",
      "video 1/1 (frame 760/1998) /content/drive/MyDrive/Final.v1i.yolov8/lib.mp4: 640x384 (no detections), 8.5ms\n",
      "video 1/1 (frame 761/1998) /content/drive/MyDrive/Final.v1i.yolov8/lib.mp4: 640x384 (no detections), 10.0ms\n",
      "video 1/1 (frame 762/1998) /content/drive/MyDrive/Final.v1i.yolov8/lib.mp4: 640x384 (no detections), 13.0ms\n",
      "video 1/1 (frame 763/1998) /content/drive/MyDrive/Final.v1i.yolov8/lib.mp4: 640x384 (no detections), 11.5ms\n",
      "video 1/1 (frame 764/1998) /content/drive/MyDrive/Final.v1i.yolov8/lib.mp4: 640x384 (no detections), 8.4ms\n",
      "video 1/1 (frame 765/1998) /content/drive/MyDrive/Final.v1i.yolov8/lib.mp4: 640x384 (no detections), 9.5ms\n",
      "video 1/1 (frame 766/1998) /content/drive/MyDrive/Final.v1i.yolov8/lib.mp4: 640x384 (no detections), 8.5ms\n",
      "video 1/1 (frame 767/1998) /content/drive/MyDrive/Final.v1i.yolov8/lib.mp4: 640x384 (no detections), 8.7ms\n",
      "video 1/1 (frame 768/1998) /content/drive/MyDrive/Final.v1i.yolov8/lib.mp4: 640x384 (no detections), 8.3ms\n",
      "video 1/1 (frame 769/1998) /content/drive/MyDrive/Final.v1i.yolov8/lib.mp4: 640x384 (no detections), 8.9ms\n",
      "video 1/1 (frame 770/1998) /content/drive/MyDrive/Final.v1i.yolov8/lib.mp4: 640x384 (no detections), 9.7ms\n",
      "video 1/1 (frame 771/1998) /content/drive/MyDrive/Final.v1i.yolov8/lib.mp4: 640x384 (no detections), 6.4ms\n",
      "video 1/1 (frame 772/1998) /content/drive/MyDrive/Final.v1i.yolov8/lib.mp4: 640x384 (no detections), 6.5ms\n",
      "video 1/1 (frame 773/1998) /content/drive/MyDrive/Final.v1i.yolov8/lib.mp4: 640x384 (no detections), 6.2ms\n",
      "video 1/1 (frame 774/1998) /content/drive/MyDrive/Final.v1i.yolov8/lib.mp4: 640x384 (no detections), 8.4ms\n",
      "video 1/1 (frame 775/1998) /content/drive/MyDrive/Final.v1i.yolov8/lib.mp4: 640x384 (no detections), 8.9ms\n",
      "video 1/1 (frame 776/1998) /content/drive/MyDrive/Final.v1i.yolov8/lib.mp4: 640x384 (no detections), 6.4ms\n",
      "video 1/1 (frame 777/1998) /content/drive/MyDrive/Final.v1i.yolov8/lib.mp4: 640x384 (no detections), 6.2ms\n",
      "video 1/1 (frame 778/1998) /content/drive/MyDrive/Final.v1i.yolov8/lib.mp4: 640x384 (no detections), 6.2ms\n",
      "video 1/1 (frame 779/1998) /content/drive/MyDrive/Final.v1i.yolov8/lib.mp4: 640x384 (no detections), 6.2ms\n",
      "video 1/1 (frame 780/1998) /content/drive/MyDrive/Final.v1i.yolov8/lib.mp4: 640x384 (no detections), 8.0ms\n",
      "video 1/1 (frame 781/1998) /content/drive/MyDrive/Final.v1i.yolov8/lib.mp4: 640x384 (no detections), 8.0ms\n",
      "video 1/1 (frame 782/1998) /content/drive/MyDrive/Final.v1i.yolov8/lib.mp4: 640x384 (no detections), 6.4ms\n",
      "video 1/1 (frame 783/1998) /content/drive/MyDrive/Final.v1i.yolov8/lib.mp4: 640x384 (no detections), 7.8ms\n",
      "video 1/1 (frame 784/1998) /content/drive/MyDrive/Final.v1i.yolov8/lib.mp4: 640x384 (no detections), 6.6ms\n",
      "video 1/1 (frame 785/1998) /content/drive/MyDrive/Final.v1i.yolov8/lib.mp4: 640x384 (no detections), 6.4ms\n",
      "video 1/1 (frame 786/1998) /content/drive/MyDrive/Final.v1i.yolov8/lib.mp4: 640x384 (no detections), 8.0ms\n",
      "video 1/1 (frame 787/1998) /content/drive/MyDrive/Final.v1i.yolov8/lib.mp4: 640x384 (no detections), 7.7ms\n",
      "video 1/1 (frame 788/1998) /content/drive/MyDrive/Final.v1i.yolov8/lib.mp4: 640x384 (no detections), 6.3ms\n",
      "video 1/1 (frame 789/1998) /content/drive/MyDrive/Final.v1i.yolov8/lib.mp4: 640x384 (no detections), 7.7ms\n",
      "video 1/1 (frame 790/1998) /content/drive/MyDrive/Final.v1i.yolov8/lib.mp4: 640x384 (no detections), 6.3ms\n",
      "video 1/1 (frame 791/1998) /content/drive/MyDrive/Final.v1i.yolov8/lib.mp4: 640x384 (no detections), 6.8ms\n",
      "video 1/1 (frame 792/1998) /content/drive/MyDrive/Final.v1i.yolov8/lib.mp4: 640x384 (no detections), 6.4ms\n",
      "video 1/1 (frame 793/1998) /content/drive/MyDrive/Final.v1i.yolov8/lib.mp4: 640x384 (no detections), 9.9ms\n",
      "video 1/1 (frame 794/1998) /content/drive/MyDrive/Final.v1i.yolov8/lib.mp4: 640x384 (no detections), 6.4ms\n",
      "video 1/1 (frame 795/1998) /content/drive/MyDrive/Final.v1i.yolov8/lib.mp4: 640x384 (no detections), 6.3ms\n",
      "video 1/1 (frame 796/1998) /content/drive/MyDrive/Final.v1i.yolov8/lib.mp4: 640x384 (no detections), 6.4ms\n",
      "video 1/1 (frame 797/1998) /content/drive/MyDrive/Final.v1i.yolov8/lib.mp4: 640x384 (no detections), 6.3ms\n",
      "video 1/1 (frame 798/1998) /content/drive/MyDrive/Final.v1i.yolov8/lib.mp4: 640x384 (no detections), 7.2ms\n",
      "video 1/1 (frame 799/1998) /content/drive/MyDrive/Final.v1i.yolov8/lib.mp4: 640x384 (no detections), 6.9ms\n",
      "video 1/1 (frame 800/1998) /content/drive/MyDrive/Final.v1i.yolov8/lib.mp4: 640x384 (no detections), 11.4ms\n",
      "video 1/1 (frame 801/1998) /content/drive/MyDrive/Final.v1i.yolov8/lib.mp4: 640x384 (no detections), 6.2ms\n",
      "video 1/1 (frame 802/1998) /content/drive/MyDrive/Final.v1i.yolov8/lib.mp4: 640x384 (no detections), 6.6ms\n",
      "video 1/1 (frame 803/1998) /content/drive/MyDrive/Final.v1i.yolov8/lib.mp4: 640x384 (no detections), 6.3ms\n",
      "video 1/1 (frame 804/1998) /content/drive/MyDrive/Final.v1i.yolov8/lib.mp4: 640x384 (no detections), 9.1ms\n",
      "video 1/1 (frame 805/1998) /content/drive/MyDrive/Final.v1i.yolov8/lib.mp4: 640x384 (no detections), 6.3ms\n",
      "video 1/1 (frame 806/1998) /content/drive/MyDrive/Final.v1i.yolov8/lib.mp4: 640x384 (no detections), 6.2ms\n",
      "video 1/1 (frame 807/1998) /content/drive/MyDrive/Final.v1i.yolov8/lib.mp4: 640x384 (no detections), 7.8ms\n",
      "video 1/1 (frame 808/1998) /content/drive/MyDrive/Final.v1i.yolov8/lib.mp4: 640x384 (no detections), 8.3ms\n",
      "video 1/1 (frame 809/1998) /content/drive/MyDrive/Final.v1i.yolov8/lib.mp4: 640x384 (no detections), 9.0ms\n",
      "video 1/1 (frame 810/1998) /content/drive/MyDrive/Final.v1i.yolov8/lib.mp4: 640x384 (no detections), 8.9ms\n",
      "video 1/1 (frame 811/1998) /content/drive/MyDrive/Final.v1i.yolov8/lib.mp4: 640x384 (no detections), 8.2ms\n",
      "video 1/1 (frame 812/1998) /content/drive/MyDrive/Final.v1i.yolov8/lib.mp4: 640x384 (no detections), 8.4ms\n",
      "video 1/1 (frame 813/1998) /content/drive/MyDrive/Final.v1i.yolov8/lib.mp4: 640x384 (no detections), 16.7ms\n",
      "video 1/1 (frame 814/1998) /content/drive/MyDrive/Final.v1i.yolov8/lib.mp4: 640x384 (no detections), 10.7ms\n",
      "video 1/1 (frame 815/1998) /content/drive/MyDrive/Final.v1i.yolov8/lib.mp4: 640x384 (no detections), 11.6ms\n",
      "video 1/1 (frame 816/1998) /content/drive/MyDrive/Final.v1i.yolov8/lib.mp4: 640x384 (no detections), 9.8ms\n",
      "video 1/1 (frame 817/1998) /content/drive/MyDrive/Final.v1i.yolov8/lib.mp4: 640x384 (no detections), 8.3ms\n",
      "video 1/1 (frame 818/1998) /content/drive/MyDrive/Final.v1i.yolov8/lib.mp4: 640x384 (no detections), 8.0ms\n",
      "video 1/1 (frame 819/1998) /content/drive/MyDrive/Final.v1i.yolov8/lib.mp4: 640x384 (no detections), 8.7ms\n",
      "video 1/1 (frame 820/1998) /content/drive/MyDrive/Final.v1i.yolov8/lib.mp4: 640x384 (no detections), 6.4ms\n",
      "video 1/1 (frame 821/1998) /content/drive/MyDrive/Final.v1i.yolov8/lib.mp4: 640x384 (no detections), 6.4ms\n",
      "video 1/1 (frame 822/1998) /content/drive/MyDrive/Final.v1i.yolov8/lib.mp4: 640x384 (no detections), 6.1ms\n",
      "video 1/1 (frame 823/1998) /content/drive/MyDrive/Final.v1i.yolov8/lib.mp4: 640x384 (no detections), 10.3ms\n",
      "video 1/1 (frame 824/1998) /content/drive/MyDrive/Final.v1i.yolov8/lib.mp4: 640x384 (no detections), 6.4ms\n",
      "video 1/1 (frame 825/1998) /content/drive/MyDrive/Final.v1i.yolov8/lib.mp4: 640x384 (no detections), 6.3ms\n",
      "video 1/1 (frame 826/1998) /content/drive/MyDrive/Final.v1i.yolov8/lib.mp4: 640x384 (no detections), 6.3ms\n",
      "video 1/1 (frame 827/1998) /content/drive/MyDrive/Final.v1i.yolov8/lib.mp4: 640x384 (no detections), 6.3ms\n",
      "video 1/1 (frame 828/1998) /content/drive/MyDrive/Final.v1i.yolov8/lib.mp4: 640x384 (no detections), 11.4ms\n",
      "video 1/1 (frame 829/1998) /content/drive/MyDrive/Final.v1i.yolov8/lib.mp4: 640x384 (no detections), 6.3ms\n",
      "video 1/1 (frame 830/1998) /content/drive/MyDrive/Final.v1i.yolov8/lib.mp4: 640x384 (no detections), 6.2ms\n",
      "video 1/1 (frame 831/1998) /content/drive/MyDrive/Final.v1i.yolov8/lib.mp4: 640x384 (no detections), 6.2ms\n",
      "video 1/1 (frame 832/1998) /content/drive/MyDrive/Final.v1i.yolov8/lib.mp4: 640x384 (no detections), 8.9ms\n",
      "video 1/1 (frame 833/1998) /content/drive/MyDrive/Final.v1i.yolov8/lib.mp4: 640x384 (no detections), 8.9ms\n",
      "video 1/1 (frame 834/1998) /content/drive/MyDrive/Final.v1i.yolov8/lib.mp4: 640x384 (no detections), 6.2ms\n",
      "video 1/1 (frame 835/1998) /content/drive/MyDrive/Final.v1i.yolov8/lib.mp4: 640x384 (no detections), 6.2ms\n",
      "video 1/1 (frame 836/1998) /content/drive/MyDrive/Final.v1i.yolov8/lib.mp4: 640x384 (no detections), 6.2ms\n",
      "video 1/1 (frame 837/1998) /content/drive/MyDrive/Final.v1i.yolov8/lib.mp4: 640x384 (no detections), 9.9ms\n",
      "video 1/1 (frame 838/1998) /content/drive/MyDrive/Final.v1i.yolov8/lib.mp4: 640x384 (no detections), 7.8ms\n",
      "video 1/1 (frame 839/1998) /content/drive/MyDrive/Final.v1i.yolov8/lib.mp4: 640x384 (no detections), 7.2ms\n",
      "video 1/1 (frame 840/1998) /content/drive/MyDrive/Final.v1i.yolov8/lib.mp4: 640x384 (no detections), 6.1ms\n",
      "video 1/1 (frame 841/1998) /content/drive/MyDrive/Final.v1i.yolov8/lib.mp4: 640x384 (no detections), 8.3ms\n",
      "video 1/1 (frame 842/1998) /content/drive/MyDrive/Final.v1i.yolov8/lib.mp4: 640x384 (no detections), 6.3ms\n",
      "video 1/1 (frame 843/1998) /content/drive/MyDrive/Final.v1i.yolov8/lib.mp4: 640x384 (no detections), 9.6ms\n",
      "video 1/1 (frame 844/1998) /content/drive/MyDrive/Final.v1i.yolov8/lib.mp4: 640x384 (no detections), 6.5ms\n",
      "video 1/1 (frame 845/1998) /content/drive/MyDrive/Final.v1i.yolov8/lib.mp4: 640x384 (no detections), 9.1ms\n",
      "video 1/1 (frame 846/1998) /content/drive/MyDrive/Final.v1i.yolov8/lib.mp4: 640x384 (no detections), 8.0ms\n",
      "video 1/1 (frame 847/1998) /content/drive/MyDrive/Final.v1i.yolov8/lib.mp4: 640x384 (no detections), 9.2ms\n",
      "video 1/1 (frame 848/1998) /content/drive/MyDrive/Final.v1i.yolov8/lib.mp4: 640x384 (no detections), 6.5ms\n",
      "video 1/1 (frame 849/1998) /content/drive/MyDrive/Final.v1i.yolov8/lib.mp4: 640x384 (no detections), 7.8ms\n",
      "video 1/1 (frame 850/1998) /content/drive/MyDrive/Final.v1i.yolov8/lib.mp4: 640x384 (no detections), 6.2ms\n",
      "video 1/1 (frame 851/1998) /content/drive/MyDrive/Final.v1i.yolov8/lib.mp4: 640x384 (no detections), 6.4ms\n",
      "video 1/1 (frame 852/1998) /content/drive/MyDrive/Final.v1i.yolov8/lib.mp4: 640x384 (no detections), 6.4ms\n",
      "video 1/1 (frame 853/1998) /content/drive/MyDrive/Final.v1i.yolov8/lib.mp4: 640x384 (no detections), 8.6ms\n",
      "video 1/1 (frame 854/1998) /content/drive/MyDrive/Final.v1i.yolov8/lib.mp4: 640x384 (no detections), 6.5ms\n",
      "video 1/1 (frame 855/1998) /content/drive/MyDrive/Final.v1i.yolov8/lib.mp4: 640x384 (no detections), 6.1ms\n",
      "video 1/1 (frame 856/1998) /content/drive/MyDrive/Final.v1i.yolov8/lib.mp4: 640x384 (no detections), 6.1ms\n",
      "video 1/1 (frame 857/1998) /content/drive/MyDrive/Final.v1i.yolov8/lib.mp4: 640x384 (no detections), 8.2ms\n",
      "video 1/1 (frame 858/1998) /content/drive/MyDrive/Final.v1i.yolov8/lib.mp4: 640x384 (no detections), 8.7ms\n",
      "video 1/1 (frame 859/1998) /content/drive/MyDrive/Final.v1i.yolov8/lib.mp4: 640x384 (no detections), 10.9ms\n",
      "video 1/1 (frame 860/1998) /content/drive/MyDrive/Final.v1i.yolov8/lib.mp4: 640x384 (no detections), 17.3ms\n",
      "video 1/1 (frame 861/1998) /content/drive/MyDrive/Final.v1i.yolov8/lib.mp4: 640x384 (no detections), 8.3ms\n",
      "video 1/1 (frame 862/1998) /content/drive/MyDrive/Final.v1i.yolov8/lib.mp4: 640x384 (no detections), 14.1ms\n",
      "video 1/1 (frame 863/1998) /content/drive/MyDrive/Final.v1i.yolov8/lib.mp4: 640x384 (no detections), 16.5ms\n",
      "video 1/1 (frame 864/1998) /content/drive/MyDrive/Final.v1i.yolov8/lib.mp4: 640x384 (no detections), 12.8ms\n",
      "video 1/1 (frame 865/1998) /content/drive/MyDrive/Final.v1i.yolov8/lib.mp4: 640x384 (no detections), 13.8ms\n",
      "video 1/1 (frame 866/1998) /content/drive/MyDrive/Final.v1i.yolov8/lib.mp4: 640x384 (no detections), 9.9ms\n",
      "video 1/1 (frame 867/1998) /content/drive/MyDrive/Final.v1i.yolov8/lib.mp4: 640x384 (no detections), 8.2ms\n",
      "video 1/1 (frame 868/1998) /content/drive/MyDrive/Final.v1i.yolov8/lib.mp4: 640x384 (no detections), 8.5ms\n",
      "video 1/1 (frame 869/1998) /content/drive/MyDrive/Final.v1i.yolov8/lib.mp4: 640x384 (no detections), 11.0ms\n",
      "video 1/1 (frame 870/1998) /content/drive/MyDrive/Final.v1i.yolov8/lib.mp4: 640x384 (no detections), 7.1ms\n",
      "video 1/1 (frame 871/1998) /content/drive/MyDrive/Final.v1i.yolov8/lib.mp4: 640x384 (no detections), 6.2ms\n",
      "video 1/1 (frame 872/1998) /content/drive/MyDrive/Final.v1i.yolov8/lib.mp4: 640x384 (no detections), 8.2ms\n",
      "video 1/1 (frame 873/1998) /content/drive/MyDrive/Final.v1i.yolov8/lib.mp4: 640x384 (no detections), 6.2ms\n",
      "video 1/1 (frame 874/1998) /content/drive/MyDrive/Final.v1i.yolov8/lib.mp4: 640x384 (no detections), 7.7ms\n",
      "video 1/1 (frame 875/1998) /content/drive/MyDrive/Final.v1i.yolov8/lib.mp4: 640x384 (no detections), 6.5ms\n",
      "video 1/1 (frame 876/1998) /content/drive/MyDrive/Final.v1i.yolov8/lib.mp4: 640x384 (no detections), 6.2ms\n",
      "video 1/1 (frame 877/1998) /content/drive/MyDrive/Final.v1i.yolov8/lib.mp4: 640x384 (no detections), 6.1ms\n",
      "video 1/1 (frame 878/1998) /content/drive/MyDrive/Final.v1i.yolov8/lib.mp4: 640x384 (no detections), 8.2ms\n",
      "video 1/1 (frame 879/1998) /content/drive/MyDrive/Final.v1i.yolov8/lib.mp4: 640x384 (no detections), 8.6ms\n",
      "video 1/1 (frame 880/1998) /content/drive/MyDrive/Final.v1i.yolov8/lib.mp4: 640x384 (no detections), 6.3ms\n",
      "video 1/1 (frame 881/1998) /content/drive/MyDrive/Final.v1i.yolov8/lib.mp4: 640x384 (no detections), 6.2ms\n",
      "video 1/1 (frame 882/1998) /content/drive/MyDrive/Final.v1i.yolov8/lib.mp4: 640x384 (no detections), 7.7ms\n",
      "video 1/1 (frame 883/1998) /content/drive/MyDrive/Final.v1i.yolov8/lib.mp4: 640x384 (no detections), 8.4ms\n",
      "video 1/1 (frame 884/1998) /content/drive/MyDrive/Final.v1i.yolov8/lib.mp4: 640x384 (no detections), 7.1ms\n",
      "video 1/1 (frame 885/1998) /content/drive/MyDrive/Final.v1i.yolov8/lib.mp4: 640x384 (no detections), 6.4ms\n",
      "video 1/1 (frame 886/1998) /content/drive/MyDrive/Final.v1i.yolov8/lib.mp4: 640x384 (no detections), 8.8ms\n",
      "video 1/1 (frame 887/1998) /content/drive/MyDrive/Final.v1i.yolov8/lib.mp4: 640x384 (no detections), 8.0ms\n",
      "video 1/1 (frame 888/1998) /content/drive/MyDrive/Final.v1i.yolov8/lib.mp4: 640x384 (no detections), 6.3ms\n",
      "video 1/1 (frame 889/1998) /content/drive/MyDrive/Final.v1i.yolov8/lib.mp4: 640x384 (no detections), 6.3ms\n",
      "video 1/1 (frame 890/1998) /content/drive/MyDrive/Final.v1i.yolov8/lib.mp4: 640x384 (no detections), 8.8ms\n",
      "video 1/1 (frame 891/1998) /content/drive/MyDrive/Final.v1i.yolov8/lib.mp4: 640x384 (no detections), 6.5ms\n",
      "video 1/1 (frame 892/1998) /content/drive/MyDrive/Final.v1i.yolov8/lib.mp4: 640x384 (no detections), 10.2ms\n",
      "video 1/1 (frame 893/1998) /content/drive/MyDrive/Final.v1i.yolov8/lib.mp4: 640x384 (no detections), 6.5ms\n",
      "video 1/1 (frame 894/1998) /content/drive/MyDrive/Final.v1i.yolov8/lib.mp4: 640x384 (no detections), 8.8ms\n",
      "video 1/1 (frame 895/1998) /content/drive/MyDrive/Final.v1i.yolov8/lib.mp4: 640x384 (no detections), 6.6ms\n",
      "video 1/1 (frame 896/1998) /content/drive/MyDrive/Final.v1i.yolov8/lib.mp4: 640x384 (no detections), 6.4ms\n",
      "video 1/1 (frame 897/1998) /content/drive/MyDrive/Final.v1i.yolov8/lib.mp4: 640x384 (no detections), 6.5ms\n",
      "video 1/1 (frame 898/1998) /content/drive/MyDrive/Final.v1i.yolov8/lib.mp4: 640x384 (no detections), 8.5ms\n",
      "video 1/1 (frame 899/1998) /content/drive/MyDrive/Final.v1i.yolov8/lib.mp4: 640x384 (no detections), 6.4ms\n",
      "video 1/1 (frame 900/1998) /content/drive/MyDrive/Final.v1i.yolov8/lib.mp4: 640x384 (no detections), 6.6ms\n",
      "video 1/1 (frame 901/1998) /content/drive/MyDrive/Final.v1i.yolov8/lib.mp4: 640x384 (no detections), 6.2ms\n",
      "video 1/1 (frame 902/1998) /content/drive/MyDrive/Final.v1i.yolov8/lib.mp4: 640x384 (no detections), 9.7ms\n",
      "video 1/1 (frame 903/1998) /content/drive/MyDrive/Final.v1i.yolov8/lib.mp4: 640x384 (no detections), 10.1ms\n",
      "video 1/1 (frame 904/1998) /content/drive/MyDrive/Final.v1i.yolov8/lib.mp4: 640x384 (no detections), 8.8ms\n",
      "video 1/1 (frame 905/1998) /content/drive/MyDrive/Final.v1i.yolov8/lib.mp4: 640x384 (no detections), 8.7ms\n",
      "video 1/1 (frame 906/1998) /content/drive/MyDrive/Final.v1i.yolov8/lib.mp4: 640x384 (no detections), 9.3ms\n",
      "video 1/1 (frame 907/1998) /content/drive/MyDrive/Final.v1i.yolov8/lib.mp4: 640x384 (no detections), 8.4ms\n",
      "video 1/1 (frame 908/1998) /content/drive/MyDrive/Final.v1i.yolov8/lib.mp4: 640x384 (no detections), 8.4ms\n",
      "video 1/1 (frame 909/1998) /content/drive/MyDrive/Final.v1i.yolov8/lib.mp4: 640x384 (no detections), 8.5ms\n",
      "video 1/1 (frame 910/1998) /content/drive/MyDrive/Final.v1i.yolov8/lib.mp4: 640x384 (no detections), 9.1ms\n",
      "video 1/1 (frame 911/1998) /content/drive/MyDrive/Final.v1i.yolov8/lib.mp4: 640x384 (no detections), 8.6ms\n",
      "video 1/1 (frame 912/1998) /content/drive/MyDrive/Final.v1i.yolov8/lib.mp4: 640x384 (no detections), 9.8ms\n",
      "video 1/1 (frame 913/1998) /content/drive/MyDrive/Final.v1i.yolov8/lib.mp4: 640x384 (no detections), 10.6ms\n",
      "video 1/1 (frame 914/1998) /content/drive/MyDrive/Final.v1i.yolov8/lib.mp4: 640x384 (no detections), 6.4ms\n",
      "video 1/1 (frame 915/1998) /content/drive/MyDrive/Final.v1i.yolov8/lib.mp4: 640x384 (no detections), 6.3ms\n",
      "video 1/1 (frame 916/1998) /content/drive/MyDrive/Final.v1i.yolov8/lib.mp4: 640x384 (no detections), 7.7ms\n",
      "video 1/1 (frame 917/1998) /content/drive/MyDrive/Final.v1i.yolov8/lib.mp4: 640x384 (no detections), 6.4ms\n",
      "video 1/1 (frame 918/1998) /content/drive/MyDrive/Final.v1i.yolov8/lib.mp4: 640x384 (no detections), 6.3ms\n",
      "video 1/1 (frame 919/1998) /content/drive/MyDrive/Final.v1i.yolov8/lib.mp4: 640x384 (no detections), 8.9ms\n",
      "video 1/1 (frame 920/1998) /content/drive/MyDrive/Final.v1i.yolov8/lib.mp4: 640x384 (no detections), 7.3ms\n",
      "video 1/1 (frame 921/1998) /content/drive/MyDrive/Final.v1i.yolov8/lib.mp4: 640x384 (no detections), 6.8ms\n",
      "video 1/1 (frame 922/1998) /content/drive/MyDrive/Final.v1i.yolov8/lib.mp4: 640x384 (no detections), 8.8ms\n",
      "video 1/1 (frame 923/1998) /content/drive/MyDrive/Final.v1i.yolov8/lib.mp4: 640x384 (no detections), 8.8ms\n",
      "video 1/1 (frame 924/1998) /content/drive/MyDrive/Final.v1i.yolov8/lib.mp4: 640x384 (no detections), 6.4ms\n",
      "video 1/1 (frame 925/1998) /content/drive/MyDrive/Final.v1i.yolov8/lib.mp4: 640x384 (no detections), 6.2ms\n",
      "video 1/1 (frame 926/1998) /content/drive/MyDrive/Final.v1i.yolov8/lib.mp4: 640x384 (no detections), 10.3ms\n",
      "video 1/1 (frame 927/1998) /content/drive/MyDrive/Final.v1i.yolov8/lib.mp4: 640x384 (no detections), 10.5ms\n",
      "video 1/1 (frame 928/1998) /content/drive/MyDrive/Final.v1i.yolov8/lib.mp4: 640x384 (no detections), 9.2ms\n",
      "video 1/1 (frame 929/1998) /content/drive/MyDrive/Final.v1i.yolov8/lib.mp4: 640x384 (no detections), 8.8ms\n",
      "video 1/1 (frame 930/1998) /content/drive/MyDrive/Final.v1i.yolov8/lib.mp4: 640x384 (no detections), 10.5ms\n",
      "video 1/1 (frame 931/1998) /content/drive/MyDrive/Final.v1i.yolov8/lib.mp4: 640x384 (no detections), 7.7ms\n",
      "video 1/1 (frame 932/1998) /content/drive/MyDrive/Final.v1i.yolov8/lib.mp4: 640x384 (no detections), 8.3ms\n",
      "video 1/1 (frame 933/1998) /content/drive/MyDrive/Final.v1i.yolov8/lib.mp4: 640x384 (no detections), 7.6ms\n",
      "video 1/1 (frame 934/1998) /content/drive/MyDrive/Final.v1i.yolov8/lib.mp4: 640x384 (no detections), 8.8ms\n",
      "video 1/1 (frame 935/1998) /content/drive/MyDrive/Final.v1i.yolov8/lib.mp4: 640x384 (no detections), 12.1ms\n",
      "video 1/1 (frame 936/1998) /content/drive/MyDrive/Final.v1i.yolov8/lib.mp4: 640x384 (no detections), 11.4ms\n",
      "video 1/1 (frame 937/1998) /content/drive/MyDrive/Final.v1i.yolov8/lib.mp4: 640x384 (no detections), 12.5ms\n",
      "video 1/1 (frame 938/1998) /content/drive/MyDrive/Final.v1i.yolov8/lib.mp4: 640x384 (no detections), 12.7ms\n",
      "video 1/1 (frame 939/1998) /content/drive/MyDrive/Final.v1i.yolov8/lib.mp4: 640x384 (no detections), 10.1ms\n",
      "video 1/1 (frame 940/1998) /content/drive/MyDrive/Final.v1i.yolov8/lib.mp4: 640x384 (no detections), 10.0ms\n",
      "video 1/1 (frame 941/1998) /content/drive/MyDrive/Final.v1i.yolov8/lib.mp4: 640x384 (no detections), 9.8ms\n",
      "video 1/1 (frame 942/1998) /content/drive/MyDrive/Final.v1i.yolov8/lib.mp4: 640x384 (no detections), 7.8ms\n",
      "video 1/1 (frame 943/1998) /content/drive/MyDrive/Final.v1i.yolov8/lib.mp4: 640x384 (no detections), 10.1ms\n",
      "video 1/1 (frame 944/1998) /content/drive/MyDrive/Final.v1i.yolov8/lib.mp4: 640x384 (no detections), 13.3ms\n",
      "video 1/1 (frame 945/1998) /content/drive/MyDrive/Final.v1i.yolov8/lib.mp4: 640x384 (no detections), 18.3ms\n",
      "video 1/1 (frame 946/1998) /content/drive/MyDrive/Final.v1i.yolov8/lib.mp4: 640x384 (no detections), 13.7ms\n",
      "video 1/1 (frame 947/1998) /content/drive/MyDrive/Final.v1i.yolov8/lib.mp4: 640x384 (no detections), 12.9ms\n",
      "video 1/1 (frame 948/1998) /content/drive/MyDrive/Final.v1i.yolov8/lib.mp4: 640x384 (no detections), 16.4ms\n",
      "video 1/1 (frame 949/1998) /content/drive/MyDrive/Final.v1i.yolov8/lib.mp4: 640x384 (no detections), 10.8ms\n",
      "video 1/1 (frame 950/1998) /content/drive/MyDrive/Final.v1i.yolov8/lib.mp4: 640x384 (no detections), 11.8ms\n",
      "video 1/1 (frame 951/1998) /content/drive/MyDrive/Final.v1i.yolov8/lib.mp4: 640x384 (no detections), 11.1ms\n",
      "video 1/1 (frame 952/1998) /content/drive/MyDrive/Final.v1i.yolov8/lib.mp4: 640x384 (no detections), 15.3ms\n",
      "video 1/1 (frame 953/1998) /content/drive/MyDrive/Final.v1i.yolov8/lib.mp4: 640x384 (no detections), 10.9ms\n",
      "video 1/1 (frame 954/1998) /content/drive/MyDrive/Final.v1i.yolov8/lib.mp4: 640x384 (no detections), 9.9ms\n",
      "video 1/1 (frame 955/1998) /content/drive/MyDrive/Final.v1i.yolov8/lib.mp4: 640x384 (no detections), 8.5ms\n",
      "video 1/1 (frame 956/1998) /content/drive/MyDrive/Final.v1i.yolov8/lib.mp4: 640x384 (no detections), 9.1ms\n",
      "video 1/1 (frame 957/1998) /content/drive/MyDrive/Final.v1i.yolov8/lib.mp4: 640x384 (no detections), 9.1ms\n",
      "video 1/1 (frame 958/1998) /content/drive/MyDrive/Final.v1i.yolov8/lib.mp4: 640x384 (no detections), 8.1ms\n",
      "video 1/1 (frame 959/1998) /content/drive/MyDrive/Final.v1i.yolov8/lib.mp4: 640x384 (no detections), 11.5ms\n",
      "video 1/1 (frame 960/1998) /content/drive/MyDrive/Final.v1i.yolov8/lib.mp4: 640x384 (no detections), 8.1ms\n",
      "video 1/1 (frame 961/1998) /content/drive/MyDrive/Final.v1i.yolov8/lib.mp4: 640x384 (no detections), 8.7ms\n",
      "video 1/1 (frame 962/1998) /content/drive/MyDrive/Final.v1i.yolov8/lib.mp4: 640x384 (no detections), 8.1ms\n",
      "video 1/1 (frame 963/1998) /content/drive/MyDrive/Final.v1i.yolov8/lib.mp4: 640x384 (no detections), 7.9ms\n",
      "video 1/1 (frame 964/1998) /content/drive/MyDrive/Final.v1i.yolov8/lib.mp4: 640x384 (no detections), 7.9ms\n",
      "video 1/1 (frame 965/1998) /content/drive/MyDrive/Final.v1i.yolov8/lib.mp4: 640x384 (no detections), 12.1ms\n",
      "video 1/1 (frame 966/1998) /content/drive/MyDrive/Final.v1i.yolov8/lib.mp4: 640x384 (no detections), 8.0ms\n",
      "video 1/1 (frame 967/1998) /content/drive/MyDrive/Final.v1i.yolov8/lib.mp4: 640x384 (no detections), 10.0ms\n",
      "video 1/1 (frame 968/1998) /content/drive/MyDrive/Final.v1i.yolov8/lib.mp4: 640x384 (no detections), 9.4ms\n",
      "video 1/1 (frame 969/1998) /content/drive/MyDrive/Final.v1i.yolov8/lib.mp4: 640x384 (no detections), 12.4ms\n",
      "video 1/1 (frame 970/1998) /content/drive/MyDrive/Final.v1i.yolov8/lib.mp4: 640x384 (no detections), 10.2ms\n",
      "video 1/1 (frame 971/1998) /content/drive/MyDrive/Final.v1i.yolov8/lib.mp4: 640x384 (no detections), 11.1ms\n",
      "video 1/1 (frame 972/1998) /content/drive/MyDrive/Final.v1i.yolov8/lib.mp4: 640x384 (no detections), 8.5ms\n",
      "video 1/1 (frame 973/1998) /content/drive/MyDrive/Final.v1i.yolov8/lib.mp4: 640x384 (no detections), 13.7ms\n",
      "video 1/1 (frame 974/1998) /content/drive/MyDrive/Final.v1i.yolov8/lib.mp4: 640x384 (no detections), 8.0ms\n",
      "video 1/1 (frame 975/1998) /content/drive/MyDrive/Final.v1i.yolov8/lib.mp4: 640x384 (no detections), 8.6ms\n",
      "video 1/1 (frame 976/1998) /content/drive/MyDrive/Final.v1i.yolov8/lib.mp4: 640x384 (no detections), 8.0ms\n",
      "video 1/1 (frame 977/1998) /content/drive/MyDrive/Final.v1i.yolov8/lib.mp4: 640x384 (no detections), 12.0ms\n",
      "video 1/1 (frame 978/1998) /content/drive/MyDrive/Final.v1i.yolov8/lib.mp4: 640x384 (no detections), 10.5ms\n",
      "video 1/1 (frame 979/1998) /content/drive/MyDrive/Final.v1i.yolov8/lib.mp4: 640x384 (no detections), 11.0ms\n",
      "video 1/1 (frame 980/1998) /content/drive/MyDrive/Final.v1i.yolov8/lib.mp4: 640x384 (no detections), 11.9ms\n",
      "video 1/1 (frame 981/1998) /content/drive/MyDrive/Final.v1i.yolov8/lib.mp4: 640x384 (no detections), 10.1ms\n",
      "video 1/1 (frame 982/1998) /content/drive/MyDrive/Final.v1i.yolov8/lib.mp4: 640x384 (no detections), 11.2ms\n",
      "video 1/1 (frame 983/1998) /content/drive/MyDrive/Final.v1i.yolov8/lib.mp4: 640x384 (no detections), 14.9ms\n",
      "video 1/1 (frame 984/1998) /content/drive/MyDrive/Final.v1i.yolov8/lib.mp4: 640x384 (no detections), 11.1ms\n",
      "video 1/1 (frame 985/1998) /content/drive/MyDrive/Final.v1i.yolov8/lib.mp4: 640x384 (no detections), 11.8ms\n",
      "video 1/1 (frame 986/1998) /content/drive/MyDrive/Final.v1i.yolov8/lib.mp4: 640x384 (no detections), 24.2ms\n",
      "video 1/1 (frame 987/1998) /content/drive/MyDrive/Final.v1i.yolov8/lib.mp4: 640x384 (no detections), 19.1ms\n",
      "video 1/1 (frame 988/1998) /content/drive/MyDrive/Final.v1i.yolov8/lib.mp4: 640x384 (no detections), 10.5ms\n",
      "video 1/1 (frame 989/1998) /content/drive/MyDrive/Final.v1i.yolov8/lib.mp4: 640x384 (no detections), 9.1ms\n",
      "video 1/1 (frame 990/1998) /content/drive/MyDrive/Final.v1i.yolov8/lib.mp4: 640x384 (no detections), 18.2ms\n",
      "video 1/1 (frame 991/1998) /content/drive/MyDrive/Final.v1i.yolov8/lib.mp4: 640x384 (no detections), 12.3ms\n",
      "video 1/1 (frame 992/1998) /content/drive/MyDrive/Final.v1i.yolov8/lib.mp4: 640x384 (no detections), 11.2ms\n",
      "video 1/1 (frame 993/1998) /content/drive/MyDrive/Final.v1i.yolov8/lib.mp4: 640x384 (no detections), 11.7ms\n",
      "video 1/1 (frame 994/1998) /content/drive/MyDrive/Final.v1i.yolov8/lib.mp4: 640x384 (no detections), 11.2ms\n",
      "video 1/1 (frame 995/1998) /content/drive/MyDrive/Final.v1i.yolov8/lib.mp4: 640x384 (no detections), 12.5ms\n",
      "video 1/1 (frame 996/1998) /content/drive/MyDrive/Final.v1i.yolov8/lib.mp4: 640x384 (no detections), 8.3ms\n",
      "video 1/1 (frame 997/1998) /content/drive/MyDrive/Final.v1i.yolov8/lib.mp4: 640x384 (no detections), 9.5ms\n",
      "video 1/1 (frame 998/1998) /content/drive/MyDrive/Final.v1i.yolov8/lib.mp4: 640x384 (no detections), 7.9ms\n",
      "video 1/1 (frame 999/1998) /content/drive/MyDrive/Final.v1i.yolov8/lib.mp4: 640x384 (no detections), 8.9ms\n",
      "video 1/1 (frame 1000/1998) /content/drive/MyDrive/Final.v1i.yolov8/lib.mp4: 640x384 (no detections), 7.7ms\n",
      "video 1/1 (frame 1001/1998) /content/drive/MyDrive/Final.v1i.yolov8/lib.mp4: 640x384 (no detections), 8.1ms\n",
      "video 1/1 (frame 1002/1998) /content/drive/MyDrive/Final.v1i.yolov8/lib.mp4: 640x384 (no detections), 10.3ms\n",
      "video 1/1 (frame 1003/1998) /content/drive/MyDrive/Final.v1i.yolov8/lib.mp4: 640x384 (no detections), 11.3ms\n",
      "video 1/1 (frame 1004/1998) /content/drive/MyDrive/Final.v1i.yolov8/lib.mp4: 640x384 (no detections), 8.9ms\n",
      "video 1/1 (frame 1005/1998) /content/drive/MyDrive/Final.v1i.yolov8/lib.mp4: 640x384 (no detections), 9.5ms\n",
      "video 1/1 (frame 1006/1998) /content/drive/MyDrive/Final.v1i.yolov8/lib.mp4: 640x384 (no detections), 8.8ms\n",
      "video 1/1 (frame 1007/1998) /content/drive/MyDrive/Final.v1i.yolov8/lib.mp4: 640x384 (no detections), 8.2ms\n",
      "video 1/1 (frame 1008/1998) /content/drive/MyDrive/Final.v1i.yolov8/lib.mp4: 640x384 (no detections), 12.6ms\n",
      "video 1/1 (frame 1009/1998) /content/drive/MyDrive/Final.v1i.yolov8/lib.mp4: 640x384 (no detections), 9.4ms\n",
      "video 1/1 (frame 1010/1998) /content/drive/MyDrive/Final.v1i.yolov8/lib.mp4: 640x384 (no detections), 8.2ms\n",
      "video 1/1 (frame 1011/1998) /content/drive/MyDrive/Final.v1i.yolov8/lib.mp4: 640x384 (no detections), 14.1ms\n",
      "video 1/1 (frame 1012/1998) /content/drive/MyDrive/Final.v1i.yolov8/lib.mp4: 640x384 (no detections), 21.3ms\n",
      "video 1/1 (frame 1013/1998) /content/drive/MyDrive/Final.v1i.yolov8/lib.mp4: 640x384 (no detections), 10.8ms\n",
      "video 1/1 (frame 1014/1998) /content/drive/MyDrive/Final.v1i.yolov8/lib.mp4: 640x384 (no detections), 11.7ms\n",
      "video 1/1 (frame 1015/1998) /content/drive/MyDrive/Final.v1i.yolov8/lib.mp4: 640x384 (no detections), 9.9ms\n",
      "video 1/1 (frame 1016/1998) /content/drive/MyDrive/Final.v1i.yolov8/lib.mp4: 640x384 (no detections), 12.0ms\n",
      "video 1/1 (frame 1017/1998) /content/drive/MyDrive/Final.v1i.yolov8/lib.mp4: 640x384 (no detections), 10.5ms\n",
      "video 1/1 (frame 1018/1998) /content/drive/MyDrive/Final.v1i.yolov8/lib.mp4: 640x384 (no detections), 9.0ms\n",
      "video 1/1 (frame 1019/1998) /content/drive/MyDrive/Final.v1i.yolov8/lib.mp4: 640x384 (no detections), 27.8ms\n",
      "video 1/1 (frame 1020/1998) /content/drive/MyDrive/Final.v1i.yolov8/lib.mp4: 640x384 (no detections), 9.1ms\n",
      "video 1/1 (frame 1021/1998) /content/drive/MyDrive/Final.v1i.yolov8/lib.mp4: 640x384 (no detections), 13.1ms\n",
      "video 1/1 (frame 1022/1998) /content/drive/MyDrive/Final.v1i.yolov8/lib.mp4: 640x384 (no detections), 8.7ms\n",
      "video 1/1 (frame 1023/1998) /content/drive/MyDrive/Final.v1i.yolov8/lib.mp4: 640x384 (no detections), 12.7ms\n",
      "video 1/1 (frame 1024/1998) /content/drive/MyDrive/Final.v1i.yolov8/lib.mp4: 640x384 (no detections), 13.4ms\n",
      "video 1/1 (frame 1025/1998) /content/drive/MyDrive/Final.v1i.yolov8/lib.mp4: 640x384 (no detections), 12.2ms\n",
      "video 1/1 (frame 1026/1998) /content/drive/MyDrive/Final.v1i.yolov8/lib.mp4: 640x384 (no detections), 7.8ms\n",
      "video 1/1 (frame 1027/1998) /content/drive/MyDrive/Final.v1i.yolov8/lib.mp4: 640x384 (no detections), 7.6ms\n",
      "video 1/1 (frame 1028/1998) /content/drive/MyDrive/Final.v1i.yolov8/lib.mp4: 640x384 (no detections), 7.4ms\n",
      "video 1/1 (frame 1029/1998) /content/drive/MyDrive/Final.v1i.yolov8/lib.mp4: 640x384 (no detections), 7.3ms\n",
      "video 1/1 (frame 1030/1998) /content/drive/MyDrive/Final.v1i.yolov8/lib.mp4: 640x384 (no detections), 9.0ms\n",
      "video 1/1 (frame 1031/1998) /content/drive/MyDrive/Final.v1i.yolov8/lib.mp4: 640x384 (no detections), 7.3ms\n",
      "video 1/1 (frame 1032/1998) /content/drive/MyDrive/Final.v1i.yolov8/lib.mp4: 640x384 (no detections), 7.3ms\n",
      "video 1/1 (frame 1033/1998) /content/drive/MyDrive/Final.v1i.yolov8/lib.mp4: 640x384 (no detections), 7.5ms\n",
      "video 1/1 (frame 1034/1998) /content/drive/MyDrive/Final.v1i.yolov8/lib.mp4: 640x384 (no detections), 7.6ms\n",
      "video 1/1 (frame 1035/1998) /content/drive/MyDrive/Final.v1i.yolov8/lib.mp4: 640x384 (no detections), 8.6ms\n",
      "video 1/1 (frame 1036/1998) /content/drive/MyDrive/Final.v1i.yolov8/lib.mp4: 640x384 (no detections), 11.8ms\n",
      "video 1/1 (frame 1037/1998) /content/drive/MyDrive/Final.v1i.yolov8/lib.mp4: 640x384 (no detections), 15.4ms\n",
      "video 1/1 (frame 1038/1998) /content/drive/MyDrive/Final.v1i.yolov8/lib.mp4: 640x384 (no detections), 10.1ms\n",
      "video 1/1 (frame 1039/1998) /content/drive/MyDrive/Final.v1i.yolov8/lib.mp4: 640x384 (no detections), 9.0ms\n",
      "video 1/1 (frame 1040/1998) /content/drive/MyDrive/Final.v1i.yolov8/lib.mp4: 640x384 (no detections), 7.9ms\n",
      "video 1/1 (frame 1041/1998) /content/drive/MyDrive/Final.v1i.yolov8/lib.mp4: 640x384 (no detections), 7.5ms\n",
      "video 1/1 (frame 1042/1998) /content/drive/MyDrive/Final.v1i.yolov8/lib.mp4: 640x384 (no detections), 8.7ms\n",
      "video 1/1 (frame 1043/1998) /content/drive/MyDrive/Final.v1i.yolov8/lib.mp4: 640x384 (no detections), 8.5ms\n",
      "video 1/1 (frame 1044/1998) /content/drive/MyDrive/Final.v1i.yolov8/lib.mp4: 640x384 (no detections), 7.6ms\n",
      "video 1/1 (frame 1045/1998) /content/drive/MyDrive/Final.v1i.yolov8/lib.mp4: 640x384 (no detections), 9.5ms\n",
      "video 1/1 (frame 1046/1998) /content/drive/MyDrive/Final.v1i.yolov8/lib.mp4: 640x384 (no detections), 15.0ms\n",
      "video 1/1 (frame 1047/1998) /content/drive/MyDrive/Final.v1i.yolov8/lib.mp4: 640x384 (no detections), 15.9ms\n",
      "video 1/1 (frame 1048/1998) /content/drive/MyDrive/Final.v1i.yolov8/lib.mp4: 640x384 (no detections), 13.8ms\n",
      "video 1/1 (frame 1049/1998) /content/drive/MyDrive/Final.v1i.yolov8/lib.mp4: 640x384 (no detections), 10.7ms\n",
      "video 1/1 (frame 1050/1998) /content/drive/MyDrive/Final.v1i.yolov8/lib.mp4: 640x384 (no detections), 13.7ms\n",
      "video 1/1 (frame 1051/1998) /content/drive/MyDrive/Final.v1i.yolov8/lib.mp4: 640x384 (no detections), 10.9ms\n",
      "video 1/1 (frame 1052/1998) /content/drive/MyDrive/Final.v1i.yolov8/lib.mp4: 640x384 (no detections), 12.3ms\n",
      "video 1/1 (frame 1053/1998) /content/drive/MyDrive/Final.v1i.yolov8/lib.mp4: 640x384 (no detections), 12.3ms\n",
      "video 1/1 (frame 1054/1998) /content/drive/MyDrive/Final.v1i.yolov8/lib.mp4: 640x384 (no detections), 13.0ms\n",
      "video 1/1 (frame 1055/1998) /content/drive/MyDrive/Final.v1i.yolov8/lib.mp4: 640x384 (no detections), 12.9ms\n",
      "video 1/1 (frame 1056/1998) /content/drive/MyDrive/Final.v1i.yolov8/lib.mp4: 640x384 (no detections), 10.3ms\n",
      "video 1/1 (frame 1057/1998) /content/drive/MyDrive/Final.v1i.yolov8/lib.mp4: 640x384 (no detections), 8.8ms\n",
      "video 1/1 (frame 1058/1998) /content/drive/MyDrive/Final.v1i.yolov8/lib.mp4: 640x384 (no detections), 10.0ms\n",
      "video 1/1 (frame 1059/1998) /content/drive/MyDrive/Final.v1i.yolov8/lib.mp4: 640x384 (no detections), 9.5ms\n",
      "video 1/1 (frame 1060/1998) /content/drive/MyDrive/Final.v1i.yolov8/lib.mp4: 640x384 (no detections), 9.7ms\n",
      "video 1/1 (frame 1061/1998) /content/drive/MyDrive/Final.v1i.yolov8/lib.mp4: 640x384 (no detections), 9.6ms\n",
      "video 1/1 (frame 1062/1998) /content/drive/MyDrive/Final.v1i.yolov8/lib.mp4: 640x384 (no detections), 12.4ms\n",
      "video 1/1 (frame 1063/1998) /content/drive/MyDrive/Final.v1i.yolov8/lib.mp4: 640x384 (no detections), 12.3ms\n",
      "video 1/1 (frame 1064/1998) /content/drive/MyDrive/Final.v1i.yolov8/lib.mp4: 640x384 (no detections), 13.7ms\n",
      "video 1/1 (frame 1065/1998) /content/drive/MyDrive/Final.v1i.yolov8/lib.mp4: 640x384 (no detections), 11.3ms\n",
      "video 1/1 (frame 1066/1998) /content/drive/MyDrive/Final.v1i.yolov8/lib.mp4: 640x384 (no detections), 11.2ms\n",
      "video 1/1 (frame 1067/1998) /content/drive/MyDrive/Final.v1i.yolov8/lib.mp4: 640x384 (no detections), 11.0ms\n",
      "video 1/1 (frame 1068/1998) /content/drive/MyDrive/Final.v1i.yolov8/lib.mp4: 640x384 (no detections), 9.3ms\n",
      "video 1/1 (frame 1069/1998) /content/drive/MyDrive/Final.v1i.yolov8/lib.mp4: 640x384 (no detections), 12.9ms\n",
      "video 1/1 (frame 1070/1998) /content/drive/MyDrive/Final.v1i.yolov8/lib.mp4: 640x384 (no detections), 9.7ms\n",
      "video 1/1 (frame 1071/1998) /content/drive/MyDrive/Final.v1i.yolov8/lib.mp4: 640x384 (no detections), 8.9ms\n",
      "video 1/1 (frame 1072/1998) /content/drive/MyDrive/Final.v1i.yolov8/lib.mp4: 640x384 (no detections), 10.0ms\n",
      "video 1/1 (frame 1073/1998) /content/drive/MyDrive/Final.v1i.yolov8/lib.mp4: 640x384 (no detections), 13.8ms\n",
      "video 1/1 (frame 1074/1998) /content/drive/MyDrive/Final.v1i.yolov8/lib.mp4: 640x384 (no detections), 11.6ms\n",
      "video 1/1 (frame 1075/1998) /content/drive/MyDrive/Final.v1i.yolov8/lib.mp4: 640x384 (no detections), 10.0ms\n",
      "video 1/1 (frame 1076/1998) /content/drive/MyDrive/Final.v1i.yolov8/lib.mp4: 640x384 (no detections), 10.2ms\n",
      "video 1/1 (frame 1077/1998) /content/drive/MyDrive/Final.v1i.yolov8/lib.mp4: 640x384 (no detections), 9.9ms\n",
      "video 1/1 (frame 1078/1998) /content/drive/MyDrive/Final.v1i.yolov8/lib.mp4: 640x384 (no detections), 10.6ms\n",
      "video 1/1 (frame 1079/1998) /content/drive/MyDrive/Final.v1i.yolov8/lib.mp4: 640x384 (no detections), 12.5ms\n",
      "video 1/1 (frame 1080/1998) /content/drive/MyDrive/Final.v1i.yolov8/lib.mp4: 640x384 (no detections), 10.7ms\n",
      "video 1/1 (frame 1081/1998) /content/drive/MyDrive/Final.v1i.yolov8/lib.mp4: 640x384 (no detections), 13.1ms\n",
      "video 1/1 (frame 1082/1998) /content/drive/MyDrive/Final.v1i.yolov8/lib.mp4: 640x384 (no detections), 15.0ms\n",
      "video 1/1 (frame 1083/1998) /content/drive/MyDrive/Final.v1i.yolov8/lib.mp4: 640x384 (no detections), 12.2ms\n",
      "video 1/1 (frame 1084/1998) /content/drive/MyDrive/Final.v1i.yolov8/lib.mp4: 640x384 (no detections), 17.7ms\n",
      "video 1/1 (frame 1085/1998) /content/drive/MyDrive/Final.v1i.yolov8/lib.mp4: 640x384 (no detections), 17.1ms\n",
      "video 1/1 (frame 1086/1998) /content/drive/MyDrive/Final.v1i.yolov8/lib.mp4: 640x384 (no detections), 18.6ms\n",
      "video 1/1 (frame 1087/1998) /content/drive/MyDrive/Final.v1i.yolov8/lib.mp4: 640x384 (no detections), 13.1ms\n",
      "video 1/1 (frame 1088/1998) /content/drive/MyDrive/Final.v1i.yolov8/lib.mp4: 640x384 (no detections), 12.5ms\n",
      "video 1/1 (frame 1089/1998) /content/drive/MyDrive/Final.v1i.yolov8/lib.mp4: 640x384 (no detections), 9.6ms\n",
      "video 1/1 (frame 1090/1998) /content/drive/MyDrive/Final.v1i.yolov8/lib.mp4: 640x384 (no detections), 9.0ms\n",
      "video 1/1 (frame 1091/1998) /content/drive/MyDrive/Final.v1i.yolov8/lib.mp4: 640x384 (no detections), 11.0ms\n",
      "video 1/1 (frame 1092/1998) /content/drive/MyDrive/Final.v1i.yolov8/lib.mp4: 640x384 (no detections), 9.2ms\n",
      "video 1/1 (frame 1093/1998) /content/drive/MyDrive/Final.v1i.yolov8/lib.mp4: 640x384 (no detections), 9.2ms\n",
      "video 1/1 (frame 1094/1998) /content/drive/MyDrive/Final.v1i.yolov8/lib.mp4: 640x384 (no detections), 9.7ms\n",
      "video 1/1 (frame 1095/1998) /content/drive/MyDrive/Final.v1i.yolov8/lib.mp4: 640x384 (no detections), 9.2ms\n",
      "video 1/1 (frame 1096/1998) /content/drive/MyDrive/Final.v1i.yolov8/lib.mp4: 640x384 (no detections), 9.2ms\n",
      "video 1/1 (frame 1097/1998) /content/drive/MyDrive/Final.v1i.yolov8/lib.mp4: 640x384 (no detections), 9.0ms\n",
      "video 1/1 (frame 1098/1998) /content/drive/MyDrive/Final.v1i.yolov8/lib.mp4: 640x384 (no detections), 9.4ms\n",
      "video 1/1 (frame 1099/1998) /content/drive/MyDrive/Final.v1i.yolov8/lib.mp4: 640x384 (no detections), 9.0ms\n",
      "video 1/1 (frame 1100/1998) /content/drive/MyDrive/Final.v1i.yolov8/lib.mp4: 640x384 (no detections), 8.3ms\n",
      "video 1/1 (frame 1101/1998) /content/drive/MyDrive/Final.v1i.yolov8/lib.mp4: 640x384 (no detections), 13.0ms\n",
      "video 1/1 (frame 1102/1998) /content/drive/MyDrive/Final.v1i.yolov8/lib.mp4: 640x384 (no detections), 9.8ms\n",
      "video 1/1 (frame 1103/1998) /content/drive/MyDrive/Final.v1i.yolov8/lib.mp4: 640x384 (no detections), 14.3ms\n",
      "video 1/1 (frame 1104/1998) /content/drive/MyDrive/Final.v1i.yolov8/lib.mp4: 640x384 (no detections), 11.4ms\n",
      "video 1/1 (frame 1105/1998) /content/drive/MyDrive/Final.v1i.yolov8/lib.mp4: 640x384 (no detections), 8.7ms\n",
      "video 1/1 (frame 1106/1998) /content/drive/MyDrive/Final.v1i.yolov8/lib.mp4: 640x384 (no detections), 9.2ms\n",
      "video 1/1 (frame 1107/1998) /content/drive/MyDrive/Final.v1i.yolov8/lib.mp4: 640x384 (no detections), 9.1ms\n",
      "video 1/1 (frame 1108/1998) /content/drive/MyDrive/Final.v1i.yolov8/lib.mp4: 640x384 (no detections), 9.1ms\n",
      "video 1/1 (frame 1109/1998) /content/drive/MyDrive/Final.v1i.yolov8/lib.mp4: 640x384 (no detections), 9.0ms\n",
      "video 1/1 (frame 1110/1998) /content/drive/MyDrive/Final.v1i.yolov8/lib.mp4: 640x384 (no detections), 9.2ms\n",
      "video 1/1 (frame 1111/1998) /content/drive/MyDrive/Final.v1i.yolov8/lib.mp4: 640x384 (no detections), 8.9ms\n",
      "video 1/1 (frame 1112/1998) /content/drive/MyDrive/Final.v1i.yolov8/lib.mp4: 640x384 (no detections), 8.9ms\n",
      "video 1/1 (frame 1113/1998) /content/drive/MyDrive/Final.v1i.yolov8/lib.mp4: 640x384 (no detections), 9.1ms\n",
      "video 1/1 (frame 1114/1998) /content/drive/MyDrive/Final.v1i.yolov8/lib.mp4: 640x384 (no detections), 12.7ms\n",
      "video 1/1 (frame 1115/1998) /content/drive/MyDrive/Final.v1i.yolov8/lib.mp4: 640x384 (no detections), 12.1ms\n",
      "video 1/1 (frame 1116/1998) /content/drive/MyDrive/Final.v1i.yolov8/lib.mp4: 640x384 (no detections), 17.8ms\n",
      "video 1/1 (frame 1117/1998) /content/drive/MyDrive/Final.v1i.yolov8/lib.mp4: 640x384 (no detections), 10.8ms\n",
      "video 1/1 (frame 1118/1998) /content/drive/MyDrive/Final.v1i.yolov8/lib.mp4: 640x384 (no detections), 9.9ms\n",
      "video 1/1 (frame 1119/1998) /content/drive/MyDrive/Final.v1i.yolov8/lib.mp4: 640x384 (no detections), 10.3ms\n",
      "video 1/1 (frame 1120/1998) /content/drive/MyDrive/Final.v1i.yolov8/lib.mp4: 640x384 (no detections), 20.1ms\n",
      "video 1/1 (frame 1121/1998) /content/drive/MyDrive/Final.v1i.yolov8/lib.mp4: 640x384 (no detections), 13.1ms\n",
      "video 1/1 (frame 1122/1998) /content/drive/MyDrive/Final.v1i.yolov8/lib.mp4: 640x384 (no detections), 17.8ms\n",
      "video 1/1 (frame 1123/1998) /content/drive/MyDrive/Final.v1i.yolov8/lib.mp4: 640x384 (no detections), 9.4ms\n",
      "video 1/1 (frame 1124/1998) /content/drive/MyDrive/Final.v1i.yolov8/lib.mp4: 640x384 (no detections), 11.0ms\n",
      "video 1/1 (frame 1125/1998) /content/drive/MyDrive/Final.v1i.yolov8/lib.mp4: 640x384 (no detections), 10.2ms\n",
      "video 1/1 (frame 1126/1998) /content/drive/MyDrive/Final.v1i.yolov8/lib.mp4: 640x384 (no detections), 9.5ms\n",
      "video 1/1 (frame 1127/1998) /content/drive/MyDrive/Final.v1i.yolov8/lib.mp4: 640x384 (no detections), 14.9ms\n",
      "video 1/1 (frame 1128/1998) /content/drive/MyDrive/Final.v1i.yolov8/lib.mp4: 640x384 (no detections), 10.2ms\n",
      "video 1/1 (frame 1129/1998) /content/drive/MyDrive/Final.v1i.yolov8/lib.mp4: 640x384 (no detections), 13.2ms\n",
      "video 1/1 (frame 1130/1998) /content/drive/MyDrive/Final.v1i.yolov8/lib.mp4: 640x384 (no detections), 10.0ms\n",
      "video 1/1 (frame 1131/1998) /content/drive/MyDrive/Final.v1i.yolov8/lib.mp4: 640x384 (no detections), 10.0ms\n",
      "video 1/1 (frame 1132/1998) /content/drive/MyDrive/Final.v1i.yolov8/lib.mp4: 640x384 (no detections), 13.8ms\n",
      "video 1/1 (frame 1133/1998) /content/drive/MyDrive/Final.v1i.yolov8/lib.mp4: 640x384 (no detections), 9.6ms\n",
      "video 1/1 (frame 1134/1998) /content/drive/MyDrive/Final.v1i.yolov8/lib.mp4: 640x384 (no detections), 9.8ms\n",
      "video 1/1 (frame 1135/1998) /content/drive/MyDrive/Final.v1i.yolov8/lib.mp4: 640x384 (no detections), 15.4ms\n",
      "video 1/1 (frame 1136/1998) /content/drive/MyDrive/Final.v1i.yolov8/lib.mp4: 640x384 (no detections), 10.9ms\n",
      "video 1/1 (frame 1137/1998) /content/drive/MyDrive/Final.v1i.yolov8/lib.mp4: 640x384 (no detections), 12.0ms\n",
      "video 1/1 (frame 1138/1998) /content/drive/MyDrive/Final.v1i.yolov8/lib.mp4: 640x384 (no detections), 14.8ms\n",
      "video 1/1 (frame 1139/1998) /content/drive/MyDrive/Final.v1i.yolov8/lib.mp4: 640x384 (no detections), 14.0ms\n",
      "video 1/1 (frame 1140/1998) /content/drive/MyDrive/Final.v1i.yolov8/lib.mp4: 640x384 (no detections), 10.3ms\n",
      "video 1/1 (frame 1141/1998) /content/drive/MyDrive/Final.v1i.yolov8/lib.mp4: 640x384 (no detections), 9.4ms\n",
      "video 1/1 (frame 1142/1998) /content/drive/MyDrive/Final.v1i.yolov8/lib.mp4: 640x384 (no detections), 9.5ms\n",
      "video 1/1 (frame 1143/1998) /content/drive/MyDrive/Final.v1i.yolov8/lib.mp4: 640x384 (no detections), 9.6ms\n",
      "video 1/1 (frame 1144/1998) /content/drive/MyDrive/Final.v1i.yolov8/lib.mp4: 640x384 (no detections), 8.9ms\n",
      "video 1/1 (frame 1145/1998) /content/drive/MyDrive/Final.v1i.yolov8/lib.mp4: 640x384 (no detections), 8.3ms\n",
      "video 1/1 (frame 1146/1998) /content/drive/MyDrive/Final.v1i.yolov8/lib.mp4: 640x384 (no detections), 11.4ms\n",
      "video 1/1 (frame 1147/1998) /content/drive/MyDrive/Final.v1i.yolov8/lib.mp4: 640x384 (no detections), 15.6ms\n",
      "video 1/1 (frame 1148/1998) /content/drive/MyDrive/Final.v1i.yolov8/lib.mp4: 640x384 (no detections), 14.3ms\n",
      "video 1/1 (frame 1149/1998) /content/drive/MyDrive/Final.v1i.yolov8/lib.mp4: 640x384 (no detections), 15.8ms\n",
      "video 1/1 (frame 1150/1998) /content/drive/MyDrive/Final.v1i.yolov8/lib.mp4: 640x384 (no detections), 11.2ms\n",
      "video 1/1 (frame 1151/1998) /content/drive/MyDrive/Final.v1i.yolov8/lib.mp4: 640x384 (no detections), 12.3ms\n",
      "video 1/1 (frame 1152/1998) /content/drive/MyDrive/Final.v1i.yolov8/lib.mp4: 640x384 (no detections), 9.2ms\n",
      "video 1/1 (frame 1153/1998) /content/drive/MyDrive/Final.v1i.yolov8/lib.mp4: 640x384 (no detections), 9.1ms\n",
      "video 1/1 (frame 1154/1998) /content/drive/MyDrive/Final.v1i.yolov8/lib.mp4: 640x384 (no detections), 11.1ms\n",
      "video 1/1 (frame 1155/1998) /content/drive/MyDrive/Final.v1i.yolov8/lib.mp4: 640x384 (no detections), 13.7ms\n",
      "video 1/1 (frame 1156/1998) /content/drive/MyDrive/Final.v1i.yolov8/lib.mp4: 640x384 (no detections), 9.2ms\n",
      "video 1/1 (frame 1157/1998) /content/drive/MyDrive/Final.v1i.yolov8/lib.mp4: 640x384 (no detections), 13.1ms\n",
      "video 1/1 (frame 1158/1998) /content/drive/MyDrive/Final.v1i.yolov8/lib.mp4: 640x384 (no detections), 13.8ms\n",
      "video 1/1 (frame 1159/1998) /content/drive/MyDrive/Final.v1i.yolov8/lib.mp4: 640x384 (no detections), 13.2ms\n",
      "video 1/1 (frame 1160/1998) /content/drive/MyDrive/Final.v1i.yolov8/lib.mp4: 640x384 (no detections), 9.4ms\n",
      "video 1/1 (frame 1161/1998) /content/drive/MyDrive/Final.v1i.yolov8/lib.mp4: 640x384 (no detections), 14.6ms\n",
      "video 1/1 (frame 1162/1998) /content/drive/MyDrive/Final.v1i.yolov8/lib.mp4: 640x384 (no detections), 9.1ms\n",
      "video 1/1 (frame 1163/1998) /content/drive/MyDrive/Final.v1i.yolov8/lib.mp4: 640x384 (no detections), 9.2ms\n",
      "video 1/1 (frame 1164/1998) /content/drive/MyDrive/Final.v1i.yolov8/lib.mp4: 640x384 (no detections), 9.8ms\n",
      "video 1/1 (frame 1165/1998) /content/drive/MyDrive/Final.v1i.yolov8/lib.mp4: 640x384 (no detections), 8.8ms\n",
      "video 1/1 (frame 1166/1998) /content/drive/MyDrive/Final.v1i.yolov8/lib.mp4: 640x384 (no detections), 9.7ms\n",
      "video 1/1 (frame 1167/1998) /content/drive/MyDrive/Final.v1i.yolov8/lib.mp4: 640x384 (no detections), 10.4ms\n",
      "video 1/1 (frame 1168/1998) /content/drive/MyDrive/Final.v1i.yolov8/lib.mp4: 640x384 (no detections), 9.0ms\n",
      "video 1/1 (frame 1169/1998) /content/drive/MyDrive/Final.v1i.yolov8/lib.mp4: 640x384 (no detections), 8.8ms\n",
      "video 1/1 (frame 1170/1998) /content/drive/MyDrive/Final.v1i.yolov8/lib.mp4: 640x384 (no detections), 10.3ms\n",
      "video 1/1 (frame 1171/1998) /content/drive/MyDrive/Final.v1i.yolov8/lib.mp4: 640x384 (no detections), 12.5ms\n",
      "video 1/1 (frame 1172/1998) /content/drive/MyDrive/Final.v1i.yolov8/lib.mp4: 640x384 (no detections), 9.3ms\n",
      "video 1/1 (frame 1173/1998) /content/drive/MyDrive/Final.v1i.yolov8/lib.mp4: 640x384 (no detections), 9.3ms\n",
      "video 1/1 (frame 1174/1998) /content/drive/MyDrive/Final.v1i.yolov8/lib.mp4: 640x384 (no detections), 14.4ms\n",
      "video 1/1 (frame 1175/1998) /content/drive/MyDrive/Final.v1i.yolov8/lib.mp4: 640x384 (no detections), 12.0ms\n",
      "video 1/1 (frame 1176/1998) /content/drive/MyDrive/Final.v1i.yolov8/lib.mp4: 640x384 (no detections), 13.6ms\n",
      "video 1/1 (frame 1177/1998) /content/drive/MyDrive/Final.v1i.yolov8/lib.mp4: 640x384 (no detections), 15.3ms\n",
      "video 1/1 (frame 1178/1998) /content/drive/MyDrive/Final.v1i.yolov8/lib.mp4: 640x384 (no detections), 10.6ms\n",
      "video 1/1 (frame 1179/1998) /content/drive/MyDrive/Final.v1i.yolov8/lib.mp4: 640x384 (no detections), 13.3ms\n",
      "video 1/1 (frame 1180/1998) /content/drive/MyDrive/Final.v1i.yolov8/lib.mp4: 640x384 (no detections), 11.3ms\n",
      "video 1/1 (frame 1181/1998) /content/drive/MyDrive/Final.v1i.yolov8/lib.mp4: 640x384 (no detections), 11.8ms\n",
      "video 1/1 (frame 1182/1998) /content/drive/MyDrive/Final.v1i.yolov8/lib.mp4: 640x384 (no detections), 12.2ms\n",
      "video 1/1 (frame 1183/1998) /content/drive/MyDrive/Final.v1i.yolov8/lib.mp4: 640x384 (no detections), 13.7ms\n",
      "video 1/1 (frame 1184/1998) /content/drive/MyDrive/Final.v1i.yolov8/lib.mp4: 640x384 (no detections), 11.6ms\n",
      "video 1/1 (frame 1185/1998) /content/drive/MyDrive/Final.v1i.yolov8/lib.mp4: 640x384 (no detections), 13.8ms\n",
      "video 1/1 (frame 1186/1998) /content/drive/MyDrive/Final.v1i.yolov8/lib.mp4: 640x384 (no detections), 9.7ms\n",
      "video 1/1 (frame 1187/1998) /content/drive/MyDrive/Final.v1i.yolov8/lib.mp4: 640x384 (no detections), 13.7ms\n",
      "video 1/1 (frame 1188/1998) /content/drive/MyDrive/Final.v1i.yolov8/lib.mp4: 640x384 (no detections), 13.6ms\n",
      "video 1/1 (frame 1189/1998) /content/drive/MyDrive/Final.v1i.yolov8/lib.mp4: 640x384 (no detections), 14.8ms\n",
      "video 1/1 (frame 1190/1998) /content/drive/MyDrive/Final.v1i.yolov8/lib.mp4: 640x384 (no detections), 10.1ms\n",
      "video 1/1 (frame 1191/1998) /content/drive/MyDrive/Final.v1i.yolov8/lib.mp4: 640x384 (no detections), 14.4ms\n",
      "video 1/1 (frame 1192/1998) /content/drive/MyDrive/Final.v1i.yolov8/lib.mp4: 640x384 (no detections), 14.5ms\n",
      "video 1/1 (frame 1193/1998) /content/drive/MyDrive/Final.v1i.yolov8/lib.mp4: 640x384 (no detections), 11.2ms\n",
      "video 1/1 (frame 1194/1998) /content/drive/MyDrive/Final.v1i.yolov8/lib.mp4: 640x384 (no detections), 10.1ms\n",
      "video 1/1 (frame 1195/1998) /content/drive/MyDrive/Final.v1i.yolov8/lib.mp4: 640x384 1 Book, 9.2ms\n",
      "video 1/1 (frame 1196/1998) /content/drive/MyDrive/Final.v1i.yolov8/lib.mp4: 640x384 1 Book, 9.3ms\n",
      "video 1/1 (frame 1197/1998) /content/drive/MyDrive/Final.v1i.yolov8/lib.mp4: 640x384 (no detections), 13.9ms\n",
      "video 1/1 (frame 1198/1998) /content/drive/MyDrive/Final.v1i.yolov8/lib.mp4: 640x384 1 Book, 13.8ms\n",
      "video 1/1 (frame 1199/1998) /content/drive/MyDrive/Final.v1i.yolov8/lib.mp4: 640x384 2 Books, 11.5ms\n",
      "video 1/1 (frame 1200/1998) /content/drive/MyDrive/Final.v1i.yolov8/lib.mp4: 640x384 1 Book, 9.3ms\n",
      "video 1/1 (frame 1201/1998) /content/drive/MyDrive/Final.v1i.yolov8/lib.mp4: 640x384 1 Book, 9.7ms\n",
      "video 1/1 (frame 1202/1998) /content/drive/MyDrive/Final.v1i.yolov8/lib.mp4: 640x384 1 Book, 9.8ms\n",
      "video 1/1 (frame 1203/1998) /content/drive/MyDrive/Final.v1i.yolov8/lib.mp4: 640x384 2 Books, 10.3ms\n",
      "video 1/1 (frame 1204/1998) /content/drive/MyDrive/Final.v1i.yolov8/lib.mp4: 640x384 1 Book, 9.1ms\n",
      "video 1/1 (frame 1205/1998) /content/drive/MyDrive/Final.v1i.yolov8/lib.mp4: 640x384 1 Book, 14.9ms\n",
      "video 1/1 (frame 1206/1998) /content/drive/MyDrive/Final.v1i.yolov8/lib.mp4: 640x384 1 Book, 9.0ms\n",
      "video 1/1 (frame 1207/1998) /content/drive/MyDrive/Final.v1i.yolov8/lib.mp4: 640x384 1 Book, 17.7ms\n",
      "video 1/1 (frame 1208/1998) /content/drive/MyDrive/Final.v1i.yolov8/lib.mp4: 640x384 1 Book, 15.8ms\n",
      "video 1/1 (frame 1209/1998) /content/drive/MyDrive/Final.v1i.yolov8/lib.mp4: 640x384 1 Book, 13.7ms\n",
      "video 1/1 (frame 1210/1998) /content/drive/MyDrive/Final.v1i.yolov8/lib.mp4: 640x384 1 Book, 17.6ms\n",
      "video 1/1 (frame 1211/1998) /content/drive/MyDrive/Final.v1i.yolov8/lib.mp4: 640x384 1 Book, 11.8ms\n",
      "video 1/1 (frame 1212/1998) /content/drive/MyDrive/Final.v1i.yolov8/lib.mp4: 640x384 1 Book, 11.8ms\n",
      "video 1/1 (frame 1213/1998) /content/drive/MyDrive/Final.v1i.yolov8/lib.mp4: 640x384 1 Book, 11.3ms\n",
      "video 1/1 (frame 1214/1998) /content/drive/MyDrive/Final.v1i.yolov8/lib.mp4: 640x384 1 Book, 14.0ms\n",
      "video 1/1 (frame 1215/1998) /content/drive/MyDrive/Final.v1i.yolov8/lib.mp4: 640x384 1 Book, 22.8ms\n",
      "video 1/1 (frame 1216/1998) /content/drive/MyDrive/Final.v1i.yolov8/lib.mp4: 640x384 (no detections), 10.8ms\n",
      "video 1/1 (frame 1217/1998) /content/drive/MyDrive/Final.v1i.yolov8/lib.mp4: 640x384 (no detections), 11.9ms\n",
      "video 1/1 (frame 1218/1998) /content/drive/MyDrive/Final.v1i.yolov8/lib.mp4: 640x384 (no detections), 11.0ms\n",
      "video 1/1 (frame 1219/1998) /content/drive/MyDrive/Final.v1i.yolov8/lib.mp4: 640x384 1 Book, 10.5ms\n",
      "video 1/1 (frame 1220/1998) /content/drive/MyDrive/Final.v1i.yolov8/lib.mp4: 640x384 1 Book, 9.6ms\n",
      "video 1/1 (frame 1221/1998) /content/drive/MyDrive/Final.v1i.yolov8/lib.mp4: 640x384 1 Book, 9.2ms\n",
      "video 1/1 (frame 1222/1998) /content/drive/MyDrive/Final.v1i.yolov8/lib.mp4: 640x384 1 Book, 11.6ms\n",
      "video 1/1 (frame 1223/1998) /content/drive/MyDrive/Final.v1i.yolov8/lib.mp4: 640x384 1 Book, 11.7ms\n",
      "video 1/1 (frame 1224/1998) /content/drive/MyDrive/Final.v1i.yolov8/lib.mp4: 640x384 (no detections), 12.7ms\n",
      "video 1/1 (frame 1225/1998) /content/drive/MyDrive/Final.v1i.yolov8/lib.mp4: 640x384 1 Book, 9.5ms\n",
      "video 1/1 (frame 1226/1998) /content/drive/MyDrive/Final.v1i.yolov8/lib.mp4: 640x384 (no detections), 11.9ms\n",
      "video 1/1 (frame 1227/1998) /content/drive/MyDrive/Final.v1i.yolov8/lib.mp4: 640x384 (no detections), 10.5ms\n",
      "video 1/1 (frame 1228/1998) /content/drive/MyDrive/Final.v1i.yolov8/lib.mp4: 640x384 1 Book, 13.6ms\n",
      "video 1/1 (frame 1229/1998) /content/drive/MyDrive/Final.v1i.yolov8/lib.mp4: 640x384 (no detections), 14.3ms\n",
      "video 1/1 (frame 1230/1998) /content/drive/MyDrive/Final.v1i.yolov8/lib.mp4: 640x384 1 Book, 10.9ms\n",
      "video 1/1 (frame 1231/1998) /content/drive/MyDrive/Final.v1i.yolov8/lib.mp4: 640x384 1 Book, 13.0ms\n",
      "video 1/1 (frame 1232/1998) /content/drive/MyDrive/Final.v1i.yolov8/lib.mp4: 640x384 1 Book, 11.7ms\n",
      "video 1/1 (frame 1233/1998) /content/drive/MyDrive/Final.v1i.yolov8/lib.mp4: 640x384 1 Book, 9.7ms\n",
      "video 1/1 (frame 1234/1998) /content/drive/MyDrive/Final.v1i.yolov8/lib.mp4: 640x384 (no detections), 7.4ms\n",
      "video 1/1 (frame 1235/1998) /content/drive/MyDrive/Final.v1i.yolov8/lib.mp4: 640x384 (no detections), 9.9ms\n",
      "video 1/1 (frame 1236/1998) /content/drive/MyDrive/Final.v1i.yolov8/lib.mp4: 640x384 (no detections), 7.1ms\n",
      "video 1/1 (frame 1237/1998) /content/drive/MyDrive/Final.v1i.yolov8/lib.mp4: 640x384 (no detections), 7.4ms\n",
      "video 1/1 (frame 1238/1998) /content/drive/MyDrive/Final.v1i.yolov8/lib.mp4: 640x384 (no detections), 7.3ms\n",
      "video 1/1 (frame 1239/1998) /content/drive/MyDrive/Final.v1i.yolov8/lib.mp4: 640x384 (no detections), 8.1ms\n",
      "video 1/1 (frame 1240/1998) /content/drive/MyDrive/Final.v1i.yolov8/lib.mp4: 640x384 (no detections), 6.6ms\n",
      "video 1/1 (frame 1241/1998) /content/drive/MyDrive/Final.v1i.yolov8/lib.mp4: 640x384 1 Book, 1 Bottle, 6.9ms\n",
      "video 1/1 (frame 1242/1998) /content/drive/MyDrive/Final.v1i.yolov8/lib.mp4: 640x384 1 Book, 1 Bottle, 6.2ms\n",
      "video 1/1 (frame 1243/1998) /content/drive/MyDrive/Final.v1i.yolov8/lib.mp4: 640x384 2 Books, 1 Bottle, 10.0ms\n",
      "video 1/1 (frame 1244/1998) /content/drive/MyDrive/Final.v1i.yolov8/lib.mp4: 640x384 1 Book, 1 Bottle, 13.2ms\n",
      "video 1/1 (frame 1245/1998) /content/drive/MyDrive/Final.v1i.yolov8/lib.mp4: 640x384 1 Book, 8.4ms\n",
      "video 1/1 (frame 1246/1998) /content/drive/MyDrive/Final.v1i.yolov8/lib.mp4: 640x384 1 Book, 8.3ms\n",
      "video 1/1 (frame 1247/1998) /content/drive/MyDrive/Final.v1i.yolov8/lib.mp4: 640x384 1 Book, 11.3ms\n",
      "video 1/1 (frame 1248/1998) /content/drive/MyDrive/Final.v1i.yolov8/lib.mp4: 640x384 1 Book, 11.5ms\n",
      "video 1/1 (frame 1249/1998) /content/drive/MyDrive/Final.v1i.yolov8/lib.mp4: 640x384 1 Book, 1 Bottle, 9.3ms\n",
      "video 1/1 (frame 1250/1998) /content/drive/MyDrive/Final.v1i.yolov8/lib.mp4: 640x384 1 Book, 1 Bottle, 6.5ms\n",
      "video 1/1 (frame 1251/1998) /content/drive/MyDrive/Final.v1i.yolov8/lib.mp4: 640x384 1 Book, 6.9ms\n",
      "video 1/1 (frame 1252/1998) /content/drive/MyDrive/Final.v1i.yolov8/lib.mp4: 640x384 1 Book, 7.8ms\n",
      "video 1/1 (frame 1253/1998) /content/drive/MyDrive/Final.v1i.yolov8/lib.mp4: 640x384 1 Book, 6.2ms\n",
      "video 1/1 (frame 1254/1998) /content/drive/MyDrive/Final.v1i.yolov8/lib.mp4: 640x384 2 Books, 6.6ms\n",
      "video 1/1 (frame 1255/1998) /content/drive/MyDrive/Final.v1i.yolov8/lib.mp4: 640x384 1 Book, 9.6ms\n",
      "video 1/1 (frame 1256/1998) /content/drive/MyDrive/Final.v1i.yolov8/lib.mp4: 640x384 1 Book, 9.2ms\n",
      "video 1/1 (frame 1257/1998) /content/drive/MyDrive/Final.v1i.yolov8/lib.mp4: 640x384 2 Books, 6.7ms\n",
      "video 1/1 (frame 1258/1998) /content/drive/MyDrive/Final.v1i.yolov8/lib.mp4: 640x384 2 Books, 6.0ms\n",
      "video 1/1 (frame 1259/1998) /content/drive/MyDrive/Final.v1i.yolov8/lib.mp4: 640x384 3 Books, 9.3ms\n",
      "video 1/1 (frame 1260/1998) /content/drive/MyDrive/Final.v1i.yolov8/lib.mp4: 640x384 4 Books, 6.8ms\n",
      "video 1/1 (frame 1261/1998) /content/drive/MyDrive/Final.v1i.yolov8/lib.mp4: 640x384 3 Books, 6.1ms\n",
      "video 1/1 (frame 1262/1998) /content/drive/MyDrive/Final.v1i.yolov8/lib.mp4: 640x384 2 Books, 6.0ms\n",
      "video 1/1 (frame 1263/1998) /content/drive/MyDrive/Final.v1i.yolov8/lib.mp4: 640x384 1 Book, 9.3ms\n",
      "video 1/1 (frame 1264/1998) /content/drive/MyDrive/Final.v1i.yolov8/lib.mp4: 640x384 2 Books, 7.2ms\n",
      "video 1/1 (frame 1265/1998) /content/drive/MyDrive/Final.v1i.yolov8/lib.mp4: 640x384 1 Book, 7.5ms\n",
      "video 1/1 (frame 1266/1998) /content/drive/MyDrive/Final.v1i.yolov8/lib.mp4: 640x384 1 Book, 6.2ms\n",
      "video 1/1 (frame 1267/1998) /content/drive/MyDrive/Final.v1i.yolov8/lib.mp4: 640x384 2 Books, 6.4ms\n",
      "video 1/1 (frame 1268/1998) /content/drive/MyDrive/Final.v1i.yolov8/lib.mp4: 640x384 3 Books, 6.1ms\n",
      "video 1/1 (frame 1269/1998) /content/drive/MyDrive/Final.v1i.yolov8/lib.mp4: 640x384 2 Books, 8.7ms\n",
      "video 1/1 (frame 1270/1998) /content/drive/MyDrive/Final.v1i.yolov8/lib.mp4: 640x384 2 Books, 6.4ms\n",
      "video 1/1 (frame 1271/1998) /content/drive/MyDrive/Final.v1i.yolov8/lib.mp4: 640x384 4 Books, 8.5ms\n",
      "video 1/1 (frame 1272/1998) /content/drive/MyDrive/Final.v1i.yolov8/lib.mp4: 640x384 3 Books, 6.2ms\n",
      "video 1/1 (frame 1273/1998) /content/drive/MyDrive/Final.v1i.yolov8/lib.mp4: 640x384 3 Books, 6.5ms\n",
      "video 1/1 (frame 1274/1998) /content/drive/MyDrive/Final.v1i.yolov8/lib.mp4: 640x384 4 Books, 6.4ms\n",
      "video 1/1 (frame 1275/1998) /content/drive/MyDrive/Final.v1i.yolov8/lib.mp4: 640x384 2 Books, 6.3ms\n",
      "video 1/1 (frame 1276/1998) /content/drive/MyDrive/Final.v1i.yolov8/lib.mp4: 640x384 2 Books, 6.4ms\n",
      "video 1/1 (frame 1277/1998) /content/drive/MyDrive/Final.v1i.yolov8/lib.mp4: 640x384 2 Books, 6.5ms\n",
      "video 1/1 (frame 1278/1998) /content/drive/MyDrive/Final.v1i.yolov8/lib.mp4: 640x384 2 Books, 6.4ms\n",
      "video 1/1 (frame 1279/1998) /content/drive/MyDrive/Final.v1i.yolov8/lib.mp4: 640x384 2 Books, 9.3ms\n",
      "video 1/1 (frame 1280/1998) /content/drive/MyDrive/Final.v1i.yolov8/lib.mp4: 640x384 (no detections), 6.4ms\n",
      "video 1/1 (frame 1281/1998) /content/drive/MyDrive/Final.v1i.yolov8/lib.mp4: 640x384 1 Book, 6.9ms\n",
      "video 1/1 (frame 1282/1998) /content/drive/MyDrive/Final.v1i.yolov8/lib.mp4: 640x384 (no detections), 7.4ms\n",
      "video 1/1 (frame 1283/1998) /content/drive/MyDrive/Final.v1i.yolov8/lib.mp4: 640x384 1 Book, 6.9ms\n",
      "video 1/1 (frame 1284/1998) /content/drive/MyDrive/Final.v1i.yolov8/lib.mp4: 640x384 2 Books, 7.0ms\n",
      "video 1/1 (frame 1285/1998) /content/drive/MyDrive/Final.v1i.yolov8/lib.mp4: 640x384 1 Book, 6.6ms\n",
      "video 1/1 (frame 1286/1998) /content/drive/MyDrive/Final.v1i.yolov8/lib.mp4: 640x384 1 Book, 6.4ms\n",
      "video 1/1 (frame 1287/1998) /content/drive/MyDrive/Final.v1i.yolov8/lib.mp4: 640x384 2 Books, 8.7ms\n",
      "video 1/1 (frame 1288/1998) /content/drive/MyDrive/Final.v1i.yolov8/lib.mp4: 640x384 3 Books, 8.8ms\n",
      "video 1/1 (frame 1289/1998) /content/drive/MyDrive/Final.v1i.yolov8/lib.mp4: 640x384 2 Books, 12.0ms\n",
      "video 1/1 (frame 1290/1998) /content/drive/MyDrive/Final.v1i.yolov8/lib.mp4: 640x384 4 Books, 8.4ms\n",
      "video 1/1 (frame 1291/1998) /content/drive/MyDrive/Final.v1i.yolov8/lib.mp4: 640x384 2 Books, 8.4ms\n",
      "video 1/1 (frame 1292/1998) /content/drive/MyDrive/Final.v1i.yolov8/lib.mp4: 640x384 3 Books, 9.3ms\n",
      "video 1/1 (frame 1293/1998) /content/drive/MyDrive/Final.v1i.yolov8/lib.mp4: 640x384 2 Books, 8.7ms\n",
      "video 1/1 (frame 1294/1998) /content/drive/MyDrive/Final.v1i.yolov8/lib.mp4: 640x384 3 Books, 9.5ms\n",
      "video 1/1 (frame 1295/1998) /content/drive/MyDrive/Final.v1i.yolov8/lib.mp4: 640x384 3 Books, 9.2ms\n",
      "video 1/1 (frame 1296/1998) /content/drive/MyDrive/Final.v1i.yolov8/lib.mp4: 640x384 3 Books, 9.3ms\n",
      "video 1/1 (frame 1297/1998) /content/drive/MyDrive/Final.v1i.yolov8/lib.mp4: 640x384 1 Book, 6.3ms\n",
      "video 1/1 (frame 1298/1998) /content/drive/MyDrive/Final.v1i.yolov8/lib.mp4: 640x384 3 Books, 9.1ms\n",
      "video 1/1 (frame 1299/1998) /content/drive/MyDrive/Final.v1i.yolov8/lib.mp4: 640x384 2 Books, 6.8ms\n",
      "video 1/1 (frame 1300/1998) /content/drive/MyDrive/Final.v1i.yolov8/lib.mp4: 640x384 2 Books, 8.1ms\n",
      "video 1/1 (frame 1301/1998) /content/drive/MyDrive/Final.v1i.yolov8/lib.mp4: 640x384 1 Book, 6.1ms\n",
      "video 1/1 (frame 1302/1998) /content/drive/MyDrive/Final.v1i.yolov8/lib.mp4: 640x384 1 Book, 7.5ms\n",
      "video 1/1 (frame 1303/1998) /content/drive/MyDrive/Final.v1i.yolov8/lib.mp4: 640x384 1 Book, 7.2ms\n",
      "video 1/1 (frame 1304/1998) /content/drive/MyDrive/Final.v1i.yolov8/lib.mp4: 640x384 (no detections), 6.2ms\n",
      "video 1/1 (frame 1305/1998) /content/drive/MyDrive/Final.v1i.yolov8/lib.mp4: 640x384 2 Books, 9.0ms\n",
      "video 1/1 (frame 1306/1998) /content/drive/MyDrive/Final.v1i.yolov8/lib.mp4: 640x384 1 Book, 6.6ms\n",
      "video 1/1 (frame 1307/1998) /content/drive/MyDrive/Final.v1i.yolov8/lib.mp4: 640x384 1 Book, 6.4ms\n",
      "video 1/1 (frame 1308/1998) /content/drive/MyDrive/Final.v1i.yolov8/lib.mp4: 640x384 1 Book, 6.4ms\n",
      "video 1/1 (frame 1309/1998) /content/drive/MyDrive/Final.v1i.yolov8/lib.mp4: 640x384 1 Book, 6.3ms\n",
      "video 1/1 (frame 1310/1998) /content/drive/MyDrive/Final.v1i.yolov8/lib.mp4: 640x384 1 Book, 8.7ms\n",
      "video 1/1 (frame 1311/1998) /content/drive/MyDrive/Final.v1i.yolov8/lib.mp4: 640x384 1 Book, 7.0ms\n",
      "video 1/1 (frame 1312/1998) /content/drive/MyDrive/Final.v1i.yolov8/lib.mp4: 640x384 (no detections), 6.3ms\n",
      "video 1/1 (frame 1313/1998) /content/drive/MyDrive/Final.v1i.yolov8/lib.mp4: 640x384 1 Book, 7.3ms\n",
      "video 1/1 (frame 1314/1998) /content/drive/MyDrive/Final.v1i.yolov8/lib.mp4: 640x384 1 Book, 6.7ms\n",
      "video 1/1 (frame 1315/1998) /content/drive/MyDrive/Final.v1i.yolov8/lib.mp4: 640x384 1 Book, 7.3ms\n",
      "video 1/1 (frame 1316/1998) /content/drive/MyDrive/Final.v1i.yolov8/lib.mp4: 640x384 2 Books, 6.7ms\n",
      "video 1/1 (frame 1317/1998) /content/drive/MyDrive/Final.v1i.yolov8/lib.mp4: 640x384 1 Book, 8.3ms\n",
      "video 1/1 (frame 1318/1998) /content/drive/MyDrive/Final.v1i.yolov8/lib.mp4: 640x384 3 Books, 6.4ms\n",
      "video 1/1 (frame 1319/1998) /content/drive/MyDrive/Final.v1i.yolov8/lib.mp4: 640x384 3 Books, 7.2ms\n",
      "video 1/1 (frame 1320/1998) /content/drive/MyDrive/Final.v1i.yolov8/lib.mp4: 640x384 3 Books, 9.3ms\n",
      "video 1/1 (frame 1321/1998) /content/drive/MyDrive/Final.v1i.yolov8/lib.mp4: 640x384 3 Books, 8.9ms\n",
      "video 1/1 (frame 1322/1998) /content/drive/MyDrive/Final.v1i.yolov8/lib.mp4: 640x384 1 Book, 8.4ms\n",
      "video 1/1 (frame 1323/1998) /content/drive/MyDrive/Final.v1i.yolov8/lib.mp4: 640x384 1 Book, 6.5ms\n",
      "video 1/1 (frame 1324/1998) /content/drive/MyDrive/Final.v1i.yolov8/lib.mp4: 640x384 2 Books, 8.6ms\n",
      "video 1/1 (frame 1325/1998) /content/drive/MyDrive/Final.v1i.yolov8/lib.mp4: 640x384 3 Books, 6.3ms\n",
      "video 1/1 (frame 1326/1998) /content/drive/MyDrive/Final.v1i.yolov8/lib.mp4: 640x384 2 Books, 6.5ms\n",
      "video 1/1 (frame 1327/1998) /content/drive/MyDrive/Final.v1i.yolov8/lib.mp4: 640x384 2 Books, 7.5ms\n",
      "video 1/1 (frame 1328/1998) /content/drive/MyDrive/Final.v1i.yolov8/lib.mp4: 640x384 3 Books, 8.3ms\n",
      "video 1/1 (frame 1329/1998) /content/drive/MyDrive/Final.v1i.yolov8/lib.mp4: 640x384 5 Books, 11.1ms\n",
      "video 1/1 (frame 1330/1998) /content/drive/MyDrive/Final.v1i.yolov8/lib.mp4: 640x384 3 Books, 8.4ms\n",
      "video 1/1 (frame 1331/1998) /content/drive/MyDrive/Final.v1i.yolov8/lib.mp4: 640x384 5 Books, 9.0ms\n",
      "video 1/1 (frame 1332/1998) /content/drive/MyDrive/Final.v1i.yolov8/lib.mp4: 640x384 2 Books, 12.0ms\n",
      "video 1/1 (frame 1333/1998) /content/drive/MyDrive/Final.v1i.yolov8/lib.mp4: 640x384 3 Books, 10.4ms\n",
      "video 1/1 (frame 1334/1998) /content/drive/MyDrive/Final.v1i.yolov8/lib.mp4: 640x384 4 Books, 8.6ms\n",
      "video 1/1 (frame 1335/1998) /content/drive/MyDrive/Final.v1i.yolov8/lib.mp4: 640x384 5 Books, 8.6ms\n",
      "video 1/1 (frame 1336/1998) /content/drive/MyDrive/Final.v1i.yolov8/lib.mp4: 640x384 4 Books, 8.5ms\n",
      "video 1/1 (frame 1337/1998) /content/drive/MyDrive/Final.v1i.yolov8/lib.mp4: 640x384 2 Books, 6.3ms\n",
      "video 1/1 (frame 1338/1998) /content/drive/MyDrive/Final.v1i.yolov8/lib.mp4: 640x384 5 Books, 9.9ms\n",
      "video 1/1 (frame 1339/1998) /content/drive/MyDrive/Final.v1i.yolov8/lib.mp4: 640x384 4 Books, 10.7ms\n",
      "video 1/1 (frame 1340/1998) /content/drive/MyDrive/Final.v1i.yolov8/lib.mp4: 640x384 2 Books, 8.8ms\n",
      "video 1/1 (frame 1341/1998) /content/drive/MyDrive/Final.v1i.yolov8/lib.mp4: 640x384 4 Books, 9.5ms\n",
      "video 1/1 (frame 1342/1998) /content/drive/MyDrive/Final.v1i.yolov8/lib.mp4: 640x384 4 Books, 7.0ms\n",
      "video 1/1 (frame 1343/1998) /content/drive/MyDrive/Final.v1i.yolov8/lib.mp4: 640x384 3 Books, 6.2ms\n",
      "video 1/1 (frame 1344/1998) /content/drive/MyDrive/Final.v1i.yolov8/lib.mp4: 640x384 (no detections), 8.6ms\n",
      "video 1/1 (frame 1345/1998) /content/drive/MyDrive/Final.v1i.yolov8/lib.mp4: 640x384 1 Book, 7.2ms\n",
      "video 1/1 (frame 1346/1998) /content/drive/MyDrive/Final.v1i.yolov8/lib.mp4: 640x384 (no detections), 6.5ms\n",
      "video 1/1 (frame 1347/1998) /content/drive/MyDrive/Final.v1i.yolov8/lib.mp4: 640x384 (no detections), 8.7ms\n",
      "video 1/1 (frame 1348/1998) /content/drive/MyDrive/Final.v1i.yolov8/lib.mp4: 640x384 (no detections), 7.2ms\n",
      "video 1/1 (frame 1349/1998) /content/drive/MyDrive/Final.v1i.yolov8/lib.mp4: 640x384 (no detections), 6.4ms\n",
      "video 1/1 (frame 1350/1998) /content/drive/MyDrive/Final.v1i.yolov8/lib.mp4: 640x384 (no detections), 10.5ms\n",
      "video 1/1 (frame 1351/1998) /content/drive/MyDrive/Final.v1i.yolov8/lib.mp4: 640x384 (no detections), 8.1ms\n",
      "video 1/1 (frame 1352/1998) /content/drive/MyDrive/Final.v1i.yolov8/lib.mp4: 640x384 (no detections), 6.5ms\n",
      "video 1/1 (frame 1353/1998) /content/drive/MyDrive/Final.v1i.yolov8/lib.mp4: 640x384 (no detections), 7.0ms\n",
      "video 1/1 (frame 1354/1998) /content/drive/MyDrive/Final.v1i.yolov8/lib.mp4: 640x384 (no detections), 6.4ms\n",
      "video 1/1 (frame 1355/1998) /content/drive/MyDrive/Final.v1i.yolov8/lib.mp4: 640x384 (no detections), 10.5ms\n",
      "video 1/1 (frame 1356/1998) /content/drive/MyDrive/Final.v1i.yolov8/lib.mp4: 640x384 (no detections), 11.8ms\n",
      "video 1/1 (frame 1357/1998) /content/drive/MyDrive/Final.v1i.yolov8/lib.mp4: 640x384 (no detections), 7.7ms\n",
      "video 1/1 (frame 1358/1998) /content/drive/MyDrive/Final.v1i.yolov8/lib.mp4: 640x384 (no detections), 10.0ms\n",
      "video 1/1 (frame 1359/1998) /content/drive/MyDrive/Final.v1i.yolov8/lib.mp4: 640x384 (no detections), 8.4ms\n",
      "video 1/1 (frame 1360/1998) /content/drive/MyDrive/Final.v1i.yolov8/lib.mp4: 640x384 (no detections), 8.3ms\n",
      "video 1/1 (frame 1361/1998) /content/drive/MyDrive/Final.v1i.yolov8/lib.mp4: 640x384 (no detections), 6.6ms\n",
      "video 1/1 (frame 1362/1998) /content/drive/MyDrive/Final.v1i.yolov8/lib.mp4: 640x384 (no detections), 6.6ms\n",
      "video 1/1 (frame 1363/1998) /content/drive/MyDrive/Final.v1i.yolov8/lib.mp4: 640x384 (no detections), 11.1ms\n",
      "video 1/1 (frame 1364/1998) /content/drive/MyDrive/Final.v1i.yolov8/lib.mp4: 640x384 (no detections), 7.3ms\n",
      "video 1/1 (frame 1365/1998) /content/drive/MyDrive/Final.v1i.yolov8/lib.mp4: 640x384 (no detections), 11.2ms\n",
      "video 1/1 (frame 1366/1998) /content/drive/MyDrive/Final.v1i.yolov8/lib.mp4: 640x384 (no detections), 9.0ms\n",
      "video 1/1 (frame 1367/1998) /content/drive/MyDrive/Final.v1i.yolov8/lib.mp4: 640x384 (no detections), 6.7ms\n",
      "video 1/1 (frame 1368/1998) /content/drive/MyDrive/Final.v1i.yolov8/lib.mp4: 640x384 (no detections), 7.9ms\n",
      "video 1/1 (frame 1369/1998) /content/drive/MyDrive/Final.v1i.yolov8/lib.mp4: 640x384 (no detections), 6.3ms\n",
      "video 1/1 (frame 1370/1998) /content/drive/MyDrive/Final.v1i.yolov8/lib.mp4: 640x384 (no detections), 8.1ms\n",
      "video 1/1 (frame 1371/1998) /content/drive/MyDrive/Final.v1i.yolov8/lib.mp4: 640x384 (no detections), 9.6ms\n",
      "video 1/1 (frame 1372/1998) /content/drive/MyDrive/Final.v1i.yolov8/lib.mp4: 640x384 (no detections), 16.6ms\n",
      "video 1/1 (frame 1373/1998) /content/drive/MyDrive/Final.v1i.yolov8/lib.mp4: 640x384 (no detections), 12.4ms\n",
      "video 1/1 (frame 1374/1998) /content/drive/MyDrive/Final.v1i.yolov8/lib.mp4: 640x384 (no detections), 11.6ms\n",
      "video 1/1 (frame 1375/1998) /content/drive/MyDrive/Final.v1i.yolov8/lib.mp4: 640x384 (no detections), 9.6ms\n",
      "video 1/1 (frame 1376/1998) /content/drive/MyDrive/Final.v1i.yolov8/lib.mp4: 640x384 (no detections), 8.8ms\n",
      "video 1/1 (frame 1377/1998) /content/drive/MyDrive/Final.v1i.yolov8/lib.mp4: 640x384 (no detections), 11.4ms\n",
      "video 1/1 (frame 1378/1998) /content/drive/MyDrive/Final.v1i.yolov8/lib.mp4: 640x384 (no detections), 9.0ms\n",
      "video 1/1 (frame 1379/1998) /content/drive/MyDrive/Final.v1i.yolov8/lib.mp4: 640x384 (no detections), 9.7ms\n",
      "video 1/1 (frame 1380/1998) /content/drive/MyDrive/Final.v1i.yolov8/lib.mp4: 640x384 (no detections), 11.0ms\n",
      "video 1/1 (frame 1381/1998) /content/drive/MyDrive/Final.v1i.yolov8/lib.mp4: 640x384 (no detections), 6.3ms\n",
      "video 1/1 (frame 1382/1998) /content/drive/MyDrive/Final.v1i.yolov8/lib.mp4: 640x384 (no detections), 6.5ms\n",
      "video 1/1 (frame 1383/1998) /content/drive/MyDrive/Final.v1i.yolov8/lib.mp4: 640x384 (no detections), 6.8ms\n",
      "video 1/1 (frame 1384/1998) /content/drive/MyDrive/Final.v1i.yolov8/lib.mp4: 640x384 (no detections), 6.4ms\n",
      "video 1/1 (frame 1385/1998) /content/drive/MyDrive/Final.v1i.yolov8/lib.mp4: 640x384 (no detections), 9.8ms\n",
      "video 1/1 (frame 1386/1998) /content/drive/MyDrive/Final.v1i.yolov8/lib.mp4: 640x384 (no detections), 6.4ms\n",
      "video 1/1 (frame 1387/1998) /content/drive/MyDrive/Final.v1i.yolov8/lib.mp4: 640x384 (no detections), 8.6ms\n",
      "video 1/1 (frame 1388/1998) /content/drive/MyDrive/Final.v1i.yolov8/lib.mp4: 640x384 (no detections), 6.4ms\n",
      "video 1/1 (frame 1389/1998) /content/drive/MyDrive/Final.v1i.yolov8/lib.mp4: 640x384 (no detections), 9.4ms\n",
      "video 1/1 (frame 1390/1998) /content/drive/MyDrive/Final.v1i.yolov8/lib.mp4: 640x384 (no detections), 7.5ms\n",
      "video 1/1 (frame 1391/1998) /content/drive/MyDrive/Final.v1i.yolov8/lib.mp4: 640x384 (no detections), 6.3ms\n",
      "video 1/1 (frame 1392/1998) /content/drive/MyDrive/Final.v1i.yolov8/lib.mp4: 640x384 (no detections), 6.1ms\n",
      "video 1/1 (frame 1393/1998) /content/drive/MyDrive/Final.v1i.yolov8/lib.mp4: 640x384 (no detections), 10.5ms\n",
      "video 1/1 (frame 1394/1998) /content/drive/MyDrive/Final.v1i.yolov8/lib.mp4: 640x384 (no detections), 6.3ms\n",
      "video 1/1 (frame 1395/1998) /content/drive/MyDrive/Final.v1i.yolov8/lib.mp4: 640x384 (no detections), 6.7ms\n",
      "video 1/1 (frame 1396/1998) /content/drive/MyDrive/Final.v1i.yolov8/lib.mp4: 640x384 (no detections), 7.5ms\n",
      "video 1/1 (frame 1397/1998) /content/drive/MyDrive/Final.v1i.yolov8/lib.mp4: 640x384 (no detections), 6.2ms\n",
      "video 1/1 (frame 1398/1998) /content/drive/MyDrive/Final.v1i.yolov8/lib.mp4: 640x384 (no detections), 10.4ms\n",
      "video 1/1 (frame 1399/1998) /content/drive/MyDrive/Final.v1i.yolov8/lib.mp4: 640x384 (no detections), 8.1ms\n",
      "video 1/1 (frame 1400/1998) /content/drive/MyDrive/Final.v1i.yolov8/lib.mp4: 640x384 (no detections), 7.3ms\n",
      "video 1/1 (frame 1401/1998) /content/drive/MyDrive/Final.v1i.yolov8/lib.mp4: 640x384 (no detections), 8.1ms\n",
      "video 1/1 (frame 1402/1998) /content/drive/MyDrive/Final.v1i.yolov8/lib.mp4: 640x384 (no detections), 6.1ms\n",
      "video 1/1 (frame 1403/1998) /content/drive/MyDrive/Final.v1i.yolov8/lib.mp4: 640x384 1 Book, 8.1ms\n",
      "video 1/1 (frame 1404/1998) /content/drive/MyDrive/Final.v1i.yolov8/lib.mp4: 640x384 1 Book, 6.2ms\n",
      "video 1/1 (frame 1405/1998) /content/drive/MyDrive/Final.v1i.yolov8/lib.mp4: 640x384 (no detections), 6.3ms\n",
      "video 1/1 (frame 1406/1998) /content/drive/MyDrive/Final.v1i.yolov8/lib.mp4: 640x384 (no detections), 7.9ms\n",
      "video 1/1 (frame 1407/1998) /content/drive/MyDrive/Final.v1i.yolov8/lib.mp4: 640x384 (no detections), 8.1ms\n",
      "video 1/1 (frame 1408/1998) /content/drive/MyDrive/Final.v1i.yolov8/lib.mp4: 640x384 (no detections), 7.4ms\n",
      "video 1/1 (frame 1409/1998) /content/drive/MyDrive/Final.v1i.yolov8/lib.mp4: 640x384 (no detections), 6.4ms\n",
      "video 1/1 (frame 1410/1998) /content/drive/MyDrive/Final.v1i.yolov8/lib.mp4: 640x384 (no detections), 6.7ms\n",
      "video 1/1 (frame 1411/1998) /content/drive/MyDrive/Final.v1i.yolov8/lib.mp4: 640x384 (no detections), 9.2ms\n",
      "video 1/1 (frame 1412/1998) /content/drive/MyDrive/Final.v1i.yolov8/lib.mp4: 640x384 (no detections), 7.3ms\n",
      "video 1/1 (frame 1413/1998) /content/drive/MyDrive/Final.v1i.yolov8/lib.mp4: 640x384 (no detections), 6.8ms\n",
      "video 1/1 (frame 1414/1998) /content/drive/MyDrive/Final.v1i.yolov8/lib.mp4: 640x384 (no detections), 7.7ms\n",
      "video 1/1 (frame 1415/1998) /content/drive/MyDrive/Final.v1i.yolov8/lib.mp4: 640x384 (no detections), 6.8ms\n",
      "video 1/1 (frame 1416/1998) /content/drive/MyDrive/Final.v1i.yolov8/lib.mp4: 640x384 (no detections), 7.5ms\n",
      "video 1/1 (frame 1417/1998) /content/drive/MyDrive/Final.v1i.yolov8/lib.mp4: 640x384 (no detections), 6.5ms\n",
      "video 1/1 (frame 1418/1998) /content/drive/MyDrive/Final.v1i.yolov8/lib.mp4: 640x384 (no detections), 9.5ms\n",
      "video 1/1 (frame 1419/1998) /content/drive/MyDrive/Final.v1i.yolov8/lib.mp4: 640x384 (no detections), 11.5ms\n",
      "video 1/1 (frame 1420/1998) /content/drive/MyDrive/Final.v1i.yolov8/lib.mp4: 640x384 (no detections), 9.3ms\n",
      "video 1/1 (frame 1421/1998) /content/drive/MyDrive/Final.v1i.yolov8/lib.mp4: 640x384 (no detections), 10.1ms\n",
      "video 1/1 (frame 1422/1998) /content/drive/MyDrive/Final.v1i.yolov8/lib.mp4: 640x384 (no detections), 9.7ms\n",
      "video 1/1 (frame 1423/1998) /content/drive/MyDrive/Final.v1i.yolov8/lib.mp4: 640x384 (no detections), 9.1ms\n",
      "video 1/1 (frame 1424/1998) /content/drive/MyDrive/Final.v1i.yolov8/lib.mp4: 640x384 (no detections), 9.7ms\n",
      "video 1/1 (frame 1425/1998) /content/drive/MyDrive/Final.v1i.yolov8/lib.mp4: 640x384 (no detections), 11.7ms\n",
      "video 1/1 (frame 1426/1998) /content/drive/MyDrive/Final.v1i.yolov8/lib.mp4: 640x384 (no detections), 12.0ms\n",
      "video 1/1 (frame 1427/1998) /content/drive/MyDrive/Final.v1i.yolov8/lib.mp4: 640x384 (no detections), 10.9ms\n",
      "video 1/1 (frame 1428/1998) /content/drive/MyDrive/Final.v1i.yolov8/lib.mp4: 640x384 (no detections), 7.4ms\n",
      "video 1/1 (frame 1429/1998) /content/drive/MyDrive/Final.v1i.yolov8/lib.mp4: 640x384 (no detections), 7.5ms\n",
      "video 1/1 (frame 1430/1998) /content/drive/MyDrive/Final.v1i.yolov8/lib.mp4: 640x384 (no detections), 9.2ms\n",
      "video 1/1 (frame 1431/1998) /content/drive/MyDrive/Final.v1i.yolov8/lib.mp4: 640x384 (no detections), 7.9ms\n",
      "video 1/1 (frame 1432/1998) /content/drive/MyDrive/Final.v1i.yolov8/lib.mp4: 640x384 (no detections), 7.7ms\n",
      "video 1/1 (frame 1433/1998) /content/drive/MyDrive/Final.v1i.yolov8/lib.mp4: 640x384 (no detections), 7.3ms\n",
      "video 1/1 (frame 1434/1998) /content/drive/MyDrive/Final.v1i.yolov8/lib.mp4: 640x384 (no detections), 6.5ms\n",
      "video 1/1 (frame 1435/1998) /content/drive/MyDrive/Final.v1i.yolov8/lib.mp4: 640x384 (no detections), 10.4ms\n",
      "video 1/1 (frame 1436/1998) /content/drive/MyDrive/Final.v1i.yolov8/lib.mp4: 640x384 (no detections), 6.3ms\n",
      "video 1/1 (frame 1437/1998) /content/drive/MyDrive/Final.v1i.yolov8/lib.mp4: 640x384 (no detections), 10.6ms\n",
      "video 1/1 (frame 1438/1998) /content/drive/MyDrive/Final.v1i.yolov8/lib.mp4: 640x384 (no detections), 8.7ms\n",
      "video 1/1 (frame 1439/1998) /content/drive/MyDrive/Final.v1i.yolov8/lib.mp4: 640x384 (no detections), 9.7ms\n",
      "video 1/1 (frame 1440/1998) /content/drive/MyDrive/Final.v1i.yolov8/lib.mp4: 640x384 (no detections), 8.1ms\n",
      "video 1/1 (frame 1441/1998) /content/drive/MyDrive/Final.v1i.yolov8/lib.mp4: 640x384 (no detections), 8.4ms\n",
      "video 1/1 (frame 1442/1998) /content/drive/MyDrive/Final.v1i.yolov8/lib.mp4: 640x384 (no detections), 7.3ms\n",
      "video 1/1 (frame 1443/1998) /content/drive/MyDrive/Final.v1i.yolov8/lib.mp4: 640x384 (no detections), 6.3ms\n",
      "video 1/1 (frame 1444/1998) /content/drive/MyDrive/Final.v1i.yolov8/lib.mp4: 640x384 (no detections), 6.7ms\n",
      "video 1/1 (frame 1445/1998) /content/drive/MyDrive/Final.v1i.yolov8/lib.mp4: 640x384 (no detections), 8.4ms\n",
      "video 1/1 (frame 1446/1998) /content/drive/MyDrive/Final.v1i.yolov8/lib.mp4: 640x384 (no detections), 6.3ms\n",
      "video 1/1 (frame 1447/1998) /content/drive/MyDrive/Final.v1i.yolov8/lib.mp4: 640x384 (no detections), 6.9ms\n",
      "video 1/1 (frame 1448/1998) /content/drive/MyDrive/Final.v1i.yolov8/lib.mp4: 640x384 (no detections), 7.7ms\n",
      "video 1/1 (frame 1449/1998) /content/drive/MyDrive/Final.v1i.yolov8/lib.mp4: 640x384 (no detections), 6.9ms\n",
      "video 1/1 (frame 1450/1998) /content/drive/MyDrive/Final.v1i.yolov8/lib.mp4: 640x384 (no detections), 6.8ms\n",
      "video 1/1 (frame 1451/1998) /content/drive/MyDrive/Final.v1i.yolov8/lib.mp4: 640x384 (no detections), 6.8ms\n",
      "video 1/1 (frame 1452/1998) /content/drive/MyDrive/Final.v1i.yolov8/lib.mp4: 640x384 (no detections), 6.2ms\n",
      "video 1/1 (frame 1453/1998) /content/drive/MyDrive/Final.v1i.yolov8/lib.mp4: 640x384 (no detections), 11.3ms\n",
      "video 1/1 (frame 1454/1998) /content/drive/MyDrive/Final.v1i.yolov8/lib.mp4: 640x384 (no detections), 6.8ms\n",
      "video 1/1 (frame 1455/1998) /content/drive/MyDrive/Final.v1i.yolov8/lib.mp4: 640x384 (no detections), 8.8ms\n",
      "video 1/1 (frame 1456/1998) /content/drive/MyDrive/Final.v1i.yolov8/lib.mp4: 640x384 (no detections), 6.3ms\n",
      "video 1/1 (frame 1457/1998) /content/drive/MyDrive/Final.v1i.yolov8/lib.mp4: 640x384 (no detections), 6.2ms\n",
      "video 1/1 (frame 1458/1998) /content/drive/MyDrive/Final.v1i.yolov8/lib.mp4: 640x384 (no detections), 9.1ms\n",
      "video 1/1 (frame 1459/1998) /content/drive/MyDrive/Final.v1i.yolov8/lib.mp4: 640x384 (no detections), 6.2ms\n",
      "video 1/1 (frame 1460/1998) /content/drive/MyDrive/Final.v1i.yolov8/lib.mp4: 640x384 (no detections), 8.4ms\n",
      "video 1/1 (frame 1461/1998) /content/drive/MyDrive/Final.v1i.yolov8/lib.mp4: 640x384 (no detections), 6.4ms\n",
      "video 1/1 (frame 1462/1998) /content/drive/MyDrive/Final.v1i.yolov8/lib.mp4: 640x384 (no detections), 6.6ms\n",
      "video 1/1 (frame 1463/1998) /content/drive/MyDrive/Final.v1i.yolov8/lib.mp4: 640x384 (no detections), 7.0ms\n",
      "video 1/1 (frame 1464/1998) /content/drive/MyDrive/Final.v1i.yolov8/lib.mp4: 640x384 (no detections), 8.6ms\n",
      "video 1/1 (frame 1465/1998) /content/drive/MyDrive/Final.v1i.yolov8/lib.mp4: 640x384 (no detections), 8.9ms\n",
      "video 1/1 (frame 1466/1998) /content/drive/MyDrive/Final.v1i.yolov8/lib.mp4: 640x384 (no detections), 8.7ms\n",
      "video 1/1 (frame 1467/1998) /content/drive/MyDrive/Final.v1i.yolov8/lib.mp4: 640x384 (no detections), 11.4ms\n",
      "video 1/1 (frame 1468/1998) /content/drive/MyDrive/Final.v1i.yolov8/lib.mp4: 640x384 (no detections), 8.3ms\n",
      "video 1/1 (frame 1469/1998) /content/drive/MyDrive/Final.v1i.yolov8/lib.mp4: 640x384 (no detections), 9.0ms\n",
      "video 1/1 (frame 1470/1998) /content/drive/MyDrive/Final.v1i.yolov8/lib.mp4: 640x384 (no detections), 8.3ms\n",
      "video 1/1 (frame 1471/1998) /content/drive/MyDrive/Final.v1i.yolov8/lib.mp4: 640x384 (no detections), 8.2ms\n",
      "video 1/1 (frame 1472/1998) /content/drive/MyDrive/Final.v1i.yolov8/lib.mp4: 640x384 (no detections), 9.2ms\n",
      "video 1/1 (frame 1473/1998) /content/drive/MyDrive/Final.v1i.yolov8/lib.mp4: 640x384 (no detections), 12.1ms\n",
      "video 1/1 (frame 1474/1998) /content/drive/MyDrive/Final.v1i.yolov8/lib.mp4: 640x384 (no detections), 12.4ms\n",
      "video 1/1 (frame 1475/1998) /content/drive/MyDrive/Final.v1i.yolov8/lib.mp4: 640x384 (no detections), 6.6ms\n",
      "video 1/1 (frame 1476/1998) /content/drive/MyDrive/Final.v1i.yolov8/lib.mp4: 640x384 (no detections), 7.0ms\n",
      "video 1/1 (frame 1477/1998) /content/drive/MyDrive/Final.v1i.yolov8/lib.mp4: 640x384 (no detections), 7.4ms\n",
      "video 1/1 (frame 1478/1998) /content/drive/MyDrive/Final.v1i.yolov8/lib.mp4: 640x384 (no detections), 6.2ms\n",
      "video 1/1 (frame 1479/1998) /content/drive/MyDrive/Final.v1i.yolov8/lib.mp4: 640x384 (no detections), 10.4ms\n",
      "video 1/1 (frame 1480/1998) /content/drive/MyDrive/Final.v1i.yolov8/lib.mp4: 640x384 (no detections), 8.0ms\n",
      "video 1/1 (frame 1481/1998) /content/drive/MyDrive/Final.v1i.yolov8/lib.mp4: 640x384 1 Chair, 7.7ms\n",
      "video 1/1 (frame 1482/1998) /content/drive/MyDrive/Final.v1i.yolov8/lib.mp4: 640x384 (no detections), 6.9ms\n",
      "video 1/1 (frame 1483/1998) /content/drive/MyDrive/Final.v1i.yolov8/lib.mp4: 640x384 (no detections), 6.8ms\n",
      "video 1/1 (frame 1484/1998) /content/drive/MyDrive/Final.v1i.yolov8/lib.mp4: 640x384 (no detections), 7.5ms\n",
      "video 1/1 (frame 1485/1998) /content/drive/MyDrive/Final.v1i.yolov8/lib.mp4: 640x384 (no detections), 6.2ms\n",
      "video 1/1 (frame 1486/1998) /content/drive/MyDrive/Final.v1i.yolov8/lib.mp4: 640x384 (no detections), 9.3ms\n",
      "video 1/1 (frame 1487/1998) /content/drive/MyDrive/Final.v1i.yolov8/lib.mp4: 640x384 (no detections), 6.4ms\n",
      "video 1/1 (frame 1488/1998) /content/drive/MyDrive/Final.v1i.yolov8/lib.mp4: 640x384 (no detections), 6.3ms\n",
      "video 1/1 (frame 1489/1998) /content/drive/MyDrive/Final.v1i.yolov8/lib.mp4: 640x384 (no detections), 6.4ms\n",
      "video 1/1 (frame 1490/1998) /content/drive/MyDrive/Final.v1i.yolov8/lib.mp4: 640x384 (no detections), 11.1ms\n",
      "video 1/1 (frame 1491/1998) /content/drive/MyDrive/Final.v1i.yolov8/lib.mp4: 640x384 (no detections), 6.2ms\n",
      "video 1/1 (frame 1492/1998) /content/drive/MyDrive/Final.v1i.yolov8/lib.mp4: 640x384 (no detections), 8.2ms\n",
      "video 1/1 (frame 1493/1998) /content/drive/MyDrive/Final.v1i.yolov8/lib.mp4: 640x384 (no detections), 6.6ms\n",
      "video 1/1 (frame 1494/1998) /content/drive/MyDrive/Final.v1i.yolov8/lib.mp4: 640x384 (no detections), 6.5ms\n",
      "video 1/1 (frame 1495/1998) /content/drive/MyDrive/Final.v1i.yolov8/lib.mp4: 640x384 (no detections), 11.0ms\n",
      "video 1/1 (frame 1496/1998) /content/drive/MyDrive/Final.v1i.yolov8/lib.mp4: 640x384 (no detections), 6.4ms\n",
      "video 1/1 (frame 1497/1998) /content/drive/MyDrive/Final.v1i.yolov8/lib.mp4: 640x384 (no detections), 7.4ms\n",
      "video 1/1 (frame 1498/1998) /content/drive/MyDrive/Final.v1i.yolov8/lib.mp4: 640x384 (no detections), 9.4ms\n",
      "video 1/1 (frame 1499/1998) /content/drive/MyDrive/Final.v1i.yolov8/lib.mp4: 640x384 (no detections), 6.2ms\n",
      "video 1/1 (frame 1500/1998) /content/drive/MyDrive/Final.v1i.yolov8/lib.mp4: 640x384 (no detections), 9.5ms\n",
      "video 1/1 (frame 1501/1998) /content/drive/MyDrive/Final.v1i.yolov8/lib.mp4: 640x384 (no detections), 6.4ms\n",
      "video 1/1 (frame 1502/1998) /content/drive/MyDrive/Final.v1i.yolov8/lib.mp4: 640x384 (no detections), 6.4ms\n",
      "video 1/1 (frame 1503/1998) /content/drive/MyDrive/Final.v1i.yolov8/lib.mp4: 640x384 (no detections), 6.7ms\n",
      "video 1/1 (frame 1504/1998) /content/drive/MyDrive/Final.v1i.yolov8/lib.mp4: 640x384 (no detections), 9.6ms\n",
      "video 1/1 (frame 1505/1998) /content/drive/MyDrive/Final.v1i.yolov8/lib.mp4: 640x384 (no detections), 9.9ms\n",
      "video 1/1 (frame 1506/1998) /content/drive/MyDrive/Final.v1i.yolov8/lib.mp4: 640x384 (no detections), 6.4ms\n",
      "video 1/1 (frame 1507/1998) /content/drive/MyDrive/Final.v1i.yolov8/lib.mp4: 640x384 (no detections), 9.4ms\n",
      "video 1/1 (frame 1508/1998) /content/drive/MyDrive/Final.v1i.yolov8/lib.mp4: 640x384 (no detections), 9.1ms\n",
      "video 1/1 (frame 1509/1998) /content/drive/MyDrive/Final.v1i.yolov8/lib.mp4: 640x384 (no detections), 7.6ms\n",
      "video 1/1 (frame 1510/1998) /content/drive/MyDrive/Final.v1i.yolov8/lib.mp4: 640x384 (no detections), 7.7ms\n",
      "video 1/1 (frame 1511/1998) /content/drive/MyDrive/Final.v1i.yolov8/lib.mp4: 640x384 (no detections), 6.2ms\n",
      "video 1/1 (frame 1512/1998) /content/drive/MyDrive/Final.v1i.yolov8/lib.mp4: 640x384 (no detections), 15.2ms\n",
      "video 1/1 (frame 1513/1998) /content/drive/MyDrive/Final.v1i.yolov8/lib.mp4: 640x384 (no detections), 9.7ms\n",
      "video 1/1 (frame 1514/1998) /content/drive/MyDrive/Final.v1i.yolov8/lib.mp4: 640x384 (no detections), 9.9ms\n",
      "video 1/1 (frame 1515/1998) /content/drive/MyDrive/Final.v1i.yolov8/lib.mp4: 640x384 (no detections), 9.1ms\n",
      "video 1/1 (frame 1516/1998) /content/drive/MyDrive/Final.v1i.yolov8/lib.mp4: 640x384 (no detections), 8.1ms\n",
      "video 1/1 (frame 1517/1998) /content/drive/MyDrive/Final.v1i.yolov8/lib.mp4: 640x384 (no detections), 15.2ms\n",
      "video 1/1 (frame 1518/1998) /content/drive/MyDrive/Final.v1i.yolov8/lib.mp4: 640x384 (no detections), 12.6ms\n",
      "video 1/1 (frame 1519/1998) /content/drive/MyDrive/Final.v1i.yolov8/lib.mp4: 640x384 (no detections), 9.4ms\n",
      "video 1/1 (frame 1520/1998) /content/drive/MyDrive/Final.v1i.yolov8/lib.mp4: 640x384 (no detections), 10.9ms\n",
      "video 1/1 (frame 1521/1998) /content/drive/MyDrive/Final.v1i.yolov8/lib.mp4: 640x384 (no detections), 8.2ms\n",
      "video 1/1 (frame 1522/1998) /content/drive/MyDrive/Final.v1i.yolov8/lib.mp4: 640x384 (no detections), 9.0ms\n",
      "video 1/1 (frame 1523/1998) /content/drive/MyDrive/Final.v1i.yolov8/lib.mp4: 640x384 (no detections), 12.7ms\n",
      "video 1/1 (frame 1524/1998) /content/drive/MyDrive/Final.v1i.yolov8/lib.mp4: 640x384 (no detections), 8.1ms\n",
      "video 1/1 (frame 1525/1998) /content/drive/MyDrive/Final.v1i.yolov8/lib.mp4: 640x384 (no detections), 7.4ms\n",
      "video 1/1 (frame 1526/1998) /content/drive/MyDrive/Final.v1i.yolov8/lib.mp4: 640x384 (no detections), 8.0ms\n",
      "video 1/1 (frame 1527/1998) /content/drive/MyDrive/Final.v1i.yolov8/lib.mp4: 640x384 (no detections), 7.0ms\n",
      "video 1/1 (frame 1528/1998) /content/drive/MyDrive/Final.v1i.yolov8/lib.mp4: 640x384 (no detections), 8.4ms\n",
      "video 1/1 (frame 1529/1998) /content/drive/MyDrive/Final.v1i.yolov8/lib.mp4: 640x384 (no detections), 7.7ms\n",
      "video 1/1 (frame 1530/1998) /content/drive/MyDrive/Final.v1i.yolov8/lib.mp4: 640x384 (no detections), 6.3ms\n",
      "video 1/1 (frame 1531/1998) /content/drive/MyDrive/Final.v1i.yolov8/lib.mp4: 640x384 (no detections), 8.3ms\n",
      "video 1/1 (frame 1532/1998) /content/drive/MyDrive/Final.v1i.yolov8/lib.mp4: 640x384 (no detections), 9.4ms\n",
      "video 1/1 (frame 1533/1998) /content/drive/MyDrive/Final.v1i.yolov8/lib.mp4: 640x384 (no detections), 6.4ms\n",
      "video 1/1 (frame 1534/1998) /content/drive/MyDrive/Final.v1i.yolov8/lib.mp4: 640x384 (no detections), 10.1ms\n",
      "video 1/1 (frame 1535/1998) /content/drive/MyDrive/Final.v1i.yolov8/lib.mp4: 640x384 (no detections), 7.1ms\n",
      "video 1/1 (frame 1536/1998) /content/drive/MyDrive/Final.v1i.yolov8/lib.mp4: 640x384 (no detections), 6.4ms\n",
      "video 1/1 (frame 1537/1998) /content/drive/MyDrive/Final.v1i.yolov8/lib.mp4: 640x384 (no detections), 6.3ms\n",
      "video 1/1 (frame 1538/1998) /content/drive/MyDrive/Final.v1i.yolov8/lib.mp4: 640x384 (no detections), 6.3ms\n",
      "video 1/1 (frame 1539/1998) /content/drive/MyDrive/Final.v1i.yolov8/lib.mp4: 640x384 (no detections), 13.6ms\n",
      "video 1/1 (frame 1540/1998) /content/drive/MyDrive/Final.v1i.yolov8/lib.mp4: 640x384 (no detections), 6.2ms\n",
      "video 1/1 (frame 1541/1998) /content/drive/MyDrive/Final.v1i.yolov8/lib.mp4: 640x384 (no detections), 7.1ms\n",
      "video 1/1 (frame 1542/1998) /content/drive/MyDrive/Final.v1i.yolov8/lib.mp4: 640x384 (no detections), 6.4ms\n",
      "video 1/1 (frame 1543/1998) /content/drive/MyDrive/Final.v1i.yolov8/lib.mp4: 640x384 (no detections), 6.3ms\n",
      "video 1/1 (frame 1544/1998) /content/drive/MyDrive/Final.v1i.yolov8/lib.mp4: 640x384 (no detections), 9.3ms\n",
      "video 1/1 (frame 1545/1998) /content/drive/MyDrive/Final.v1i.yolov8/lib.mp4: 640x384 (no detections), 6.4ms\n",
      "video 1/1 (frame 1546/1998) /content/drive/MyDrive/Final.v1i.yolov8/lib.mp4: 640x384 (no detections), 7.6ms\n",
      "video 1/1 (frame 1547/1998) /content/drive/MyDrive/Final.v1i.yolov8/lib.mp4: 640x384 (no detections), 6.4ms\n",
      "video 1/1 (frame 1548/1998) /content/drive/MyDrive/Final.v1i.yolov8/lib.mp4: 640x384 (no detections), 8.1ms\n",
      "video 1/1 (frame 1549/1998) /content/drive/MyDrive/Final.v1i.yolov8/lib.mp4: 640x384 (no detections), 8.8ms\n",
      "video 1/1 (frame 1550/1998) /content/drive/MyDrive/Final.v1i.yolov8/lib.mp4: 640x384 (no detections), 6.7ms\n",
      "video 1/1 (frame 1551/1998) /content/drive/MyDrive/Final.v1i.yolov8/lib.mp4: 640x384 (no detections), 6.4ms\n",
      "video 1/1 (frame 1552/1998) /content/drive/MyDrive/Final.v1i.yolov8/lib.mp4: 640x384 (no detections), 9.4ms\n",
      "video 1/1 (frame 1553/1998) /content/drive/MyDrive/Final.v1i.yolov8/lib.mp4: 640x384 (no detections), 6.9ms\n",
      "video 1/1 (frame 1554/1998) /content/drive/MyDrive/Final.v1i.yolov8/lib.mp4: 640x384 (no detections), 7.6ms\n",
      "video 1/1 (frame 1555/1998) /content/drive/MyDrive/Final.v1i.yolov8/lib.mp4: 640x384 (no detections), 6.2ms\n",
      "video 1/1 (frame 1556/1998) /content/drive/MyDrive/Final.v1i.yolov8/lib.mp4: 640x384 (no detections), 10.0ms\n",
      "video 1/1 (frame 1557/1998) /content/drive/MyDrive/Final.v1i.yolov8/lib.mp4: 640x384 (no detections), 8.7ms\n",
      "video 1/1 (frame 1558/1998) /content/drive/MyDrive/Final.v1i.yolov8/lib.mp4: 640x384 (no detections), 8.4ms\n",
      "video 1/1 (frame 1559/1998) /content/drive/MyDrive/Final.v1i.yolov8/lib.mp4: 640x384 (no detections), 9.9ms\n",
      "video 1/1 (frame 1560/1998) /content/drive/MyDrive/Final.v1i.yolov8/lib.mp4: 640x384 (no detections), 8.9ms\n",
      "video 1/1 (frame 1561/1998) /content/drive/MyDrive/Final.v1i.yolov8/lib.mp4: 640x384 (no detections), 9.0ms\n",
      "video 1/1 (frame 1562/1998) /content/drive/MyDrive/Final.v1i.yolov8/lib.mp4: 640x384 (no detections), 9.3ms\n",
      "video 1/1 (frame 1563/1998) /content/drive/MyDrive/Final.v1i.yolov8/lib.mp4: 640x384 (no detections), 9.9ms\n",
      "video 1/1 (frame 1564/1998) /content/drive/MyDrive/Final.v1i.yolov8/lib.mp4: 640x384 (no detections), 9.4ms\n",
      "video 1/1 (frame 1565/1998) /content/drive/MyDrive/Final.v1i.yolov8/lib.mp4: 640x384 (no detections), 8.9ms\n",
      "video 1/1 (frame 1566/1998) /content/drive/MyDrive/Final.v1i.yolov8/lib.mp4: 640x384 (no detections), 8.3ms\n",
      "video 1/1 (frame 1567/1998) /content/drive/MyDrive/Final.v1i.yolov8/lib.mp4: 640x384 (no detections), 6.3ms\n",
      "video 1/1 (frame 1568/1998) /content/drive/MyDrive/Final.v1i.yolov8/lib.mp4: 640x384 (no detections), 8.7ms\n",
      "video 1/1 (frame 1569/1998) /content/drive/MyDrive/Final.v1i.yolov8/lib.mp4: 640x384 (no detections), 11.1ms\n",
      "video 1/1 (frame 1570/1998) /content/drive/MyDrive/Final.v1i.yolov8/lib.mp4: 640x384 (no detections), 7.5ms\n",
      "video 1/1 (frame 1571/1998) /content/drive/MyDrive/Final.v1i.yolov8/lib.mp4: 640x384 (no detections), 8.7ms\n",
      "video 1/1 (frame 1572/1998) /content/drive/MyDrive/Final.v1i.yolov8/lib.mp4: 640x384 (no detections), 8.4ms\n",
      "video 1/1 (frame 1573/1998) /content/drive/MyDrive/Final.v1i.yolov8/lib.mp4: 640x384 (no detections), 6.2ms\n",
      "video 1/1 (frame 1574/1998) /content/drive/MyDrive/Final.v1i.yolov8/lib.mp4: 640x384 (no detections), 9.9ms\n",
      "video 1/1 (frame 1575/1998) /content/drive/MyDrive/Final.v1i.yolov8/lib.mp4: 640x384 (no detections), 12.7ms\n",
      "video 1/1 (frame 1576/1998) /content/drive/MyDrive/Final.v1i.yolov8/lib.mp4: 640x384 (no detections), 8.0ms\n",
      "video 1/1 (frame 1577/1998) /content/drive/MyDrive/Final.v1i.yolov8/lib.mp4: 640x384 (no detections), 8.4ms\n",
      "video 1/1 (frame 1578/1998) /content/drive/MyDrive/Final.v1i.yolov8/lib.mp4: 640x384 (no detections), 6.6ms\n",
      "video 1/1 (frame 1579/1998) /content/drive/MyDrive/Final.v1i.yolov8/lib.mp4: 640x384 (no detections), 6.4ms\n",
      "video 1/1 (frame 1580/1998) /content/drive/MyDrive/Final.v1i.yolov8/lib.mp4: 640x384 (no detections), 9.0ms\n",
      "video 1/1 (frame 1581/1998) /content/drive/MyDrive/Final.v1i.yolov8/lib.mp4: 640x384 (no detections), 6.8ms\n",
      "video 1/1 (frame 1582/1998) /content/drive/MyDrive/Final.v1i.yolov8/lib.mp4: 640x384 (no detections), 6.4ms\n",
      "video 1/1 (frame 1583/1998) /content/drive/MyDrive/Final.v1i.yolov8/lib.mp4: 640x384 (no detections), 6.4ms\n",
      "video 1/1 (frame 1584/1998) /content/drive/MyDrive/Final.v1i.yolov8/lib.mp4: 640x384 (no detections), 10.2ms\n",
      "video 1/1 (frame 1585/1998) /content/drive/MyDrive/Final.v1i.yolov8/lib.mp4: 640x384 (no detections), 6.4ms\n",
      "video 1/1 (frame 1586/1998) /content/drive/MyDrive/Final.v1i.yolov8/lib.mp4: 640x384 (no detections), 8.4ms\n",
      "video 1/1 (frame 1587/1998) /content/drive/MyDrive/Final.v1i.yolov8/lib.mp4: 640x384 (no detections), 7.0ms\n",
      "video 1/1 (frame 1588/1998) /content/drive/MyDrive/Final.v1i.yolov8/lib.mp4: 640x384 (no detections), 6839.8ms\n",
      "video 1/1 (frame 1589/1998) /content/drive/MyDrive/Final.v1i.yolov8/lib.mp4: 640x384 (no detections), 2135.9ms\n",
      "video 1/1 (frame 1590/1998) /content/drive/MyDrive/Final.v1i.yolov8/lib.mp4: 640x384 (no detections), 2159.2ms\n",
      "video 1/1 (frame 1591/1998) /content/drive/MyDrive/Final.v1i.yolov8/lib.mp4: 640x384 (no detections), 5079.0ms\n",
      "video 1/1 (frame 1592/1998) /content/drive/MyDrive/Final.v1i.yolov8/lib.mp4: 640x384 (no detections), 13532.3ms\n",
      "video 1/1 (frame 1593/1998) /content/drive/MyDrive/Final.v1i.yolov8/lib.mp4: 640x384 (no detections), 4102.0ms\n",
      "video 1/1 (frame 1594/1998) /content/drive/MyDrive/Final.v1i.yolov8/lib.mp4: 640x384 (no detections), 12891.1ms\n",
      "video 1/1 (frame 1595/1998) /content/drive/MyDrive/Final.v1i.yolov8/lib.mp4: 640x384 (no detections), 5363.7ms\n",
      "video 1/1 (frame 1596/1998) /content/drive/MyDrive/Final.v1i.yolov8/lib.mp4: 640x384 (no detections), 14217.6ms\n",
      "video 1/1 (frame 1597/1998) /content/drive/MyDrive/Final.v1i.yolov8/lib.mp4: 640x384 (no detections), 59936.4ms\n",
      "video 1/1 (frame 1598/1998) /content/drive/MyDrive/Final.v1i.yolov8/lib.mp4: 640x384 (no detections), 58859.6ms\n",
      "video 1/1 (frame 1599/1998) /content/drive/MyDrive/Final.v1i.yolov8/lib.mp4: 640x384 (no detections), 75169.3ms\n",
      "video 1/1 (frame 1600/1998) /content/drive/MyDrive/Final.v1i.yolov8/lib.mp4: 640x384 (no detections), 81047.4ms\n",
      "video 1/1 (frame 1601/1998) /content/drive/MyDrive/Final.v1i.yolov8/lib.mp4: 640x384 (no detections), 93630.4ms\n",
      "video 1/1 (frame 1602/1998) /content/drive/MyDrive/Final.v1i.yolov8/lib.mp4: 640x384 (no detections), 147720.0ms\n"
     ]
    }
   ],
   "source": [
    "model.predict(\"/content/drive/MyDrive/Final.v1i.yolov8/lib.mp4\", save=True, imgsz=640, save_dir=\"./predictions\")"
   ]
  },
  {
   "cell_type": "code",
   "execution_count": 12,
   "metadata": {
    "colab": {
     "base_uri": "https://localhost:8080/"
    },
    "id": "r_j0nEzALZNk",
    "outputId": "0c002eea-0a33-4719-e41a-c32f17a31d97"
   },
   "outputs": [
    {
     "name": "stdout",
     "output_type": "stream",
     "text": [
      "Drive already mounted at /content/drive; to attempt to forcibly remount, call drive.mount(\"/content/drive\", force_remount=True).\n"
     ]
    }
   ],
   "source": [
    "from google.colab import drive\n",
    "drive.mount('/content/drive')"
   ]
  },
  {
   "cell_type": "code",
   "execution_count": null,
   "metadata": {
    "id": "N6ahoJmJ9nhH"
   },
   "outputs": [],
   "source": []
  }
 ],
 "metadata": {
  "accelerator": "GPU",
  "colab": {
   "gpuType": "T4",
   "provenance": []
  },
  "kernelspec": {
   "display_name": "Python 3 (ipykernel)",
   "language": "python",
   "name": "python3"
  },
  "language_info": {
   "codemirror_mode": {
    "name": "ipython",
    "version": 3
   },
   "file_extension": ".py",
   "mimetype": "text/x-python",
   "name": "python",
   "nbconvert_exporter": "python",
   "pygments_lexer": "ipython3",
   "version": "3.11.5"
  }
 },
 "nbformat": 4,
 "nbformat_minor": 4
}
